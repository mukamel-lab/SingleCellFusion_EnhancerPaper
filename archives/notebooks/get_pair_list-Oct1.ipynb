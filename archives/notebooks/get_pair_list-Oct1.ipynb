{
 "cells": [
  {
   "cell_type": "code",
   "execution_count": 1,
   "metadata": {},
   "outputs": [],
   "source": [
    "import pandas as pd\n",
    "import matplotlib as mpl\n",
    "mpl.rcParams['pdf.fonttype'] = 42\n",
    "import numpy as np\n",
    "import matplotlib.pyplot as plt"
   ]
  },
  {
   "cell_type": "code",
   "execution_count": 50,
   "metadata": {},
   "outputs": [],
   "source": [
    "import datetime\n",
    "today = datetime.date.today().strftime(\"%y%m%d\")\n",
    "\n",
    "output_figures = 'figures/corr_and_linked{}_{{}}'.format(today)\n",
    "output_results = 'results_new/corr_and_linked{}_{{}}'.format(today)"
   ]
  },
  {
   "cell_type": "code",
   "execution_count": 2,
   "metadata": {},
   "outputs": [],
   "source": [
    "evals = pd.read_csv('data/evals_w_fdr_100kb_12k_genes.tsv', sep='\\t')"
   ]
  },
  {
   "cell_type": "code",
   "execution_count": 3,
   "metadata": {},
   "outputs": [
    {
     "data": {
      "text/html": [
       "<div>\n",
       "<style scoped>\n",
       "    .dataframe tbody tr th:only-of-type {\n",
       "        vertical-align: middle;\n",
       "    }\n",
       "\n",
       "    .dataframe tbody tr th {\n",
       "        vertical-align: top;\n",
       "    }\n",
       "\n",
       "    .dataframe thead th {\n",
       "        text-align: right;\n",
       "    }\n",
       "</style>\n",
       "<table border=\"1\" class=\"dataframe\">\n",
       "  <thead>\n",
       "    <tr style=\"text-align: right;\">\n",
       "      <th></th>\n",
       "      <th>Unnamed: 0</th>\n",
       "      <th>gene</th>\n",
       "      <th>ens</th>\n",
       "      <th>in_gene</th>\n",
       "      <th>val</th>\n",
       "      <th>val2</th>\n",
       "      <th>val_clustershuffled</th>\n",
       "      <th>val2_clustershuffled</th>\n",
       "      <th>dist</th>\n",
       "      <th>pvalues</th>\n",
       "      <th>...</th>\n",
       "      <th>fdr&lt;100kb shuffled (cluster label)</th>\n",
       "      <th>pvalues2</th>\n",
       "      <th>fdr2&lt;100kb</th>\n",
       "      <th>fdr2&lt;200kb</th>\n",
       "      <th>fdr2&lt;500kb</th>\n",
       "      <th>fdr2&lt;100kb shuffled (cluster label)</th>\n",
       "      <th>fdr_mcg</th>\n",
       "      <th>fdr_mcg_corr</th>\n",
       "      <th>fdr_atac</th>\n",
       "      <th>fdr_atac_corr</th>\n",
       "    </tr>\n",
       "  </thead>\n",
       "  <tbody>\n",
       "    <tr>\n",
       "      <th>0</th>\n",
       "      <td>94</td>\n",
       "      <td>ENSMUSG00000000001</td>\n",
       "      <td>147662</td>\n",
       "      <td>False</td>\n",
       "      <td>-0.039720</td>\n",
       "      <td>0.044097</td>\n",
       "      <td>-0.265784</td>\n",
       "      <td>-0.136448</td>\n",
       "      <td>92177</td>\n",
       "      <td>0.424733</td>\n",
       "      <td>...</td>\n",
       "      <td>1.095838</td>\n",
       "      <td>0.450781</td>\n",
       "      <td>0.744850</td>\n",
       "      <td>0.797258</td>\n",
       "      <td>0.876520</td>\n",
       "      <td>1.032819</td>\n",
       "      <td>0.726151</td>\n",
       "      <td>0.662643</td>\n",
       "      <td>0.744850</td>\n",
       "      <td>0.721180</td>\n",
       "    </tr>\n",
       "    <tr>\n",
       "      <th>1</th>\n",
       "      <td>95</td>\n",
       "      <td>ENSMUSG00000000001</td>\n",
       "      <td>147663</td>\n",
       "      <td>False</td>\n",
       "      <td>0.024620</td>\n",
       "      <td>0.051756</td>\n",
       "      <td>-0.380239</td>\n",
       "      <td>-0.101215</td>\n",
       "      <td>91955</td>\n",
       "      <td>0.499490</td>\n",
       "      <td>...</td>\n",
       "      <td>0.922071</td>\n",
       "      <td>0.439489</td>\n",
       "      <td>0.738874</td>\n",
       "      <td>0.792315</td>\n",
       "      <td>0.873352</td>\n",
       "      <td>1.051270</td>\n",
       "      <td>0.770029</td>\n",
       "      <td>0.835107</td>\n",
       "      <td>0.738874</td>\n",
       "      <td>0.702838</td>\n",
       "    </tr>\n",
       "    <tr>\n",
       "      <th>2</th>\n",
       "      <td>96</td>\n",
       "      <td>ENSMUSG00000000001</td>\n",
       "      <td>147664</td>\n",
       "      <td>False</td>\n",
       "      <td>-0.022212</td>\n",
       "      <td>0.074516</td>\n",
       "      <td>-0.081081</td>\n",
       "      <td>-0.112376</td>\n",
       "      <td>84155</td>\n",
       "      <td>0.445065</td>\n",
       "      <td>...</td>\n",
       "      <td>1.037449</td>\n",
       "      <td>0.406090</td>\n",
       "      <td>0.720486</td>\n",
       "      <td>0.776735</td>\n",
       "      <td>0.862787</td>\n",
       "      <td>1.112977</td>\n",
       "      <td>0.738378</td>\n",
       "      <td>0.711723</td>\n",
       "      <td>0.720486</td>\n",
       "      <td>0.647348</td>\n",
       "    </tr>\n",
       "    <tr>\n",
       "      <th>3</th>\n",
       "      <td>97</td>\n",
       "      <td>ENSMUSG00000000001</td>\n",
       "      <td>147665</td>\n",
       "      <td>False</td>\n",
       "      <td>-0.147171</td>\n",
       "      <td>0.017398</td>\n",
       "      <td>0.194660</td>\n",
       "      <td>-0.279352</td>\n",
       "      <td>76112</td>\n",
       "      <td>0.306660</td>\n",
       "      <td>...</td>\n",
       "      <td>1.762511</td>\n",
       "      <td>0.490344</td>\n",
       "      <td>0.765055</td>\n",
       "      <td>0.813756</td>\n",
       "      <td>0.886827</td>\n",
       "      <td>0.979848</td>\n",
       "      <td>0.648328</td>\n",
       "      <td>0.367841</td>\n",
       "      <td>0.765055</td>\n",
       "      <td>0.780787</td>\n",
       "    </tr>\n",
       "    <tr>\n",
       "      <th>4</th>\n",
       "      <td>98</td>\n",
       "      <td>ENSMUSG00000000001</td>\n",
       "      <td>147666</td>\n",
       "      <td>False</td>\n",
       "      <td>0.122880</td>\n",
       "      <td>0.122005</td>\n",
       "      <td>0.050224</td>\n",
       "      <td>0.120910</td>\n",
       "      <td>63221</td>\n",
       "      <td>0.611919</td>\n",
       "      <td>...</td>\n",
       "      <td>0.806321</td>\n",
       "      <td>0.338683</td>\n",
       "      <td>0.679892</td>\n",
       "      <td>0.742359</td>\n",
       "      <td>0.840268</td>\n",
       "      <td>1.285390</td>\n",
       "      <td>0.829016</td>\n",
       "      <td>1.028145</td>\n",
       "      <td>0.679892</td>\n",
       "      <td>0.528936</td>\n",
       "    </tr>\n",
       "  </tbody>\n",
       "</table>\n",
       "<p>5 rows × 23 columns</p>\n",
       "</div>"
      ],
      "text/plain": [
       "   Unnamed: 0                gene     ens  in_gene       val      val2  \\\n",
       "0          94  ENSMUSG00000000001  147662    False -0.039720  0.044097   \n",
       "1          95  ENSMUSG00000000001  147663    False  0.024620  0.051756   \n",
       "2          96  ENSMUSG00000000001  147664    False -0.022212  0.074516   \n",
       "3          97  ENSMUSG00000000001  147665    False -0.147171  0.017398   \n",
       "4          98  ENSMUSG00000000001  147666    False  0.122880  0.122005   \n",
       "\n",
       "   val_clustershuffled  val2_clustershuffled   dist   pvalues  ...  \\\n",
       "0            -0.265784             -0.136448  92177  0.424733  ...   \n",
       "1            -0.380239             -0.101215  91955  0.499490  ...   \n",
       "2            -0.081081             -0.112376  84155  0.445065  ...   \n",
       "3             0.194660             -0.279352  76112  0.306660  ...   \n",
       "4             0.050224              0.120910  63221  0.611919  ...   \n",
       "\n",
       "   fdr<100kb shuffled (cluster label)  pvalues2  fdr2<100kb  fdr2<200kb  \\\n",
       "0                            1.095838  0.450781    0.744850    0.797258   \n",
       "1                            0.922071  0.439489    0.738874    0.792315   \n",
       "2                            1.037449  0.406090    0.720486    0.776735   \n",
       "3                            1.762511  0.490344    0.765055    0.813756   \n",
       "4                            0.806321  0.338683    0.679892    0.742359   \n",
       "\n",
       "   fdr2<500kb  fdr2<100kb shuffled (cluster label)   fdr_mcg  fdr_mcg_corr  \\\n",
       "0    0.876520                             1.032819  0.726151      0.662643   \n",
       "1    0.873352                             1.051270  0.770029      0.835107   \n",
       "2    0.862787                             1.112977  0.738378      0.711723   \n",
       "3    0.886827                             0.979848  0.648328      0.367841   \n",
       "4    0.840268                             1.285390  0.829016      1.028145   \n",
       "\n",
       "   fdr_atac  fdr_atac_corr  \n",
       "0  0.744850       0.721180  \n",
       "1  0.738874       0.702838  \n",
       "2  0.720486       0.647348  \n",
       "3  0.765055       0.780787  \n",
       "4  0.679892       0.528936  \n",
       "\n",
       "[5 rows x 23 columns]"
      ]
     },
     "execution_count": 3,
     "metadata": {},
     "output_type": "execute_result"
    }
   ],
   "source": [
    "evals.head()"
   ]
  },
  {
   "cell_type": "code",
   "execution_count": 4,
   "metadata": {},
   "outputs": [],
   "source": [
    "corr_genes_mcg = evals.loc[evals.fdr_mcg_corr < .005].gene.unique()\n",
    "linked_genes_mcg = evals.loc[evals.fdr_mcg < .2].gene.unique()\n",
    "corr_genes_atac = evals.loc[evals.fdr_atac_corr < .005].gene.unique()\n",
    "linked_genes_atac = evals.loc[evals.fdr_atac < .2].gene.unique()"
   ]
  },
  {
   "cell_type": "code",
   "execution_count": 5,
   "metadata": {},
   "outputs": [],
   "source": [
    "corr_ens_mcg = evals.loc[evals.fdr_mcg_corr < .005].ens.unique()\n",
    "linked_ens_mcg = evals.loc[evals.fdr_mcg < .2].ens.unique()\n",
    "corr_ens_atac = evals.loc[evals.fdr_atac_corr < .005].ens.unique()\n",
    "linked_ens_atac = evals.loc[evals.fdr_atac < .2].ens.unique()"
   ]
  },
  {
   "cell_type": "code",
   "execution_count": 6,
   "metadata": {},
   "outputs": [],
   "source": [
    "evals['pair'] = evals['gene'] + ':' + evals['ens'].astype(str)"
   ]
  },
  {
   "cell_type": "code",
   "execution_count": 7,
   "metadata": {},
   "outputs": [],
   "source": [
    "corr_pairs_mcg = evals.loc[evals.fdr_mcg_corr < .005].pair.unique()\n",
    "linked_pairs_mcg = evals.loc[evals.fdr_mcg < .2].pair.unique()\n",
    "corr_pairs_atac = evals.loc[evals.fdr_atac_corr < .005].pair.unique()\n",
    "linked_pairs_atac = evals.loc[evals.fdr_atac < .2].pair.unique()"
   ]
  },
  {
   "cell_type": "code",
   "execution_count": 8,
   "metadata": {},
   "outputs": [
    {
     "data": {
      "text/plain": [
       "(9054, 24)"
      ]
     },
     "execution_count": 8,
     "metadata": {},
     "output_type": "execute_result"
    }
   ],
   "source": [
    "evals.loc[evals.fdr_mcg < .2].shape"
   ]
  },
  {
   "cell_type": "code",
   "execution_count": 9,
   "metadata": {},
   "outputs": [
    {
     "data": {
      "text/plain": [
       "((66919,), (9054,))"
      ]
     },
     "execution_count": 9,
     "metadata": {},
     "output_type": "execute_result"
    }
   ],
   "source": [
    "corr_pairs_mcg.shape, linked_pairs_mcg.shape"
   ]
  },
  {
   "cell_type": "code",
   "execution_count": 10,
   "metadata": {},
   "outputs": [
    {
     "data": {
      "text/plain": [
       "(3880,)"
      ]
     },
     "execution_count": 10,
     "metadata": {},
     "output_type": "execute_result"
    }
   ],
   "source": [
    "linked_pairs_atac.shape"
   ]
  },
  {
   "cell_type": "code",
   "execution_count": 11,
   "metadata": {},
   "outputs": [
    {
     "data": {
      "text/plain": [
       "(18593,)"
      ]
     },
     "execution_count": 11,
     "metadata": {},
     "output_type": "execute_result"
    }
   ],
   "source": [
    "corr_pairs_atac.shape"
   ]
  },
  {
   "cell_type": "markdown",
   "metadata": {},
   "source": [
    "# set up colors"
   ]
  },
  {
   "cell_type": "code",
   "execution_count": 12,
   "metadata": {},
   "outputs": [],
   "source": [
    "cm = plt.cm.tab20c.colors\n",
    "colors_mc = [cm[8], cm[10]]\n",
    "colors_atac = [cm[0], cm[2]]"
   ]
  },
  {
   "cell_type": "code",
   "execution_count": 15,
   "metadata": {},
   "outputs": [],
   "source": [
    "from matplotlib_venn import venn2\n",
    "# from venn import venn"
   ]
  },
  {
   "cell_type": "markdown",
   "metadata": {},
   "source": [
    "# Get latest version of corr diagrams"
   ]
  },
  {
   "cell_type": "code",
   "execution_count": 16,
   "metadata": {},
   "outputs": [
    {
     "data": {
      "text/html": [
       "<div>\n",
       "<style scoped>\n",
       "    .dataframe tbody tr th:only-of-type {\n",
       "        vertical-align: middle;\n",
       "    }\n",
       "\n",
       "    .dataframe tbody tr th {\n",
       "        vertical-align: top;\n",
       "    }\n",
       "\n",
       "    .dataframe thead th {\n",
       "        text-align: right;\n",
       "    }\n",
       "</style>\n",
       "<table border=\"1\" class=\"dataframe\">\n",
       "  <thead>\n",
       "    <tr style=\"text-align: right;\">\n",
       "      <th></th>\n",
       "      <th>Unnamed: 0</th>\n",
       "      <th>gene</th>\n",
       "      <th>ens</th>\n",
       "      <th>in_gene</th>\n",
       "      <th>val</th>\n",
       "      <th>val2</th>\n",
       "      <th>val_clustershuffled</th>\n",
       "      <th>val2_clustershuffled</th>\n",
       "      <th>dist</th>\n",
       "      <th>pvalues</th>\n",
       "      <th>...</th>\n",
       "      <th>pvalues2</th>\n",
       "      <th>fdr2&lt;100kb</th>\n",
       "      <th>fdr2&lt;200kb</th>\n",
       "      <th>fdr2&lt;500kb</th>\n",
       "      <th>fdr2&lt;100kb shuffled (cluster label)</th>\n",
       "      <th>fdr_mcg</th>\n",
       "      <th>fdr_mcg_corr</th>\n",
       "      <th>fdr_atac</th>\n",
       "      <th>fdr_atac_corr</th>\n",
       "      <th>pair</th>\n",
       "    </tr>\n",
       "  </thead>\n",
       "  <tbody>\n",
       "    <tr>\n",
       "      <th>0</th>\n",
       "      <td>94</td>\n",
       "      <td>ENSMUSG00000000001</td>\n",
       "      <td>147662</td>\n",
       "      <td>False</td>\n",
       "      <td>-0.039720</td>\n",
       "      <td>0.044097</td>\n",
       "      <td>-0.265784</td>\n",
       "      <td>-0.136448</td>\n",
       "      <td>92177</td>\n",
       "      <td>0.424733</td>\n",
       "      <td>...</td>\n",
       "      <td>0.450781</td>\n",
       "      <td>0.744850</td>\n",
       "      <td>0.797258</td>\n",
       "      <td>0.876520</td>\n",
       "      <td>1.032819</td>\n",
       "      <td>0.726151</td>\n",
       "      <td>0.662643</td>\n",
       "      <td>0.744850</td>\n",
       "      <td>0.721180</td>\n",
       "      <td>ENSMUSG00000000001:147662</td>\n",
       "    </tr>\n",
       "    <tr>\n",
       "      <th>1</th>\n",
       "      <td>95</td>\n",
       "      <td>ENSMUSG00000000001</td>\n",
       "      <td>147663</td>\n",
       "      <td>False</td>\n",
       "      <td>0.024620</td>\n",
       "      <td>0.051756</td>\n",
       "      <td>-0.380239</td>\n",
       "      <td>-0.101215</td>\n",
       "      <td>91955</td>\n",
       "      <td>0.499490</td>\n",
       "      <td>...</td>\n",
       "      <td>0.439489</td>\n",
       "      <td>0.738874</td>\n",
       "      <td>0.792315</td>\n",
       "      <td>0.873352</td>\n",
       "      <td>1.051270</td>\n",
       "      <td>0.770029</td>\n",
       "      <td>0.835107</td>\n",
       "      <td>0.738874</td>\n",
       "      <td>0.702838</td>\n",
       "      <td>ENSMUSG00000000001:147663</td>\n",
       "    </tr>\n",
       "    <tr>\n",
       "      <th>2</th>\n",
       "      <td>96</td>\n",
       "      <td>ENSMUSG00000000001</td>\n",
       "      <td>147664</td>\n",
       "      <td>False</td>\n",
       "      <td>-0.022212</td>\n",
       "      <td>0.074516</td>\n",
       "      <td>-0.081081</td>\n",
       "      <td>-0.112376</td>\n",
       "      <td>84155</td>\n",
       "      <td>0.445065</td>\n",
       "      <td>...</td>\n",
       "      <td>0.406090</td>\n",
       "      <td>0.720486</td>\n",
       "      <td>0.776735</td>\n",
       "      <td>0.862787</td>\n",
       "      <td>1.112977</td>\n",
       "      <td>0.738378</td>\n",
       "      <td>0.711723</td>\n",
       "      <td>0.720486</td>\n",
       "      <td>0.647348</td>\n",
       "      <td>ENSMUSG00000000001:147664</td>\n",
       "    </tr>\n",
       "    <tr>\n",
       "      <th>3</th>\n",
       "      <td>97</td>\n",
       "      <td>ENSMUSG00000000001</td>\n",
       "      <td>147665</td>\n",
       "      <td>False</td>\n",
       "      <td>-0.147171</td>\n",
       "      <td>0.017398</td>\n",
       "      <td>0.194660</td>\n",
       "      <td>-0.279352</td>\n",
       "      <td>76112</td>\n",
       "      <td>0.306660</td>\n",
       "      <td>...</td>\n",
       "      <td>0.490344</td>\n",
       "      <td>0.765055</td>\n",
       "      <td>0.813756</td>\n",
       "      <td>0.886827</td>\n",
       "      <td>0.979848</td>\n",
       "      <td>0.648328</td>\n",
       "      <td>0.367841</td>\n",
       "      <td>0.765055</td>\n",
       "      <td>0.780787</td>\n",
       "      <td>ENSMUSG00000000001:147665</td>\n",
       "    </tr>\n",
       "    <tr>\n",
       "      <th>4</th>\n",
       "      <td>98</td>\n",
       "      <td>ENSMUSG00000000001</td>\n",
       "      <td>147666</td>\n",
       "      <td>False</td>\n",
       "      <td>0.122880</td>\n",
       "      <td>0.122005</td>\n",
       "      <td>0.050224</td>\n",
       "      <td>0.120910</td>\n",
       "      <td>63221</td>\n",
       "      <td>0.611919</td>\n",
       "      <td>...</td>\n",
       "      <td>0.338683</td>\n",
       "      <td>0.679892</td>\n",
       "      <td>0.742359</td>\n",
       "      <td>0.840268</td>\n",
       "      <td>1.285390</td>\n",
       "      <td>0.829016</td>\n",
       "      <td>1.028145</td>\n",
       "      <td>0.679892</td>\n",
       "      <td>0.528936</td>\n",
       "      <td>ENSMUSG00000000001:147666</td>\n",
       "    </tr>\n",
       "  </tbody>\n",
       "</table>\n",
       "<p>5 rows × 24 columns</p>\n",
       "</div>"
      ],
      "text/plain": [
       "   Unnamed: 0                gene     ens  in_gene       val      val2  \\\n",
       "0          94  ENSMUSG00000000001  147662    False -0.039720  0.044097   \n",
       "1          95  ENSMUSG00000000001  147663    False  0.024620  0.051756   \n",
       "2          96  ENSMUSG00000000001  147664    False -0.022212  0.074516   \n",
       "3          97  ENSMUSG00000000001  147665    False -0.147171  0.017398   \n",
       "4          98  ENSMUSG00000000001  147666    False  0.122880  0.122005   \n",
       "\n",
       "   val_clustershuffled  val2_clustershuffled   dist   pvalues  ...  pvalues2  \\\n",
       "0            -0.265784             -0.136448  92177  0.424733  ...  0.450781   \n",
       "1            -0.380239             -0.101215  91955  0.499490  ...  0.439489   \n",
       "2            -0.081081             -0.112376  84155  0.445065  ...  0.406090   \n",
       "3             0.194660             -0.279352  76112  0.306660  ...  0.490344   \n",
       "4             0.050224              0.120910  63221  0.611919  ...  0.338683   \n",
       "\n",
       "   fdr2<100kb  fdr2<200kb  fdr2<500kb  fdr2<100kb shuffled (cluster label)  \\\n",
       "0    0.744850    0.797258    0.876520                             1.032819   \n",
       "1    0.738874    0.792315    0.873352                             1.051270   \n",
       "2    0.720486    0.776735    0.862787                             1.112977   \n",
       "3    0.765055    0.813756    0.886827                             0.979848   \n",
       "4    0.679892    0.742359    0.840268                             1.285390   \n",
       "\n",
       "    fdr_mcg  fdr_mcg_corr  fdr_atac  fdr_atac_corr                       pair  \n",
       "0  0.726151      0.662643  0.744850       0.721180  ENSMUSG00000000001:147662  \n",
       "1  0.770029      0.835107  0.738874       0.702838  ENSMUSG00000000001:147663  \n",
       "2  0.738378      0.711723  0.720486       0.647348  ENSMUSG00000000001:147664  \n",
       "3  0.648328      0.367841  0.765055       0.780787  ENSMUSG00000000001:147665  \n",
       "4  0.829016      1.028145  0.679892       0.528936  ENSMUSG00000000001:147666  \n",
       "\n",
       "[5 rows x 24 columns]"
      ]
     },
     "execution_count": 16,
     "metadata": {},
     "output_type": "execute_result"
    }
   ],
   "source": [
    "evals.head()"
   ]
  },
  {
   "cell_type": "code",
   "execution_count": 17,
   "metadata": {},
   "outputs": [
    {
     "data": {
      "text/plain": [
       "<matplotlib_venn._common.VennDiagram at 0x7f979b3695e0>"
      ]
     },
     "execution_count": 17,
     "metadata": {},
     "output_type": "execute_result"
    },
    {
     "data": {
      "image/png": "[encoded data removed]",
      "text/plain": [
       "<Figure size 432x288 with 1 Axes>"
      ]
     },
     "metadata": {},
     "output_type": "display_data"
    }
   ],
   "source": [
    "fig, ax = plt.subplots()\n",
    "venn2([set(linked_genes_mcg), set(linked_genes_atac)],\n",
    "      set_labels=['linked mCG  genes', 'linked atac genes'],\n",
    "      set_colors=[colors_mc[0], colors_atac[0]]\n",
    "     )"
   ]
  },
  {
   "cell_type": "code",
   "execution_count": 18,
   "metadata": {},
   "outputs": [
    {
     "data": {
      "text/plain": [
       "<matplotlib_venn._common.VennDiagram at 0x7f979b2c48e0>"
      ]
     },
     "execution_count": 18,
     "metadata": {},
     "output_type": "execute_result"
    },
    {
     "data": {
      "image/png": "[encoded data removed]",
      "text/plain": [
       "<Figure size 432x288 with 1 Axes>"
      ]
     },
     "metadata": {},
     "output_type": "display_data"
    }
   ],
   "source": [
    "fig, ax = plt.subplots()\n",
    "venn2([set(linked_ens_mcg), set(linked_ens_atac)],\n",
    "      set_labels=['linked mCG  ens', 'linked atac ens'],\n",
    "      set_colors=[colors_mc[0], colors_atac[0]]\n",
    "     )"
   ]
  },
  {
   "cell_type": "code",
   "execution_count": 19,
   "metadata": {},
   "outputs": [
    {
     "data": {
      "text/plain": [
       "<matplotlib_venn._common.VennDiagram at 0x7f979b2e8c40>"
      ]
     },
     "execution_count": 19,
     "metadata": {},
     "output_type": "execute_result"
    },
    {
     "data": {
      "image/png": "[encoded data removed]",
      "text/plain": [
       "<Figure size 432x288 with 1 Axes>"
      ]
     },
     "metadata": {},
     "output_type": "display_data"
    }
   ],
   "source": [
    "fig, ax = plt.subplots()\n",
    "venn2([set(linked_pairs_mcg), set(linked_pairs_atac)],\n",
    "      set_labels=['linked mCG  pairs', 'linked atac pairs'],\n",
    "      set_colors=[colors_mc[0], colors_atac[0]]\n",
    "     )"
   ]
  },
  {
   "cell_type": "code",
   "execution_count": 20,
   "metadata": {},
   "outputs": [
    {
     "data": {
      "text/plain": [
       "<matplotlib_venn._common.VennDiagram at 0x7f979d39c160>"
      ]
     },
     "execution_count": 20,
     "metadata": {},
     "output_type": "execute_result"
    },
    {
     "data": {
      "image/png": "[encoded data removed]",
      "text/plain": [
       "<Figure size 432x288 with 1 Axes>"
      ]
     },
     "metadata": {},
     "output_type": "display_data"
    }
   ],
   "source": [
    "fig, ax = plt.subplots()\n",
    "venn2([set(corr_genes_mcg), set(corr_genes_atac)],\n",
    "      set_labels=['corr mCG  genes', 'corr atac genes'],\n",
    "      set_colors=[colors_mc[1], colors_atac[1]]\n",
    "     )"
   ]
  },
  {
   "cell_type": "code",
   "execution_count": 21,
   "metadata": {},
   "outputs": [
    {
     "data": {
      "text/plain": [
       "<matplotlib_venn._common.VennDiagram at 0x7f979b1fc280>"
      ]
     },
     "execution_count": 21,
     "metadata": {},
     "output_type": "execute_result"
    },
    {
     "data": {
      "image/png": "[encoded data removed]",
      "text/plain": [
       "<Figure size 432x288 with 1 Axes>"
      ]
     },
     "metadata": {},
     "output_type": "display_data"
    }
   ],
   "source": [
    "fig, ax = plt.subplots()\n",
    "venn2([set(corr_ens_mcg), set(corr_ens_atac)],\n",
    "      set_labels=['corr mCG ens', 'corr atac ens'],\n",
    "      set_colors=[colors_mc[1], colors_atac[1]]\n",
    "     )"
   ]
  },
  {
   "cell_type": "code",
   "execution_count": 22,
   "metadata": {},
   "outputs": [
    {
     "data": {
      "text/plain": [
       "<matplotlib_venn._common.VennDiagram at 0x7f979b063bb0>"
      ]
     },
     "execution_count": 22,
     "metadata": {},
     "output_type": "execute_result"
    },
    {
     "data": {
      "image/png": "[encoded data removed]",
      "text/plain": [
       "<Figure size 432x288 with 1 Axes>"
      ]
     },
     "metadata": {},
     "output_type": "display_data"
    }
   ],
   "source": [
    "fig, ax = plt.subplots()\n",
    "venn2([set(corr_pairs_mcg), set(corr_pairs_atac)],\n",
    "      set_labels=['corr mCG pairs', 'corr atac pairs'],\n",
    "      set_colors=[colors_mc[1], colors_atac[1]]\n",
    "     )"
   ]
  },
  {
   "cell_type": "code",
   "execution_count": 23,
   "metadata": {},
   "outputs": [
    {
     "data": {
      "text/plain": [
       "<matplotlib_venn._common.VennDiagram at 0x7f979b1c6ac0>"
      ]
     },
     "execution_count": 23,
     "metadata": {},
     "output_type": "execute_result"
    },
    {
     "data": {
      "image/png": "[encoded data removed]",
      "text/plain": [
       "<Figure size 432x288 with 1 Axes>"
      ]
     },
     "metadata": {},
     "output_type": "display_data"
    }
   ],
   "source": [
    "fig, ax = plt.subplots()\n",
    "venn2([set(linked_ens_mcg), set(corr_ens_mcg)],\n",
    "      set_labels=['linked enhancers', 'corr enhancers'],\n",
    "      set_colors=[colors_mc[0], colors_mc[1]]\n",
    "     )"
   ]
  },
  {
   "cell_type": "code",
   "execution_count": 24,
   "metadata": {},
   "outputs": [
    {
     "data": {
      "text/plain": [
       "<matplotlib_venn._common.VennDiagram at 0x7f979afccfd0>"
      ]
     },
     "execution_count": 24,
     "metadata": {},
     "output_type": "execute_result"
    },
    {
     "data": {
      "image/png": "[encoded data removed]",
      "text/plain": [
       "<Figure size 432x288 with 1 Axes>"
      ]
     },
     "metadata": {},
     "output_type": "display_data"
    }
   ],
   "source": [
    "fig, ax = plt.subplots()\n",
    "venn2([set(linked_pairs_mcg), set(corr_pairs_mcg)],\n",
    "      set_labels=['linked pairs', 'corr pairs'],\n",
    "      set_colors=[colors_mc[0], colors_mc[1]]\n",
    "     )"
   ]
  },
  {
   "cell_type": "code",
   "execution_count": 25,
   "metadata": {},
   "outputs": [
    {
     "data": {
      "text/plain": [
       "<matplotlib_venn._common.VennDiagram at 0x7f979b0122e0>"
      ]
     },
     "execution_count": 25,
     "metadata": {},
     "output_type": "execute_result"
    },
    {
     "data": {
      "image/png": "[encoded data removed]",
      "text/plain": [
       "<Figure size 432x288 with 1 Axes>"
      ]
     },
     "metadata": {},
     "output_type": "display_data"
    }
   ],
   "source": [
    "fig, ax = plt.subplots()\n",
    "venn2([set(linked_ens_mcg), set(corr_ens_mcg)],\n",
    "      set_labels=['linked enahncers', 'corr enhancers'],\n",
    "      set_colors=[colors_mc[0], colors_mc[1]]\n",
    "     )"
   ]
  },
  {
   "cell_type": "code",
   "execution_count": 26,
   "metadata": {},
   "outputs": [
    {
     "data": {
      "text/plain": [
       "<matplotlib_venn._common.VennDiagram at 0x7f979af52640>"
      ]
     },
     "execution_count": 26,
     "metadata": {},
     "output_type": "execute_result"
    },
    {
     "data": {
      "image/png": "[encoded data removed]",
      "text/plain": [
       "<Figure size 432x288 with 1 Axes>"
      ]
     },
     "metadata": {},
     "output_type": "display_data"
    }
   ],
   "source": [
    "fig, ax = plt.subplots()\n",
    "venn2([set(corr_ens_mcg),  set(linked_ens_atac)],\n",
    "      set_labels=[ 'corr mcg', 'linked atac'],\n",
    "      set_colors=[colors_mc[1], \n",
    "                  colors_atac[0]] \n",
    "     )"
   ]
  },
  {
   "cell_type": "code",
   "execution_count": 27,
   "metadata": {},
   "outputs": [
    {
     "data": {
      "text/plain": [
       "<matplotlib_venn._common.VennDiagram at 0x7f979af8ec70>"
      ]
     },
     "execution_count": 27,
     "metadata": {},
     "output_type": "execute_result"
    },
    {
     "data": {
      "image/png": "[encoded data removed]",
      "text/plain": [
       "<Figure size 432x288 with 1 Axes>"
      ]
     },
     "metadata": {},
     "output_type": "display_data"
    }
   ],
   "source": [
    "fig, ax = plt.subplots()\n",
    "venn2([set(corr_ens_atac), set(linked_ens_atac)],\n",
    "      set_labels=[ 'corr atac', 'linked atac'],\n",
    "      set_colors=[colors_atac[1], colors_atac[0]] \n",
    "     )"
   ]
  },
  {
   "cell_type": "markdown",
   "metadata": {},
   "source": [
    "# plot numer of enhs in atac vs number of enhs in mcg"
   ]
  },
  {
   "cell_type": "code",
   "execution_count": 29,
   "metadata": {},
   "outputs": [],
   "source": [
    "all_pairs = evals.loc[np.logical_or((evals.fdr_mcg < .2), (evals.fdr_atac < .2))]"
   ]
  },
  {
   "cell_type": "code",
   "execution_count": 30,
   "metadata": {},
   "outputs": [],
   "source": [
    "paired_genes = all_pairs.gene.unique()"
   ]
  },
  {
   "cell_type": "code",
   "execution_count": 31,
   "metadata": {},
   "outputs": [
    {
     "data": {
      "text/plain": [
       "(2976,)"
      ]
     },
     "execution_count": 31,
     "metadata": {},
     "output_type": "execute_result"
    }
   ],
   "source": [
    "paired_genes.shape"
   ]
  },
  {
   "cell_type": "code",
   "execution_count": 32,
   "metadata": {},
   "outputs": [],
   "source": [
    "mcg_pairs = evals.loc[evals.fdr_mcg < .2]"
   ]
  },
  {
   "cell_type": "code",
   "execution_count": 33,
   "metadata": {},
   "outputs": [],
   "source": [
    "atac_pairs = evals.loc[evals.fdr_atac < .2]"
   ]
  },
  {
   "cell_type": "code",
   "execution_count": 34,
   "metadata": {},
   "outputs": [],
   "source": [
    "mcg_x = mcg_pairs.gene.value_counts()"
   ]
  },
  {
   "cell_type": "code",
   "execution_count": 35,
   "metadata": {},
   "outputs": [],
   "source": [
    "atac_x = atac_pairs.gene.value_counts()"
   ]
  },
  {
   "cell_type": "code",
   "execution_count": 36,
   "metadata": {},
   "outputs": [
    {
     "data": {
      "text/plain": [
       "(2524,)"
      ]
     },
     "execution_count": 36,
     "metadata": {},
     "output_type": "execute_result"
    }
   ],
   "source": [
    "mcg_x.shape"
   ]
  },
  {
   "cell_type": "code",
   "execution_count": 38,
   "metadata": {},
   "outputs": [],
   "source": [
    "mcg_x = mcg_x.reindex(paired_genes).fillna(0)"
   ]
  },
  {
   "cell_type": "code",
   "execution_count": 40,
   "metadata": {},
   "outputs": [],
   "source": [
    "atac_x = atac_x.reindex(paired_genes).fillna(0)"
   ]
  },
  {
   "cell_type": "code",
   "execution_count": 41,
   "metadata": {},
   "outputs": [],
   "source": [
    "paire_ens = all_pairs.ens.unique()\n",
    "mcg_y = mcg_pairs.ens.value_counts()\n",
    "atac_y = atac_pairs.ens.value_counts()"
   ]
  },
  {
   "cell_type": "code",
   "execution_count": 43,
   "metadata": {},
   "outputs": [],
   "source": [
    "mcg_y = mcg_y.reindex(paire_ens).fillna(0)\n",
    "atac_y = atac_y.reindex(paire_ens).fillna(0)"
   ]
  },
  {
   "cell_type": "code",
   "execution_count": 44,
   "metadata": {},
   "outputs": [
    {
     "data": {
      "text/plain": [
       "(array([2197.,    0., 7352.,    0.,    0.,  690.,    0.,   70.,    0.,\n",
       "          28.]),\n",
       " array([0. , 0.4, 0.8, 1.2, 1.6, 2. , 2.4, 2.8, 3.2, 3.6, 4. ]),\n",
       " <a list of 10 Patch objects>)"
      ]
     },
     "execution_count": 44,
     "metadata": {},
     "output_type": "execute_result"
    },
    {
     "data": {
      "image/png": "[encoded data removed]",
      "text/plain": [
       "<Figure size 432x288 with 1 Axes>"
      ]
     },
     "metadata": {
      "needs_background": "light"
     },
     "output_type": "display_data"
    }
   ],
   "source": [
    "plt.hist(mcg_y)"
   ]
  },
  {
   "cell_type": "code",
   "execution_count": 45,
   "metadata": {},
   "outputs": [
    {
     "data": {
      "text/plain": [
       "(array([6.778e+03, 0.000e+00, 3.270e+03, 0.000e+00, 2.640e+02, 0.000e+00,\n",
       "        1.900e+01, 0.000e+00, 5.000e+00, 1.000e+00]),\n",
       " array([0. , 0.5, 1. , 1.5, 2. , 2.5, 3. , 3.5, 4. , 4.5, 5. ]),\n",
       " <a list of 10 Patch objects>)"
      ]
     },
     "execution_count": 45,
     "metadata": {},
     "output_type": "execute_result"
    },
    {
     "data": {
      "image/png": "[encoded data removed]",
      "text/plain": [
       "<Figure size 432x288 with 1 Axes>"
      ]
     },
     "metadata": {
      "needs_background": "light"
     },
     "output_type": "display_data"
    }
   ],
   "source": [
    "plt.hist(atac_y)"
   ]
  },
  {
   "cell_type": "code",
   "execution_count": 46,
   "metadata": {},
   "outputs": [],
   "source": [
    "def scatter_density(x, y, p=1):\n",
    "    \"\"\"\n",
    "    \"\"\"\n",
    "    from scipy.stats import gaussian_kde\n",
    "    \n",
    "    n = len(x)\n",
    "    assert n == len(y)\n",
    "    if p < 1:\n",
    "        selected = np.random.rand(n) < p\n",
    "        _x = x[selected]\n",
    "        _y = y[selected]\n",
    "    else:\n",
    "        _x = x\n",
    "        _y = y\n",
    "        \n",
    "    _xy = np.vstack([_x, _y])\n",
    "    xy = np.vstack([x, y])\n",
    "    z = gaussian_kde(_xy)(xy)\n",
    "    return z "
   ]
  },
  {
   "cell_type": "code",
   "execution_count": 47,
   "metadata": {},
   "outputs": [
    {
     "data": {
      "text/plain": [
       "(2976,)"
      ]
     },
     "execution_count": 47,
     "metadata": {},
     "output_type": "execute_result"
    }
   ],
   "source": [
    "mcg_x.shape"
   ]
  },
  {
   "cell_type": "code",
   "execution_count": 48,
   "metadata": {},
   "outputs": [],
   "source": [
    "z = scatter_density(mcg_x.values, atac_x.values)"
   ]
  },
  {
   "cell_type": "code",
   "execution_count": 51,
   "metadata": {},
   "outputs": [
    {
     "data": {
      "image/png": "[encoded data removed]",
      "text/plain": [
       "<Figure size 864x288 with 2 Axes>"
      ]
     },
     "metadata": {
      "needs_background": "light"
     },
     "output_type": "display_data"
    }
   ],
   "source": [
    "fig, ax = plt.subplots(figsize =(12, 4))\n",
    "im = ax.scatter(mcg_x, atac_x, s=6, rasterized=True, c=z*mcg_x.shape[0], cmap='cividis', label='',\n",
    "               norm=mpl.colors.LogNorm())\n",
    "cbar = ax.figure.colorbar(im, ax=ax)\n",
    "ax.plot(np.arange(29), np.arange(29), '--', c='red', label='equal number')\n",
    "cbar.set_label('Denisty (genes)',\n",
    "                       rotation=270,\n",
    "                       labelpad=10)\n",
    "ax.set_xlabel('number of enhancers linked by mCG')\n",
    "ax.set_ylabel('number of enhancers linked by ATAC')\n",
    "plt.legend()\n",
    "fig.savefig(output_figures.format('number_enhancer_per_gene_wide.pdf'), bbox_inches='tight', dpi=300)\n"
   ]
  },
  {
   "cell_type": "code",
   "execution_count": 53,
   "metadata": {},
   "outputs": [],
   "source": [
    "z_y = scatter_density(mcg_y.values, atac_y.values)"
   ]
  },
  {
   "cell_type": "code",
   "execution_count": 55,
   "metadata": {},
   "outputs": [
    {
     "data": {
      "image/png": "[encoded data removed]",
      "text/plain": [
       "<Figure size 432x288 with 2 Axes>"
      ]
     },
     "metadata": {
      "needs_background": "light"
     },
     "output_type": "display_data"
    }
   ],
   "source": [
    "fig, ax = plt.subplots(figsize =(6, 4))\n",
    "im = ax.scatter(mcg_y, atac_y, s=20, rasterized=True, c=z_y*mcg_y.shape[0], cmap='cividis', label='',\n",
    "               norm=mpl.colors.LogNorm())\n",
    "cbar = ax.figure.colorbar(im, ax=ax)\n",
    "ax.plot(np.arange(6), np.arange(6), '--', c='red', label='equal number')\n",
    "cbar.set_label('Denisty (genes)',\n",
    "                       rotation=270,\n",
    "                       labelpad=10)\n",
    "ax.set_xlabel('number of enhancers linked by mCG')\n",
    "ax.set_ylabel('number of enhancers linked by ATAC')\n",
    "plt.legend()\n",
    "fig.savefig(output_figures.format('number_gene_per_enhancer.pdf'), bbox_inches='tight', dpi=300)\n"
   ]
  },
  {
   "cell_type": "code",
   "execution_count": 56,
   "metadata": {},
   "outputs": [],
   "source": [
    "from scipy.stats import spearmanr"
   ]
  },
  {
   "cell_type": "code",
   "execution_count": 57,
   "metadata": {},
   "outputs": [
    {
     "data": {
      "text/plain": [
       "SpearmanrResult(correlation=-0.6075264158374968, pvalue=0.0)"
      ]
     },
     "execution_count": 57,
     "metadata": {},
     "output_type": "execute_result"
    }
   ],
   "source": [
    "spearmanr(mcg_y.values, atac_y.values)"
   ]
  },
  {
   "cell_type": "markdown",
   "metadata": {},
   "source": [
    "# explore overpairing of corr data"
   ]
  },
  {
   "cell_type": "code",
   "execution_count": 58,
   "metadata": {},
   "outputs": [],
   "source": [
    "corr_pairs = evals.loc[np.logical_or((evals.fdr_mcg_corr < .005), (evals.fdr_atac_corr < .005))]\n",
    "mcg_corr = evals.loc[evals.fdr_mcg_corr < .005]\n",
    "atac_corr = evals.loc[evals.fdr_atac_corr < .005]"
   ]
  },
  {
   "cell_type": "code",
   "execution_count": 59,
   "metadata": {},
   "outputs": [],
   "source": [
    "corr_genes = corr_pairs.gene.unique()\n",
    "corr_ens = corr_pairs.ens.unique()"
   ]
  },
  {
   "cell_type": "code",
   "execution_count": 60,
   "metadata": {},
   "outputs": [
    {
     "data": {
      "text/plain": [
       "(18593, 24)"
      ]
     },
     "execution_count": 60,
     "metadata": {},
     "output_type": "execute_result"
    }
   ],
   "source": [
    "atac_corr.shape"
   ]
  },
  {
   "cell_type": "code",
   "execution_count": 61,
   "metadata": {},
   "outputs": [
    {
     "data": {
      "text/plain": [
       "(66919, 24)"
      ]
     },
     "execution_count": 61,
     "metadata": {},
     "output_type": "execute_result"
    }
   ],
   "source": [
    "mcg_corr.shape"
   ]
  },
  {
   "cell_type": "code",
   "execution_count": 62,
   "metadata": {},
   "outputs": [],
   "source": [
    "mcg_x_corr = mcg_corr.gene.value_counts()\n",
    "mcg_y_corr = mcg_corr.ens.value_counts()"
   ]
  },
  {
   "cell_type": "code",
   "execution_count": 63,
   "metadata": {},
   "outputs": [],
   "source": [
    "atac_x_corr = atac_corr.gene.value_counts()\n",
    "atac_y_corr = atac_corr.ens.value_counts()"
   ]
  },
  {
   "cell_type": "code",
   "execution_count": 65,
   "metadata": {},
   "outputs": [],
   "source": [
    "mcg_x_corr = mcg_x_corr.reindex(corr_genes).fillna(0)\n",
    "atac_x_corr = atac_x_corr.reindex(corr_genes).fillna(0)\n",
    "\n",
    "mcg_y_corr = mcg_y_corr.reindex(corr_ens).fillna(0)\n",
    "atac_y_corr = atac_y_corr.reindex(corr_ens).fillna(0)"
   ]
  },
  {
   "cell_type": "code",
   "execution_count": 66,
   "metadata": {},
   "outputs": [],
   "source": [
    "z_corr = scatter_density(mcg_x_corr.values, atac_x_corr.values)"
   ]
  },
  {
   "cell_type": "code",
   "execution_count": 67,
   "metadata": {},
   "outputs": [
    {
     "data": {
      "image/png": "[encoded data removed]",
      "text/plain": [
       "<Figure size 360x252 with 2 Axes>"
      ]
     },
     "metadata": {
      "needs_background": "light"
     },
     "output_type": "display_data"
    }
   ],
   "source": [
    "fig, ax = plt.subplots(figsize =(5, 3.5))\n",
    "im = ax.scatter(mcg_x_corr, atac_x_corr, s=6, \n",
    "                rasterized=True, \n",
    "                c=z_corr*mcg_x_corr.shape[0],\n",
    "                cmap='cividis', label='',\n",
    "               norm=mpl.colors.LogNorm())\n",
    "cbar = ax.figure.colorbar(im, ax=ax)\n",
    "ax.plot(np.arange(105), np.arange(105),\n",
    "        '--', c='red', label='equal number')\n",
    "cbar.set_label('Denisty (genes)',\n",
    "                       rotation=270,\n",
    "                       labelpad=10)\n",
    "ax.set_xlabel('number of enhancers linked by mCG')\n",
    "ax.set_ylabel('number of enhancers linked by ATAC')\n",
    "plt.legend()\n",
    "fig.savefig(output_figures.format('number_enhancer_per_gene_corr_wide.pdf'), \n",
    "            bbox_inches='tight', dpi=300)"
   ]
  },
  {
   "cell_type": "code",
   "execution_count": 68,
   "metadata": {},
   "outputs": [],
   "source": [
    "z_y_corr = scatter_density(mcg_y_corr.values, atac_y_corr.values)"
   ]
  },
  {
   "cell_type": "code",
   "execution_count": 69,
   "metadata": {},
   "outputs": [
    {
     "data": {
      "image/png": "[encoded data removed]",
      "text/plain": [
       "<Figure size 504x288 with 2 Axes>"
      ]
     },
     "metadata": {
      "needs_background": "light"
     },
     "output_type": "display_data"
    }
   ],
   "source": [
    "fig, ax = plt.subplots(figsize =(7, 4))\n",
    "im = ax.scatter(mcg_y_corr, atac_y_corr, s=6, rasterized=True, c=z_y_corr*mcg_y_corr.shape[0], cmap='cividis', label='',\n",
    "               norm=mpl.colors.LogNorm())\n",
    "cbar = ax.figure.colorbar(im, ax=ax)\n",
    "ax.plot(np.arange(10), np.arange(10), '--', c='red', label='equal number')\n",
    "cbar.set_label('Denisty (genes)',\n",
    "                       rotation=270,\n",
    "                       labelpad=10)\n",
    "ax.set_xlabel('number of enhancers linked by mCG')\n",
    "ax.set_ylabel('number of enhancers linked by ATAC')\n",
    "plt.legend()\n",
    "fig.savefig(output_figures.format('number_gene_per_enhancer_corr.pdf'), \n",
    "            bbox_inches='tight', dpi=300)\n"
   ]
  },
  {
   "cell_type": "code",
   "execution_count": 70,
   "metadata": {},
   "outputs": [
    {
     "data": {
      "text/plain": [
       "array([0.73478901])"
      ]
     },
     "execution_count": 70,
     "metadata": {},
     "output_type": "execute_result"
    }
   ],
   "source": [
    "np.sum(mcg_x_corr>1)/mcg_x_corr.shape"
   ]
  },
  {
   "cell_type": "code",
   "execution_count": 71,
   "metadata": {},
   "outputs": [
    {
     "data": {
      "text/plain": [
       "array([0.48219086])"
      ]
     },
     "execution_count": 71,
     "metadata": {},
     "output_type": "execute_result"
    }
   ],
   "source": [
    "np.sum(mcg_x>1)/mcg_x.shape"
   ]
  },
  {
   "cell_type": "code",
   "execution_count": 72,
   "metadata": {},
   "outputs": [
    {
     "data": {
      "text/plain": [
       "0.33537131955777233"
      ]
     },
     "execution_count": 72,
     "metadata": {},
     "output_type": "execute_result"
    }
   ],
   "source": [
    "np.sum(mcg_y_corr>1)/np.sum(mcg_y_corr>0)"
   ]
  },
  {
   "cell_type": "code",
   "execution_count": 73,
   "metadata": {},
   "outputs": [
    {
     "data": {
      "text/plain": [
       "array([0.07623101])"
      ]
     },
     "execution_count": 73,
     "metadata": {},
     "output_type": "execute_result"
    }
   ],
   "source": [
    "np.sum(mcg_y>1)/mcg_y.shape"
   ]
  },
  {
   "cell_type": "code",
   "execution_count": 74,
   "metadata": {},
   "outputs": [
    {
     "data": {
      "text/plain": [
       "0.20496894409937888"
      ]
     },
     "execution_count": 74,
     "metadata": {},
     "output_type": "execute_result"
    }
   ],
   "source": [
    "np.sum(atac_y_corr>1)/np.sum(atac_y_corr>0)"
   ]
  },
  {
   "cell_type": "code",
   "execution_count": 75,
   "metadata": {},
   "outputs": [
    {
     "data": {
      "text/plain": [
       "(49087,)"
      ]
     },
     "execution_count": 75,
     "metadata": {},
     "output_type": "execute_result"
    }
   ],
   "source": [
    "atac_y_corr.shape"
   ]
  },
  {
   "cell_type": "code",
   "execution_count": null,
   "metadata": {},
   "outputs": [],
   "source": []
  },
  {
   "cell_type": "code",
   "execution_count": 76,
   "metadata": {},
   "outputs": [
    {
     "data": {
      "text/plain": [
       "(array([3.4496e+04, 9.2200e+03, 4.6160e+03, 4.0700e+02, 1.8000e+02,\n",
       "        1.1900e+02, 1.8000e+01, 2.3000e+01, 5.0000e+00, 3.0000e+00]),\n",
       " array([ 0. ,  1.4,  2.8,  4.2,  5.6,  7. ,  8.4,  9.8, 11.2, 12.6, 14. ]),\n",
       " <a list of 10 Patch objects>)"
      ]
     },
     "execution_count": 76,
     "metadata": {},
     "output_type": "execute_result"
    },
    {
     "data": {
      "image/png": "[encoded data removed]",
      "text/plain": [
       "<Figure size 432x288 with 1 Axes>"
      ]
     },
     "metadata": {
      "needs_background": "light"
     },
     "output_type": "display_data"
    }
   ],
   "source": [
    "plt.hist(mcg_y_corr)"
   ]
  },
  {
   "cell_type": "code",
   "execution_count": 77,
   "metadata": {},
   "outputs": [
    {
     "data": {
      "text/plain": [
       "(array([3.4436e+04, 1.1648e+04, 2.2840e+03, 5.4700e+02, 1.3900e+02,\n",
       "        2.4000e+01, 5.0000e+00, 3.0000e+00, 0.0000e+00, 1.0000e+00]),\n",
       " array([0. , 0.9, 1.8, 2.7, 3.6, 4.5, 5.4, 6.3, 7.2, 8.1, 9. ]),\n",
       " <a list of 10 Patch objects>)"
      ]
     },
     "execution_count": 77,
     "metadata": {},
     "output_type": "execute_result"
    },
    {
     "data": {
      "image/png": "[encoded data removed]",
      "text/plain": [
       "<Figure size 432x288 with 1 Axes>"
      ]
     },
     "metadata": {
      "needs_background": "light"
     },
     "output_type": "display_data"
    }
   ],
   "source": [
    "plt.hist(atac_y_corr)"
   ]
  },
  {
   "cell_type": "code",
   "execution_count": 78,
   "metadata": {},
   "outputs": [
    {
     "data": {
      "text/plain": [
       "103.0"
      ]
     },
     "execution_count": 78,
     "metadata": {},
     "output_type": "execute_result"
    }
   ],
   "source": [
    "atac_x_corr.max()"
   ]
  },
  {
   "cell_type": "code",
   "execution_count": 79,
   "metadata": {},
   "outputs": [
    {
     "data": {
      "text/plain": [
       "(875777, 24)"
      ]
     },
     "execution_count": 79,
     "metadata": {},
     "output_type": "execute_result"
    }
   ],
   "source": [
    "evals.shape"
   ]
  },
  {
   "cell_type": "code",
   "execution_count": 80,
   "metadata": {},
   "outputs": [
    {
     "data": {
      "text/plain": [
       "500000"
      ]
     },
     "execution_count": 80,
     "metadata": {},
     "output_type": "execute_result"
    }
   ],
   "source": [
    "evals.dist.max()"
   ]
  },
  {
   "cell_type": "code",
   "execution_count": 81,
   "metadata": {},
   "outputs": [
    {
     "data": {
      "text/plain": [
       "149.0"
      ]
     },
     "execution_count": 81,
     "metadata": {},
     "output_type": "execute_result"
    }
   ],
   "source": [
    "mcg_x_corr.max()"
   ]
  },
  {
   "cell_type": "markdown",
   "metadata": {},
   "source": [
    "# get latest Venn diagrams"
   ]
  },
  {
   "cell_type": "markdown",
   "metadata": {},
   "source": [
    "# get bedfiles"
   ]
  },
  {
   "cell_type": "code",
   "execution_count": 82,
   "metadata": {},
   "outputs": [],
   "source": [
    "bedfile = pd.read_csv('/cndd2/ethan/projects/enh_gene_linkage/data/enhancer_ethan38_200520/enhancer/enhancers_chromsort_slop1kb.bed', sep='\\t', header=None)"
   ]
  },
  {
   "cell_type": "code",
   "execution_count": 83,
   "metadata": {},
   "outputs": [],
   "source": [
    "bedfile = pd.read_csv('/cndd2/ethan/projects/enh_gene_linkage/data/enhancer_ethan38_200520/enhancer/enhancers_chromsort.bed', sep='\\t', header=None)"
   ]
  },
  {
   "cell_type": "code",
   "execution_count": 84,
   "metadata": {},
   "outputs": [
    {
     "data": {
      "text/html": [
       "<div>\n",
       "<style scoped>\n",
       "    .dataframe tbody tr th:only-of-type {\n",
       "        vertical-align: middle;\n",
       "    }\n",
       "\n",
       "    .dataframe tbody tr th {\n",
       "        vertical-align: top;\n",
       "    }\n",
       "\n",
       "    .dataframe thead th {\n",
       "        text-align: right;\n",
       "    }\n",
       "</style>\n",
       "<table border=\"1\" class=\"dataframe\">\n",
       "  <thead>\n",
       "    <tr style=\"text-align: right;\">\n",
       "      <th></th>\n",
       "      <th>0</th>\n",
       "      <th>1</th>\n",
       "      <th>2</th>\n",
       "    </tr>\n",
       "  </thead>\n",
       "  <tbody>\n",
       "    <tr>\n",
       "      <th>0</th>\n",
       "      <td>chr1</td>\n",
       "      <td>3083769</td>\n",
       "      <td>3083816</td>\n",
       "    </tr>\n",
       "    <tr>\n",
       "      <th>1</th>\n",
       "      <td>chr1</td>\n",
       "      <td>3112234</td>\n",
       "      <td>3112467</td>\n",
       "    </tr>\n",
       "    <tr>\n",
       "      <th>2</th>\n",
       "      <td>chr1</td>\n",
       "      <td>3112770</td>\n",
       "      <td>3112986</td>\n",
       "    </tr>\n",
       "    <tr>\n",
       "      <th>3</th>\n",
       "      <td>chr1</td>\n",
       "      <td>3113717</td>\n",
       "      <td>3114035</td>\n",
       "    </tr>\n",
       "    <tr>\n",
       "      <th>4</th>\n",
       "      <td>chr1</td>\n",
       "      <td>3118790</td>\n",
       "      <td>3118935</td>\n",
       "    </tr>\n",
       "  </tbody>\n",
       "</table>\n",
       "</div>"
      ],
      "text/plain": [
       "      0        1        2\n",
       "0  chr1  3083769  3083816\n",
       "1  chr1  3112234  3112467\n",
       "2  chr1  3112770  3112986\n",
       "3  chr1  3113717  3114035\n",
       "4  chr1  3118790  3118935"
      ]
     },
     "execution_count": 84,
     "metadata": {},
     "output_type": "execute_result"
    }
   ],
   "source": [
    "bedfile.head()"
   ]
  },
  {
   "cell_type": "code",
   "execution_count": 85,
   "metadata": {},
   "outputs": [],
   "source": [
    "bedfile[4] = bedfile.index"
   ]
  },
  {
   "cell_type": "code",
   "execution_count": null,
   "metadata": {},
   "outputs": [],
   "source": [
    "# bedfile.to_csv('/cndd2/ethan/projects/enh_gene_linkage/enhancer_bed.bed.gz', index=None, columns=None,compression='gzip', sep='\\t')"
   ]
  },
  {
   "cell_type": "code",
   "execution_count": null,
   "metadata": {},
   "outputs": [],
   "source": []
  },
  {
   "cell_type": "code",
   "execution_count": 90,
   "metadata": {},
   "outputs": [
    {
     "data": {
      "text/plain": [
       "array([181997, 138815, 192550, ..., 211130,   7766, 175057])"
      ]
     },
     "execution_count": 90,
     "metadata": {},
     "output_type": "execute_result"
    }
   ],
   "source": [
    "corr_ens_mcg\n",
    "linked_ens_mcg\n",
    "corr_ens_atac\n",
    "linked_ens_atac"
   ]
  },
  {
   "cell_type": "code",
   "execution_count": 91,
   "metadata": {},
   "outputs": [],
   "source": [
    "corr_mcg_bed = bedfile.loc[corr_ens_mcg]"
   ]
  },
  {
   "cell_type": "code",
   "execution_count": 92,
   "metadata": {},
   "outputs": [
    {
     "data": {
      "text/plain": [
       "(43507, 4)"
      ]
     },
     "execution_count": 92,
     "metadata": {},
     "output_type": "execute_result"
    }
   ],
   "source": [
    "corr_mcg_bed.shape"
   ]
  },
  {
   "cell_type": "code",
   "execution_count": 93,
   "metadata": {},
   "outputs": [],
   "source": [
    "linked_mcg_bed = bedfile.loc[linked_ens_mcg]\n",
    "linked_atac_bed = bedfile.loc[linked_ens_atac]\n",
    "corr_atac_bed = bedfile.loc[corr_ens_mcg]"
   ]
  },
  {
   "cell_type": "code",
   "execution_count": 94,
   "metadata": {},
   "outputs": [
    {
     "data": {
      "text/plain": [
       "(8140, 4)"
      ]
     },
     "execution_count": 94,
     "metadata": {},
     "output_type": "execute_result"
    }
   ],
   "source": [
    "linked_mcg_bed.shape"
   ]
  },
  {
   "cell_type": "code",
   "execution_count": 95,
   "metadata": {},
   "outputs": [
    {
     "data": {
      "text/plain": [
       "(3559, 4)"
      ]
     },
     "execution_count": 95,
     "metadata": {},
     "output_type": "execute_result"
    }
   ],
   "source": [
    "linked_atac_bed.shape"
   ]
  },
  {
   "cell_type": "markdown",
   "metadata": {},
   "source": [
    "# compare motifs in gene body"
   ]
  },
  {
   "cell_type": "code",
   "execution_count": 96,
   "metadata": {},
   "outputs": [
    {
     "data": {
      "text/html": [
       "<div>\n",
       "<style scoped>\n",
       "    .dataframe tbody tr th:only-of-type {\n",
       "        vertical-align: middle;\n",
       "    }\n",
       "\n",
       "    .dataframe tbody tr th {\n",
       "        vertical-align: top;\n",
       "    }\n",
       "\n",
       "    .dataframe thead th {\n",
       "        text-align: right;\n",
       "    }\n",
       "</style>\n",
       "<table border=\"1\" class=\"dataframe\">\n",
       "  <thead>\n",
       "    <tr style=\"text-align: right;\">\n",
       "      <th></th>\n",
       "      <th>Unnamed: 0</th>\n",
       "      <th>gene</th>\n",
       "      <th>ens</th>\n",
       "      <th>in_gene</th>\n",
       "      <th>val</th>\n",
       "      <th>val2</th>\n",
       "      <th>val_clustershuffled</th>\n",
       "      <th>val2_clustershuffled</th>\n",
       "      <th>dist</th>\n",
       "      <th>pvalues</th>\n",
       "      <th>...</th>\n",
       "      <th>pvalues2</th>\n",
       "      <th>fdr2&lt;100kb</th>\n",
       "      <th>fdr2&lt;200kb</th>\n",
       "      <th>fdr2&lt;500kb</th>\n",
       "      <th>fdr2&lt;100kb shuffled (cluster label)</th>\n",
       "      <th>fdr_mcg</th>\n",
       "      <th>fdr_mcg_corr</th>\n",
       "      <th>fdr_atac</th>\n",
       "      <th>fdr_atac_corr</th>\n",
       "      <th>pair</th>\n",
       "    </tr>\n",
       "  </thead>\n",
       "  <tbody>\n",
       "    <tr>\n",
       "      <th>0</th>\n",
       "      <td>94</td>\n",
       "      <td>ENSMUSG00000000001</td>\n",
       "      <td>147662</td>\n",
       "      <td>False</td>\n",
       "      <td>-0.039720</td>\n",
       "      <td>0.044097</td>\n",
       "      <td>-0.265784</td>\n",
       "      <td>-0.136448</td>\n",
       "      <td>92177</td>\n",
       "      <td>0.424733</td>\n",
       "      <td>...</td>\n",
       "      <td>0.450781</td>\n",
       "      <td>0.744850</td>\n",
       "      <td>0.797258</td>\n",
       "      <td>0.876520</td>\n",
       "      <td>1.032819</td>\n",
       "      <td>0.726151</td>\n",
       "      <td>0.662643</td>\n",
       "      <td>0.744850</td>\n",
       "      <td>0.721180</td>\n",
       "      <td>ENSMUSG00000000001:147662</td>\n",
       "    </tr>\n",
       "    <tr>\n",
       "      <th>1</th>\n",
       "      <td>95</td>\n",
       "      <td>ENSMUSG00000000001</td>\n",
       "      <td>147663</td>\n",
       "      <td>False</td>\n",
       "      <td>0.024620</td>\n",
       "      <td>0.051756</td>\n",
       "      <td>-0.380239</td>\n",
       "      <td>-0.101215</td>\n",
       "      <td>91955</td>\n",
       "      <td>0.499490</td>\n",
       "      <td>...</td>\n",
       "      <td>0.439489</td>\n",
       "      <td>0.738874</td>\n",
       "      <td>0.792315</td>\n",
       "      <td>0.873352</td>\n",
       "      <td>1.051270</td>\n",
       "      <td>0.770029</td>\n",
       "      <td>0.835107</td>\n",
       "      <td>0.738874</td>\n",
       "      <td>0.702838</td>\n",
       "      <td>ENSMUSG00000000001:147663</td>\n",
       "    </tr>\n",
       "    <tr>\n",
       "      <th>2</th>\n",
       "      <td>96</td>\n",
       "      <td>ENSMUSG00000000001</td>\n",
       "      <td>147664</td>\n",
       "      <td>False</td>\n",
       "      <td>-0.022212</td>\n",
       "      <td>0.074516</td>\n",
       "      <td>-0.081081</td>\n",
       "      <td>-0.112376</td>\n",
       "      <td>84155</td>\n",
       "      <td>0.445065</td>\n",
       "      <td>...</td>\n",
       "      <td>0.406090</td>\n",
       "      <td>0.720486</td>\n",
       "      <td>0.776735</td>\n",
       "      <td>0.862787</td>\n",
       "      <td>1.112977</td>\n",
       "      <td>0.738378</td>\n",
       "      <td>0.711723</td>\n",
       "      <td>0.720486</td>\n",
       "      <td>0.647348</td>\n",
       "      <td>ENSMUSG00000000001:147664</td>\n",
       "    </tr>\n",
       "    <tr>\n",
       "      <th>3</th>\n",
       "      <td>97</td>\n",
       "      <td>ENSMUSG00000000001</td>\n",
       "      <td>147665</td>\n",
       "      <td>False</td>\n",
       "      <td>-0.147171</td>\n",
       "      <td>0.017398</td>\n",
       "      <td>0.194660</td>\n",
       "      <td>-0.279352</td>\n",
       "      <td>76112</td>\n",
       "      <td>0.306660</td>\n",
       "      <td>...</td>\n",
       "      <td>0.490344</td>\n",
       "      <td>0.765055</td>\n",
       "      <td>0.813756</td>\n",
       "      <td>0.886827</td>\n",
       "      <td>0.979848</td>\n",
       "      <td>0.648328</td>\n",
       "      <td>0.367841</td>\n",
       "      <td>0.765055</td>\n",
       "      <td>0.780787</td>\n",
       "      <td>ENSMUSG00000000001:147665</td>\n",
       "    </tr>\n",
       "    <tr>\n",
       "      <th>4</th>\n",
       "      <td>98</td>\n",
       "      <td>ENSMUSG00000000001</td>\n",
       "      <td>147666</td>\n",
       "      <td>False</td>\n",
       "      <td>0.122880</td>\n",
       "      <td>0.122005</td>\n",
       "      <td>0.050224</td>\n",
       "      <td>0.120910</td>\n",
       "      <td>63221</td>\n",
       "      <td>0.611919</td>\n",
       "      <td>...</td>\n",
       "      <td>0.338683</td>\n",
       "      <td>0.679892</td>\n",
       "      <td>0.742359</td>\n",
       "      <td>0.840268</td>\n",
       "      <td>1.285390</td>\n",
       "      <td>0.829016</td>\n",
       "      <td>1.028145</td>\n",
       "      <td>0.679892</td>\n",
       "      <td>0.528936</td>\n",
       "      <td>ENSMUSG00000000001:147666</td>\n",
       "    </tr>\n",
       "  </tbody>\n",
       "</table>\n",
       "<p>5 rows × 24 columns</p>\n",
       "</div>"
      ],
      "text/plain": [
       "   Unnamed: 0                gene     ens  in_gene       val      val2  \\\n",
       "0          94  ENSMUSG00000000001  147662    False -0.039720  0.044097   \n",
       "1          95  ENSMUSG00000000001  147663    False  0.024620  0.051756   \n",
       "2          96  ENSMUSG00000000001  147664    False -0.022212  0.074516   \n",
       "3          97  ENSMUSG00000000001  147665    False -0.147171  0.017398   \n",
       "4          98  ENSMUSG00000000001  147666    False  0.122880  0.122005   \n",
       "\n",
       "   val_clustershuffled  val2_clustershuffled   dist   pvalues  ...  pvalues2  \\\n",
       "0            -0.265784             -0.136448  92177  0.424733  ...  0.450781   \n",
       "1            -0.380239             -0.101215  91955  0.499490  ...  0.439489   \n",
       "2            -0.081081             -0.112376  84155  0.445065  ...  0.406090   \n",
       "3             0.194660             -0.279352  76112  0.306660  ...  0.490344   \n",
       "4             0.050224              0.120910  63221  0.611919  ...  0.338683   \n",
       "\n",
       "   fdr2<100kb  fdr2<200kb  fdr2<500kb  fdr2<100kb shuffled (cluster label)  \\\n",
       "0    0.744850    0.797258    0.876520                             1.032819   \n",
       "1    0.738874    0.792315    0.873352                             1.051270   \n",
       "2    0.720486    0.776735    0.862787                             1.112977   \n",
       "3    0.765055    0.813756    0.886827                             0.979848   \n",
       "4    0.679892    0.742359    0.840268                             1.285390   \n",
       "\n",
       "    fdr_mcg  fdr_mcg_corr  fdr_atac  fdr_atac_corr                       pair  \n",
       "0  0.726151      0.662643  0.744850       0.721180  ENSMUSG00000000001:147662  \n",
       "1  0.770029      0.835107  0.738874       0.702838  ENSMUSG00000000001:147663  \n",
       "2  0.738378      0.711723  0.720486       0.647348  ENSMUSG00000000001:147664  \n",
       "3  0.648328      0.367841  0.765055       0.780787  ENSMUSG00000000001:147665  \n",
       "4  0.829016      1.028145  0.679892       0.528936  ENSMUSG00000000001:147666  \n",
       "\n",
       "[5 rows x 24 columns]"
      ]
     },
     "execution_count": 96,
     "metadata": {},
     "output_type": "execute_result"
    }
   ],
   "source": [
    "evals.head()"
   ]
  },
  {
   "cell_type": "code",
   "execution_count": 97,
   "metadata": {},
   "outputs": [],
   "source": [
    "all_linked = evals.loc[evals.pair.isin(np.union1d(linked_pairs_mcg, linked_pairs_atac))]"
   ]
  },
  {
   "cell_type": "code",
   "execution_count": 98,
   "metadata": {},
   "outputs": [],
   "source": [
    "all_corr = evals.loc[evals.pair.isin(np.union1d(corr_pairs_mcg, corr_pairs_atac))]"
   ]
  },
  {
   "cell_type": "code",
   "execution_count": 99,
   "metadata": {},
   "outputs": [
    {
     "data": {
      "text/plain": [
       "(11542, 24)"
      ]
     },
     "execution_count": 99,
     "metadata": {},
     "output_type": "execute_result"
    }
   ],
   "source": [
    "all_linked.shape"
   ]
  },
  {
   "cell_type": "code",
   "execution_count": 100,
   "metadata": {},
   "outputs": [
    {
     "data": {
      "text/plain": [
       "(76150, 24)"
      ]
     },
     "execution_count": 100,
     "metadata": {},
     "output_type": "execute_result"
    }
   ],
   "source": [
    "all_corr.shape"
   ]
  },
  {
   "cell_type": "code",
   "execution_count": 101,
   "metadata": {},
   "outputs": [
    {
     "data": {
      "text/html": [
       "<div>\n",
       "<style scoped>\n",
       "    .dataframe tbody tr th:only-of-type {\n",
       "        vertical-align: middle;\n",
       "    }\n",
       "\n",
       "    .dataframe tbody tr th {\n",
       "        vertical-align: top;\n",
       "    }\n",
       "\n",
       "    .dataframe thead th {\n",
       "        text-align: right;\n",
       "    }\n",
       "</style>\n",
       "<table border=\"1\" class=\"dataframe\">\n",
       "  <thead>\n",
       "    <tr style=\"text-align: right;\">\n",
       "      <th></th>\n",
       "      <th>Unnamed: 0</th>\n",
       "      <th>gene</th>\n",
       "      <th>ens</th>\n",
       "      <th>in_gene</th>\n",
       "      <th>val</th>\n",
       "      <th>val2</th>\n",
       "      <th>val_clustershuffled</th>\n",
       "      <th>val2_clustershuffled</th>\n",
       "      <th>dist</th>\n",
       "      <th>pvalues</th>\n",
       "      <th>...</th>\n",
       "      <th>pvalues2</th>\n",
       "      <th>fdr2&lt;100kb</th>\n",
       "      <th>fdr2&lt;200kb</th>\n",
       "      <th>fdr2&lt;500kb</th>\n",
       "      <th>fdr2&lt;100kb shuffled (cluster label)</th>\n",
       "      <th>fdr_mcg</th>\n",
       "      <th>fdr_mcg_corr</th>\n",
       "      <th>fdr_atac</th>\n",
       "      <th>fdr_atac_corr</th>\n",
       "      <th>pair</th>\n",
       "    </tr>\n",
       "  </thead>\n",
       "  <tbody>\n",
       "    <tr>\n",
       "      <th>36</th>\n",
       "      <td>312</td>\n",
       "      <td>ENSMUSG00000000058</td>\n",
       "      <td>181997</td>\n",
       "      <td>False</td>\n",
       "      <td>-0.822300</td>\n",
       "      <td>0.641974</td>\n",
       "      <td>0.022431</td>\n",
       "      <td>-0.248277</td>\n",
       "      <td>14555</td>\n",
       "      <td>0.000232</td>\n",
       "      <td>...</td>\n",
       "      <td>0.003802</td>\n",
       "      <td>0.185491</td>\n",
       "      <td>0.255928</td>\n",
       "      <td>0.400644</td>\n",
       "      <td>351.878628</td>\n",
       "      <td>0.041971</td>\n",
       "      <td>0.0</td>\n",
       "      <td>0.185491</td>\n",
       "      <td>0.000478</td>\n",
       "      <td>ENSMUSG00000000058:181997</td>\n",
       "    </tr>\n",
       "    <tr>\n",
       "      <th>80</th>\n",
       "      <td>815</td>\n",
       "      <td>ENSMUSG00000000088</td>\n",
       "      <td>221978</td>\n",
       "      <td>False</td>\n",
       "      <td>-0.733888</td>\n",
       "      <td>0.333625</td>\n",
       "      <td>-0.094212</td>\n",
       "      <td>-0.288544</td>\n",
       "      <td>48225</td>\n",
       "      <td>0.002848</td>\n",
       "      <td>...</td>\n",
       "      <td>0.108805</td>\n",
       "      <td>0.480110</td>\n",
       "      <td>0.567444</td>\n",
       "      <td>0.710692</td>\n",
       "      <td>4.236067</td>\n",
       "      <td>0.125146</td>\n",
       "      <td>0.0</td>\n",
       "      <td>0.480110</td>\n",
       "      <td>0.113334</td>\n",
       "      <td>ENSMUSG00000000088:221978</td>\n",
       "    </tr>\n",
       "    <tr>\n",
       "      <th>84</th>\n",
       "      <td>949</td>\n",
       "      <td>ENSMUSG00000000126</td>\n",
       "      <td>35942</td>\n",
       "      <td>False</td>\n",
       "      <td>-0.692527</td>\n",
       "      <td>0.490535</td>\n",
       "      <td>0.101433</td>\n",
       "      <td>0.227049</td>\n",
       "      <td>90017</td>\n",
       "      <td>0.006006</td>\n",
       "      <td>...</td>\n",
       "      <td>0.028939</td>\n",
       "      <td>0.330362</td>\n",
       "      <td>0.416450</td>\n",
       "      <td>0.579218</td>\n",
       "      <td>21.934181</td>\n",
       "      <td>0.164867</td>\n",
       "      <td>0.0</td>\n",
       "      <td>0.330362</td>\n",
       "      <td>0.015050</td>\n",
       "      <td>ENSMUSG00000000126:35942</td>\n",
       "    </tr>\n",
       "    <tr>\n",
       "      <th>90</th>\n",
       "      <td>955</td>\n",
       "      <td>ENSMUSG00000000126</td>\n",
       "      <td>35953</td>\n",
       "      <td>True</td>\n",
       "      <td>-0.756647</td>\n",
       "      <td>0.171901</td>\n",
       "      <td>0.130539</td>\n",
       "      <td>0.235803</td>\n",
       "      <td>4552</td>\n",
       "      <td>0.001733</td>\n",
       "      <td>...</td>\n",
       "      <td>0.272604</td>\n",
       "      <td>0.635610</td>\n",
       "      <td>0.704560</td>\n",
       "      <td>0.814042</td>\n",
       "      <td>1.567062</td>\n",
       "      <td>0.101769</td>\n",
       "      <td>0.0</td>\n",
       "      <td>0.635610</td>\n",
       "      <td>0.405604</td>\n",
       "      <td>ENSMUSG00000000126:35953</td>\n",
       "    </tr>\n",
       "    <tr>\n",
       "      <th>91</th>\n",
       "      <td>956</td>\n",
       "      <td>ENSMUSG00000000126</td>\n",
       "      <td>35954</td>\n",
       "      <td>True</td>\n",
       "      <td>-0.691651</td>\n",
       "      <td>0.304081</td>\n",
       "      <td>0.276726</td>\n",
       "      <td>0.305394</td>\n",
       "      <td>5567</td>\n",
       "      <td>0.006091</td>\n",
       "      <td>...</td>\n",
       "      <td>0.132688</td>\n",
       "      <td>0.511194</td>\n",
       "      <td>0.595842</td>\n",
       "      <td>0.734204</td>\n",
       "      <td>3.399818</td>\n",
       "      <td>0.165725</td>\n",
       "      <td>0.0</td>\n",
       "      <td>0.511194</td>\n",
       "      <td>0.150355</td>\n",
       "      <td>ENSMUSG00000000126:35954</td>\n",
       "    </tr>\n",
       "  </tbody>\n",
       "</table>\n",
       "<p>5 rows × 24 columns</p>\n",
       "</div>"
      ],
      "text/plain": [
       "    Unnamed: 0                gene     ens  in_gene       val      val2  \\\n",
       "36         312  ENSMUSG00000000058  181997    False -0.822300  0.641974   \n",
       "80         815  ENSMUSG00000000088  221978    False -0.733888  0.333625   \n",
       "84         949  ENSMUSG00000000126   35942    False -0.692527  0.490535   \n",
       "90         955  ENSMUSG00000000126   35953     True -0.756647  0.171901   \n",
       "91         956  ENSMUSG00000000126   35954     True -0.691651  0.304081   \n",
       "\n",
       "    val_clustershuffled  val2_clustershuffled   dist   pvalues  ...  pvalues2  \\\n",
       "36             0.022431             -0.248277  14555  0.000232  ...  0.003802   \n",
       "80            -0.094212             -0.288544  48225  0.002848  ...  0.108805   \n",
       "84             0.101433              0.227049  90017  0.006006  ...  0.028939   \n",
       "90             0.130539              0.235803   4552  0.001733  ...  0.272604   \n",
       "91             0.276726              0.305394   5567  0.006091  ...  0.132688   \n",
       "\n",
       "    fdr2<100kb  fdr2<200kb  fdr2<500kb  fdr2<100kb shuffled (cluster label)  \\\n",
       "36    0.185491    0.255928    0.400644                           351.878628   \n",
       "80    0.480110    0.567444    0.710692                             4.236067   \n",
       "84    0.330362    0.416450    0.579218                            21.934181   \n",
       "90    0.635610    0.704560    0.814042                             1.567062   \n",
       "91    0.511194    0.595842    0.734204                             3.399818   \n",
       "\n",
       "     fdr_mcg  fdr_mcg_corr  fdr_atac  fdr_atac_corr                       pair  \n",
       "36  0.041971           0.0  0.185491       0.000478  ENSMUSG00000000058:181997  \n",
       "80  0.125146           0.0  0.480110       0.113334  ENSMUSG00000000088:221978  \n",
       "84  0.164867           0.0  0.330362       0.015050   ENSMUSG00000000126:35942  \n",
       "90  0.101769           0.0  0.635610       0.405604   ENSMUSG00000000126:35953  \n",
       "91  0.165725           0.0  0.511194       0.150355   ENSMUSG00000000126:35954  \n",
       "\n",
       "[5 rows x 24 columns]"
      ]
     },
     "execution_count": 101,
     "metadata": {},
     "output_type": "execute_result"
    }
   ],
   "source": [
    "all_linked.head()"
   ]
  },
  {
   "cell_type": "code",
   "execution_count": 102,
   "metadata": {},
   "outputs": [
    {
     "data": {
      "text/plain": [
       "(76150,)"
      ]
     },
     "execution_count": 102,
     "metadata": {},
     "output_type": "execute_result"
    }
   ],
   "source": [
    "np.union1d(corr_pairs_mcg, corr_pairs_atac).shape"
   ]
  },
  {
   "cell_type": "code",
   "execution_count": 103,
   "metadata": {},
   "outputs": [
    {
     "data": {
      "text/plain": [
       "(11542, 24)"
      ]
     },
     "execution_count": 103,
     "metadata": {},
     "output_type": "execute_result"
    }
   ],
   "source": [
    "all_linked.shape"
   ]
  },
  {
   "cell_type": "code",
   "execution_count": 104,
   "metadata": {},
   "outputs": [],
   "source": [
    "in_gene_linked = all_linked.loc[all_linked.in_gene]"
   ]
  },
  {
   "cell_type": "code",
   "execution_count": 105,
   "metadata": {},
   "outputs": [],
   "source": [
    "in_gene_corr = all_corr.loc[all_corr.in_gene]"
   ]
  },
  {
   "cell_type": "code",
   "execution_count": 106,
   "metadata": {},
   "outputs": [],
   "source": [
    "out_gene_corr = all_corr.loc[~all_corr.in_gene]"
   ]
  },
  {
   "cell_type": "code",
   "execution_count": 107,
   "metadata": {},
   "outputs": [],
   "source": [
    "out_gene_linked = all_linked.loc[~all_linked.in_gene]"
   ]
  },
  {
   "cell_type": "code",
   "execution_count": 108,
   "metadata": {},
   "outputs": [
    {
     "data": {
      "text/plain": [
       "(6354, 24)"
      ]
     },
     "execution_count": 108,
     "metadata": {},
     "output_type": "execute_result"
    }
   ],
   "source": [
    "in_gene_linked.shape"
   ]
  },
  {
   "cell_type": "code",
   "execution_count": 109,
   "metadata": {},
   "outputs": [
    {
     "data": {
      "text/plain": [
       "(5188, 24)"
      ]
     },
     "execution_count": 109,
     "metadata": {},
     "output_type": "execute_result"
    }
   ],
   "source": [
    "out_gene_linked.shape"
   ]
  },
  {
   "cell_type": "code",
   "execution_count": 110,
   "metadata": {},
   "outputs": [
    {
     "data": {
      "text/html": [
       "<div>\n",
       "<style scoped>\n",
       "    .dataframe tbody tr th:only-of-type {\n",
       "        vertical-align: middle;\n",
       "    }\n",
       "\n",
       "    .dataframe tbody tr th {\n",
       "        vertical-align: top;\n",
       "    }\n",
       "\n",
       "    .dataframe thead th {\n",
       "        text-align: right;\n",
       "    }\n",
       "</style>\n",
       "<table border=\"1\" class=\"dataframe\">\n",
       "  <thead>\n",
       "    <tr style=\"text-align: right;\">\n",
       "      <th></th>\n",
       "      <th>0</th>\n",
       "      <th>1</th>\n",
       "      <th>2</th>\n",
       "      <th>4</th>\n",
       "    </tr>\n",
       "  </thead>\n",
       "  <tbody>\n",
       "    <tr>\n",
       "      <th>0</th>\n",
       "      <td>chr1</td>\n",
       "      <td>3083769</td>\n",
       "      <td>3083816</td>\n",
       "      <td>0</td>\n",
       "    </tr>\n",
       "    <tr>\n",
       "      <th>1</th>\n",
       "      <td>chr1</td>\n",
       "      <td>3112234</td>\n",
       "      <td>3112467</td>\n",
       "      <td>1</td>\n",
       "    </tr>\n",
       "    <tr>\n",
       "      <th>2</th>\n",
       "      <td>chr1</td>\n",
       "      <td>3112770</td>\n",
       "      <td>3112986</td>\n",
       "      <td>2</td>\n",
       "    </tr>\n",
       "    <tr>\n",
       "      <th>3</th>\n",
       "      <td>chr1</td>\n",
       "      <td>3113717</td>\n",
       "      <td>3114035</td>\n",
       "      <td>3</td>\n",
       "    </tr>\n",
       "    <tr>\n",
       "      <th>4</th>\n",
       "      <td>chr1</td>\n",
       "      <td>3118790</td>\n",
       "      <td>3118935</td>\n",
       "      <td>4</td>\n",
       "    </tr>\n",
       "  </tbody>\n",
       "</table>\n",
       "</div>"
      ],
      "text/plain": [
       "      0        1        2  4\n",
       "0  chr1  3083769  3083816  0\n",
       "1  chr1  3112234  3112467  1\n",
       "2  chr1  3112770  3112986  2\n",
       "3  chr1  3113717  3114035  3\n",
       "4  chr1  3118790  3118935  4"
      ]
     },
     "execution_count": 110,
     "metadata": {},
     "output_type": "execute_result"
    }
   ],
   "source": [
    "bedfile.head()"
   ]
  },
  {
   "cell_type": "code",
   "execution_count": null,
   "metadata": {},
   "outputs": [],
   "source": [
    "all_linked.head()"
   ]
  },
  {
   "cell_type": "code",
   "execution_count": 111,
   "metadata": {},
   "outputs": [
    {
     "data": {
      "text/html": [
       "<div>\n",
       "<style scoped>\n",
       "    .dataframe tbody tr th:only-of-type {\n",
       "        vertical-align: middle;\n",
       "    }\n",
       "\n",
       "    .dataframe tbody tr th {\n",
       "        vertical-align: top;\n",
       "    }\n",
       "\n",
       "    .dataframe thead th {\n",
       "        text-align: right;\n",
       "    }\n",
       "</style>\n",
       "<table border=\"1\" class=\"dataframe\">\n",
       "  <thead>\n",
       "    <tr style=\"text-align: right;\">\n",
       "      <th></th>\n",
       "      <th>Unnamed: 0</th>\n",
       "      <th>gene</th>\n",
       "      <th>ens</th>\n",
       "      <th>in_gene</th>\n",
       "      <th>val</th>\n",
       "      <th>val2</th>\n",
       "      <th>val_clustershuffled</th>\n",
       "      <th>val2_clustershuffled</th>\n",
       "      <th>dist</th>\n",
       "      <th>pvalues</th>\n",
       "      <th>...</th>\n",
       "      <th>pvalues2</th>\n",
       "      <th>fdr2&lt;100kb</th>\n",
       "      <th>fdr2&lt;200kb</th>\n",
       "      <th>fdr2&lt;500kb</th>\n",
       "      <th>fdr2&lt;100kb shuffled (cluster label)</th>\n",
       "      <th>fdr_mcg</th>\n",
       "      <th>fdr_mcg_corr</th>\n",
       "      <th>fdr_atac</th>\n",
       "      <th>fdr_atac_corr</th>\n",
       "      <th>pair</th>\n",
       "    </tr>\n",
       "  </thead>\n",
       "  <tbody>\n",
       "    <tr>\n",
       "      <th>35</th>\n",
       "      <td>311</td>\n",
       "      <td>ENSMUSG00000000058</td>\n",
       "      <td>181996</td>\n",
       "      <td>False</td>\n",
       "      <td>-0.388992</td>\n",
       "      <td>0.573039</td>\n",
       "      <td>-0.174527</td>\n",
       "      <td>-0.136886</td>\n",
       "      <td>16524</td>\n",
       "      <td>0.105760</td>\n",
       "      <td>...</td>\n",
       "      <td>0.010817</td>\n",
       "      <td>0.250931</td>\n",
       "      <td>0.329669</td>\n",
       "      <td>0.486347</td>\n",
       "      <td>103.890213</td>\n",
       "      <td>0.452836</td>\n",
       "      <td>0.028328</td>\n",
       "      <td>0.250931</td>\n",
       "      <td>0.002392</td>\n",
       "      <td>ENSMUSG00000000058:181996</td>\n",
       "    </tr>\n",
       "    <tr>\n",
       "      <th>36</th>\n",
       "      <td>312</td>\n",
       "      <td>ENSMUSG00000000058</td>\n",
       "      <td>181997</td>\n",
       "      <td>False</td>\n",
       "      <td>-0.822300</td>\n",
       "      <td>0.641974</td>\n",
       "      <td>0.022431</td>\n",
       "      <td>-0.248277</td>\n",
       "      <td>14555</td>\n",
       "      <td>0.000232</td>\n",
       "      <td>...</td>\n",
       "      <td>0.003802</td>\n",
       "      <td>0.185491</td>\n",
       "      <td>0.255928</td>\n",
       "      <td>0.400644</td>\n",
       "      <td>351.878628</td>\n",
       "      <td>0.041971</td>\n",
       "      <td>0.000000</td>\n",
       "      <td>0.185491</td>\n",
       "      <td>0.000478</td>\n",
       "      <td>ENSMUSG00000000058:181997</td>\n",
       "    </tr>\n",
       "    <tr>\n",
       "      <th>53</th>\n",
       "      <td>654</td>\n",
       "      <td>ENSMUSG00000000085</td>\n",
       "      <td>162669</td>\n",
       "      <td>False</td>\n",
       "      <td>-0.504322</td>\n",
       "      <td>0.084145</td>\n",
       "      <td>0.074297</td>\n",
       "      <td>-0.080425</td>\n",
       "      <td>72160</td>\n",
       "      <td>0.049448</td>\n",
       "      <td>...</td>\n",
       "      <td>0.392456</td>\n",
       "      <td>0.712882</td>\n",
       "      <td>0.770515</td>\n",
       "      <td>0.858981</td>\n",
       "      <td>1.141826</td>\n",
       "      <td>0.350917</td>\n",
       "      <td>0.004002</td>\n",
       "      <td>0.712882</td>\n",
       "      <td>0.624334</td>\n",
       "      <td>ENSMUSG00000000085:162669</td>\n",
       "    </tr>\n",
       "    <tr>\n",
       "      <th>58</th>\n",
       "      <td>659</td>\n",
       "      <td>ENSMUSG00000000085</td>\n",
       "      <td>162677</td>\n",
       "      <td>True</td>\n",
       "      <td>-0.576102</td>\n",
       "      <td>0.620309</td>\n",
       "      <td>-0.075829</td>\n",
       "      <td>-0.102965</td>\n",
       "      <td>27594</td>\n",
       "      <td>0.026275</td>\n",
       "      <td>...</td>\n",
       "      <td>0.005455</td>\n",
       "      <td>0.207359</td>\n",
       "      <td>0.280964</td>\n",
       "      <td>0.430892</td>\n",
       "      <td>293.093294</td>\n",
       "      <td>0.285030</td>\n",
       "      <td>0.000679</td>\n",
       "      <td>0.207359</td>\n",
       "      <td>0.000669</td>\n",
       "      <td>ENSMUSG00000000085:162677</td>\n",
       "    </tr>\n",
       "    <tr>\n",
       "      <th>71</th>\n",
       "      <td>806</td>\n",
       "      <td>ENSMUSG00000000088</td>\n",
       "      <td>221965</td>\n",
       "      <td>False</td>\n",
       "      <td>-0.611117</td>\n",
       "      <td>0.453332</td>\n",
       "      <td>-0.021994</td>\n",
       "      <td>-0.035343</td>\n",
       "      <td>35028</td>\n",
       "      <td>0.018217</td>\n",
       "      <td>...</td>\n",
       "      <td>0.041670</td>\n",
       "      <td>0.363678</td>\n",
       "      <td>0.451996</td>\n",
       "      <td>0.613282</td>\n",
       "      <td>13.376857</td>\n",
       "      <td>0.251268</td>\n",
       "      <td>0.000201</td>\n",
       "      <td>0.363678</td>\n",
       "      <td>0.027178</td>\n",
       "      <td>ENSMUSG00000000088:221965</td>\n",
       "    </tr>\n",
       "  </tbody>\n",
       "</table>\n",
       "<p>5 rows × 24 columns</p>\n",
       "</div>"
      ],
      "text/plain": [
       "    Unnamed: 0                gene     ens  in_gene       val      val2  \\\n",
       "35         311  ENSMUSG00000000058  181996    False -0.388992  0.573039   \n",
       "36         312  ENSMUSG00000000058  181997    False -0.822300  0.641974   \n",
       "53         654  ENSMUSG00000000085  162669    False -0.504322  0.084145   \n",
       "58         659  ENSMUSG00000000085  162677     True -0.576102  0.620309   \n",
       "71         806  ENSMUSG00000000088  221965    False -0.611117  0.453332   \n",
       "\n",
       "    val_clustershuffled  val2_clustershuffled   dist   pvalues  ...  pvalues2  \\\n",
       "35            -0.174527             -0.136886  16524  0.105760  ...  0.010817   \n",
       "36             0.022431             -0.248277  14555  0.000232  ...  0.003802   \n",
       "53             0.074297             -0.080425  72160  0.049448  ...  0.392456   \n",
       "58            -0.075829             -0.102965  27594  0.026275  ...  0.005455   \n",
       "71            -0.021994             -0.035343  35028  0.018217  ...  0.041670   \n",
       "\n",
       "    fdr2<100kb  fdr2<200kb  fdr2<500kb  fdr2<100kb shuffled (cluster label)  \\\n",
       "35    0.250931    0.329669    0.486347                           103.890213   \n",
       "36    0.185491    0.255928    0.400644                           351.878628   \n",
       "53    0.712882    0.770515    0.858981                             1.141826   \n",
       "58    0.207359    0.280964    0.430892                           293.093294   \n",
       "71    0.363678    0.451996    0.613282                            13.376857   \n",
       "\n",
       "     fdr_mcg  fdr_mcg_corr  fdr_atac  fdr_atac_corr                       pair  \n",
       "35  0.452836      0.028328  0.250931       0.002392  ENSMUSG00000000058:181996  \n",
       "36  0.041971      0.000000  0.185491       0.000478  ENSMUSG00000000058:181997  \n",
       "53  0.350917      0.004002  0.712882       0.624334  ENSMUSG00000000085:162669  \n",
       "58  0.285030      0.000679  0.207359       0.000669  ENSMUSG00000000085:162677  \n",
       "71  0.251268      0.000201  0.363678       0.027178  ENSMUSG00000000088:221965  \n",
       "\n",
       "[5 rows x 24 columns]"
      ]
     },
     "execution_count": 111,
     "metadata": {},
     "output_type": "execute_result"
    }
   ],
   "source": [
    "all_corr.head()"
   ]
  },
  {
   "cell_type": "code",
   "execution_count": 112,
   "metadata": {},
   "outputs": [
    {
     "data": {
      "text/html": [
       "<div>\n",
       "<style scoped>\n",
       "    .dataframe tbody tr th:only-of-type {\n",
       "        vertical-align: middle;\n",
       "    }\n",
       "\n",
       "    .dataframe tbody tr th {\n",
       "        vertical-align: top;\n",
       "    }\n",
       "\n",
       "    .dataframe thead th {\n",
       "        text-align: right;\n",
       "    }\n",
       "</style>\n",
       "<table border=\"1\" class=\"dataframe\">\n",
       "  <thead>\n",
       "    <tr style=\"text-align: right;\">\n",
       "      <th></th>\n",
       "      <th>0</th>\n",
       "      <th>1</th>\n",
       "      <th>2</th>\n",
       "      <th>4</th>\n",
       "    </tr>\n",
       "  </thead>\n",
       "  <tbody>\n",
       "    <tr>\n",
       "      <th>0</th>\n",
       "      <td>chr1</td>\n",
       "      <td>3083769</td>\n",
       "      <td>3083816</td>\n",
       "      <td>0</td>\n",
       "    </tr>\n",
       "    <tr>\n",
       "      <th>1</th>\n",
       "      <td>chr1</td>\n",
       "      <td>3112234</td>\n",
       "      <td>3112467</td>\n",
       "      <td>1</td>\n",
       "    </tr>\n",
       "    <tr>\n",
       "      <th>2</th>\n",
       "      <td>chr1</td>\n",
       "      <td>3112770</td>\n",
       "      <td>3112986</td>\n",
       "      <td>2</td>\n",
       "    </tr>\n",
       "    <tr>\n",
       "      <th>3</th>\n",
       "      <td>chr1</td>\n",
       "      <td>3113717</td>\n",
       "      <td>3114035</td>\n",
       "      <td>3</td>\n",
       "    </tr>\n",
       "    <tr>\n",
       "      <th>4</th>\n",
       "      <td>chr1</td>\n",
       "      <td>3118790</td>\n",
       "      <td>3118935</td>\n",
       "      <td>4</td>\n",
       "    </tr>\n",
       "  </tbody>\n",
       "</table>\n",
       "</div>"
      ],
      "text/plain": [
       "      0        1        2  4\n",
       "0  chr1  3083769  3083816  0\n",
       "1  chr1  3112234  3112467  1\n",
       "2  chr1  3112770  3112986  2\n",
       "3  chr1  3113717  3114035  3\n",
       "4  chr1  3118790  3118935  4"
      ]
     },
     "execution_count": 112,
     "metadata": {},
     "output_type": "execute_result"
    }
   ],
   "source": [
    "bedfile.head()"
   ]
  },
  {
   "cell_type": "code",
   "execution_count": 113,
   "metadata": {},
   "outputs": [
    {
     "name": "stdout",
     "output_type": "stream",
     "text": [
      "/sphere/fangming/enhancers/scripts\n"
     ]
    }
   ],
   "source": [
    "!pwd"
   ]
  },
  {
   "cell_type": "code",
   "execution_count": 115,
   "metadata": {},
   "outputs": [],
   "source": [
    "in_gene_bed = bedfile.loc[in_gene_linked.ens]\n",
    "\n",
    "out_gene_bed = bedfile.loc[out_gene_linked.ens]\n",
    "\n",
    "# in_gene_bed.to_csv('/cndd2/ethan/projects/enh_gene_linkage/motifs/data/in_gene_linked.bed',\n",
    "#                     sep='\\t', header=None, index=False)\n",
    "\n",
    "# out_gene_bed.to_csv('/cndd2/ethan/projects/enh_gene_linkage/motifs/data/out_gene_linked.bed',\n",
    "#                     sep='\\t', header=None, index=False)"
   ]
  },
  {
   "cell_type": "code",
   "execution_count": 117,
   "metadata": {},
   "outputs": [],
   "source": [
    "in_gene_bed_corr = bedfile.loc[in_gene_corr.ens.unique()]\n",
    "\n",
    "out_gene_bed_corr = bedfile.loc[out_gene_corr.ens.unique()]\n",
    "\n",
    "# in_gene_bed_corr.to_csv('/cndd2/ethan/projects/enh_gene_linkage/motifs/data/in_gene_corr.bed',\n",
    "#                     sep='\\t', header=None, index=False)\n",
    "\n",
    "# out_gene_bed_corr.to_csv('/cndd2/ethan/projects/enh_gene_linkage/motifs/data/out_gene_corr.bed',\n",
    "#                     sep='\\t', header=None, index=False)"
   ]
  },
  {
   "cell_type": "code",
   "execution_count": 118,
   "metadata": {},
   "outputs": [],
   "source": [
    "# corr_mcg_bed.to_csv('/cndd2/ethan/projects/enh_gene_linkage/motifs/data/corr_mcg.bed',\n",
    "#                     sep='\\t', header=None, index=False)\n",
    "# linked_mcg_bed.to_csv('/cndd2/ethan/projects/enh_gene_linkage/motifs/data/linked_mcg.bed', \n",
    "#                       sep='\\t', header=None, index=False)\n",
    "# linked_atac_bed.to_csv('/cndd2/ethan/projects/enh_gene_linkage/motifs/data/corr_atac.bed', \n",
    "#                        sep='\\t', header=None, index=False)\n",
    "# corr_atac_bed.to_csv('/cndd2/ethan/projects/enh_gene_linkage/motifs/data/linked_atac.bed', \n",
    "#                      sep='\\t', header=None, index=False)"
   ]
  },
  {
   "cell_type": "code",
   "execution_count": 119,
   "metadata": {},
   "outputs": [
    {
     "data": {
      "text/html": [
       "<div>\n",
       "<style scoped>\n",
       "    .dataframe tbody tr th:only-of-type {\n",
       "        vertical-align: middle;\n",
       "    }\n",
       "\n",
       "    .dataframe tbody tr th {\n",
       "        vertical-align: top;\n",
       "    }\n",
       "\n",
       "    .dataframe thead th {\n",
       "        text-align: right;\n",
       "    }\n",
       "</style>\n",
       "<table border=\"1\" class=\"dataframe\">\n",
       "  <thead>\n",
       "    <tr style=\"text-align: right;\">\n",
       "      <th></th>\n",
       "      <th>Unnamed: 0</th>\n",
       "      <th>gene</th>\n",
       "      <th>ens</th>\n",
       "      <th>in_gene</th>\n",
       "      <th>val</th>\n",
       "      <th>val2</th>\n",
       "      <th>val_clustershuffled</th>\n",
       "      <th>val2_clustershuffled</th>\n",
       "      <th>dist</th>\n",
       "      <th>pvalues</th>\n",
       "      <th>...</th>\n",
       "      <th>pvalues2</th>\n",
       "      <th>fdr2&lt;100kb</th>\n",
       "      <th>fdr2&lt;200kb</th>\n",
       "      <th>fdr2&lt;500kb</th>\n",
       "      <th>fdr2&lt;100kb shuffled (cluster label)</th>\n",
       "      <th>fdr_mcg</th>\n",
       "      <th>fdr_mcg_corr</th>\n",
       "      <th>fdr_atac</th>\n",
       "      <th>fdr_atac_corr</th>\n",
       "      <th>pair</th>\n",
       "    </tr>\n",
       "  </thead>\n",
       "  <tbody>\n",
       "    <tr>\n",
       "      <th>0</th>\n",
       "      <td>94</td>\n",
       "      <td>ENSMUSG00000000001</td>\n",
       "      <td>147662</td>\n",
       "      <td>False</td>\n",
       "      <td>-0.039720</td>\n",
       "      <td>0.044097</td>\n",
       "      <td>-0.265784</td>\n",
       "      <td>-0.136448</td>\n",
       "      <td>92177</td>\n",
       "      <td>0.424733</td>\n",
       "      <td>...</td>\n",
       "      <td>0.450781</td>\n",
       "      <td>0.744850</td>\n",
       "      <td>0.797258</td>\n",
       "      <td>0.876520</td>\n",
       "      <td>1.032819</td>\n",
       "      <td>0.726151</td>\n",
       "      <td>0.662643</td>\n",
       "      <td>0.744850</td>\n",
       "      <td>0.721180</td>\n",
       "      <td>ENSMUSG00000000001:147662</td>\n",
       "    </tr>\n",
       "    <tr>\n",
       "      <th>1</th>\n",
       "      <td>95</td>\n",
       "      <td>ENSMUSG00000000001</td>\n",
       "      <td>147663</td>\n",
       "      <td>False</td>\n",
       "      <td>0.024620</td>\n",
       "      <td>0.051756</td>\n",
       "      <td>-0.380239</td>\n",
       "      <td>-0.101215</td>\n",
       "      <td>91955</td>\n",
       "      <td>0.499490</td>\n",
       "      <td>...</td>\n",
       "      <td>0.439489</td>\n",
       "      <td>0.738874</td>\n",
       "      <td>0.792315</td>\n",
       "      <td>0.873352</td>\n",
       "      <td>1.051270</td>\n",
       "      <td>0.770029</td>\n",
       "      <td>0.835107</td>\n",
       "      <td>0.738874</td>\n",
       "      <td>0.702838</td>\n",
       "      <td>ENSMUSG00000000001:147663</td>\n",
       "    </tr>\n",
       "    <tr>\n",
       "      <th>2</th>\n",
       "      <td>96</td>\n",
       "      <td>ENSMUSG00000000001</td>\n",
       "      <td>147664</td>\n",
       "      <td>False</td>\n",
       "      <td>-0.022212</td>\n",
       "      <td>0.074516</td>\n",
       "      <td>-0.081081</td>\n",
       "      <td>-0.112376</td>\n",
       "      <td>84155</td>\n",
       "      <td>0.445065</td>\n",
       "      <td>...</td>\n",
       "      <td>0.406090</td>\n",
       "      <td>0.720486</td>\n",
       "      <td>0.776735</td>\n",
       "      <td>0.862787</td>\n",
       "      <td>1.112977</td>\n",
       "      <td>0.738378</td>\n",
       "      <td>0.711723</td>\n",
       "      <td>0.720486</td>\n",
       "      <td>0.647348</td>\n",
       "      <td>ENSMUSG00000000001:147664</td>\n",
       "    </tr>\n",
       "    <tr>\n",
       "      <th>3</th>\n",
       "      <td>97</td>\n",
       "      <td>ENSMUSG00000000001</td>\n",
       "      <td>147665</td>\n",
       "      <td>False</td>\n",
       "      <td>-0.147171</td>\n",
       "      <td>0.017398</td>\n",
       "      <td>0.194660</td>\n",
       "      <td>-0.279352</td>\n",
       "      <td>76112</td>\n",
       "      <td>0.306660</td>\n",
       "      <td>...</td>\n",
       "      <td>0.490344</td>\n",
       "      <td>0.765055</td>\n",
       "      <td>0.813756</td>\n",
       "      <td>0.886827</td>\n",
       "      <td>0.979848</td>\n",
       "      <td>0.648328</td>\n",
       "      <td>0.367841</td>\n",
       "      <td>0.765055</td>\n",
       "      <td>0.780787</td>\n",
       "      <td>ENSMUSG00000000001:147665</td>\n",
       "    </tr>\n",
       "    <tr>\n",
       "      <th>4</th>\n",
       "      <td>98</td>\n",
       "      <td>ENSMUSG00000000001</td>\n",
       "      <td>147666</td>\n",
       "      <td>False</td>\n",
       "      <td>0.122880</td>\n",
       "      <td>0.122005</td>\n",
       "      <td>0.050224</td>\n",
       "      <td>0.120910</td>\n",
       "      <td>63221</td>\n",
       "      <td>0.611919</td>\n",
       "      <td>...</td>\n",
       "      <td>0.338683</td>\n",
       "      <td>0.679892</td>\n",
       "      <td>0.742359</td>\n",
       "      <td>0.840268</td>\n",
       "      <td>1.285390</td>\n",
       "      <td>0.829016</td>\n",
       "      <td>1.028145</td>\n",
       "      <td>0.679892</td>\n",
       "      <td>0.528936</td>\n",
       "      <td>ENSMUSG00000000001:147666</td>\n",
       "    </tr>\n",
       "  </tbody>\n",
       "</table>\n",
       "<p>5 rows × 24 columns</p>\n",
       "</div>"
      ],
      "text/plain": [
       "   Unnamed: 0                gene     ens  in_gene       val      val2  \\\n",
       "0          94  ENSMUSG00000000001  147662    False -0.039720  0.044097   \n",
       "1          95  ENSMUSG00000000001  147663    False  0.024620  0.051756   \n",
       "2          96  ENSMUSG00000000001  147664    False -0.022212  0.074516   \n",
       "3          97  ENSMUSG00000000001  147665    False -0.147171  0.017398   \n",
       "4          98  ENSMUSG00000000001  147666    False  0.122880  0.122005   \n",
       "\n",
       "   val_clustershuffled  val2_clustershuffled   dist   pvalues  ...  pvalues2  \\\n",
       "0            -0.265784             -0.136448  92177  0.424733  ...  0.450781   \n",
       "1            -0.380239             -0.101215  91955  0.499490  ...  0.439489   \n",
       "2            -0.081081             -0.112376  84155  0.445065  ...  0.406090   \n",
       "3             0.194660             -0.279352  76112  0.306660  ...  0.490344   \n",
       "4             0.050224              0.120910  63221  0.611919  ...  0.338683   \n",
       "\n",
       "   fdr2<100kb  fdr2<200kb  fdr2<500kb  fdr2<100kb shuffled (cluster label)  \\\n",
       "0    0.744850    0.797258    0.876520                             1.032819   \n",
       "1    0.738874    0.792315    0.873352                             1.051270   \n",
       "2    0.720486    0.776735    0.862787                             1.112977   \n",
       "3    0.765055    0.813756    0.886827                             0.979848   \n",
       "4    0.679892    0.742359    0.840268                             1.285390   \n",
       "\n",
       "    fdr_mcg  fdr_mcg_corr  fdr_atac  fdr_atac_corr                       pair  \n",
       "0  0.726151      0.662643  0.744850       0.721180  ENSMUSG00000000001:147662  \n",
       "1  0.770029      0.835107  0.738874       0.702838  ENSMUSG00000000001:147663  \n",
       "2  0.738378      0.711723  0.720486       0.647348  ENSMUSG00000000001:147664  \n",
       "3  0.648328      0.367841  0.765055       0.780787  ENSMUSG00000000001:147665  \n",
       "4  0.829016      1.028145  0.679892       0.528936  ENSMUSG00000000001:147666  \n",
       "\n",
       "[5 rows x 24 columns]"
      ]
     },
     "execution_count": 119,
     "metadata": {},
     "output_type": "execute_result"
    }
   ],
   "source": [
    "evals.head()"
   ]
  },
  {
   "cell_type": "code",
   "execution_count": 120,
   "metadata": {},
   "outputs": [
    {
     "data": {
      "text/plain": [
       "array(['Unnamed: 0', 'gene', 'ens', 'in_gene', 'val', 'val2',\n",
       "       'val_clustershuffled', 'val2_clustershuffled', 'dist', 'pvalues',\n",
       "       'fdr<100kb', 'fdr<200kb', 'fdr<500kb',\n",
       "       'fdr<100kb shuffled (cluster label)', 'pvalues2', 'fdr2<100kb',\n",
       "       'fdr2<200kb', 'fdr2<500kb', 'fdr2<100kb shuffled (cluster label)',\n",
       "       'fdr_mcg', 'fdr_mcg_corr', 'fdr_atac', 'fdr_atac_corr', 'pair'],\n",
       "      dtype=object)"
      ]
     },
     "execution_count": 120,
     "metadata": {},
     "output_type": "execute_result"
    }
   ],
   "source": [
    "evals.columns.values"
   ]
  },
  {
   "cell_type": "markdown",
   "metadata": {},
   "source": [
    "# get in gene body comparison "
   ]
  },
  {
   "cell_type": "code",
   "execution_count": 121,
   "metadata": {},
   "outputs": [
    {
     "data": {
      "text/plain": [
       "(6317, 4674)"
      ]
     },
     "execution_count": 121,
     "metadata": {},
     "output_type": "execute_result"
    }
   ],
   "source": [
    "in_gene_linked.ens.unique().shape[0], out_gene_linked.ens.unique().shape[0]"
   ]
  },
  {
   "cell_type": "code",
   "execution_count": 122,
   "metadata": {},
   "outputs": [],
   "source": [
    "num_ens_linked = in_gene_linked.ens.unique().shape[0] + out_gene_linked.ens.unique().shape[0]\n",
    "num_ens_corr =in_gene_corr.ens.unique().shape[0] + out_gene_corr.ens.unique().shape[0]"
   ]
  },
  {
   "cell_type": "code",
   "execution_count": 123,
   "metadata": {},
   "outputs": [
    {
     "data": {
      "text/plain": [
       "(19971, 36762)"
      ]
     },
     "execution_count": 123,
     "metadata": {},
     "output_type": "execute_result"
    }
   ],
   "source": [
    "in_gene_corr.ens.unique().shape[0], out_gene_corr.ens.unique().shape[0]"
   ]
  },
  {
   "cell_type": "code",
   "execution_count": 125,
   "metadata": {},
   "outputs": [],
   "source": [
    "# ?plt.bar"
   ]
  },
  {
   "cell_type": "code",
   "execution_count": 126,
   "metadata": {},
   "outputs": [
    {
     "data": {
      "text/plain": [
       "([<matplotlib.axis.YTick at 0x7f97973b7130>,\n",
       "  <matplotlib.axis.YTick at 0x7f97973b7220>,\n",
       "  <matplotlib.axis.YTick at 0x7f979a4f18e0>,\n",
       "  <matplotlib.axis.YTick at 0x7f9796f479a0>,\n",
       "  <matplotlib.axis.YTick at 0x7f9796f47880>,\n",
       "  <matplotlib.axis.YTick at 0x7f9796f47f40>],\n",
       " <a list of 6 Text yticklabel objects>)"
      ]
     },
     "execution_count": 126,
     "metadata": {},
     "output_type": "execute_result"
    },
    {
     "data": {
      "image/png": "[encoded data removed]",
      "text/plain": [
       "<Figure size 432x288 with 1 Axes>"
      ]
     },
     "metadata": {
      "needs_background": "light"
     },
     "output_type": "display_data"
    }
   ],
   "source": [
    "plt.bar([0, 1],\n",
    "        [in_gene_linked.ens.unique().shape[0]/num_ens_linked,\n",
    "         in_gene_corr.ens.unique().shape[0]/num_ens_corr])\n",
    "plt.bar([0, 1],\n",
    "        [out_gene_linked.ens.unique().shape[0]/num_ens_linked,\n",
    "         out_gene_corr.ens.unique().shape[0]/num_ens_corr], \n",
    "        bottom =[in_gene_linked.ens.unique().shape[0]/num_ens_linked,\n",
    "         in_gene_corr.ens.unique().shape[0]/num_ens_corr], color='lightgray')\n",
    "plt.xticks([0, 1], ['linked', 'correlated'])\n",
    "plt.yticks(np.array([0, 20, 40, 60, 80, 100])/100, ['0 %', '20 %', '40%', '60%', '80%', '100%'])\n"
   ]
  }
 ],
 "metadata": {
  "kernelspec": {
   "display_name": "Python 3",
   "language": "python",
   "name": "python3"
  },
  "language_info": {
   "codemirror_mode": {
    "name": "ipython",
    "version": 3
   },
   "file_extension": ".py",
   "mimetype": "text/x-python",
   "name": "python",
   "nbconvert_exporter": "python",
   "pygments_lexer": "ipython3",
   "version": "3.8.1"
  }
 },
 "nbformat": 4,
 "nbformat_minor": 4
}
