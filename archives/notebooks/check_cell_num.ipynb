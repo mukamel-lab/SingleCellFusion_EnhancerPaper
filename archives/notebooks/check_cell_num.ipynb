{
 "cells": [
  {
   "cell_type": "code",
   "execution_count": 1,
   "metadata": {},
   "outputs": [],
   "source": [
    "import pickle as pkl\n",
    "import numpy as np"
   ]
  },
  {
   "cell_type": "code",
   "execution_count": 2,
   "metadata": {},
   "outputs": [],
   "source": [
    "datadir = '/cndd2/fangming/projects/scf_enhancers/data/organized_cell_level/version_nov9'"
   ]
  },
  {
   "cell_type": "code",
   "execution_count": 3,
   "metadata": {},
   "outputs": [
    {
     "name": "stdout",
     "output_type": "stream",
     "text": [
      "cell_10x_cells_v3.txt\t\tmat_10x_cells_v3.npz\n",
      "cell_promoters_snatac_gene.pkl\tmat_cg_snmcseq_gene.npz\n",
      "cell_snatac_gene.txt\t\tmat_mcg_snmcseq_gene.npz\n",
      "cell_snmcseq_gene.txt\t\tmat_promoters_snatac_gene.pkl\n",
      "enh.tsv\t\t\t\tmat_snatac_gene.npz\n",
      "gene_10x_cells_v3.txt\t\tregion_promoters_snatac_gene.pkl\n"
     ]
    }
   ],
   "source": [
    "!ls $datadir"
   ]
  },
  {
   "cell_type": "code",
   "execution_count": 4,
   "metadata": {},
   "outputs": [
    {
     "data": {
      "text/plain": [
       "(69727,)"
      ]
     },
     "execution_count": 4,
     "metadata": {},
     "output_type": "execute_result"
    }
   ],
   "source": [
    "cells = np.load(datadir+'/cell_10x_cells_v3.txt', allow_pickle=True)\n",
    "cells.shape"
   ]
  },
  {
   "cell_type": "code",
   "execution_count": 5,
   "metadata": {},
   "outputs": [
    {
     "data": {
      "text/plain": [
       "(135665,)"
      ]
     },
     "execution_count": 5,
     "metadata": {},
     "output_type": "execute_result"
    }
   ],
   "source": [
    "cells = np.load(datadir+'/cell_snatac_gene.txt', allow_pickle=True)\n",
    "cells.shape"
   ]
  },
  {
   "cell_type": "code",
   "execution_count": 6,
   "metadata": {},
   "outputs": [
    {
     "data": {
      "text/plain": [
       "(9931,)"
      ]
     },
     "execution_count": 6,
     "metadata": {},
     "output_type": "execute_result"
    }
   ],
   "source": [
    "cells = np.load(datadir+'/cell_snmcseq_gene.txt', allow_pickle=True)\n",
    "cells.shape"
   ]
  },
  {
   "cell_type": "code",
   "execution_count": 7,
   "metadata": {},
   "outputs": [
    {
     "name": "stdout",
     "output_type": "stream",
     "text": [
      "215323\n"
     ]
    }
   ],
   "source": [
    "totalnum = 0\n",
    "\n",
    "cells = np.load(datadir+'/cell_10x_cells_v3.txt', allow_pickle=True)\n",
    "totalnum += len(cells)\n",
    "cells = np.load(datadir+'/cell_snatac_gene.txt', allow_pickle=True)\n",
    "totalnum += len(cells)\n",
    "cells = np.load(datadir+'/cell_snmcseq_gene.txt', allow_pickle=True)\n",
    "totalnum += len(cells)\n",
    "print(totalnum)"
   ]
  },
  {
   "cell_type": "code",
   "execution_count": null,
   "metadata": {},
   "outputs": [],
   "source": []
  }
 ],
 "metadata": {
  "kernelspec": {
   "display_name": "Python 3",
   "language": "python",
   "name": "python3"
  },
  "language_info": {
   "codemirror_mode": {
    "name": "ipython",
    "version": 3
   },
   "file_extension": ".py",
   "mimetype": "text/x-python",
   "name": "python",
   "nbconvert_exporter": "python",
   "pygments_lexer": "ipython3",
   "version": "3.8.1"
  }
 },
 "nbformat": 4,
 "nbformat_minor": 4
}
