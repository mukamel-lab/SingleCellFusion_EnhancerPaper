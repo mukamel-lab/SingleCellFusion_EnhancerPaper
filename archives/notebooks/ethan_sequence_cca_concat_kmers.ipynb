{
 "cells": [
  {
   "cell_type": "code",
   "execution_count": 6,
   "metadata": {},
   "outputs": [],
   "source": [
    "import pandas as pd\n",
    "import numpy as np\n",
    "import matplotlib.pyplot as plt\n",
    "import os "
   ]
  },
  {
   "cell_type": "code",
   "execution_count": 7,
   "metadata": {},
   "outputs": [],
   "source": [
    "from sklearn.cross_decomposition import CCA"
   ]
  },
  {
   "cell_type": "markdown",
   "metadata": {},
   "source": [
    "# indexing workflow:\n",
    "- for each correlated enhancer, use fangming's indexes to get the corresponding gene name\n",
    "- my enhancer index matches fangming's\n",
    "\n",
    "# difficult part is getting promoter kmers"
   ]
  },
  {
   "cell_type": "markdown",
   "metadata": {},
   "source": [
    "# Import kmers"
   ]
  },
  {
   "cell_type": "code",
   "execution_count": 52,
   "metadata": {},
   "outputs": [],
   "source": [
    "DIR = '/cndd2/ethan/projects/enh_gene_linkage/enhancer_sequence'\n",
    "OUTDIR = '/cndd2/fangming/projects/scf_enhancers/results'"
   ]
  },
  {
   "cell_type": "code",
   "execution_count": 11,
   "metadata": {},
   "outputs": [],
   "source": [
    "kmer_nums = [2, 3, 4, 5]\n",
    "\n",
    "enhancer_kmer_list =[]\n",
    "promoter_kmer_list = []\n",
    "data_path_enh = os.path.join(DIR, 'data/enhancers_chromsort_kmer_{}_bases_1000.tsv')\n",
    "data_path_prom = os.path.join(DIR, 'data/promoter_sort_kmer_{}_bases_1000.tsv')\n",
    "\n",
    "for k in kmer_nums:\n",
    "    en = pd.read_csv(data_path_enh.format(k), sep='\\t').set_index('0')\n",
    "    prom = pd.read_csv(data_path_prom.format(k), sep='\\t').set_index('0')\n",
    "    enhancer_kmer_list.append(en)\n",
    "    promoter_kmer_list.append(prom)\n",
    "    "
   ]
  },
  {
   "cell_type": "code",
   "execution_count": 12,
   "metadata": {},
   "outputs": [],
   "source": [
    "enhancer_kmers = pd.concat(enhancer_kmer_list, axis=1)\n",
    "promoter_kmers = pd.concat(promoter_kmer_list, axis=1)"
   ]
  },
  {
   "cell_type": "code",
   "execution_count": 13,
   "metadata": {},
   "outputs": [
    {
     "data": {
      "text/html": [
       "<div>\n",
       "<style scoped>\n",
       "    .dataframe tbody tr th:only-of-type {\n",
       "        vertical-align: middle;\n",
       "    }\n",
       "\n",
       "    .dataframe tbody tr th {\n",
       "        vertical-align: top;\n",
       "    }\n",
       "\n",
       "    .dataframe thead th {\n",
       "        text-align: right;\n",
       "    }\n",
       "</style>\n",
       "<table border=\"1\" class=\"dataframe\">\n",
       "  <thead>\n",
       "    <tr style=\"text-align: right;\">\n",
       "      <th></th>\n",
       "      <th>AA</th>\n",
       "      <th>AC</th>\n",
       "      <th>AG</th>\n",
       "      <th>AT</th>\n",
       "      <th>CA</th>\n",
       "      <th>CC</th>\n",
       "      <th>CG</th>\n",
       "      <th>CT</th>\n",
       "      <th>GA</th>\n",
       "      <th>GC</th>\n",
       "      <th>...</th>\n",
       "      <th>TTTCG</th>\n",
       "      <th>TTTCT</th>\n",
       "      <th>TTTGA</th>\n",
       "      <th>TTTGC</th>\n",
       "      <th>TTTGG</th>\n",
       "      <th>TTTGT</th>\n",
       "      <th>TTTTA</th>\n",
       "      <th>TTTTC</th>\n",
       "      <th>TTTTG</th>\n",
       "      <th>TTTTT</th>\n",
       "    </tr>\n",
       "    <tr>\n",
       "      <th>0</th>\n",
       "      <th></th>\n",
       "      <th></th>\n",
       "      <th></th>\n",
       "      <th></th>\n",
       "      <th></th>\n",
       "      <th></th>\n",
       "      <th></th>\n",
       "      <th></th>\n",
       "      <th></th>\n",
       "      <th></th>\n",
       "      <th></th>\n",
       "      <th></th>\n",
       "      <th></th>\n",
       "      <th></th>\n",
       "      <th></th>\n",
       "      <th></th>\n",
       "      <th></th>\n",
       "      <th></th>\n",
       "      <th></th>\n",
       "      <th></th>\n",
       "      <th></th>\n",
       "    </tr>\n",
       "  </thead>\n",
       "  <tbody>\n",
       "    <tr>\n",
       "      <th>&gt;chr10:100009350-100011350</th>\n",
       "      <td>335</td>\n",
       "      <td>246</td>\n",
       "      <td>281</td>\n",
       "      <td>131</td>\n",
       "      <td>327</td>\n",
       "      <td>194</td>\n",
       "      <td>37</td>\n",
       "      <td>281</td>\n",
       "      <td>225</td>\n",
       "      <td>105</td>\n",
       "      <td>...</td>\n",
       "      <td>1.0</td>\n",
       "      <td>5.0</td>\n",
       "      <td>6.0</td>\n",
       "      <td>11.0</td>\n",
       "      <td>5.0</td>\n",
       "      <td>7.0</td>\n",
       "      <td>7.0</td>\n",
       "      <td>6.0</td>\n",
       "      <td>9.0</td>\n",
       "      <td>19.0</td>\n",
       "    </tr>\n",
       "    <tr>\n",
       "      <th>&gt;chr10:100018062-100020062</th>\n",
       "      <td>447</td>\n",
       "      <td>208</td>\n",
       "      <td>269</td>\n",
       "      <td>141</td>\n",
       "      <td>280</td>\n",
       "      <td>193</td>\n",
       "      <td>26</td>\n",
       "      <td>269</td>\n",
       "      <td>231</td>\n",
       "      <td>80</td>\n",
       "      <td>...</td>\n",
       "      <td>1.0</td>\n",
       "      <td>13.0</td>\n",
       "      <td>10.0</td>\n",
       "      <td>7.0</td>\n",
       "      <td>6.0</td>\n",
       "      <td>12.0</td>\n",
       "      <td>17.0</td>\n",
       "      <td>12.0</td>\n",
       "      <td>9.0</td>\n",
       "      <td>46.0</td>\n",
       "    </tr>\n",
       "    <tr>\n",
       "      <th>&gt;chr10:100018734-100020734</th>\n",
       "      <td>404</td>\n",
       "      <td>229</td>\n",
       "      <td>300</td>\n",
       "      <td>116</td>\n",
       "      <td>284</td>\n",
       "      <td>189</td>\n",
       "      <td>31</td>\n",
       "      <td>300</td>\n",
       "      <td>247</td>\n",
       "      <td>85</td>\n",
       "      <td>...</td>\n",
       "      <td>2.0</td>\n",
       "      <td>13.0</td>\n",
       "      <td>6.0</td>\n",
       "      <td>4.0</td>\n",
       "      <td>8.0</td>\n",
       "      <td>12.0</td>\n",
       "      <td>13.0</td>\n",
       "      <td>9.0</td>\n",
       "      <td>5.0</td>\n",
       "      <td>44.0</td>\n",
       "    </tr>\n",
       "    <tr>\n",
       "      <th>&gt;chr10:100019262-100021262</th>\n",
       "      <td>419</td>\n",
       "      <td>232</td>\n",
       "      <td>289</td>\n",
       "      <td>107</td>\n",
       "      <td>289</td>\n",
       "      <td>205</td>\n",
       "      <td>31</td>\n",
       "      <td>289</td>\n",
       "      <td>242</td>\n",
       "      <td>83</td>\n",
       "      <td>...</td>\n",
       "      <td>3.0</td>\n",
       "      <td>11.0</td>\n",
       "      <td>6.0</td>\n",
       "      <td>5.0</td>\n",
       "      <td>10.0</td>\n",
       "      <td>21.0</td>\n",
       "      <td>8.0</td>\n",
       "      <td>10.0</td>\n",
       "      <td>13.0</td>\n",
       "      <td>34.0</td>\n",
       "    </tr>\n",
       "    <tr>\n",
       "      <th>&gt;chr10:100021578-100023578</th>\n",
       "      <td>275</td>\n",
       "      <td>236</td>\n",
       "      <td>323</td>\n",
       "      <td>96</td>\n",
       "      <td>339</td>\n",
       "      <td>265</td>\n",
       "      <td>23</td>\n",
       "      <td>323</td>\n",
       "      <td>250</td>\n",
       "      <td>111</td>\n",
       "      <td>...</td>\n",
       "      <td>1.0</td>\n",
       "      <td>9.0</td>\n",
       "      <td>4.0</td>\n",
       "      <td>9.0</td>\n",
       "      <td>3.0</td>\n",
       "      <td>10.0</td>\n",
       "      <td>2.0</td>\n",
       "      <td>7.0</td>\n",
       "      <td>9.0</td>\n",
       "      <td>7.0</td>\n",
       "    </tr>\n",
       "  </tbody>\n",
       "</table>\n",
       "<p>5 rows × 1360 columns</p>\n",
       "</div>"
      ],
      "text/plain": [
       "                             AA   AC   AG   AT   CA   CC  CG   CT   GA   GC  \\\n",
       "0                                                                             \n",
       ">chr10:100009350-100011350  335  246  281  131  327  194  37  281  225  105   \n",
       ">chr10:100018062-100020062  447  208  269  141  280  193  26  269  231   80   \n",
       ">chr10:100018734-100020734  404  229  300  116  284  189  31  300  247   85   \n",
       ">chr10:100019262-100021262  419  232  289  107  289  205  31  289  242   83   \n",
       ">chr10:100021578-100023578  275  236  323   96  339  265  23  323  250  111   \n",
       "\n",
       "                            ...  TTTCG  TTTCT  TTTGA  TTTGC  TTTGG  TTTGT  \\\n",
       "0                           ...                                             \n",
       ">chr10:100009350-100011350  ...    1.0    5.0    6.0   11.0    5.0    7.0   \n",
       ">chr10:100018062-100020062  ...    1.0   13.0   10.0    7.0    6.0   12.0   \n",
       ">chr10:100018734-100020734  ...    2.0   13.0    6.0    4.0    8.0   12.0   \n",
       ">chr10:100019262-100021262  ...    3.0   11.0    6.0    5.0   10.0   21.0   \n",
       ">chr10:100021578-100023578  ...    1.0    9.0    4.0    9.0    3.0   10.0   \n",
       "\n",
       "                            TTTTA  TTTTC  TTTTG  TTTTT  \n",
       "0                                                       \n",
       ">chr10:100009350-100011350    7.0    6.0    9.0   19.0  \n",
       ">chr10:100018062-100020062   17.0   12.0    9.0   46.0  \n",
       ">chr10:100018734-100020734   13.0    9.0    5.0   44.0  \n",
       ">chr10:100019262-100021262    8.0   10.0   13.0   34.0  \n",
       ">chr10:100021578-100023578    2.0    7.0    9.0    7.0  \n",
       "\n",
       "[5 rows x 1360 columns]"
      ]
     },
     "execution_count": 13,
     "metadata": {},
     "output_type": "execute_result"
    }
   ],
   "source": [
    "enhancer_kmers.head()"
   ]
  },
  {
   "cell_type": "code",
   "execution_count": 14,
   "metadata": {},
   "outputs": [
    {
     "data": {
      "text/html": [
       "<div>\n",
       "<style scoped>\n",
       "    .dataframe tbody tr th:only-of-type {\n",
       "        vertical-align: middle;\n",
       "    }\n",
       "\n",
       "    .dataframe tbody tr th {\n",
       "        vertical-align: top;\n",
       "    }\n",
       "\n",
       "    .dataframe thead th {\n",
       "        text-align: right;\n",
       "    }\n",
       "</style>\n",
       "<table border=\"1\" class=\"dataframe\">\n",
       "  <thead>\n",
       "    <tr style=\"text-align: right;\">\n",
       "      <th></th>\n",
       "      <th>AA</th>\n",
       "      <th>AC</th>\n",
       "      <th>AG</th>\n",
       "      <th>AT</th>\n",
       "      <th>CA</th>\n",
       "      <th>CC</th>\n",
       "      <th>CG</th>\n",
       "      <th>CT</th>\n",
       "      <th>GA</th>\n",
       "      <th>GC</th>\n",
       "      <th>...</th>\n",
       "      <th>TTTCG</th>\n",
       "      <th>TTTCT</th>\n",
       "      <th>TTTGA</th>\n",
       "      <th>TTTGC</th>\n",
       "      <th>TTTGG</th>\n",
       "      <th>TTTGT</th>\n",
       "      <th>TTTTA</th>\n",
       "      <th>TTTTC</th>\n",
       "      <th>TTTTG</th>\n",
       "      <th>TTTTT</th>\n",
       "    </tr>\n",
       "    <tr>\n",
       "      <th>0</th>\n",
       "      <th></th>\n",
       "      <th></th>\n",
       "      <th></th>\n",
       "      <th></th>\n",
       "      <th></th>\n",
       "      <th></th>\n",
       "      <th></th>\n",
       "      <th></th>\n",
       "      <th></th>\n",
       "      <th></th>\n",
       "      <th></th>\n",
       "      <th></th>\n",
       "      <th></th>\n",
       "      <th></th>\n",
       "      <th></th>\n",
       "      <th></th>\n",
       "      <th></th>\n",
       "      <th></th>\n",
       "      <th></th>\n",
       "      <th></th>\n",
       "      <th></th>\n",
       "    </tr>\n",
       "  </thead>\n",
       "  <tbody>\n",
       "    <tr>\n",
       "      <th>&gt;chr10:100014631-100016631</th>\n",
       "      <td>303.0</td>\n",
       "      <td>187.0</td>\n",
       "      <td>288.0</td>\n",
       "      <td>72.0</td>\n",
       "      <td>247.0</td>\n",
       "      <td>329.0</td>\n",
       "      <td>107.0</td>\n",
       "      <td>288.0</td>\n",
       "      <td>233.0</td>\n",
       "      <td>164.0</td>\n",
       "      <td>...</td>\n",
       "      <td>1.0</td>\n",
       "      <td>16.0</td>\n",
       "      <td>3.0</td>\n",
       "      <td>4.0</td>\n",
       "      <td>5.0</td>\n",
       "      <td>4.0</td>\n",
       "      <td>7.0</td>\n",
       "      <td>18.0</td>\n",
       "      <td>8.0</td>\n",
       "      <td>24.0</td>\n",
       "    </tr>\n",
       "    <tr>\n",
       "      <th>&gt;chr10:100334677-100336677</th>\n",
       "      <td>323.0</td>\n",
       "      <td>202.0</td>\n",
       "      <td>331.0</td>\n",
       "      <td>119.0</td>\n",
       "      <td>340.0</td>\n",
       "      <td>201.0</td>\n",
       "      <td>17.0</td>\n",
       "      <td>331.0</td>\n",
       "      <td>247.0</td>\n",
       "      <td>128.0</td>\n",
       "      <td>...</td>\n",
       "      <td>0.0</td>\n",
       "      <td>3.0</td>\n",
       "      <td>10.0</td>\n",
       "      <td>7.0</td>\n",
       "      <td>4.0</td>\n",
       "      <td>11.0</td>\n",
       "      <td>13.0</td>\n",
       "      <td>4.0</td>\n",
       "      <td>9.0</td>\n",
       "      <td>12.0</td>\n",
       "    </tr>\n",
       "    <tr>\n",
       "      <th>&gt;chr10:100339837-100341837</th>\n",
       "      <td>320.0</td>\n",
       "      <td>201.0</td>\n",
       "      <td>328.0</td>\n",
       "      <td>122.0</td>\n",
       "      <td>342.0</td>\n",
       "      <td>201.0</td>\n",
       "      <td>18.0</td>\n",
       "      <td>328.0</td>\n",
       "      <td>242.0</td>\n",
       "      <td>131.0</td>\n",
       "      <td>...</td>\n",
       "      <td>0.0</td>\n",
       "      <td>3.0</td>\n",
       "      <td>10.0</td>\n",
       "      <td>6.0</td>\n",
       "      <td>4.0</td>\n",
       "      <td>11.0</td>\n",
       "      <td>13.0</td>\n",
       "      <td>4.0</td>\n",
       "      <td>10.0</td>\n",
       "      <td>12.0</td>\n",
       "    </tr>\n",
       "    <tr>\n",
       "      <th>&gt;chr10:100344973-100346973</th>\n",
       "      <td>333.0</td>\n",
       "      <td>207.0</td>\n",
       "      <td>324.0</td>\n",
       "      <td>119.0</td>\n",
       "      <td>329.0</td>\n",
       "      <td>205.0</td>\n",
       "      <td>20.0</td>\n",
       "      <td>324.0</td>\n",
       "      <td>246.0</td>\n",
       "      <td>120.0</td>\n",
       "      <td>...</td>\n",
       "      <td>0.0</td>\n",
       "      <td>4.0</td>\n",
       "      <td>11.0</td>\n",
       "      <td>6.0</td>\n",
       "      <td>4.0</td>\n",
       "      <td>10.0</td>\n",
       "      <td>12.0</td>\n",
       "      <td>5.0</td>\n",
       "      <td>12.0</td>\n",
       "      <td>12.0</td>\n",
       "    </tr>\n",
       "    <tr>\n",
       "      <th>&gt;chr10:100350094-100352094</th>\n",
       "      <td>333.0</td>\n",
       "      <td>207.0</td>\n",
       "      <td>324.0</td>\n",
       "      <td>119.0</td>\n",
       "      <td>329.0</td>\n",
       "      <td>205.0</td>\n",
       "      <td>20.0</td>\n",
       "      <td>324.0</td>\n",
       "      <td>246.0</td>\n",
       "      <td>120.0</td>\n",
       "      <td>...</td>\n",
       "      <td>0.0</td>\n",
       "      <td>4.0</td>\n",
       "      <td>11.0</td>\n",
       "      <td>6.0</td>\n",
       "      <td>4.0</td>\n",
       "      <td>10.0</td>\n",
       "      <td>12.0</td>\n",
       "      <td>5.0</td>\n",
       "      <td>12.0</td>\n",
       "      <td>12.0</td>\n",
       "    </tr>\n",
       "  </tbody>\n",
       "</table>\n",
       "<p>5 rows × 1360 columns</p>\n",
       "</div>"
      ],
      "text/plain": [
       "                               AA     AC     AG     AT     CA     CC     CG  \\\n",
       "0                                                                             \n",
       ">chr10:100014631-100016631  303.0  187.0  288.0   72.0  247.0  329.0  107.0   \n",
       ">chr10:100334677-100336677  323.0  202.0  331.0  119.0  340.0  201.0   17.0   \n",
       ">chr10:100339837-100341837  320.0  201.0  328.0  122.0  342.0  201.0   18.0   \n",
       ">chr10:100344973-100346973  333.0  207.0  324.0  119.0  329.0  205.0   20.0   \n",
       ">chr10:100350094-100352094  333.0  207.0  324.0  119.0  329.0  205.0   20.0   \n",
       "\n",
       "                               CT     GA     GC  ...  TTTCG  TTTCT  TTTGA  \\\n",
       "0                                                ...                        \n",
       ">chr10:100014631-100016631  288.0  233.0  164.0  ...    1.0   16.0    3.0   \n",
       ">chr10:100334677-100336677  331.0  247.0  128.0  ...    0.0    3.0   10.0   \n",
       ">chr10:100339837-100341837  328.0  242.0  131.0  ...    0.0    3.0   10.0   \n",
       ">chr10:100344973-100346973  324.0  246.0  120.0  ...    0.0    4.0   11.0   \n",
       ">chr10:100350094-100352094  324.0  246.0  120.0  ...    0.0    4.0   11.0   \n",
       "\n",
       "                            TTTGC  TTTGG  TTTGT  TTTTA  TTTTC  TTTTG  TTTTT  \n",
       "0                                                                            \n",
       ">chr10:100014631-100016631    4.0    5.0    4.0    7.0   18.0    8.0   24.0  \n",
       ">chr10:100334677-100336677    7.0    4.0   11.0   13.0    4.0    9.0   12.0  \n",
       ">chr10:100339837-100341837    6.0    4.0   11.0   13.0    4.0   10.0   12.0  \n",
       ">chr10:100344973-100346973    6.0    4.0   10.0   12.0    5.0   12.0   12.0  \n",
       ">chr10:100350094-100352094    6.0    4.0   10.0   12.0    5.0   12.0   12.0  \n",
       "\n",
       "[5 rows x 1360 columns]"
      ]
     },
     "execution_count": 14,
     "metadata": {},
     "output_type": "execute_result"
    }
   ],
   "source": [
    "promoter_kmers.head()"
   ]
  },
  {
   "cell_type": "markdown",
   "metadata": {},
   "source": [
    "# import genes"
   ]
  },
  {
   "cell_type": "code",
   "execution_count": 15,
   "metadata": {},
   "outputs": [],
   "source": [
    "ref_path =  '/cndd2/ethan/projects/scf_paper/modeling/working_data/promoter/mm10_promoter{}.{}'\n",
    "genes=pd.read_csv(ref_path.format('', 'bed'), sep='\\t', header=None)"
   ]
  },
  {
   "cell_type": "code",
   "execution_count": 16,
   "metadata": {},
   "outputs": [],
   "source": [
    "enhs_list = pd.read_csv('/cndd2/ethan/projects/enh_gene_linkage/enhancer_sequence/data/enhancers_chromsort_center_1000.bed', sep='\\t', header=None)"
   ]
  },
  {
   "cell_type": "code",
   "execution_count": 17,
   "metadata": {},
   "outputs": [],
   "source": [
    "genes['kmer_format'] = '>' +  genes[0] + ':' + genes[1].astype(str) + '-' + genes[2].astype(str) + '\\n'"
   ]
  },
  {
   "cell_type": "code",
   "execution_count": 18,
   "metadata": {},
   "outputs": [],
   "source": [
    "enhs_list['kmer_format'] = '>' +  enhs_list[0] + ':' + enhs_list[1].astype(str) + '-' + enhs_list[2].astype(str)"
   ]
  },
  {
   "cell_type": "markdown",
   "metadata": {},
   "source": [
    "# get sig pairs"
   ]
  },
  {
   "cell_type": "code",
   "execution_count": 19,
   "metadata": {},
   "outputs": [],
   "source": [
    "import pickle\n",
    "sig_pairs = pickle.load(open('/cndd2/ethan/projects/enh_gene_linkage/epigenetic_uncorrelation/sig_pairs.pkl', 'rb'))"
   ]
  },
  {
   "cell_type": "code",
   "execution_count": 20,
   "metadata": {},
   "outputs": [],
   "source": [
    "mcg = sig_pairs['mCG']\n",
    "atac= sig_pairs['Open Chromatin']"
   ]
  },
  {
   "cell_type": "code",
   "execution_count": 21,
   "metadata": {},
   "outputs": [],
   "source": [
    "gene_mcg = []\n",
    "enh_mcg = []\n",
    "for i in mcg:\n",
    "    tmp = i.split(':')\n",
    "    gene_mcg.append(tmp[0])\n",
    "    enh_mcg.append(tmp[1])"
   ]
  },
  {
   "cell_type": "code",
   "execution_count": 22,
   "metadata": {},
   "outputs": [
    {
     "data": {
      "text/html": [
       "<div>\n",
       "<style scoped>\n",
       "    .dataframe tbody tr th:only-of-type {\n",
       "        vertical-align: middle;\n",
       "    }\n",
       "\n",
       "    .dataframe tbody tr th {\n",
       "        vertical-align: top;\n",
       "    }\n",
       "\n",
       "    .dataframe thead th {\n",
       "        text-align: right;\n",
       "    }\n",
       "</style>\n",
       "<table border=\"1\" class=\"dataframe\">\n",
       "  <thead>\n",
       "    <tr style=\"text-align: right;\">\n",
       "      <th></th>\n",
       "      <th>0</th>\n",
       "      <th>1</th>\n",
       "      <th>2</th>\n",
       "      <th>3</th>\n",
       "      <th>kmer_format</th>\n",
       "    </tr>\n",
       "  </thead>\n",
       "  <tbody>\n",
       "    <tr>\n",
       "      <th>0</th>\n",
       "      <td>chr1</td>\n",
       "      <td>3082793</td>\n",
       "      <td>3084793</td>\n",
       "      <td>NaN</td>\n",
       "      <td>&gt;chr1:3082793-3084793</td>\n",
       "    </tr>\n",
       "    <tr>\n",
       "      <th>1</th>\n",
       "      <td>chr1</td>\n",
       "      <td>3111351</td>\n",
       "      <td>3113351</td>\n",
       "      <td>NaN</td>\n",
       "      <td>&gt;chr1:3111351-3113351</td>\n",
       "    </tr>\n",
       "    <tr>\n",
       "      <th>2</th>\n",
       "      <td>chr1</td>\n",
       "      <td>3111878</td>\n",
       "      <td>3113878</td>\n",
       "      <td>NaN</td>\n",
       "      <td>&gt;chr1:3111878-3113878</td>\n",
       "    </tr>\n",
       "    <tr>\n",
       "      <th>3</th>\n",
       "      <td>chr1</td>\n",
       "      <td>3112876</td>\n",
       "      <td>3114876</td>\n",
       "      <td>NaN</td>\n",
       "      <td>&gt;chr1:3112876-3114876</td>\n",
       "    </tr>\n",
       "    <tr>\n",
       "      <th>4</th>\n",
       "      <td>chr1</td>\n",
       "      <td>3117863</td>\n",
       "      <td>3119863</td>\n",
       "      <td>NaN</td>\n",
       "      <td>&gt;chr1:3117863-3119863</td>\n",
       "    </tr>\n",
       "  </tbody>\n",
       "</table>\n",
       "</div>"
      ],
      "text/plain": [
       "      0        1        2   3            kmer_format\n",
       "0  chr1  3082793  3084793 NaN  >chr1:3082793-3084793\n",
       "1  chr1  3111351  3113351 NaN  >chr1:3111351-3113351\n",
       "2  chr1  3111878  3113878 NaN  >chr1:3111878-3113878\n",
       "3  chr1  3112876  3114876 NaN  >chr1:3112876-3114876\n",
       "4  chr1  3117863  3119863 NaN  >chr1:3117863-3119863"
      ]
     },
     "execution_count": 22,
     "metadata": {},
     "output_type": "execute_result"
    }
   ],
   "source": [
    "enhs_list.head()"
   ]
  },
  {
   "cell_type": "code",
   "execution_count": 23,
   "metadata": {},
   "outputs": [],
   "source": [
    "use_enhs = enhs_list.loc[np.array(enh_mcg).astype(int)]"
   ]
  },
  {
   "cell_type": "code",
   "execution_count": 24,
   "metadata": {},
   "outputs": [
    {
     "data": {
      "text/plain": [
       "(10696, 5)"
      ]
     },
     "execution_count": 24,
     "metadata": {},
     "output_type": "execute_result"
    }
   ],
   "source": [
    "use_enhs.shape"
   ]
  },
  {
   "cell_type": "code",
   "execution_count": 25,
   "metadata": {},
   "outputs": [
    {
     "data": {
      "text/html": [
       "<div>\n",
       "<style scoped>\n",
       "    .dataframe tbody tr th:only-of-type {\n",
       "        vertical-align: middle;\n",
       "    }\n",
       "\n",
       "    .dataframe tbody tr th {\n",
       "        vertical-align: top;\n",
       "    }\n",
       "\n",
       "    .dataframe thead th {\n",
       "        text-align: right;\n",
       "    }\n",
       "</style>\n",
       "<table border=\"1\" class=\"dataframe\">\n",
       "  <thead>\n",
       "    <tr style=\"text-align: right;\">\n",
       "      <th></th>\n",
       "      <th>0</th>\n",
       "      <th>1</th>\n",
       "      <th>2</th>\n",
       "      <th>3</th>\n",
       "      <th>kmer_format</th>\n",
       "    </tr>\n",
       "  </thead>\n",
       "  <tbody>\n",
       "    <tr>\n",
       "      <th>72066</th>\n",
       "      <td>chr14</td>\n",
       "      <td>69847359</td>\n",
       "      <td>69849359</td>\n",
       "      <td>NaN</td>\n",
       "      <td>&gt;chr14:69847359-69849359</td>\n",
       "    </tr>\n",
       "    <tr>\n",
       "      <th>97748</th>\n",
       "      <td>chr17</td>\n",
       "      <td>10364382</td>\n",
       "      <td>10366382</td>\n",
       "      <td>NaN</td>\n",
       "      <td>&gt;chr17:10364382-10366382</td>\n",
       "    </tr>\n",
       "    <tr>\n",
       "      <th>186895</th>\n",
       "      <td>chr6</td>\n",
       "      <td>73053502</td>\n",
       "      <td>73055502</td>\n",
       "      <td>NaN</td>\n",
       "      <td>&gt;chr6:73053502-73055502</td>\n",
       "    </tr>\n",
       "    <tr>\n",
       "      <th>100264</th>\n",
       "      <td>chr17</td>\n",
       "      <td>47865357</td>\n",
       "      <td>47867357</td>\n",
       "      <td>NaN</td>\n",
       "      <td>&gt;chr17:47865357-47867357</td>\n",
       "    </tr>\n",
       "    <tr>\n",
       "      <th>196198</th>\n",
       "      <td>chr7</td>\n",
       "      <td>45193674</td>\n",
       "      <td>45195674</td>\n",
       "      <td>NaN</td>\n",
       "      <td>&gt;chr7:45193674-45195674</td>\n",
       "    </tr>\n",
       "  </tbody>\n",
       "</table>\n",
       "</div>"
      ],
      "text/plain": [
       "            0         1         2   3               kmer_format\n",
       "72066   chr14  69847359  69849359 NaN  >chr14:69847359-69849359\n",
       "97748   chr17  10364382  10366382 NaN  >chr17:10364382-10366382\n",
       "186895   chr6  73053502  73055502 NaN   >chr6:73053502-73055502\n",
       "100264  chr17  47865357  47867357 NaN  >chr17:47865357-47867357\n",
       "196198   chr7  45193674  45195674 NaN   >chr7:45193674-45195674"
      ]
     },
     "execution_count": 25,
     "metadata": {},
     "output_type": "execute_result"
    }
   ],
   "source": [
    "use_enhs.head()"
   ]
  },
  {
   "cell_type": "code",
   "execution_count": 26,
   "metadata": {},
   "outputs": [],
   "source": [
    "use_enhs['paired_gene'] = gene_mcg"
   ]
  },
  {
   "cell_type": "code",
   "execution_count": 27,
   "metadata": {},
   "outputs": [
    {
     "data": {
      "text/html": [
       "<div>\n",
       "<style scoped>\n",
       "    .dataframe tbody tr th:only-of-type {\n",
       "        vertical-align: middle;\n",
       "    }\n",
       "\n",
       "    .dataframe tbody tr th {\n",
       "        vertical-align: top;\n",
       "    }\n",
       "\n",
       "    .dataframe thead th {\n",
       "        text-align: right;\n",
       "    }\n",
       "</style>\n",
       "<table border=\"1\" class=\"dataframe\">\n",
       "  <thead>\n",
       "    <tr style=\"text-align: right;\">\n",
       "      <th></th>\n",
       "      <th>0</th>\n",
       "      <th>1</th>\n",
       "      <th>2</th>\n",
       "      <th>3</th>\n",
       "      <th>kmer_format</th>\n",
       "      <th>paired_gene</th>\n",
       "    </tr>\n",
       "  </thead>\n",
       "  <tbody>\n",
       "    <tr>\n",
       "      <th>72066</th>\n",
       "      <td>chr14</td>\n",
       "      <td>69847359</td>\n",
       "      <td>69849359</td>\n",
       "      <td>NaN</td>\n",
       "      <td>&gt;chr14:69847359-69849359</td>\n",
       "      <td>ENSMUSG00000003469</td>\n",
       "    </tr>\n",
       "    <tr>\n",
       "      <th>97748</th>\n",
       "      <td>chr17</td>\n",
       "      <td>10364382</td>\n",
       "      <td>10366382</td>\n",
       "      <td>NaN</td>\n",
       "      <td>&gt;chr17:10364382-10366382</td>\n",
       "      <td>ENSMUSG00000062078</td>\n",
       "    </tr>\n",
       "    <tr>\n",
       "      <th>186895</th>\n",
       "      <td>chr6</td>\n",
       "      <td>73053502</td>\n",
       "      <td>73055502</td>\n",
       "      <td>NaN</td>\n",
       "      <td>&gt;chr6:73053502-73055502</td>\n",
       "      <td>ENSMUSG00000079523</td>\n",
       "    </tr>\n",
       "    <tr>\n",
       "      <th>100264</th>\n",
       "      <td>chr17</td>\n",
       "      <td>47865357</td>\n",
       "      <td>47867357</td>\n",
       "      <td>NaN</td>\n",
       "      <td>&gt;chr17:47865357-47867357</td>\n",
       "      <td>ENSMUSG00000023991</td>\n",
       "    </tr>\n",
       "    <tr>\n",
       "      <th>196198</th>\n",
       "      <td>chr7</td>\n",
       "      <td>45193674</td>\n",
       "      <td>45195674</td>\n",
       "      <td>NaN</td>\n",
       "      <td>&gt;chr7:45193674-45195674</td>\n",
       "      <td>ENSMUSG00000030792</td>\n",
       "    </tr>\n",
       "  </tbody>\n",
       "</table>\n",
       "</div>"
      ],
      "text/plain": [
       "            0         1         2   3               kmer_format  \\\n",
       "72066   chr14  69847359  69849359 NaN  >chr14:69847359-69849359   \n",
       "97748   chr17  10364382  10366382 NaN  >chr17:10364382-10366382   \n",
       "186895   chr6  73053502  73055502 NaN   >chr6:73053502-73055502   \n",
       "100264  chr17  47865357  47867357 NaN  >chr17:47865357-47867357   \n",
       "196198   chr7  45193674  45195674 NaN   >chr7:45193674-45195674   \n",
       "\n",
       "               paired_gene  \n",
       "72066   ENSMUSG00000003469  \n",
       "97748   ENSMUSG00000062078  \n",
       "186895  ENSMUSG00000079523  \n",
       "100264  ENSMUSG00000023991  \n",
       "196198  ENSMUSG00000030792  "
      ]
     },
     "execution_count": 27,
     "metadata": {},
     "output_type": "execute_result"
    }
   ],
   "source": [
    "use_enhs.head()"
   ]
  },
  {
   "cell_type": "code",
   "execution_count": 28,
   "metadata": {},
   "outputs": [],
   "source": [
    "my_gene_list = pd.read_csv('/cndd2/ethan/projects/enh_gene_linkage/enhancer_sequence/data/promoter_sort_center_1000.bed', sep='\\t', header=None)"
   ]
  },
  {
   "cell_type": "code",
   "execution_count": 29,
   "metadata": {},
   "outputs": [
    {
     "data": {
      "text/html": [
       "<div>\n",
       "<style scoped>\n",
       "    .dataframe tbody tr th:only-of-type {\n",
       "        vertical-align: middle;\n",
       "    }\n",
       "\n",
       "    .dataframe tbody tr th {\n",
       "        vertical-align: top;\n",
       "    }\n",
       "\n",
       "    .dataframe thead th {\n",
       "        text-align: right;\n",
       "    }\n",
       "</style>\n",
       "<table border=\"1\" class=\"dataframe\">\n",
       "  <thead>\n",
       "    <tr style=\"text-align: right;\">\n",
       "      <th></th>\n",
       "      <th>0</th>\n",
       "      <th>1</th>\n",
       "      <th>2</th>\n",
       "      <th>3</th>\n",
       "      <th>4</th>\n",
       "    </tr>\n",
       "  </thead>\n",
       "  <tbody>\n",
       "    <tr>\n",
       "      <th>0</th>\n",
       "      <td>chr1</td>\n",
       "      <td>3670499</td>\n",
       "      <td>3672499</td>\n",
       "      <td>ENSMUSG00000051951.5</td>\n",
       "      <td>Xkr4</td>\n",
       "    </tr>\n",
       "    <tr>\n",
       "      <th>1</th>\n",
       "      <td>chr1</td>\n",
       "      <td>4408242</td>\n",
       "      <td>4410242</td>\n",
       "      <td>ENSMUSG00000025900.12</td>\n",
       "      <td>Rp1</td>\n",
       "    </tr>\n",
       "    <tr>\n",
       "      <th>2</th>\n",
       "      <td>chr1</td>\n",
       "      <td>4496355</td>\n",
       "      <td>4498355</td>\n",
       "      <td>ENSMUSG00000025902.13</td>\n",
       "      <td>Sox17</td>\n",
       "    </tr>\n",
       "    <tr>\n",
       "      <th>3</th>\n",
       "      <td>chr1</td>\n",
       "      <td>4784740</td>\n",
       "      <td>4786740</td>\n",
       "      <td>ENSMUSG00000033845.13</td>\n",
       "      <td>Mrpl15</td>\n",
       "    </tr>\n",
       "    <tr>\n",
       "      <th>4</th>\n",
       "      <td>chr1</td>\n",
       "      <td>4806789</td>\n",
       "      <td>4808789</td>\n",
       "      <td>ENSMUSG00000025903.14</td>\n",
       "      <td>Lypla1</td>\n",
       "    </tr>\n",
       "  </tbody>\n",
       "</table>\n",
       "</div>"
      ],
      "text/plain": [
       "      0        1        2                      3       4\n",
       "0  chr1  3670499  3672499   ENSMUSG00000051951.5    Xkr4\n",
       "1  chr1  4408242  4410242  ENSMUSG00000025900.12     Rp1\n",
       "2  chr1  4496355  4498355  ENSMUSG00000025902.13   Sox17\n",
       "3  chr1  4784740  4786740  ENSMUSG00000033845.13  Mrpl15\n",
       "4  chr1  4806789  4808789  ENSMUSG00000025903.14  Lypla1"
      ]
     },
     "execution_count": 29,
     "metadata": {},
     "output_type": "execute_result"
    }
   ],
   "source": [
    "my_gene_list.head()"
   ]
  },
  {
   "cell_type": "code",
   "execution_count": 30,
   "metadata": {},
   "outputs": [],
   "source": [
    "my_gene_list[3] = [i.split('.')[0] for i in my_gene_list[3]]"
   ]
  },
  {
   "cell_type": "code",
   "execution_count": 31,
   "metadata": {},
   "outputs": [],
   "source": [
    "genes = my_gene_list"
   ]
  },
  {
   "cell_type": "code",
   "execution_count": 32,
   "metadata": {},
   "outputs": [],
   "source": [
    "genes['kmer_format'] = '>' +  genes[0] + ':' + genes[1].astype(str) + '-' + genes[2].astype(str)"
   ]
  },
  {
   "cell_type": "code",
   "execution_count": 33,
   "metadata": {},
   "outputs": [],
   "source": [
    "use_genes = genes.loc[genes['kmer_format'].isin(promoter_kmers.index)]"
   ]
  },
  {
   "cell_type": "code",
   "execution_count": 34,
   "metadata": {},
   "outputs": [],
   "source": [
    "use_genes = use_genes.set_index('kmer_format').loc[promoter_kmers.index]"
   ]
  },
  {
   "cell_type": "code",
   "execution_count": 35,
   "metadata": {},
   "outputs": [
    {
     "data": {
      "text/html": [
       "<div>\n",
       "<style scoped>\n",
       "    .dataframe tbody tr th:only-of-type {\n",
       "        vertical-align: middle;\n",
       "    }\n",
       "\n",
       "    .dataframe tbody tr th {\n",
       "        vertical-align: top;\n",
       "    }\n",
       "\n",
       "    .dataframe thead th {\n",
       "        text-align: right;\n",
       "    }\n",
       "</style>\n",
       "<table border=\"1\" class=\"dataframe\">\n",
       "  <thead>\n",
       "    <tr style=\"text-align: right;\">\n",
       "      <th></th>\n",
       "      <th>0</th>\n",
       "      <th>1</th>\n",
       "      <th>2</th>\n",
       "      <th>3</th>\n",
       "      <th>4</th>\n",
       "    </tr>\n",
       "    <tr>\n",
       "      <th>kmer_format</th>\n",
       "      <th></th>\n",
       "      <th></th>\n",
       "      <th></th>\n",
       "      <th></th>\n",
       "      <th></th>\n",
       "    </tr>\n",
       "  </thead>\n",
       "  <tbody>\n",
       "    <tr>\n",
       "      <th>&gt;chr10:100014631-100016631</th>\n",
       "      <td>chr10</td>\n",
       "      <td>100014631</td>\n",
       "      <td>100016631</td>\n",
       "      <td>ENSMUSG00000019966</td>\n",
       "      <td>Kitl</td>\n",
       "    </tr>\n",
       "    <tr>\n",
       "      <th>&gt;chr10:100334677-100336677</th>\n",
       "      <td>chr10</td>\n",
       "      <td>100334677</td>\n",
       "      <td>100336677</td>\n",
       "      <td>ENSMUSG00000094314</td>\n",
       "      <td>Gm4301</td>\n",
       "    </tr>\n",
       "    <tr>\n",
       "      <th>&gt;chr10:100339837-100341837</th>\n",
       "      <td>chr10</td>\n",
       "      <td>100339837</td>\n",
       "      <td>100341837</td>\n",
       "      <td>ENSMUSG00000091101</td>\n",
       "      <td>Gm4302</td>\n",
       "    </tr>\n",
       "    <tr>\n",
       "      <th>&gt;chr10:100344973-100346973</th>\n",
       "      <td>chr10</td>\n",
       "      <td>100344973</td>\n",
       "      <td>100346973</td>\n",
       "      <td>ENSMUSG00000112931</td>\n",
       "      <td>Gm4303</td>\n",
       "    </tr>\n",
       "    <tr>\n",
       "      <th>&gt;chr10:100350094-100352094</th>\n",
       "      <td>chr10</td>\n",
       "      <td>100350094</td>\n",
       "      <td>100352094</td>\n",
       "      <td>ENSMUSG00000112856</td>\n",
       "      <td>Gm4305</td>\n",
       "    </tr>\n",
       "  </tbody>\n",
       "</table>\n",
       "</div>"
      ],
      "text/plain": [
       "                                0          1          2                   3  \\\n",
       "kmer_format                                                                   \n",
       ">chr10:100014631-100016631  chr10  100014631  100016631  ENSMUSG00000019966   \n",
       ">chr10:100334677-100336677  chr10  100334677  100336677  ENSMUSG00000094314   \n",
       ">chr10:100339837-100341837  chr10  100339837  100341837  ENSMUSG00000091101   \n",
       ">chr10:100344973-100346973  chr10  100344973  100346973  ENSMUSG00000112931   \n",
       ">chr10:100350094-100352094  chr10  100350094  100352094  ENSMUSG00000112856   \n",
       "\n",
       "                                 4  \n",
       "kmer_format                         \n",
       ">chr10:100014631-100016631    Kitl  \n",
       ">chr10:100334677-100336677  Gm4301  \n",
       ">chr10:100339837-100341837  Gm4302  \n",
       ">chr10:100344973-100346973  Gm4303  \n",
       ">chr10:100350094-100352094  Gm4305  "
      ]
     },
     "execution_count": 35,
     "metadata": {},
     "output_type": "execute_result"
    }
   ],
   "source": [
    "use_genes.head()"
   ]
  },
  {
   "cell_type": "code",
   "execution_count": 36,
   "metadata": {},
   "outputs": [
    {
     "data": {
      "text/plain": [
       "(21767, 5)"
      ]
     },
     "execution_count": 36,
     "metadata": {},
     "output_type": "execute_result"
    }
   ],
   "source": [
    "use_genes.shape"
   ]
  },
  {
   "cell_type": "code",
   "execution_count": 37,
   "metadata": {},
   "outputs": [
    {
     "data": {
      "text/plain": [
       "(21755, 1360)"
      ]
     },
     "execution_count": 37,
     "metadata": {},
     "output_type": "execute_result"
    }
   ],
   "source": [
    "promoter_kmers.shape"
   ]
  },
  {
   "cell_type": "code",
   "execution_count": 38,
   "metadata": {},
   "outputs": [
    {
     "data": {
      "text/plain": [
       "21767"
      ]
     },
     "execution_count": 38,
     "metadata": {},
     "output_type": "execute_result"
    }
   ],
   "source": [
    "np.sum(use_genes.index.isin(promoter_kmers.index))"
   ]
  },
  {
   "cell_type": "code",
   "execution_count": 39,
   "metadata": {},
   "outputs": [],
   "source": [
    "use_genes = use_genes[~use_genes.index.duplicated()]"
   ]
  },
  {
   "cell_type": "code",
   "execution_count": 40,
   "metadata": {},
   "outputs": [],
   "source": [
    "promoter_kmers['gene'] = use_genes[3].values"
   ]
  },
  {
   "cell_type": "code",
   "execution_count": 41,
   "metadata": {},
   "outputs": [
    {
     "data": {
      "text/html": [
       "<div>\n",
       "<style scoped>\n",
       "    .dataframe tbody tr th:only-of-type {\n",
       "        vertical-align: middle;\n",
       "    }\n",
       "\n",
       "    .dataframe tbody tr th {\n",
       "        vertical-align: top;\n",
       "    }\n",
       "\n",
       "    .dataframe thead th {\n",
       "        text-align: right;\n",
       "    }\n",
       "</style>\n",
       "<table border=\"1\" class=\"dataframe\">\n",
       "  <thead>\n",
       "    <tr style=\"text-align: right;\">\n",
       "      <th></th>\n",
       "      <th>AA</th>\n",
       "      <th>AC</th>\n",
       "      <th>AG</th>\n",
       "      <th>AT</th>\n",
       "      <th>CA</th>\n",
       "      <th>CC</th>\n",
       "      <th>CG</th>\n",
       "      <th>CT</th>\n",
       "      <th>GA</th>\n",
       "      <th>GC</th>\n",
       "      <th>...</th>\n",
       "      <th>TTTCT</th>\n",
       "      <th>TTTGA</th>\n",
       "      <th>TTTGC</th>\n",
       "      <th>TTTGG</th>\n",
       "      <th>TTTGT</th>\n",
       "      <th>TTTTA</th>\n",
       "      <th>TTTTC</th>\n",
       "      <th>TTTTG</th>\n",
       "      <th>TTTTT</th>\n",
       "      <th>gene</th>\n",
       "    </tr>\n",
       "    <tr>\n",
       "      <th>0</th>\n",
       "      <th></th>\n",
       "      <th></th>\n",
       "      <th></th>\n",
       "      <th></th>\n",
       "      <th></th>\n",
       "      <th></th>\n",
       "      <th></th>\n",
       "      <th></th>\n",
       "      <th></th>\n",
       "      <th></th>\n",
       "      <th></th>\n",
       "      <th></th>\n",
       "      <th></th>\n",
       "      <th></th>\n",
       "      <th></th>\n",
       "      <th></th>\n",
       "      <th></th>\n",
       "      <th></th>\n",
       "      <th></th>\n",
       "      <th></th>\n",
       "      <th></th>\n",
       "    </tr>\n",
       "  </thead>\n",
       "  <tbody>\n",
       "    <tr>\n",
       "      <th>&gt;chr10:100014631-100016631</th>\n",
       "      <td>303.0</td>\n",
       "      <td>187.0</td>\n",
       "      <td>288.0</td>\n",
       "      <td>72.0</td>\n",
       "      <td>247.0</td>\n",
       "      <td>329.0</td>\n",
       "      <td>107.0</td>\n",
       "      <td>288.0</td>\n",
       "      <td>233.0</td>\n",
       "      <td>164.0</td>\n",
       "      <td>...</td>\n",
       "      <td>16.0</td>\n",
       "      <td>3.0</td>\n",
       "      <td>4.0</td>\n",
       "      <td>5.0</td>\n",
       "      <td>4.0</td>\n",
       "      <td>7.0</td>\n",
       "      <td>18.0</td>\n",
       "      <td>8.0</td>\n",
       "      <td>24.0</td>\n",
       "      <td>ENSMUSG00000019966</td>\n",
       "    </tr>\n",
       "    <tr>\n",
       "      <th>&gt;chr10:100334677-100336677</th>\n",
       "      <td>323.0</td>\n",
       "      <td>202.0</td>\n",
       "      <td>331.0</td>\n",
       "      <td>119.0</td>\n",
       "      <td>340.0</td>\n",
       "      <td>201.0</td>\n",
       "      <td>17.0</td>\n",
       "      <td>331.0</td>\n",
       "      <td>247.0</td>\n",
       "      <td>128.0</td>\n",
       "      <td>...</td>\n",
       "      <td>3.0</td>\n",
       "      <td>10.0</td>\n",
       "      <td>7.0</td>\n",
       "      <td>4.0</td>\n",
       "      <td>11.0</td>\n",
       "      <td>13.0</td>\n",
       "      <td>4.0</td>\n",
       "      <td>9.0</td>\n",
       "      <td>12.0</td>\n",
       "      <td>ENSMUSG00000094314</td>\n",
       "    </tr>\n",
       "    <tr>\n",
       "      <th>&gt;chr10:100339837-100341837</th>\n",
       "      <td>320.0</td>\n",
       "      <td>201.0</td>\n",
       "      <td>328.0</td>\n",
       "      <td>122.0</td>\n",
       "      <td>342.0</td>\n",
       "      <td>201.0</td>\n",
       "      <td>18.0</td>\n",
       "      <td>328.0</td>\n",
       "      <td>242.0</td>\n",
       "      <td>131.0</td>\n",
       "      <td>...</td>\n",
       "      <td>3.0</td>\n",
       "      <td>10.0</td>\n",
       "      <td>6.0</td>\n",
       "      <td>4.0</td>\n",
       "      <td>11.0</td>\n",
       "      <td>13.0</td>\n",
       "      <td>4.0</td>\n",
       "      <td>10.0</td>\n",
       "      <td>12.0</td>\n",
       "      <td>ENSMUSG00000091101</td>\n",
       "    </tr>\n",
       "    <tr>\n",
       "      <th>&gt;chr10:100344973-100346973</th>\n",
       "      <td>333.0</td>\n",
       "      <td>207.0</td>\n",
       "      <td>324.0</td>\n",
       "      <td>119.0</td>\n",
       "      <td>329.0</td>\n",
       "      <td>205.0</td>\n",
       "      <td>20.0</td>\n",
       "      <td>324.0</td>\n",
       "      <td>246.0</td>\n",
       "      <td>120.0</td>\n",
       "      <td>...</td>\n",
       "      <td>4.0</td>\n",
       "      <td>11.0</td>\n",
       "      <td>6.0</td>\n",
       "      <td>4.0</td>\n",
       "      <td>10.0</td>\n",
       "      <td>12.0</td>\n",
       "      <td>5.0</td>\n",
       "      <td>12.0</td>\n",
       "      <td>12.0</td>\n",
       "      <td>ENSMUSG00000112931</td>\n",
       "    </tr>\n",
       "    <tr>\n",
       "      <th>&gt;chr10:100350094-100352094</th>\n",
       "      <td>333.0</td>\n",
       "      <td>207.0</td>\n",
       "      <td>324.0</td>\n",
       "      <td>119.0</td>\n",
       "      <td>329.0</td>\n",
       "      <td>205.0</td>\n",
       "      <td>20.0</td>\n",
       "      <td>324.0</td>\n",
       "      <td>246.0</td>\n",
       "      <td>120.0</td>\n",
       "      <td>...</td>\n",
       "      <td>4.0</td>\n",
       "      <td>11.0</td>\n",
       "      <td>6.0</td>\n",
       "      <td>4.0</td>\n",
       "      <td>10.0</td>\n",
       "      <td>12.0</td>\n",
       "      <td>5.0</td>\n",
       "      <td>12.0</td>\n",
       "      <td>12.0</td>\n",
       "      <td>ENSMUSG00000112856</td>\n",
       "    </tr>\n",
       "  </tbody>\n",
       "</table>\n",
       "<p>5 rows × 1361 columns</p>\n",
       "</div>"
      ],
      "text/plain": [
       "                               AA     AC     AG     AT     CA     CC     CG  \\\n",
       "0                                                                             \n",
       ">chr10:100014631-100016631  303.0  187.0  288.0   72.0  247.0  329.0  107.0   \n",
       ">chr10:100334677-100336677  323.0  202.0  331.0  119.0  340.0  201.0   17.0   \n",
       ">chr10:100339837-100341837  320.0  201.0  328.0  122.0  342.0  201.0   18.0   \n",
       ">chr10:100344973-100346973  333.0  207.0  324.0  119.0  329.0  205.0   20.0   \n",
       ">chr10:100350094-100352094  333.0  207.0  324.0  119.0  329.0  205.0   20.0   \n",
       "\n",
       "                               CT     GA     GC  ...  TTTCT  TTTGA  TTTGC  \\\n",
       "0                                                ...                        \n",
       ">chr10:100014631-100016631  288.0  233.0  164.0  ...   16.0    3.0    4.0   \n",
       ">chr10:100334677-100336677  331.0  247.0  128.0  ...    3.0   10.0    7.0   \n",
       ">chr10:100339837-100341837  328.0  242.0  131.0  ...    3.0   10.0    6.0   \n",
       ">chr10:100344973-100346973  324.0  246.0  120.0  ...    4.0   11.0    6.0   \n",
       ">chr10:100350094-100352094  324.0  246.0  120.0  ...    4.0   11.0    6.0   \n",
       "\n",
       "                            TTTGG  TTTGT  TTTTA  TTTTC  TTTTG  TTTTT  \\\n",
       "0                                                                      \n",
       ">chr10:100014631-100016631    5.0    4.0    7.0   18.0    8.0   24.0   \n",
       ">chr10:100334677-100336677    4.0   11.0   13.0    4.0    9.0   12.0   \n",
       ">chr10:100339837-100341837    4.0   11.0   13.0    4.0   10.0   12.0   \n",
       ">chr10:100344973-100346973    4.0   10.0   12.0    5.0   12.0   12.0   \n",
       ">chr10:100350094-100352094    4.0   10.0   12.0    5.0   12.0   12.0   \n",
       "\n",
       "                                          gene  \n",
       "0                                               \n",
       ">chr10:100014631-100016631  ENSMUSG00000019966  \n",
       ">chr10:100334677-100336677  ENSMUSG00000094314  \n",
       ">chr10:100339837-100341837  ENSMUSG00000091101  \n",
       ">chr10:100344973-100346973  ENSMUSG00000112931  \n",
       ">chr10:100350094-100352094  ENSMUSG00000112856  \n",
       "\n",
       "[5 rows x 1361 columns]"
      ]
     },
     "execution_count": 41,
     "metadata": {},
     "output_type": "execute_result"
    }
   ],
   "source": [
    "promoter_kmers.head()"
   ]
  },
  {
   "cell_type": "code",
   "execution_count": 42,
   "metadata": {},
   "outputs": [
    {
     "data": {
      "text/html": [
       "<div>\n",
       "<style scoped>\n",
       "    .dataframe tbody tr th:only-of-type {\n",
       "        vertical-align: middle;\n",
       "    }\n",
       "\n",
       "    .dataframe tbody tr th {\n",
       "        vertical-align: top;\n",
       "    }\n",
       "\n",
       "    .dataframe thead th {\n",
       "        text-align: right;\n",
       "    }\n",
       "</style>\n",
       "<table border=\"1\" class=\"dataframe\">\n",
       "  <thead>\n",
       "    <tr style=\"text-align: right;\">\n",
       "      <th></th>\n",
       "      <th>AA</th>\n",
       "      <th>AC</th>\n",
       "      <th>AG</th>\n",
       "      <th>AT</th>\n",
       "      <th>CA</th>\n",
       "      <th>CC</th>\n",
       "      <th>CG</th>\n",
       "      <th>CT</th>\n",
       "      <th>GA</th>\n",
       "      <th>GC</th>\n",
       "      <th>...</th>\n",
       "      <th>TTTCG</th>\n",
       "      <th>TTTCT</th>\n",
       "      <th>TTTGA</th>\n",
       "      <th>TTTGC</th>\n",
       "      <th>TTTGG</th>\n",
       "      <th>TTTGT</th>\n",
       "      <th>TTTTA</th>\n",
       "      <th>TTTTC</th>\n",
       "      <th>TTTTG</th>\n",
       "      <th>TTTTT</th>\n",
       "    </tr>\n",
       "    <tr>\n",
       "      <th>0</th>\n",
       "      <th></th>\n",
       "      <th></th>\n",
       "      <th></th>\n",
       "      <th></th>\n",
       "      <th></th>\n",
       "      <th></th>\n",
       "      <th></th>\n",
       "      <th></th>\n",
       "      <th></th>\n",
       "      <th></th>\n",
       "      <th></th>\n",
       "      <th></th>\n",
       "      <th></th>\n",
       "      <th></th>\n",
       "      <th></th>\n",
       "      <th></th>\n",
       "      <th></th>\n",
       "      <th></th>\n",
       "      <th></th>\n",
       "      <th></th>\n",
       "      <th></th>\n",
       "    </tr>\n",
       "  </thead>\n",
       "  <tbody>\n",
       "    <tr>\n",
       "      <th>&gt;chr10:100009350-100011350</th>\n",
       "      <td>335</td>\n",
       "      <td>246</td>\n",
       "      <td>281</td>\n",
       "      <td>131</td>\n",
       "      <td>327</td>\n",
       "      <td>194</td>\n",
       "      <td>37</td>\n",
       "      <td>281</td>\n",
       "      <td>225</td>\n",
       "      <td>105</td>\n",
       "      <td>...</td>\n",
       "      <td>1.0</td>\n",
       "      <td>5.0</td>\n",
       "      <td>6.0</td>\n",
       "      <td>11.0</td>\n",
       "      <td>5.0</td>\n",
       "      <td>7.0</td>\n",
       "      <td>7.0</td>\n",
       "      <td>6.0</td>\n",
       "      <td>9.0</td>\n",
       "      <td>19.0</td>\n",
       "    </tr>\n",
       "    <tr>\n",
       "      <th>&gt;chr10:100018062-100020062</th>\n",
       "      <td>447</td>\n",
       "      <td>208</td>\n",
       "      <td>269</td>\n",
       "      <td>141</td>\n",
       "      <td>280</td>\n",
       "      <td>193</td>\n",
       "      <td>26</td>\n",
       "      <td>269</td>\n",
       "      <td>231</td>\n",
       "      <td>80</td>\n",
       "      <td>...</td>\n",
       "      <td>1.0</td>\n",
       "      <td>13.0</td>\n",
       "      <td>10.0</td>\n",
       "      <td>7.0</td>\n",
       "      <td>6.0</td>\n",
       "      <td>12.0</td>\n",
       "      <td>17.0</td>\n",
       "      <td>12.0</td>\n",
       "      <td>9.0</td>\n",
       "      <td>46.0</td>\n",
       "    </tr>\n",
       "    <tr>\n",
       "      <th>&gt;chr10:100018734-100020734</th>\n",
       "      <td>404</td>\n",
       "      <td>229</td>\n",
       "      <td>300</td>\n",
       "      <td>116</td>\n",
       "      <td>284</td>\n",
       "      <td>189</td>\n",
       "      <td>31</td>\n",
       "      <td>300</td>\n",
       "      <td>247</td>\n",
       "      <td>85</td>\n",
       "      <td>...</td>\n",
       "      <td>2.0</td>\n",
       "      <td>13.0</td>\n",
       "      <td>6.0</td>\n",
       "      <td>4.0</td>\n",
       "      <td>8.0</td>\n",
       "      <td>12.0</td>\n",
       "      <td>13.0</td>\n",
       "      <td>9.0</td>\n",
       "      <td>5.0</td>\n",
       "      <td>44.0</td>\n",
       "    </tr>\n",
       "    <tr>\n",
       "      <th>&gt;chr10:100019262-100021262</th>\n",
       "      <td>419</td>\n",
       "      <td>232</td>\n",
       "      <td>289</td>\n",
       "      <td>107</td>\n",
       "      <td>289</td>\n",
       "      <td>205</td>\n",
       "      <td>31</td>\n",
       "      <td>289</td>\n",
       "      <td>242</td>\n",
       "      <td>83</td>\n",
       "      <td>...</td>\n",
       "      <td>3.0</td>\n",
       "      <td>11.0</td>\n",
       "      <td>6.0</td>\n",
       "      <td>5.0</td>\n",
       "      <td>10.0</td>\n",
       "      <td>21.0</td>\n",
       "      <td>8.0</td>\n",
       "      <td>10.0</td>\n",
       "      <td>13.0</td>\n",
       "      <td>34.0</td>\n",
       "    </tr>\n",
       "    <tr>\n",
       "      <th>&gt;chr10:100021578-100023578</th>\n",
       "      <td>275</td>\n",
       "      <td>236</td>\n",
       "      <td>323</td>\n",
       "      <td>96</td>\n",
       "      <td>339</td>\n",
       "      <td>265</td>\n",
       "      <td>23</td>\n",
       "      <td>323</td>\n",
       "      <td>250</td>\n",
       "      <td>111</td>\n",
       "      <td>...</td>\n",
       "      <td>1.0</td>\n",
       "      <td>9.0</td>\n",
       "      <td>4.0</td>\n",
       "      <td>9.0</td>\n",
       "      <td>3.0</td>\n",
       "      <td>10.0</td>\n",
       "      <td>2.0</td>\n",
       "      <td>7.0</td>\n",
       "      <td>9.0</td>\n",
       "      <td>7.0</td>\n",
       "    </tr>\n",
       "  </tbody>\n",
       "</table>\n",
       "<p>5 rows × 1360 columns</p>\n",
       "</div>"
      ],
      "text/plain": [
       "                             AA   AC   AG   AT   CA   CC  CG   CT   GA   GC  \\\n",
       "0                                                                             \n",
       ">chr10:100009350-100011350  335  246  281  131  327  194  37  281  225  105   \n",
       ">chr10:100018062-100020062  447  208  269  141  280  193  26  269  231   80   \n",
       ">chr10:100018734-100020734  404  229  300  116  284  189  31  300  247   85   \n",
       ">chr10:100019262-100021262  419  232  289  107  289  205  31  289  242   83   \n",
       ">chr10:100021578-100023578  275  236  323   96  339  265  23  323  250  111   \n",
       "\n",
       "                            ...  TTTCG  TTTCT  TTTGA  TTTGC  TTTGG  TTTGT  \\\n",
       "0                           ...                                             \n",
       ">chr10:100009350-100011350  ...    1.0    5.0    6.0   11.0    5.0    7.0   \n",
       ">chr10:100018062-100020062  ...    1.0   13.0   10.0    7.0    6.0   12.0   \n",
       ">chr10:100018734-100020734  ...    2.0   13.0    6.0    4.0    8.0   12.0   \n",
       ">chr10:100019262-100021262  ...    3.0   11.0    6.0    5.0   10.0   21.0   \n",
       ">chr10:100021578-100023578  ...    1.0    9.0    4.0    9.0    3.0   10.0   \n",
       "\n",
       "                            TTTTA  TTTTC  TTTTG  TTTTT  \n",
       "0                                                       \n",
       ">chr10:100009350-100011350    7.0    6.0    9.0   19.0  \n",
       ">chr10:100018062-100020062   17.0   12.0    9.0   46.0  \n",
       ">chr10:100018734-100020734   13.0    9.0    5.0   44.0  \n",
       ">chr10:100019262-100021262    8.0   10.0   13.0   34.0  \n",
       ">chr10:100021578-100023578    2.0    7.0    9.0    7.0  \n",
       "\n",
       "[5 rows x 1360 columns]"
      ]
     },
     "execution_count": 42,
     "metadata": {},
     "output_type": "execute_result"
    }
   ],
   "source": [
    "enhancer_kmers.head()"
   ]
  },
  {
   "cell_type": "code",
   "execution_count": 43,
   "metadata": {},
   "outputs": [
    {
     "data": {
      "text/html": [
       "<div>\n",
       "<style scoped>\n",
       "    .dataframe tbody tr th:only-of-type {\n",
       "        vertical-align: middle;\n",
       "    }\n",
       "\n",
       "    .dataframe tbody tr th {\n",
       "        vertical-align: top;\n",
       "    }\n",
       "\n",
       "    .dataframe thead th {\n",
       "        text-align: right;\n",
       "    }\n",
       "</style>\n",
       "<table border=\"1\" class=\"dataframe\">\n",
       "  <thead>\n",
       "    <tr style=\"text-align: right;\">\n",
       "      <th></th>\n",
       "      <th>0</th>\n",
       "      <th>1</th>\n",
       "      <th>2</th>\n",
       "      <th>3</th>\n",
       "      <th>kmer_format</th>\n",
       "      <th>paired_gene</th>\n",
       "    </tr>\n",
       "  </thead>\n",
       "  <tbody>\n",
       "    <tr>\n",
       "      <th>72066</th>\n",
       "      <td>chr14</td>\n",
       "      <td>69847359</td>\n",
       "      <td>69849359</td>\n",
       "      <td>NaN</td>\n",
       "      <td>&gt;chr14:69847359-69849359</td>\n",
       "      <td>ENSMUSG00000003469</td>\n",
       "    </tr>\n",
       "    <tr>\n",
       "      <th>97748</th>\n",
       "      <td>chr17</td>\n",
       "      <td>10364382</td>\n",
       "      <td>10366382</td>\n",
       "      <td>NaN</td>\n",
       "      <td>&gt;chr17:10364382-10366382</td>\n",
       "      <td>ENSMUSG00000062078</td>\n",
       "    </tr>\n",
       "    <tr>\n",
       "      <th>186895</th>\n",
       "      <td>chr6</td>\n",
       "      <td>73053502</td>\n",
       "      <td>73055502</td>\n",
       "      <td>NaN</td>\n",
       "      <td>&gt;chr6:73053502-73055502</td>\n",
       "      <td>ENSMUSG00000079523</td>\n",
       "    </tr>\n",
       "    <tr>\n",
       "      <th>100264</th>\n",
       "      <td>chr17</td>\n",
       "      <td>47865357</td>\n",
       "      <td>47867357</td>\n",
       "      <td>NaN</td>\n",
       "      <td>&gt;chr17:47865357-47867357</td>\n",
       "      <td>ENSMUSG00000023991</td>\n",
       "    </tr>\n",
       "    <tr>\n",
       "      <th>196198</th>\n",
       "      <td>chr7</td>\n",
       "      <td>45193674</td>\n",
       "      <td>45195674</td>\n",
       "      <td>NaN</td>\n",
       "      <td>&gt;chr7:45193674-45195674</td>\n",
       "      <td>ENSMUSG00000030792</td>\n",
       "    </tr>\n",
       "  </tbody>\n",
       "</table>\n",
       "</div>"
      ],
      "text/plain": [
       "            0         1         2   3               kmer_format  \\\n",
       "72066   chr14  69847359  69849359 NaN  >chr14:69847359-69849359   \n",
       "97748   chr17  10364382  10366382 NaN  >chr17:10364382-10366382   \n",
       "186895   chr6  73053502  73055502 NaN   >chr6:73053502-73055502   \n",
       "100264  chr17  47865357  47867357 NaN  >chr17:47865357-47867357   \n",
       "196198   chr7  45193674  45195674 NaN   >chr7:45193674-45195674   \n",
       "\n",
       "               paired_gene  \n",
       "72066   ENSMUSG00000003469  \n",
       "97748   ENSMUSG00000062078  \n",
       "186895  ENSMUSG00000079523  \n",
       "100264  ENSMUSG00000023991  \n",
       "196198  ENSMUSG00000030792  "
      ]
     },
     "execution_count": 43,
     "metadata": {},
     "output_type": "execute_result"
    }
   ],
   "source": [
    "use_enhs.head()"
   ]
  },
  {
   "cell_type": "code",
   "execution_count": 44,
   "metadata": {},
   "outputs": [],
   "source": [
    "use_kmer_enhs = enhancer_kmers.loc[use_enhs.kmer_format]"
   ]
  },
  {
   "cell_type": "code",
   "execution_count": 45,
   "metadata": {},
   "outputs": [
    {
     "data": {
      "text/plain": [
       "(10696, 1360)"
      ]
     },
     "execution_count": 45,
     "metadata": {},
     "output_type": "execute_result"
    }
   ],
   "source": [
    "use_kmer_enhs.shape"
   ]
  },
  {
   "cell_type": "code",
   "execution_count": 46,
   "metadata": {},
   "outputs": [
    {
     "data": {
      "text/plain": [
       "(10696, 6)"
      ]
     },
     "execution_count": 46,
     "metadata": {},
     "output_type": "execute_result"
    }
   ],
   "source": [
    "use_enhs.shape"
   ]
  },
  {
   "cell_type": "code",
   "execution_count": 47,
   "metadata": {},
   "outputs": [],
   "source": [
    "use_kmer_enhs['paired_gene'] = use_enhs['paired_gene'].values"
   ]
  },
  {
   "cell_type": "code",
   "execution_count": 48,
   "metadata": {},
   "outputs": [
    {
     "data": {
      "text/html": [
       "<div>\n",
       "<style scoped>\n",
       "    .dataframe tbody tr th:only-of-type {\n",
       "        vertical-align: middle;\n",
       "    }\n",
       "\n",
       "    .dataframe tbody tr th {\n",
       "        vertical-align: top;\n",
       "    }\n",
       "\n",
       "    .dataframe thead th {\n",
       "        text-align: right;\n",
       "    }\n",
       "</style>\n",
       "<table border=\"1\" class=\"dataframe\">\n",
       "  <thead>\n",
       "    <tr style=\"text-align: right;\">\n",
       "      <th></th>\n",
       "      <th>AA</th>\n",
       "      <th>AC</th>\n",
       "      <th>AG</th>\n",
       "      <th>AT</th>\n",
       "      <th>CA</th>\n",
       "      <th>CC</th>\n",
       "      <th>CG</th>\n",
       "      <th>CT</th>\n",
       "      <th>GA</th>\n",
       "      <th>GC</th>\n",
       "      <th>...</th>\n",
       "      <th>TTTCT</th>\n",
       "      <th>TTTGA</th>\n",
       "      <th>TTTGC</th>\n",
       "      <th>TTTGG</th>\n",
       "      <th>TTTGT</th>\n",
       "      <th>TTTTA</th>\n",
       "      <th>TTTTC</th>\n",
       "      <th>TTTTG</th>\n",
       "      <th>TTTTT</th>\n",
       "      <th>paired_gene</th>\n",
       "    </tr>\n",
       "    <tr>\n",
       "      <th>0</th>\n",
       "      <th></th>\n",
       "      <th></th>\n",
       "      <th></th>\n",
       "      <th></th>\n",
       "      <th></th>\n",
       "      <th></th>\n",
       "      <th></th>\n",
       "      <th></th>\n",
       "      <th></th>\n",
       "      <th></th>\n",
       "      <th></th>\n",
       "      <th></th>\n",
       "      <th></th>\n",
       "      <th></th>\n",
       "      <th></th>\n",
       "      <th></th>\n",
       "      <th></th>\n",
       "      <th></th>\n",
       "      <th></th>\n",
       "      <th></th>\n",
       "      <th></th>\n",
       "    </tr>\n",
       "  </thead>\n",
       "  <tbody>\n",
       "    <tr>\n",
       "      <th>&gt;chr14:69847359-69849359</th>\n",
       "      <td>254</td>\n",
       "      <td>203</td>\n",
       "      <td>326</td>\n",
       "      <td>84</td>\n",
       "      <td>299</td>\n",
       "      <td>355</td>\n",
       "      <td>34</td>\n",
       "      <td>326</td>\n",
       "      <td>254</td>\n",
       "      <td>118</td>\n",
       "      <td>...</td>\n",
       "      <td>12.0</td>\n",
       "      <td>1.0</td>\n",
       "      <td>6.0</td>\n",
       "      <td>6.0</td>\n",
       "      <td>7.0</td>\n",
       "      <td>3.0</td>\n",
       "      <td>7.0</td>\n",
       "      <td>7.0</td>\n",
       "      <td>8.0</td>\n",
       "      <td>ENSMUSG00000003469</td>\n",
       "    </tr>\n",
       "    <tr>\n",
       "      <th>&gt;chr17:10364382-10366382</th>\n",
       "      <td>297</td>\n",
       "      <td>207</td>\n",
       "      <td>299</td>\n",
       "      <td>102</td>\n",
       "      <td>294</td>\n",
       "      <td>343</td>\n",
       "      <td>28</td>\n",
       "      <td>299</td>\n",
       "      <td>227</td>\n",
       "      <td>107</td>\n",
       "      <td>...</td>\n",
       "      <td>7.0</td>\n",
       "      <td>6.0</td>\n",
       "      <td>5.0</td>\n",
       "      <td>4.0</td>\n",
       "      <td>5.0</td>\n",
       "      <td>6.0</td>\n",
       "      <td>10.0</td>\n",
       "      <td>5.0</td>\n",
       "      <td>11.0</td>\n",
       "      <td>ENSMUSG00000062078</td>\n",
       "    </tr>\n",
       "    <tr>\n",
       "      <th>&gt;chr6:73053502-73055502</th>\n",
       "      <td>322</td>\n",
       "      <td>226</td>\n",
       "      <td>285</td>\n",
       "      <td>131</td>\n",
       "      <td>327</td>\n",
       "      <td>233</td>\n",
       "      <td>30</td>\n",
       "      <td>285</td>\n",
       "      <td>243</td>\n",
       "      <td>101</td>\n",
       "      <td>...</td>\n",
       "      <td>6.0</td>\n",
       "      <td>5.0</td>\n",
       "      <td>5.0</td>\n",
       "      <td>2.0</td>\n",
       "      <td>6.0</td>\n",
       "      <td>13.0</td>\n",
       "      <td>3.0</td>\n",
       "      <td>7.0</td>\n",
       "      <td>26.0</td>\n",
       "      <td>ENSMUSG00000079523</td>\n",
       "    </tr>\n",
       "    <tr>\n",
       "      <th>&gt;chr17:47865357-47867357</th>\n",
       "      <td>224</td>\n",
       "      <td>219</td>\n",
       "      <td>329</td>\n",
       "      <td>89</td>\n",
       "      <td>321</td>\n",
       "      <td>340</td>\n",
       "      <td>30</td>\n",
       "      <td>329</td>\n",
       "      <td>238</td>\n",
       "      <td>126</td>\n",
       "      <td>...</td>\n",
       "      <td>8.0</td>\n",
       "      <td>2.0</td>\n",
       "      <td>6.0</td>\n",
       "      <td>4.0</td>\n",
       "      <td>10.0</td>\n",
       "      <td>2.0</td>\n",
       "      <td>2.0</td>\n",
       "      <td>7.0</td>\n",
       "      <td>7.0</td>\n",
       "      <td>ENSMUSG00000023991</td>\n",
       "    </tr>\n",
       "    <tr>\n",
       "      <th>&gt;chr7:45193674-45195674</th>\n",
       "      <td>183</td>\n",
       "      <td>206</td>\n",
       "      <td>387</td>\n",
       "      <td>51</td>\n",
       "      <td>298</td>\n",
       "      <td>383</td>\n",
       "      <td>27</td>\n",
       "      <td>387</td>\n",
       "      <td>254</td>\n",
       "      <td>139</td>\n",
       "      <td>...</td>\n",
       "      <td>7.0</td>\n",
       "      <td>2.0</td>\n",
       "      <td>3.0</td>\n",
       "      <td>5.0</td>\n",
       "      <td>7.0</td>\n",
       "      <td>1.0</td>\n",
       "      <td>3.0</td>\n",
       "      <td>4.0</td>\n",
       "      <td>3.0</td>\n",
       "      <td>ENSMUSG00000030792</td>\n",
       "    </tr>\n",
       "  </tbody>\n",
       "</table>\n",
       "<p>5 rows × 1361 columns</p>\n",
       "</div>"
      ],
      "text/plain": [
       "                           AA   AC   AG   AT   CA   CC  CG   CT   GA   GC  \\\n",
       "0                                                                           \n",
       ">chr14:69847359-69849359  254  203  326   84  299  355  34  326  254  118   \n",
       ">chr17:10364382-10366382  297  207  299  102  294  343  28  299  227  107   \n",
       ">chr6:73053502-73055502   322  226  285  131  327  233  30  285  243  101   \n",
       ">chr17:47865357-47867357  224  219  329   89  321  340  30  329  238  126   \n",
       ">chr7:45193674-45195674   183  206  387   51  298  383  27  387  254  139   \n",
       "\n",
       "                          ...  TTTCT  TTTGA  TTTGC  TTTGG  TTTGT  TTTTA  \\\n",
       "0                         ...                                             \n",
       ">chr14:69847359-69849359  ...   12.0    1.0    6.0    6.0    7.0    3.0   \n",
       ">chr17:10364382-10366382  ...    7.0    6.0    5.0    4.0    5.0    6.0   \n",
       ">chr6:73053502-73055502   ...    6.0    5.0    5.0    2.0    6.0   13.0   \n",
       ">chr17:47865357-47867357  ...    8.0    2.0    6.0    4.0   10.0    2.0   \n",
       ">chr7:45193674-45195674   ...    7.0    2.0    3.0    5.0    7.0    1.0   \n",
       "\n",
       "                          TTTTC  TTTTG  TTTTT         paired_gene  \n",
       "0                                                                  \n",
       ">chr14:69847359-69849359    7.0    7.0    8.0  ENSMUSG00000003469  \n",
       ">chr17:10364382-10366382   10.0    5.0   11.0  ENSMUSG00000062078  \n",
       ">chr6:73053502-73055502     3.0    7.0   26.0  ENSMUSG00000079523  \n",
       ">chr17:47865357-47867357    2.0    7.0    7.0  ENSMUSG00000023991  \n",
       ">chr7:45193674-45195674     3.0    4.0    3.0  ENSMUSG00000030792  \n",
       "\n",
       "[5 rows x 1361 columns]"
      ]
     },
     "execution_count": 48,
     "metadata": {},
     "output_type": "execute_result"
    }
   ],
   "source": [
    "use_kmer_enhs.head()"
   ]
  },
  {
   "cell_type": "code",
   "execution_count": 53,
   "metadata": {},
   "outputs": [],
   "source": [
    "f = os.path.join(OUTDIR, 'enhancer_kmers_concat_2kb.tsv')\n",
    "use_kmer_enhs.to_csv(f, sep='\\t')"
   ]
  },
  {
   "cell_type": "code",
   "execution_count": 54,
   "metadata": {},
   "outputs": [],
   "source": [
    "promoter_kmers = promoter_kmers.set_index('gene')"
   ]
  },
  {
   "cell_type": "code",
   "execution_count": 55,
   "metadata": {},
   "outputs": [
    {
     "name": "stderr",
     "output_type": "stream",
     "text": [
      "/cndd/fangming/venvs/conda_dobro/lib/python3.6/site-packages/ipykernel_launcher.py:1: FutureWarning: \n",
      "Passing list-likes to .loc or [] with any missing label will raise\n",
      "KeyError in the future, you can use .reindex() as an alternative.\n",
      "\n",
      "See the documentation here:\n",
      "https://pandas.pydata.org/pandas-docs/stable/indexing.html#deprecate-loc-reindex-listlike\n",
      "  \"\"\"Entry point for launching an IPython kernel.\n"
     ]
    }
   ],
   "source": [
    "gene_pairs = promoter_kmers.loc[use_kmer_enhs.paired_gene]"
   ]
  },
  {
   "cell_type": "code",
   "execution_count": 56,
   "metadata": {},
   "outputs": [],
   "source": [
    "use_promoter_kmers = []\n",
    "missing_genes = []\n",
    "for i in use_kmer_enhs.paired_gene:\n",
    "    if i in promoter_kmers.index.tolist():\n",
    "        use_promoter_kmers.append(promoter_kmers.loc[i])\n",
    "    else: \n",
    "        missing_genes.append(i)"
   ]
  },
  {
   "cell_type": "code",
   "execution_count": 57,
   "metadata": {},
   "outputs": [
    {
     "data": {
      "text/plain": [
       "678"
      ]
     },
     "execution_count": 57,
     "metadata": {},
     "output_type": "execute_result"
    }
   ],
   "source": [
    "len(missing_genes)"
   ]
  },
  {
   "cell_type": "code",
   "execution_count": 58,
   "metadata": {},
   "outputs": [],
   "source": [
    "use_kmer_enhs = use_kmer_enhs.loc[~(use_kmer_enhs.paired_gene.isin(missing_genes))]"
   ]
  },
  {
   "cell_type": "code",
   "execution_count": 59,
   "metadata": {},
   "outputs": [
    {
     "data": {
      "text/plain": [
       "(10018, 1360)"
      ]
     },
     "execution_count": 59,
     "metadata": {},
     "output_type": "execute_result"
    }
   ],
   "source": [
    "use_promoter_kmers= np.array(use_promoter_kmers)\n",
    "use_promoter_kmers.shape"
   ]
  },
  {
   "cell_type": "code",
   "execution_count": 60,
   "metadata": {},
   "outputs": [
    {
     "name": "stdout",
     "output_type": "stream",
     "text": [
      "(10018, 1361)\n"
     ]
    },
    {
     "data": {
      "text/html": [
       "<div>\n",
       "<style scoped>\n",
       "    .dataframe tbody tr th:only-of-type {\n",
       "        vertical-align: middle;\n",
       "    }\n",
       "\n",
       "    .dataframe tbody tr th {\n",
       "        vertical-align: top;\n",
       "    }\n",
       "\n",
       "    .dataframe thead th {\n",
       "        text-align: right;\n",
       "    }\n",
       "</style>\n",
       "<table border=\"1\" class=\"dataframe\">\n",
       "  <thead>\n",
       "    <tr style=\"text-align: right;\">\n",
       "      <th></th>\n",
       "      <th>AA</th>\n",
       "      <th>AC</th>\n",
       "      <th>AG</th>\n",
       "      <th>AT</th>\n",
       "      <th>CA</th>\n",
       "      <th>CC</th>\n",
       "      <th>CG</th>\n",
       "      <th>CT</th>\n",
       "      <th>GA</th>\n",
       "      <th>GC</th>\n",
       "      <th>...</th>\n",
       "      <th>TTTCT</th>\n",
       "      <th>TTTGA</th>\n",
       "      <th>TTTGC</th>\n",
       "      <th>TTTGG</th>\n",
       "      <th>TTTGT</th>\n",
       "      <th>TTTTA</th>\n",
       "      <th>TTTTC</th>\n",
       "      <th>TTTTG</th>\n",
       "      <th>TTTTT</th>\n",
       "      <th>paired_gene</th>\n",
       "    </tr>\n",
       "    <tr>\n",
       "      <th>0</th>\n",
       "      <th></th>\n",
       "      <th></th>\n",
       "      <th></th>\n",
       "      <th></th>\n",
       "      <th></th>\n",
       "      <th></th>\n",
       "      <th></th>\n",
       "      <th></th>\n",
       "      <th></th>\n",
       "      <th></th>\n",
       "      <th></th>\n",
       "      <th></th>\n",
       "      <th></th>\n",
       "      <th></th>\n",
       "      <th></th>\n",
       "      <th></th>\n",
       "      <th></th>\n",
       "      <th></th>\n",
       "      <th></th>\n",
       "      <th></th>\n",
       "      <th></th>\n",
       "    </tr>\n",
       "  </thead>\n",
       "  <tbody>\n",
       "    <tr>\n",
       "      <th>&gt;chr14:69847359-69849359</th>\n",
       "      <td>254</td>\n",
       "      <td>203</td>\n",
       "      <td>326</td>\n",
       "      <td>84</td>\n",
       "      <td>299</td>\n",
       "      <td>355</td>\n",
       "      <td>34</td>\n",
       "      <td>326</td>\n",
       "      <td>254</td>\n",
       "      <td>118</td>\n",
       "      <td>...</td>\n",
       "      <td>12.0</td>\n",
       "      <td>1.0</td>\n",
       "      <td>6.0</td>\n",
       "      <td>6.0</td>\n",
       "      <td>7.0</td>\n",
       "      <td>3.0</td>\n",
       "      <td>7.0</td>\n",
       "      <td>7.0</td>\n",
       "      <td>8.0</td>\n",
       "      <td>ENSMUSG00000003469</td>\n",
       "    </tr>\n",
       "    <tr>\n",
       "      <th>&gt;chr17:10364382-10366382</th>\n",
       "      <td>297</td>\n",
       "      <td>207</td>\n",
       "      <td>299</td>\n",
       "      <td>102</td>\n",
       "      <td>294</td>\n",
       "      <td>343</td>\n",
       "      <td>28</td>\n",
       "      <td>299</td>\n",
       "      <td>227</td>\n",
       "      <td>107</td>\n",
       "      <td>...</td>\n",
       "      <td>7.0</td>\n",
       "      <td>6.0</td>\n",
       "      <td>5.0</td>\n",
       "      <td>4.0</td>\n",
       "      <td>5.0</td>\n",
       "      <td>6.0</td>\n",
       "      <td>10.0</td>\n",
       "      <td>5.0</td>\n",
       "      <td>11.0</td>\n",
       "      <td>ENSMUSG00000062078</td>\n",
       "    </tr>\n",
       "    <tr>\n",
       "      <th>&gt;chr6:73053502-73055502</th>\n",
       "      <td>322</td>\n",
       "      <td>226</td>\n",
       "      <td>285</td>\n",
       "      <td>131</td>\n",
       "      <td>327</td>\n",
       "      <td>233</td>\n",
       "      <td>30</td>\n",
       "      <td>285</td>\n",
       "      <td>243</td>\n",
       "      <td>101</td>\n",
       "      <td>...</td>\n",
       "      <td>6.0</td>\n",
       "      <td>5.0</td>\n",
       "      <td>5.0</td>\n",
       "      <td>2.0</td>\n",
       "      <td>6.0</td>\n",
       "      <td>13.0</td>\n",
       "      <td>3.0</td>\n",
       "      <td>7.0</td>\n",
       "      <td>26.0</td>\n",
       "      <td>ENSMUSG00000079523</td>\n",
       "    </tr>\n",
       "    <tr>\n",
       "      <th>&gt;chr17:47865357-47867357</th>\n",
       "      <td>224</td>\n",
       "      <td>219</td>\n",
       "      <td>329</td>\n",
       "      <td>89</td>\n",
       "      <td>321</td>\n",
       "      <td>340</td>\n",
       "      <td>30</td>\n",
       "      <td>329</td>\n",
       "      <td>238</td>\n",
       "      <td>126</td>\n",
       "      <td>...</td>\n",
       "      <td>8.0</td>\n",
       "      <td>2.0</td>\n",
       "      <td>6.0</td>\n",
       "      <td>4.0</td>\n",
       "      <td>10.0</td>\n",
       "      <td>2.0</td>\n",
       "      <td>2.0</td>\n",
       "      <td>7.0</td>\n",
       "      <td>7.0</td>\n",
       "      <td>ENSMUSG00000023991</td>\n",
       "    </tr>\n",
       "    <tr>\n",
       "      <th>&gt;chr7:45193674-45195674</th>\n",
       "      <td>183</td>\n",
       "      <td>206</td>\n",
       "      <td>387</td>\n",
       "      <td>51</td>\n",
       "      <td>298</td>\n",
       "      <td>383</td>\n",
       "      <td>27</td>\n",
       "      <td>387</td>\n",
       "      <td>254</td>\n",
       "      <td>139</td>\n",
       "      <td>...</td>\n",
       "      <td>7.0</td>\n",
       "      <td>2.0</td>\n",
       "      <td>3.0</td>\n",
       "      <td>5.0</td>\n",
       "      <td>7.0</td>\n",
       "      <td>1.0</td>\n",
       "      <td>3.0</td>\n",
       "      <td>4.0</td>\n",
       "      <td>3.0</td>\n",
       "      <td>ENSMUSG00000030792</td>\n",
       "    </tr>\n",
       "  </tbody>\n",
       "</table>\n",
       "<p>5 rows × 1361 columns</p>\n",
       "</div>"
      ],
      "text/plain": [
       "                           AA   AC   AG   AT   CA   CC  CG   CT   GA   GC  \\\n",
       "0                                                                           \n",
       ">chr14:69847359-69849359  254  203  326   84  299  355  34  326  254  118   \n",
       ">chr17:10364382-10366382  297  207  299  102  294  343  28  299  227  107   \n",
       ">chr6:73053502-73055502   322  226  285  131  327  233  30  285  243  101   \n",
       ">chr17:47865357-47867357  224  219  329   89  321  340  30  329  238  126   \n",
       ">chr7:45193674-45195674   183  206  387   51  298  383  27  387  254  139   \n",
       "\n",
       "                          ...  TTTCT  TTTGA  TTTGC  TTTGG  TTTGT  TTTTA  \\\n",
       "0                         ...                                             \n",
       ">chr14:69847359-69849359  ...   12.0    1.0    6.0    6.0    7.0    3.0   \n",
       ">chr17:10364382-10366382  ...    7.0    6.0    5.0    4.0    5.0    6.0   \n",
       ">chr6:73053502-73055502   ...    6.0    5.0    5.0    2.0    6.0   13.0   \n",
       ">chr17:47865357-47867357  ...    8.0    2.0    6.0    4.0   10.0    2.0   \n",
       ">chr7:45193674-45195674   ...    7.0    2.0    3.0    5.0    7.0    1.0   \n",
       "\n",
       "                          TTTTC  TTTTG  TTTTT         paired_gene  \n",
       "0                                                                  \n",
       ">chr14:69847359-69849359    7.0    7.0    8.0  ENSMUSG00000003469  \n",
       ">chr17:10364382-10366382   10.0    5.0   11.0  ENSMUSG00000062078  \n",
       ">chr6:73053502-73055502     3.0    7.0   26.0  ENSMUSG00000079523  \n",
       ">chr17:47865357-47867357    2.0    7.0    7.0  ENSMUSG00000023991  \n",
       ">chr7:45193674-45195674     3.0    4.0    3.0  ENSMUSG00000030792  \n",
       "\n",
       "[5 rows x 1361 columns]"
      ]
     },
     "execution_count": 60,
     "metadata": {},
     "output_type": "execute_result"
    }
   ],
   "source": [
    "print(use_kmer_enhs.shape)\n",
    "use_kmer_enhs.head()"
   ]
  },
  {
   "cell_type": "code",
   "execution_count": 61,
   "metadata": {},
   "outputs": [
    {
     "data": {
      "text/plain": [
       "(10018, 1361)"
      ]
     },
     "execution_count": 61,
     "metadata": {},
     "output_type": "execute_result"
    }
   ],
   "source": [
    "use_kmer_enhs.shape"
   ]
  },
  {
   "cell_type": "code",
   "execution_count": 62,
   "metadata": {},
   "outputs": [
    {
     "data": {
      "text/html": [
       "<div>\n",
       "<style scoped>\n",
       "    .dataframe tbody tr th:only-of-type {\n",
       "        vertical-align: middle;\n",
       "    }\n",
       "\n",
       "    .dataframe tbody tr th {\n",
       "        vertical-align: top;\n",
       "    }\n",
       "\n",
       "    .dataframe thead th {\n",
       "        text-align: right;\n",
       "    }\n",
       "</style>\n",
       "<table border=\"1\" class=\"dataframe\">\n",
       "  <thead>\n",
       "    <tr style=\"text-align: right;\">\n",
       "      <th></th>\n",
       "      <th>0</th>\n",
       "      <th>1</th>\n",
       "      <th>2</th>\n",
       "      <th>3</th>\n",
       "      <th>kmer_format</th>\n",
       "      <th>paired_gene</th>\n",
       "    </tr>\n",
       "  </thead>\n",
       "  <tbody>\n",
       "    <tr>\n",
       "      <th>72066</th>\n",
       "      <td>chr14</td>\n",
       "      <td>69847359</td>\n",
       "      <td>69849359</td>\n",
       "      <td>NaN</td>\n",
       "      <td>&gt;chr14:69847359-69849359</td>\n",
       "      <td>ENSMUSG00000003469</td>\n",
       "    </tr>\n",
       "    <tr>\n",
       "      <th>97748</th>\n",
       "      <td>chr17</td>\n",
       "      <td>10364382</td>\n",
       "      <td>10366382</td>\n",
       "      <td>NaN</td>\n",
       "      <td>&gt;chr17:10364382-10366382</td>\n",
       "      <td>ENSMUSG00000062078</td>\n",
       "    </tr>\n",
       "    <tr>\n",
       "      <th>186895</th>\n",
       "      <td>chr6</td>\n",
       "      <td>73053502</td>\n",
       "      <td>73055502</td>\n",
       "      <td>NaN</td>\n",
       "      <td>&gt;chr6:73053502-73055502</td>\n",
       "      <td>ENSMUSG00000079523</td>\n",
       "    </tr>\n",
       "    <tr>\n",
       "      <th>100264</th>\n",
       "      <td>chr17</td>\n",
       "      <td>47865357</td>\n",
       "      <td>47867357</td>\n",
       "      <td>NaN</td>\n",
       "      <td>&gt;chr17:47865357-47867357</td>\n",
       "      <td>ENSMUSG00000023991</td>\n",
       "    </tr>\n",
       "    <tr>\n",
       "      <th>196198</th>\n",
       "      <td>chr7</td>\n",
       "      <td>45193674</td>\n",
       "      <td>45195674</td>\n",
       "      <td>NaN</td>\n",
       "      <td>&gt;chr7:45193674-45195674</td>\n",
       "      <td>ENSMUSG00000030792</td>\n",
       "    </tr>\n",
       "  </tbody>\n",
       "</table>\n",
       "</div>"
      ],
      "text/plain": [
       "            0         1         2   3               kmer_format  \\\n",
       "72066   chr14  69847359  69849359 NaN  >chr14:69847359-69849359   \n",
       "97748   chr17  10364382  10366382 NaN  >chr17:10364382-10366382   \n",
       "186895   chr6  73053502  73055502 NaN   >chr6:73053502-73055502   \n",
       "100264  chr17  47865357  47867357 NaN  >chr17:47865357-47867357   \n",
       "196198   chr7  45193674  45195674 NaN   >chr7:45193674-45195674   \n",
       "\n",
       "               paired_gene  \n",
       "72066   ENSMUSG00000003469  \n",
       "97748   ENSMUSG00000062078  \n",
       "186895  ENSMUSG00000079523  \n",
       "100264  ENSMUSG00000023991  \n",
       "196198  ENSMUSG00000030792  "
      ]
     },
     "execution_count": 62,
     "metadata": {},
     "output_type": "execute_result"
    }
   ],
   "source": [
    "use_enhs.head()"
   ]
  },
  {
   "cell_type": "code",
   "execution_count": 63,
   "metadata": {},
   "outputs": [
    {
     "data": {
      "text/plain": [
       "(10696, 6)"
      ]
     },
     "execution_count": 63,
     "metadata": {},
     "output_type": "execute_result"
    }
   ],
   "source": [
    "use_enhs.shape"
   ]
  },
  {
   "cell_type": "code",
   "execution_count": 64,
   "metadata": {},
   "outputs": [],
   "source": [
    "tmp_kmer_enhs = enhancer_kmers.loc[use_enhs.kmer_format]"
   ]
  },
  {
   "cell_type": "code",
   "execution_count": 65,
   "metadata": {},
   "outputs": [],
   "source": [
    "tmp_kmer_enhs['paired_gene'] = use_enhs.paired_gene.values"
   ]
  },
  {
   "cell_type": "code",
   "execution_count": 66,
   "metadata": {},
   "outputs": [
    {
     "data": {
      "text/html": [
       "<div>\n",
       "<style scoped>\n",
       "    .dataframe tbody tr th:only-of-type {\n",
       "        vertical-align: middle;\n",
       "    }\n",
       "\n",
       "    .dataframe tbody tr th {\n",
       "        vertical-align: top;\n",
       "    }\n",
       "\n",
       "    .dataframe thead th {\n",
       "        text-align: right;\n",
       "    }\n",
       "</style>\n",
       "<table border=\"1\" class=\"dataframe\">\n",
       "  <thead>\n",
       "    <tr style=\"text-align: right;\">\n",
       "      <th></th>\n",
       "      <th>AA</th>\n",
       "      <th>AC</th>\n",
       "      <th>AG</th>\n",
       "      <th>AT</th>\n",
       "      <th>CA</th>\n",
       "      <th>CC</th>\n",
       "      <th>CG</th>\n",
       "      <th>CT</th>\n",
       "      <th>GA</th>\n",
       "      <th>GC</th>\n",
       "      <th>...</th>\n",
       "      <th>TTTCT</th>\n",
       "      <th>TTTGA</th>\n",
       "      <th>TTTGC</th>\n",
       "      <th>TTTGG</th>\n",
       "      <th>TTTGT</th>\n",
       "      <th>TTTTA</th>\n",
       "      <th>TTTTC</th>\n",
       "      <th>TTTTG</th>\n",
       "      <th>TTTTT</th>\n",
       "      <th>paired_gene</th>\n",
       "    </tr>\n",
       "    <tr>\n",
       "      <th>0</th>\n",
       "      <th></th>\n",
       "      <th></th>\n",
       "      <th></th>\n",
       "      <th></th>\n",
       "      <th></th>\n",
       "      <th></th>\n",
       "      <th></th>\n",
       "      <th></th>\n",
       "      <th></th>\n",
       "      <th></th>\n",
       "      <th></th>\n",
       "      <th></th>\n",
       "      <th></th>\n",
       "      <th></th>\n",
       "      <th></th>\n",
       "      <th></th>\n",
       "      <th></th>\n",
       "      <th></th>\n",
       "      <th></th>\n",
       "      <th></th>\n",
       "      <th></th>\n",
       "    </tr>\n",
       "  </thead>\n",
       "  <tbody>\n",
       "    <tr>\n",
       "      <th>&gt;chr14:69847359-69849359</th>\n",
       "      <td>254</td>\n",
       "      <td>203</td>\n",
       "      <td>326</td>\n",
       "      <td>84</td>\n",
       "      <td>299</td>\n",
       "      <td>355</td>\n",
       "      <td>34</td>\n",
       "      <td>326</td>\n",
       "      <td>254</td>\n",
       "      <td>118</td>\n",
       "      <td>...</td>\n",
       "      <td>12.0</td>\n",
       "      <td>1.0</td>\n",
       "      <td>6.0</td>\n",
       "      <td>6.0</td>\n",
       "      <td>7.0</td>\n",
       "      <td>3.0</td>\n",
       "      <td>7.0</td>\n",
       "      <td>7.0</td>\n",
       "      <td>8.0</td>\n",
       "      <td>ENSMUSG00000003469</td>\n",
       "    </tr>\n",
       "    <tr>\n",
       "      <th>&gt;chr17:10364382-10366382</th>\n",
       "      <td>297</td>\n",
       "      <td>207</td>\n",
       "      <td>299</td>\n",
       "      <td>102</td>\n",
       "      <td>294</td>\n",
       "      <td>343</td>\n",
       "      <td>28</td>\n",
       "      <td>299</td>\n",
       "      <td>227</td>\n",
       "      <td>107</td>\n",
       "      <td>...</td>\n",
       "      <td>7.0</td>\n",
       "      <td>6.0</td>\n",
       "      <td>5.0</td>\n",
       "      <td>4.0</td>\n",
       "      <td>5.0</td>\n",
       "      <td>6.0</td>\n",
       "      <td>10.0</td>\n",
       "      <td>5.0</td>\n",
       "      <td>11.0</td>\n",
       "      <td>ENSMUSG00000062078</td>\n",
       "    </tr>\n",
       "    <tr>\n",
       "      <th>&gt;chr6:73053502-73055502</th>\n",
       "      <td>322</td>\n",
       "      <td>226</td>\n",
       "      <td>285</td>\n",
       "      <td>131</td>\n",
       "      <td>327</td>\n",
       "      <td>233</td>\n",
       "      <td>30</td>\n",
       "      <td>285</td>\n",
       "      <td>243</td>\n",
       "      <td>101</td>\n",
       "      <td>...</td>\n",
       "      <td>6.0</td>\n",
       "      <td>5.0</td>\n",
       "      <td>5.0</td>\n",
       "      <td>2.0</td>\n",
       "      <td>6.0</td>\n",
       "      <td>13.0</td>\n",
       "      <td>3.0</td>\n",
       "      <td>7.0</td>\n",
       "      <td>26.0</td>\n",
       "      <td>ENSMUSG00000079523</td>\n",
       "    </tr>\n",
       "    <tr>\n",
       "      <th>&gt;chr17:47865357-47867357</th>\n",
       "      <td>224</td>\n",
       "      <td>219</td>\n",
       "      <td>329</td>\n",
       "      <td>89</td>\n",
       "      <td>321</td>\n",
       "      <td>340</td>\n",
       "      <td>30</td>\n",
       "      <td>329</td>\n",
       "      <td>238</td>\n",
       "      <td>126</td>\n",
       "      <td>...</td>\n",
       "      <td>8.0</td>\n",
       "      <td>2.0</td>\n",
       "      <td>6.0</td>\n",
       "      <td>4.0</td>\n",
       "      <td>10.0</td>\n",
       "      <td>2.0</td>\n",
       "      <td>2.0</td>\n",
       "      <td>7.0</td>\n",
       "      <td>7.0</td>\n",
       "      <td>ENSMUSG00000023991</td>\n",
       "    </tr>\n",
       "    <tr>\n",
       "      <th>&gt;chr7:45193674-45195674</th>\n",
       "      <td>183</td>\n",
       "      <td>206</td>\n",
       "      <td>387</td>\n",
       "      <td>51</td>\n",
       "      <td>298</td>\n",
       "      <td>383</td>\n",
       "      <td>27</td>\n",
       "      <td>387</td>\n",
       "      <td>254</td>\n",
       "      <td>139</td>\n",
       "      <td>...</td>\n",
       "      <td>7.0</td>\n",
       "      <td>2.0</td>\n",
       "      <td>3.0</td>\n",
       "      <td>5.0</td>\n",
       "      <td>7.0</td>\n",
       "      <td>1.0</td>\n",
       "      <td>3.0</td>\n",
       "      <td>4.0</td>\n",
       "      <td>3.0</td>\n",
       "      <td>ENSMUSG00000030792</td>\n",
       "    </tr>\n",
       "  </tbody>\n",
       "</table>\n",
       "<p>5 rows × 1361 columns</p>\n",
       "</div>"
      ],
      "text/plain": [
       "                           AA   AC   AG   AT   CA   CC  CG   CT   GA   GC  \\\n",
       "0                                                                           \n",
       ">chr14:69847359-69849359  254  203  326   84  299  355  34  326  254  118   \n",
       ">chr17:10364382-10366382  297  207  299  102  294  343  28  299  227  107   \n",
       ">chr6:73053502-73055502   322  226  285  131  327  233  30  285  243  101   \n",
       ">chr17:47865357-47867357  224  219  329   89  321  340  30  329  238  126   \n",
       ">chr7:45193674-45195674   183  206  387   51  298  383  27  387  254  139   \n",
       "\n",
       "                          ...  TTTCT  TTTGA  TTTGC  TTTGG  TTTGT  TTTTA  \\\n",
       "0                         ...                                             \n",
       ">chr14:69847359-69849359  ...   12.0    1.0    6.0    6.0    7.0    3.0   \n",
       ">chr17:10364382-10366382  ...    7.0    6.0    5.0    4.0    5.0    6.0   \n",
       ">chr6:73053502-73055502   ...    6.0    5.0    5.0    2.0    6.0   13.0   \n",
       ">chr17:47865357-47867357  ...    8.0    2.0    6.0    4.0   10.0    2.0   \n",
       ">chr7:45193674-45195674   ...    7.0    2.0    3.0    5.0    7.0    1.0   \n",
       "\n",
       "                          TTTTC  TTTTG  TTTTT         paired_gene  \n",
       "0                                                                  \n",
       ">chr14:69847359-69849359    7.0    7.0    8.0  ENSMUSG00000003469  \n",
       ">chr17:10364382-10366382   10.0    5.0   11.0  ENSMUSG00000062078  \n",
       ">chr6:73053502-73055502     3.0    7.0   26.0  ENSMUSG00000079523  \n",
       ">chr17:47865357-47867357    2.0    7.0    7.0  ENSMUSG00000023991  \n",
       ">chr7:45193674-45195674     3.0    4.0    3.0  ENSMUSG00000030792  \n",
       "\n",
       "[5 rows x 1361 columns]"
      ]
     },
     "execution_count": 66,
     "metadata": {},
     "output_type": "execute_result"
    }
   ],
   "source": [
    "tmp_kmer_enhs.head()"
   ]
  },
  {
   "cell_type": "code",
   "execution_count": 67,
   "metadata": {},
   "outputs": [
    {
     "data": {
      "text/plain": [
       "(10696, 1361)"
      ]
     },
     "execution_count": 67,
     "metadata": {},
     "output_type": "execute_result"
    }
   ],
   "source": [
    "tmp_kmer_enhs.shape"
   ]
  },
  {
   "cell_type": "code",
   "execution_count": 68,
   "metadata": {},
   "outputs": [],
   "source": [
    "f = os.path.join(OUTDIR, 'enhancer_kmers_concat.tsv')\n",
    "tmp_kmer_enhs.to_csv(f, sep='\\t')"
   ]
  },
  {
   "cell_type": "markdown",
   "metadata": {},
   "source": [
    "# try CCA"
   ]
  },
  {
   "cell_type": "code",
   "execution_count": 69,
   "metadata": {},
   "outputs": [],
   "source": [
    "cca = CCA()"
   ]
  },
  {
   "cell_type": "code",
   "execution_count": 70,
   "metadata": {},
   "outputs": [],
   "source": [
    "enh, promoter = cca.fit_transform(use_kmer_enhs.drop('paired_gene', axis=1).values, use_promoter_kmers)"
   ]
  },
  {
   "cell_type": "code",
   "execution_count": 71,
   "metadata": {},
   "outputs": [],
   "source": [
    "import matplotlib.pyplot as plt"
   ]
  },
  {
   "cell_type": "code",
   "execution_count": 72,
   "metadata": {},
   "outputs": [
    {
     "data": {
      "text/plain": [
       "Text(0.5,1,'second cannonical component')"
      ]
     },
     "execution_count": 72,
     "metadata": {},
     "output_type": "execute_result"
    },
    {
     "name": "stderr",
     "output_type": "stream",
     "text": [
      "/cndd/fangming/venvs/conda_dobro/lib/python3.6/site-packages/matplotlib/font_manager.py:1328: UserWarning: findfont: Font family ['sans-serif'] not found. Falling back to DejaVu Sans\n",
      "  (prop.get_family(), self.defaultFamily[fontext]))\n"
     ]
    },
    {
     "data": {
      "image/png": "[encoded data removed]",
      "text/plain": [
       "<Figure size 432x288 with 1 Axes>"
      ]
     },
     "metadata": {},
     "output_type": "display_data"
    }
   ],
   "source": [
    "plt.scatter(enh[:, 1], promoter[:, 1], s= 1)\n",
    "plt.xlabel('Enhancer 3mers')\n",
    "plt.ylabel('Promoter 3mers')\n",
    "plt.title('second cannonical component')"
   ]
  },
  {
   "cell_type": "code",
   "execution_count": 73,
   "metadata": {},
   "outputs": [
    {
     "data": {
      "text/plain": [
       "{'copy': True, 'max_iter': 500, 'n_components': 2, 'scale': True, 'tol': 1e-06}"
      ]
     },
     "execution_count": 73,
     "metadata": {},
     "output_type": "execute_result"
    }
   ],
   "source": [
    "cca.get_params()"
   ]
  },
  {
   "cell_type": "code",
   "execution_count": 74,
   "metadata": {},
   "outputs": [],
   "source": [
    "#cca.score(use_kmer_enhs.drop('paired_gene', axis=1).values, use_promoter_kmers)"
   ]
  },
  {
   "cell_type": "code",
   "execution_count": 75,
   "metadata": {},
   "outputs": [
    {
     "data": {
      "text/plain": [
       "Text(0.5,1,'First cannonical component')"
      ]
     },
     "execution_count": 75,
     "metadata": {},
     "output_type": "execute_result"
    },
    {
     "name": "stderr",
     "output_type": "stream",
     "text": [
      "/cndd/fangming/venvs/conda_dobro/lib/python3.6/site-packages/matplotlib/font_manager.py:1328: UserWarning: findfont: Font family ['sans-serif'] not found. Falling back to DejaVu Sans\n",
      "  (prop.get_family(), self.defaultFamily[fontext]))\n"
     ]
    },
    {
     "data": {
      "image/png": "[encoded data removed]",
      "text/plain": [
       "<Figure size 432x288 with 1 Axes>"
      ]
     },
     "metadata": {},
     "output_type": "display_data"
    }
   ],
   "source": [
    "plt.scatter(enh[:, 0], promoter[:, 0], s =1)\n",
    "plt.xlabel('Enhancer 3mers')\n",
    "plt.ylabel('Promoter 3mers')\n",
    "plt.title('First cannonical component')"
   ]
  },
  {
   "cell_type": "code",
   "execution_count": 76,
   "metadata": {},
   "outputs": [],
   "source": [
    "from scipy.stats import spearmanr"
   ]
  },
  {
   "cell_type": "code",
   "execution_count": 77,
   "metadata": {},
   "outputs": [
    {
     "data": {
      "text/plain": [
       "SpearmanrResult(correlation=0.51896001857630536, pvalue=0.0)"
      ]
     },
     "execution_count": 77,
     "metadata": {},
     "output_type": "execute_result"
    }
   ],
   "source": [
    "spearmanr(enh[:, 1], promoter[:, 1])"
   ]
  },
  {
   "cell_type": "code",
   "execution_count": 78,
   "metadata": {},
   "outputs": [
    {
     "data": {
      "text/plain": [
       "SpearmanrResult(correlation=0.71919149096402235, pvalue=0.0)"
      ]
     },
     "execution_count": 78,
     "metadata": {},
     "output_type": "execute_result"
    }
   ],
   "source": [
    "spearmanr(enh[:, 0], promoter[:, 0])"
   ]
  },
  {
   "cell_type": "markdown",
   "metadata": {},
   "source": [
    "# get cannonical loadings"
   ]
  },
  {
   "cell_type": "code",
   "execution_count": 79,
   "metadata": {},
   "outputs": [],
   "source": [
    "use_enh_array = use_kmer_enhs.drop('paired_gene', axis=1).values\n",
    "kmer_names = use_kmer_enhs.columns.to_list()[:-1]\n",
    "promoter_loadings = []\n",
    "enhancer_loadings = []\n",
    "for i in range(use_enh_array.shape[1]):\n",
    "    enhancer_loadings.append(spearmanr(use_enh_array[:, i], enh[:, 0])[0])\n",
    "    promoter_loadings.append(spearmanr(use_promoter_kmers[:, i], promoter[:, 0])[0])\n"
   ]
  },
  {
   "cell_type": "code",
   "execution_count": 80,
   "metadata": {},
   "outputs": [
    {
     "data": {
      "text/plain": [
       "<matplotlib.legend.Legend at 0x7f8761cf5b00>"
      ]
     },
     "execution_count": 80,
     "metadata": {},
     "output_type": "execute_result"
    },
    {
     "name": "stderr",
     "output_type": "stream",
     "text": [
      "/cndd/fangming/venvs/conda_dobro/lib/python3.6/site-packages/matplotlib/font_manager.py:1328: UserWarning: findfont: Font family ['sans-serif'] not found. Falling back to DejaVu Sans\n",
      "  (prop.get_family(), self.defaultFamily[fontext]))\n"
     ]
    },
    {
     "data": {
      "image/png": "[encoded data removed]",
      "text/plain": [
       "<Figure size 864x720 with 1 Axes>"
      ]
     },
     "metadata": {},
     "output_type": "display_data"
    }
   ],
   "source": [
    "fig, ax = plt.subplots(figsize=(12, 10))\n",
    "ax.plot(np.arange(len(kmer_names)), enhancer_loadings/np.mean(np.abs(enhancer_loadings)), '-o', label='Enhancer')\n",
    "ax.plot(np.arange(len(kmer_names)), promoter_loadings/np.mean(np.abs(promoter_loadings)), '-o', label='Promoter')\n",
    "\n",
    "ax.set_xticks(np.arange(len(kmer_names)))\n",
    "ax.set_xticklabels(kmer_names, rotation=90)\n",
    "ax.set_ylabel('Normalized cannonical loading')\n",
    "\n",
    "ax.set_title('Cannonical Loadings')\n",
    "ax.legend()"
   ]
  },
  {
   "cell_type": "code",
   "execution_count": 81,
   "metadata": {},
   "outputs": [
    {
     "data": {
      "text/plain": [
       "<matplotlib.collections.PathCollection at 0x7f8761bf7cf8>"
      ]
     },
     "execution_count": 81,
     "metadata": {},
     "output_type": "execute_result"
    },
    {
     "name": "stderr",
     "output_type": "stream",
     "text": [
      "/cndd/fangming/venvs/conda_dobro/lib/python3.6/site-packages/matplotlib/font_manager.py:1328: UserWarning: findfont: Font family ['sans-serif'] not found. Falling back to DejaVu Sans\n",
      "  (prop.get_family(), self.defaultFamily[fontext]))\n"
     ]
    },
    {
     "data": {
      "image/png": "[encoded data removed]",
      "text/plain": [
       "<Figure size 432x288 with 1 Axes>"
      ]
     },
     "metadata": {},
     "output_type": "display_data"
    }
   ],
   "source": [
    "plt.scatter(enhancer_loadings, promoter_loadings)"
   ]
  },
  {
   "cell_type": "code",
   "execution_count": 82,
   "metadata": {},
   "outputs": [
    {
     "data": {
      "text/plain": [
       "SpearmanrResult(correlation=0.91931204278619472, pvalue=0.0)"
      ]
     },
     "execution_count": 82,
     "metadata": {},
     "output_type": "execute_result"
    }
   ],
   "source": [
    "spearmanr(enhancer_loadings, promoter_loadings)"
   ]
  },
  {
   "cell_type": "markdown",
   "metadata": {},
   "source": [
    "# get top 10 motifs for each type"
   ]
  },
  {
   "cell_type": "code",
   "execution_count": 83,
   "metadata": {},
   "outputs": [],
   "source": [
    "top_n = 30\n",
    "tmp_enh = enhancer_loadings\n",
    "tmp_prom = promoter_loadings\n",
    "enh_motif = []\n",
    "prom_motif = []\n",
    "for i in range(top_n):\n",
    "    prom_max = np.argmax(np.abs(tmp_prom)) \n",
    "    enh_max = np.argmax(np.abs(tmp_enh))\n",
    "    enh_motif.append(kmer_names[enh_max])\n",
    "    prom_motif.append(kmer_names[prom_max])\n",
    "    tmp_enh[enh_max] = 0\n",
    "    tmp_prom[prom_max] = 0\n",
    "    "
   ]
  },
  {
   "cell_type": "code",
   "execution_count": 84,
   "metadata": {},
   "outputs": [
    {
     "data": {
      "text/plain": [
       "['CC',\n",
       " 'GG',\n",
       " 'AA',\n",
       " 'TT',\n",
       " 'AAT',\n",
       " 'ATT',\n",
       " 'GCC',\n",
       " 'GGC',\n",
       " 'TAA',\n",
       " 'TTA',\n",
       " 'CCAG',\n",
       " 'CTGG',\n",
       " 'CCA',\n",
       " 'TGG',\n",
       " 'CAG',\n",
       " 'CTG',\n",
       " 'TA',\n",
       " 'AT',\n",
       " 'AAAT',\n",
       " 'ATTT',\n",
       " 'CAGG',\n",
       " 'CCTG',\n",
       " 'GC',\n",
       " 'CCC',\n",
       " 'GGG',\n",
       " 'CCCA',\n",
       " 'TGGG',\n",
       " 'AAA',\n",
       " 'TTT',\n",
       " 'AGCC']"
      ]
     },
     "execution_count": 84,
     "metadata": {},
     "output_type": "execute_result"
    }
   ],
   "source": [
    "enh_motif"
   ]
  },
  {
   "cell_type": "code",
   "execution_count": 85,
   "metadata": {},
   "outputs": [
    {
     "data": {
      "text/plain": [
       "['AAA',\n",
       " 'TTT',\n",
       " 'CAGG',\n",
       " 'CCTG',\n",
       " 'AAAT',\n",
       " 'ATTT',\n",
       " 'CCCA',\n",
       " 'TGGG',\n",
       " 'CCA',\n",
       " 'TGG',\n",
       " 'AAAA',\n",
       " 'TTTT',\n",
       " 'GAAAA',\n",
       " 'TTTTC',\n",
       " 'GAAA',\n",
       " 'TTTC',\n",
       " 'AAAAT',\n",
       " 'ATTTT',\n",
       " 'AA',\n",
       " 'TT',\n",
       " 'ACCC',\n",
       " 'GGGT',\n",
       " 'AGG',\n",
       " 'CCT',\n",
       " 'CCAGG',\n",
       " 'CCTGG',\n",
       " 'ACC',\n",
       " 'GGT',\n",
       " 'AAT',\n",
       " 'ATT']"
      ]
     },
     "execution_count": 85,
     "metadata": {},
     "output_type": "execute_result"
    }
   ],
   "source": [
    "prom_motif"
   ]
  },
  {
   "cell_type": "markdown",
   "metadata": {},
   "source": [
    "# shuffle control"
   ]
  },
  {
   "cell_type": "code",
   "execution_count": 86,
   "metadata": {},
   "outputs": [
    {
     "data": {
      "text/html": [
       "<div>\n",
       "<style scoped>\n",
       "    .dataframe tbody tr th:only-of-type {\n",
       "        vertical-align: middle;\n",
       "    }\n",
       "\n",
       "    .dataframe tbody tr th {\n",
       "        vertical-align: top;\n",
       "    }\n",
       "\n",
       "    .dataframe thead th {\n",
       "        text-align: right;\n",
       "    }\n",
       "</style>\n",
       "<table border=\"1\" class=\"dataframe\">\n",
       "  <thead>\n",
       "    <tr style=\"text-align: right;\">\n",
       "      <th></th>\n",
       "      <th>AA</th>\n",
       "      <th>AC</th>\n",
       "      <th>AG</th>\n",
       "      <th>AT</th>\n",
       "      <th>CA</th>\n",
       "      <th>CC</th>\n",
       "      <th>CG</th>\n",
       "      <th>CT</th>\n",
       "      <th>GA</th>\n",
       "      <th>GC</th>\n",
       "      <th>...</th>\n",
       "      <th>TTTCG</th>\n",
       "      <th>TTTCT</th>\n",
       "      <th>TTTGA</th>\n",
       "      <th>TTTGC</th>\n",
       "      <th>TTTGG</th>\n",
       "      <th>TTTGT</th>\n",
       "      <th>TTTTA</th>\n",
       "      <th>TTTTC</th>\n",
       "      <th>TTTTG</th>\n",
       "      <th>TTTTT</th>\n",
       "    </tr>\n",
       "    <tr>\n",
       "      <th>gene</th>\n",
       "      <th></th>\n",
       "      <th></th>\n",
       "      <th></th>\n",
       "      <th></th>\n",
       "      <th></th>\n",
       "      <th></th>\n",
       "      <th></th>\n",
       "      <th></th>\n",
       "      <th></th>\n",
       "      <th></th>\n",
       "      <th></th>\n",
       "      <th></th>\n",
       "      <th></th>\n",
       "      <th></th>\n",
       "      <th></th>\n",
       "      <th></th>\n",
       "      <th></th>\n",
       "      <th></th>\n",
       "      <th></th>\n",
       "      <th></th>\n",
       "      <th></th>\n",
       "    </tr>\n",
       "  </thead>\n",
       "  <tbody>\n",
       "    <tr>\n",
       "      <th>ENSMUSG00000019966</th>\n",
       "      <td>303.0</td>\n",
       "      <td>187.0</td>\n",
       "      <td>288.0</td>\n",
       "      <td>72.0</td>\n",
       "      <td>247.0</td>\n",
       "      <td>329.0</td>\n",
       "      <td>107.0</td>\n",
       "      <td>288.0</td>\n",
       "      <td>233.0</td>\n",
       "      <td>164.0</td>\n",
       "      <td>...</td>\n",
       "      <td>1.0</td>\n",
       "      <td>16.0</td>\n",
       "      <td>3.0</td>\n",
       "      <td>4.0</td>\n",
       "      <td>5.0</td>\n",
       "      <td>4.0</td>\n",
       "      <td>7.0</td>\n",
       "      <td>18.0</td>\n",
       "      <td>8.0</td>\n",
       "      <td>24.0</td>\n",
       "    </tr>\n",
       "    <tr>\n",
       "      <th>ENSMUSG00000094314</th>\n",
       "      <td>323.0</td>\n",
       "      <td>202.0</td>\n",
       "      <td>331.0</td>\n",
       "      <td>119.0</td>\n",
       "      <td>340.0</td>\n",
       "      <td>201.0</td>\n",
       "      <td>17.0</td>\n",
       "      <td>331.0</td>\n",
       "      <td>247.0</td>\n",
       "      <td>128.0</td>\n",
       "      <td>...</td>\n",
       "      <td>0.0</td>\n",
       "      <td>3.0</td>\n",
       "      <td>10.0</td>\n",
       "      <td>7.0</td>\n",
       "      <td>4.0</td>\n",
       "      <td>11.0</td>\n",
       "      <td>13.0</td>\n",
       "      <td>4.0</td>\n",
       "      <td>9.0</td>\n",
       "      <td>12.0</td>\n",
       "    </tr>\n",
       "    <tr>\n",
       "      <th>ENSMUSG00000091101</th>\n",
       "      <td>320.0</td>\n",
       "      <td>201.0</td>\n",
       "      <td>328.0</td>\n",
       "      <td>122.0</td>\n",
       "      <td>342.0</td>\n",
       "      <td>201.0</td>\n",
       "      <td>18.0</td>\n",
       "      <td>328.0</td>\n",
       "      <td>242.0</td>\n",
       "      <td>131.0</td>\n",
       "      <td>...</td>\n",
       "      <td>0.0</td>\n",
       "      <td>3.0</td>\n",
       "      <td>10.0</td>\n",
       "      <td>6.0</td>\n",
       "      <td>4.0</td>\n",
       "      <td>11.0</td>\n",
       "      <td>13.0</td>\n",
       "      <td>4.0</td>\n",
       "      <td>10.0</td>\n",
       "      <td>12.0</td>\n",
       "    </tr>\n",
       "    <tr>\n",
       "      <th>ENSMUSG00000112931</th>\n",
       "      <td>333.0</td>\n",
       "      <td>207.0</td>\n",
       "      <td>324.0</td>\n",
       "      <td>119.0</td>\n",
       "      <td>329.0</td>\n",
       "      <td>205.0</td>\n",
       "      <td>20.0</td>\n",
       "      <td>324.0</td>\n",
       "      <td>246.0</td>\n",
       "      <td>120.0</td>\n",
       "      <td>...</td>\n",
       "      <td>0.0</td>\n",
       "      <td>4.0</td>\n",
       "      <td>11.0</td>\n",
       "      <td>6.0</td>\n",
       "      <td>4.0</td>\n",
       "      <td>10.0</td>\n",
       "      <td>12.0</td>\n",
       "      <td>5.0</td>\n",
       "      <td>12.0</td>\n",
       "      <td>12.0</td>\n",
       "    </tr>\n",
       "    <tr>\n",
       "      <th>ENSMUSG00000112856</th>\n",
       "      <td>333.0</td>\n",
       "      <td>207.0</td>\n",
       "      <td>324.0</td>\n",
       "      <td>119.0</td>\n",
       "      <td>329.0</td>\n",
       "      <td>205.0</td>\n",
       "      <td>20.0</td>\n",
       "      <td>324.0</td>\n",
       "      <td>246.0</td>\n",
       "      <td>120.0</td>\n",
       "      <td>...</td>\n",
       "      <td>0.0</td>\n",
       "      <td>4.0</td>\n",
       "      <td>11.0</td>\n",
       "      <td>6.0</td>\n",
       "      <td>4.0</td>\n",
       "      <td>10.0</td>\n",
       "      <td>12.0</td>\n",
       "      <td>5.0</td>\n",
       "      <td>12.0</td>\n",
       "      <td>12.0</td>\n",
       "    </tr>\n",
       "  </tbody>\n",
       "</table>\n",
       "<p>5 rows × 1360 columns</p>\n",
       "</div>"
      ],
      "text/plain": [
       "                       AA     AC     AG     AT     CA     CC     CG     CT  \\\n",
       "gene                                                                         \n",
       "ENSMUSG00000019966  303.0  187.0  288.0   72.0  247.0  329.0  107.0  288.0   \n",
       "ENSMUSG00000094314  323.0  202.0  331.0  119.0  340.0  201.0   17.0  331.0   \n",
       "ENSMUSG00000091101  320.0  201.0  328.0  122.0  342.0  201.0   18.0  328.0   \n",
       "ENSMUSG00000112931  333.0  207.0  324.0  119.0  329.0  205.0   20.0  324.0   \n",
       "ENSMUSG00000112856  333.0  207.0  324.0  119.0  329.0  205.0   20.0  324.0   \n",
       "\n",
       "                       GA     GC  ...  TTTCG  TTTCT  TTTGA  TTTGC  TTTGG  \\\n",
       "gene                              ...                                      \n",
       "ENSMUSG00000019966  233.0  164.0  ...    1.0   16.0    3.0    4.0    5.0   \n",
       "ENSMUSG00000094314  247.0  128.0  ...    0.0    3.0   10.0    7.0    4.0   \n",
       "ENSMUSG00000091101  242.0  131.0  ...    0.0    3.0   10.0    6.0    4.0   \n",
       "ENSMUSG00000112931  246.0  120.0  ...    0.0    4.0   11.0    6.0    4.0   \n",
       "ENSMUSG00000112856  246.0  120.0  ...    0.0    4.0   11.0    6.0    4.0   \n",
       "\n",
       "                    TTTGT  TTTTA  TTTTC  TTTTG  TTTTT  \n",
       "gene                                                   \n",
       "ENSMUSG00000019966    4.0    7.0   18.0    8.0   24.0  \n",
       "ENSMUSG00000094314   11.0   13.0    4.0    9.0   12.0  \n",
       "ENSMUSG00000091101   11.0   13.0    4.0   10.0   12.0  \n",
       "ENSMUSG00000112931   10.0   12.0    5.0   12.0   12.0  \n",
       "ENSMUSG00000112856   10.0   12.0    5.0   12.0   12.0  \n",
       "\n",
       "[5 rows x 1360 columns]"
      ]
     },
     "execution_count": 86,
     "metadata": {},
     "output_type": "execute_result"
    }
   ],
   "source": [
    "promoter_kmers.head()"
   ]
  },
  {
   "cell_type": "code",
   "execution_count": 87,
   "metadata": {},
   "outputs": [
    {
     "data": {
      "text/html": [
       "<div>\n",
       "<style scoped>\n",
       "    .dataframe tbody tr th:only-of-type {\n",
       "        vertical-align: middle;\n",
       "    }\n",
       "\n",
       "    .dataframe tbody tr th {\n",
       "        vertical-align: top;\n",
       "    }\n",
       "\n",
       "    .dataframe thead th {\n",
       "        text-align: right;\n",
       "    }\n",
       "</style>\n",
       "<table border=\"1\" class=\"dataframe\">\n",
       "  <thead>\n",
       "    <tr style=\"text-align: right;\">\n",
       "      <th></th>\n",
       "      <th>AA</th>\n",
       "      <th>AC</th>\n",
       "      <th>AG</th>\n",
       "      <th>AT</th>\n",
       "      <th>CA</th>\n",
       "      <th>CC</th>\n",
       "      <th>CG</th>\n",
       "      <th>CT</th>\n",
       "      <th>GA</th>\n",
       "      <th>GC</th>\n",
       "      <th>...</th>\n",
       "      <th>TTTCG</th>\n",
       "      <th>TTTCT</th>\n",
       "      <th>TTTGA</th>\n",
       "      <th>TTTGC</th>\n",
       "      <th>TTTGG</th>\n",
       "      <th>TTTGT</th>\n",
       "      <th>TTTTA</th>\n",
       "      <th>TTTTC</th>\n",
       "      <th>TTTTG</th>\n",
       "      <th>TTTTT</th>\n",
       "    </tr>\n",
       "    <tr>\n",
       "      <th>0</th>\n",
       "      <th></th>\n",
       "      <th></th>\n",
       "      <th></th>\n",
       "      <th></th>\n",
       "      <th></th>\n",
       "      <th></th>\n",
       "      <th></th>\n",
       "      <th></th>\n",
       "      <th></th>\n",
       "      <th></th>\n",
       "      <th></th>\n",
       "      <th></th>\n",
       "      <th></th>\n",
       "      <th></th>\n",
       "      <th></th>\n",
       "      <th></th>\n",
       "      <th></th>\n",
       "      <th></th>\n",
       "      <th></th>\n",
       "      <th></th>\n",
       "      <th></th>\n",
       "    </tr>\n",
       "  </thead>\n",
       "  <tbody>\n",
       "    <tr>\n",
       "      <th>&gt;chr10:100009350-100011350</th>\n",
       "      <td>335</td>\n",
       "      <td>246</td>\n",
       "      <td>281</td>\n",
       "      <td>131</td>\n",
       "      <td>327</td>\n",
       "      <td>194</td>\n",
       "      <td>37</td>\n",
       "      <td>281</td>\n",
       "      <td>225</td>\n",
       "      <td>105</td>\n",
       "      <td>...</td>\n",
       "      <td>1.0</td>\n",
       "      <td>5.0</td>\n",
       "      <td>6.0</td>\n",
       "      <td>11.0</td>\n",
       "      <td>5.0</td>\n",
       "      <td>7.0</td>\n",
       "      <td>7.0</td>\n",
       "      <td>6.0</td>\n",
       "      <td>9.0</td>\n",
       "      <td>19.0</td>\n",
       "    </tr>\n",
       "    <tr>\n",
       "      <th>&gt;chr10:100018062-100020062</th>\n",
       "      <td>447</td>\n",
       "      <td>208</td>\n",
       "      <td>269</td>\n",
       "      <td>141</td>\n",
       "      <td>280</td>\n",
       "      <td>193</td>\n",
       "      <td>26</td>\n",
       "      <td>269</td>\n",
       "      <td>231</td>\n",
       "      <td>80</td>\n",
       "      <td>...</td>\n",
       "      <td>1.0</td>\n",
       "      <td>13.0</td>\n",
       "      <td>10.0</td>\n",
       "      <td>7.0</td>\n",
       "      <td>6.0</td>\n",
       "      <td>12.0</td>\n",
       "      <td>17.0</td>\n",
       "      <td>12.0</td>\n",
       "      <td>9.0</td>\n",
       "      <td>46.0</td>\n",
       "    </tr>\n",
       "    <tr>\n",
       "      <th>&gt;chr10:100018734-100020734</th>\n",
       "      <td>404</td>\n",
       "      <td>229</td>\n",
       "      <td>300</td>\n",
       "      <td>116</td>\n",
       "      <td>284</td>\n",
       "      <td>189</td>\n",
       "      <td>31</td>\n",
       "      <td>300</td>\n",
       "      <td>247</td>\n",
       "      <td>85</td>\n",
       "      <td>...</td>\n",
       "      <td>2.0</td>\n",
       "      <td>13.0</td>\n",
       "      <td>6.0</td>\n",
       "      <td>4.0</td>\n",
       "      <td>8.0</td>\n",
       "      <td>12.0</td>\n",
       "      <td>13.0</td>\n",
       "      <td>9.0</td>\n",
       "      <td>5.0</td>\n",
       "      <td>44.0</td>\n",
       "    </tr>\n",
       "    <tr>\n",
       "      <th>&gt;chr10:100019262-100021262</th>\n",
       "      <td>419</td>\n",
       "      <td>232</td>\n",
       "      <td>289</td>\n",
       "      <td>107</td>\n",
       "      <td>289</td>\n",
       "      <td>205</td>\n",
       "      <td>31</td>\n",
       "      <td>289</td>\n",
       "      <td>242</td>\n",
       "      <td>83</td>\n",
       "      <td>...</td>\n",
       "      <td>3.0</td>\n",
       "      <td>11.0</td>\n",
       "      <td>6.0</td>\n",
       "      <td>5.0</td>\n",
       "      <td>10.0</td>\n",
       "      <td>21.0</td>\n",
       "      <td>8.0</td>\n",
       "      <td>10.0</td>\n",
       "      <td>13.0</td>\n",
       "      <td>34.0</td>\n",
       "    </tr>\n",
       "    <tr>\n",
       "      <th>&gt;chr10:100021578-100023578</th>\n",
       "      <td>275</td>\n",
       "      <td>236</td>\n",
       "      <td>323</td>\n",
       "      <td>96</td>\n",
       "      <td>339</td>\n",
       "      <td>265</td>\n",
       "      <td>23</td>\n",
       "      <td>323</td>\n",
       "      <td>250</td>\n",
       "      <td>111</td>\n",
       "      <td>...</td>\n",
       "      <td>1.0</td>\n",
       "      <td>9.0</td>\n",
       "      <td>4.0</td>\n",
       "      <td>9.0</td>\n",
       "      <td>3.0</td>\n",
       "      <td>10.0</td>\n",
       "      <td>2.0</td>\n",
       "      <td>7.0</td>\n",
       "      <td>9.0</td>\n",
       "      <td>7.0</td>\n",
       "    </tr>\n",
       "  </tbody>\n",
       "</table>\n",
       "<p>5 rows × 1360 columns</p>\n",
       "</div>"
      ],
      "text/plain": [
       "                             AA   AC   AG   AT   CA   CC  CG   CT   GA   GC  \\\n",
       "0                                                                             \n",
       ">chr10:100009350-100011350  335  246  281  131  327  194  37  281  225  105   \n",
       ">chr10:100018062-100020062  447  208  269  141  280  193  26  269  231   80   \n",
       ">chr10:100018734-100020734  404  229  300  116  284  189  31  300  247   85   \n",
       ">chr10:100019262-100021262  419  232  289  107  289  205  31  289  242   83   \n",
       ">chr10:100021578-100023578  275  236  323   96  339  265  23  323  250  111   \n",
       "\n",
       "                            ...  TTTCG  TTTCT  TTTGA  TTTGC  TTTGG  TTTGT  \\\n",
       "0                           ...                                             \n",
       ">chr10:100009350-100011350  ...    1.0    5.0    6.0   11.0    5.0    7.0   \n",
       ">chr10:100018062-100020062  ...    1.0   13.0   10.0    7.0    6.0   12.0   \n",
       ">chr10:100018734-100020734  ...    2.0   13.0    6.0    4.0    8.0   12.0   \n",
       ">chr10:100019262-100021262  ...    3.0   11.0    6.0    5.0   10.0   21.0   \n",
       ">chr10:100021578-100023578  ...    1.0    9.0    4.0    9.0    3.0   10.0   \n",
       "\n",
       "                            TTTTA  TTTTC  TTTTG  TTTTT  \n",
       "0                                                       \n",
       ">chr10:100009350-100011350    7.0    6.0    9.0   19.0  \n",
       ">chr10:100018062-100020062   17.0   12.0    9.0   46.0  \n",
       ">chr10:100018734-100020734   13.0    9.0    5.0   44.0  \n",
       ">chr10:100019262-100021262    8.0   10.0   13.0   34.0  \n",
       ">chr10:100021578-100023578    2.0    7.0    9.0    7.0  \n",
       "\n",
       "[5 rows x 1360 columns]"
      ]
     },
     "execution_count": 87,
     "metadata": {},
     "output_type": "execute_result"
    }
   ],
   "source": [
    "enhancer_kmers.head()"
   ]
  },
  {
   "cell_type": "markdown",
   "metadata": {},
   "source": [
    "# sampling"
   ]
  },
  {
   "cell_type": "code",
   "execution_count": 88,
   "metadata": {},
   "outputs": [],
   "source": [
    "num_samplings = 10\n",
    "sample_pairs = []\n",
    "for i in range(num_samplings):\n",
    "    enh_idx = np.random.randint(0, enhancer_kmers.shape[0], size = 10000)\n",
    "    prom_idx = np.random.randint(0, promoter_kmers.shape[1], size = 10000)\n",
    "    \n",
    "    sample_pairs.append((enh_idx, prom_idx))"
   ]
  },
  {
   "cell_type": "code",
   "execution_count": 89,
   "metadata": {},
   "outputs": [],
   "source": [
    "shuffle_cca = CCA()"
   ]
  },
  {
   "cell_type": "code",
   "execution_count": 90,
   "metadata": {},
   "outputs": [
    {
     "data": {
      "text/plain": [
       "(array([217439,   6787,  75154, ..., 146673,  96335,  42306]),\n",
       " array([  37,   32,  842, ..., 1117,  309,  593]))"
      ]
     },
     "execution_count": 90,
     "metadata": {},
     "output_type": "execute_result"
    }
   ],
   "source": [
    "sample_pairs[0]"
   ]
  },
  {
   "cell_type": "code",
   "execution_count": 91,
   "metadata": {},
   "outputs": [
    {
     "data": {
      "text/plain": [
       "(233524, 1360)"
      ]
     },
     "execution_count": 91,
     "metadata": {},
     "output_type": "execute_result"
    }
   ],
   "source": [
    "enhancer_kmers.values.shape"
   ]
  },
  {
   "cell_type": "code",
   "execution_count": 92,
   "metadata": {},
   "outputs": [
    {
     "data": {
      "text/plain": [
       "array([[ 211.,  236.,  314., ...,    3.,    2.,    5.],\n",
       "       [ 367.,  217.,  285., ...,   10.,    9.,   12.],\n",
       "       [ 422.,  202.,  290., ...,    7.,    9.,   28.],\n",
       "       ..., \n",
       "       [ 331.,  211.,  314., ...,    8.,    4.,   20.],\n",
       "       [ 335.,  187.,  322., ...,   16.,    7.,   32.],\n",
       "       [ 253.,  255.,  331., ...,    8.,    2.,    3.]])"
      ]
     },
     "execution_count": 92,
     "metadata": {},
     "output_type": "execute_result"
    }
   ],
   "source": [
    "enhancer_kmers.values[enh_idx, :]"
   ]
  },
  {
   "cell_type": "code",
   "execution_count": 93,
   "metadata": {},
   "outputs": [],
   "source": [
    "cca1_r = []\n",
    "cca2_r = []\n",
    "for i in sample_pairs:\n",
    "    enh_idx = i[0]\n",
    "    prom_idx = i[1]\n",
    "    x, y = shuffle_cca.fit_transform(enhancer_kmers.values[enh_idx, :], promoter_kmers.values[prom_idx, :])\n",
    "    cca1_r.append(spearmanr(x[:, 0], y[:, 0])[0])\n",
    "    cca2_r.append(spearmanr(x[:, 1], y[:, 1])[0])"
   ]
  },
  {
   "cell_type": "code",
   "execution_count": 94,
   "metadata": {},
   "outputs": [
    {
     "name": "stdout",
     "output_type": "stream",
     "text": [
      "[0.46344075097905435, 0.46446609509443321, 0.45575659723716588, 0.47068637602769076, 0.46287924316965823, 0.46143759394341322, 0.46420347674206408, 0.47370985322641107, 0.47249233522861034, 0.46811833993240537]\n"
     ]
    }
   ],
   "source": [
    "print(cca1_r)"
   ]
  },
  {
   "cell_type": "code",
   "execution_count": 95,
   "metadata": {},
   "outputs": [
    {
     "name": "stdout",
     "output_type": "stream",
     "text": [
      "[0.45938250260831121, 0.45031784285713317, 0.46358360383575337, 0.46360168320330719, 0.45808355793194566, 0.45297351487869941, 0.45707559155777094, 0.45903535595386336, 0.46336022236746299, 0.45895731274499613]\n"
     ]
    }
   ],
   "source": [
    "print(cca2_r)"
   ]
  },
  {
   "cell_type": "code",
   "execution_count": 96,
   "metadata": {},
   "outputs": [
    {
     "data": {
      "text/plain": [
       "(0.46571906615809067, 0.45863711879392433)"
      ]
     },
     "execution_count": 96,
     "metadata": {},
     "output_type": "execute_result"
    }
   ],
   "source": [
    "np.mean(cca1_r), np.mean(cca2_r)"
   ]
  },
  {
   "cell_type": "markdown",
   "metadata": {},
   "source": [
    "# try against pairs within a megabase"
   ]
  },
  {
   "cell_type": "markdown",
   "metadata": {},
   "source": [
    "- use fangmings to_evals which represents all pairs in a megabase\n",
    "- draw random pairs from it"
   ]
  },
  {
   "cell_type": "code",
   "execution_count": 97,
   "metadata": {},
   "outputs": [],
   "source": [
    "f = '/cndd2/ethan/projects/enh_gene_linkage/non-inear-activation/get_best_gene_in_1mb/evals_in_mb.tsv'\n",
    "pairs_in_mb = pd.read_csv(f, sep='\\t')"
   ]
  },
  {
   "cell_type": "code",
   "execution_count": 98,
   "metadata": {},
   "outputs": [
    {
     "data": {
      "text/html": [
       "<div>\n",
       "<style scoped>\n",
       "    .dataframe tbody tr th:only-of-type {\n",
       "        vertical-align: middle;\n",
       "    }\n",
       "\n",
       "    .dataframe tbody tr th {\n",
       "        vertical-align: top;\n",
       "    }\n",
       "\n",
       "    .dataframe thead th {\n",
       "        text-align: right;\n",
       "    }\n",
       "</style>\n",
       "<table border=\"1\" class=\"dataframe\">\n",
       "  <thead>\n",
       "    <tr style=\"text-align: right;\">\n",
       "      <th></th>\n",
       "      <th>Unnamed: 0</th>\n",
       "      <th>gene</th>\n",
       "      <th>ens</th>\n",
       "      <th>dist</th>\n",
       "      <th>val</th>\n",
       "      <th>val2</th>\n",
       "    </tr>\n",
       "  </thead>\n",
       "  <tbody>\n",
       "    <tr>\n",
       "      <th>0</th>\n",
       "      <td>0</td>\n",
       "      <td>ENSMUSG00000000001</td>\n",
       "      <td>147520</td>\n",
       "      <td>995118</td>\n",
       "      <td>-0.157895</td>\n",
       "      <td>0.144327</td>\n",
       "    </tr>\n",
       "    <tr>\n",
       "      <th>1</th>\n",
       "      <td>1</td>\n",
       "      <td>ENSMUSG00000000001</td>\n",
       "      <td>147522</td>\n",
       "      <td>985740</td>\n",
       "      <td>0.027465</td>\n",
       "      <td>-0.322245</td>\n",
       "    </tr>\n",
       "    <tr>\n",
       "      <th>2</th>\n",
       "      <td>2</td>\n",
       "      <td>ENSMUSG00000000001</td>\n",
       "      <td>147523</td>\n",
       "      <td>983725</td>\n",
       "      <td>-0.040376</td>\n",
       "      <td>0.086333</td>\n",
       "    </tr>\n",
       "    <tr>\n",
       "      <th>3</th>\n",
       "      <td>3</td>\n",
       "      <td>ENSMUSG00000000001</td>\n",
       "      <td>147527</td>\n",
       "      <td>970444</td>\n",
       "      <td>-0.070795</td>\n",
       "      <td>0.144108</td>\n",
       "    </tr>\n",
       "    <tr>\n",
       "      <th>4</th>\n",
       "      <td>4</td>\n",
       "      <td>ENSMUSG00000000001</td>\n",
       "      <td>147528</td>\n",
       "      <td>969372</td>\n",
       "      <td>0.012583</td>\n",
       "      <td>0.150892</td>\n",
       "    </tr>\n",
       "  </tbody>\n",
       "</table>\n",
       "</div>"
      ],
      "text/plain": [
       "   Unnamed: 0                gene     ens    dist       val      val2\n",
       "0           0  ENSMUSG00000000001  147520  995118 -0.157895  0.144327\n",
       "1           1  ENSMUSG00000000001  147522  985740  0.027465 -0.322245\n",
       "2           2  ENSMUSG00000000001  147523  983725 -0.040376  0.086333\n",
       "3           3  ENSMUSG00000000001  147527  970444 -0.070795  0.144108\n",
       "4           4  ENSMUSG00000000001  147528  969372  0.012583  0.150892"
      ]
     },
     "execution_count": 98,
     "metadata": {},
     "output_type": "execute_result"
    }
   ],
   "source": [
    "pairs_in_mb.head()"
   ]
  },
  {
   "cell_type": "code",
   "execution_count": 99,
   "metadata": {},
   "outputs": [],
   "source": [
    "shuffle_cca = CCA()"
   ]
  },
  {
   "cell_type": "code",
   "execution_count": 100,
   "metadata": {},
   "outputs": [],
   "source": [
    "num_samplings = 5\n",
    "sample_ids = []\n",
    "for i in range(num_samplings):\n",
    "    sample = np.random.choice(np.arange(pairs_in_mb.shape[0]), size =20000, replace=False)\n",
    "    sample_ids.append(sample)"
   ]
  },
  {
   "cell_type": "code",
   "execution_count": 101,
   "metadata": {},
   "outputs": [
    {
     "name": "stderr",
     "output_type": "stream",
     "text": [
      "/cndd/fangming/venvs/conda_dobro/lib/python3.6/site-packages/ipykernel_launcher.py:8: FutureWarning: \n",
      "Passing list-likes to .loc or [] with any missing label will raise\n",
      "KeyError in the future, you can use .reindex() as an alternative.\n",
      "\n",
      "See the documentation here:\n",
      "https://pandas.pydata.org/pandas-docs/stable/indexing.html#deprecate-loc-reindex-listlike\n",
      "  \n",
      "/cndd/fangming/venvs/conda_dobro/lib/python3.6/site-packages/ipykernel_launcher.py:13: FutureWarning: \n",
      "Passing list-likes to .loc or [] with any missing label will raise\n",
      "KeyError in the future, you can use .reindex() as an alternative.\n",
      "\n",
      "See the documentation here:\n",
      "https://pandas.pydata.org/pandas-docs/stable/indexing.html#deprecate-loc-reindex-listlike\n",
      "  del sys.path[0]\n",
      "/cndd/fangming/venvs/conda_dobro/lib/python3.6/site-packages/sklearn/cross_decomposition/pls_.py:77: UserWarning: Maximum number of iterations reached\n",
      "  warnings.warn('Maximum number of iterations reached')\n"
     ]
    }
   ],
   "source": [
    "cca1_r = []\n",
    "cca2_r = []\n",
    "for sample in sample_ids:\n",
    "    sample_pairs = pairs_in_mb.loc[sample]\n",
    "    sample_genes = sample_pairs.gene\n",
    "    sample_ens_id = sample_pairs.ens\n",
    "    sample_ens = enhs_list.loc[sample_ens_id]\n",
    "    sample_promoters = genes.set_index(3).loc[sample_genes]\n",
    "    sample_ens = sample_ens.drop(3, axis=1)\n",
    "    bad_ix = sample_promoters.isna().sum(axis=1) > 0\n",
    "    sample_promoters = sample_promoters.loc[~bad_ix.values]\n",
    "    sample_ens = sample_ens.loc[~bad_ix.values]\n",
    "    sample_promoter_kmers = promoter_kmers.loc[sample_promoters.index.values]\n",
    "    sample_enhancer_kmers = enhancer_kmers.loc[sample_ens.kmer_format.values]\n",
    "    bad = sample_promoter_kmers.isna().sum(axis=1)> 0\n",
    "    sample_promoter_kmers = sample_promoter_kmers.loc[~bad.values]\n",
    "    sample_enhancer_kmers = sample_enhancer_kmers.loc[~bad.values]\n",
    "    x, y = shuffle_cca.fit_transform(sample_enhancer_kmers.values, sample_promoter_kmers.values)\n",
    "    cca1_r.append(spearmanr(x[:, 0], y[:, 0])[0])\n",
    "    cca2_r.append(spearmanr(x[:, 1], y[:, 1])[0])"
   ]
  },
  {
   "cell_type": "code",
   "execution_count": 102,
   "metadata": {},
   "outputs": [
    {
     "data": {
      "text/plain": [
       "[0.49819003589429584,\n",
       " 0.50456643524888234,\n",
       " 0.49205508746982973,\n",
       " 0.50847400231495954,\n",
       " 0.50088035089405558]"
      ]
     },
     "execution_count": 102,
     "metadata": {},
     "output_type": "execute_result"
    }
   ],
   "source": [
    "cca1_r"
   ]
  },
  {
   "cell_type": "code",
   "execution_count": 103,
   "metadata": {},
   "outputs": [
    {
     "data": {
      "text/plain": [
       "[0.3689131054018368,\n",
       " 0.36813829010929611,\n",
       " 0.37373239895458682,\n",
       " 0.36580522977486674,\n",
       " 0.2509560594833265]"
      ]
     },
     "execution_count": 103,
     "metadata": {},
     "output_type": "execute_result"
    }
   ],
   "source": [
    "cca2_r"
   ]
  },
  {
   "cell_type": "code",
   "execution_count": 104,
   "metadata": {},
   "outputs": [
    {
     "data": {
      "text/plain": [
       "0.50083318236440466"
      ]
     },
     "execution_count": 104,
     "metadata": {},
     "output_type": "execute_result"
    }
   ],
   "source": [
    "np.mean(cca1_r)"
   ]
  },
  {
   "cell_type": "code",
   "execution_count": 105,
   "metadata": {},
   "outputs": [
    {
     "data": {
      "text/plain": [
       "0.34550901674478263"
      ]
     },
     "execution_count": 105,
     "metadata": {},
     "output_type": "execute_result"
    }
   ],
   "source": [
    "np.mean(cca2_r)"
   ]
  },
  {
   "cell_type": "markdown",
   "metadata": {},
   "source": [
    "# are the features learned different than random features"
   ]
  },
  {
   "cell_type": "code",
   "execution_count": 106,
   "metadata": {},
   "outputs": [],
   "source": [
    "num_samplings = 10\n",
    "sample_pairs = []\n",
    "for i in range(num_samplings):\n",
    "    enh_idx = np.random.randint(0, enhancer_kmers.shape[0], size = 10000)\n",
    "    prom_idx = np.random.randint(0, promoter_kmers.shape[1], size = 10000)\n",
    "    \n",
    "    sample_pairs.append((enh_idx, prom_idx))"
   ]
  },
  {
   "cell_type": "code",
   "execution_count": 107,
   "metadata": {},
   "outputs": [],
   "source": [
    "cca1_r = []\n",
    "cca2_r = []\n",
    "for i in sample_pairs:\n",
    "    enh_idx = i[0]\n",
    "    prom_idx = i[1]\n",
    "    x, y = cca.transform(enhancer_kmers.values[enh_idx, :], promoter_kmers.values[prom_idx, :])\n",
    "    cca1_r.append(spearmanr(x[:, 0], y[:, 0])[0])\n",
    "    cca2_r.append(spearmanr(x[:, 1], y[:, 1])[0])"
   ]
  },
  {
   "cell_type": "code",
   "execution_count": 108,
   "metadata": {},
   "outputs": [
    {
     "data": {
      "text/plain": [
       "[0.013661906478437557,\n",
       " -0.014718728972617581,\n",
       " -0.0058717517485358008,\n",
       " -0.009973891287435855,\n",
       " 0.0193170074382541,\n",
       " -0.0031416744959227101,\n",
       " -0.0040444713873641416,\n",
       " 0.0074362627707210086,\n",
       " -0.0059666082195147649,\n",
       " -0.020888253401253512]"
      ]
     },
     "execution_count": 108,
     "metadata": {},
     "output_type": "execute_result"
    }
   ],
   "source": [
    "cca1_r"
   ]
  },
  {
   "cell_type": "code",
   "execution_count": 109,
   "metadata": {},
   "outputs": [
    {
     "data": {
      "text/plain": [
       "[0.0094054390590473467,\n",
       " 0.0051133327760619586,\n",
       " 0.0047962248714542733,\n",
       " 0.006751490570206191,\n",
       " 0.0043018391541461594,\n",
       " -0.011960712111719661,\n",
       " 0.0080663246616163049,\n",
       " -0.0053035415060757735,\n",
       " -0.0094621155055821058,\n",
       " 0.0021623845114546198]"
      ]
     },
     "execution_count": 109,
     "metadata": {},
     "output_type": "execute_result"
    }
   ],
   "source": [
    "cca2_r"
   ]
  },
  {
   "cell_type": "code",
   "execution_count": 110,
   "metadata": {},
   "outputs": [
    {
     "data": {
      "text/plain": [
       "-0.0024190202825231698"
      ]
     },
     "execution_count": 110,
     "metadata": {},
     "output_type": "execute_result"
    }
   ],
   "source": [
    "np.mean(cca1_r)"
   ]
  },
  {
   "cell_type": "code",
   "execution_count": 111,
   "metadata": {},
   "outputs": [
    {
     "data": {
      "text/plain": [
       "0.0013870666480609313"
      ]
     },
     "execution_count": 111,
     "metadata": {},
     "output_type": "execute_result"
    }
   ],
   "source": [
    "np.mean(cca2_r)"
   ]
  },
  {
   "cell_type": "code",
   "execution_count": 112,
   "metadata": {},
   "outputs": [
    {
     "name": "stderr",
     "output_type": "stream",
     "text": [
      "/cndd/fangming/venvs/conda_dobro/lib/python3.6/site-packages/ipykernel_launcher.py:8: FutureWarning: \n",
      "Passing list-likes to .loc or [] with any missing label will raise\n",
      "KeyError in the future, you can use .reindex() as an alternative.\n",
      "\n",
      "See the documentation here:\n",
      "https://pandas.pydata.org/pandas-docs/stable/indexing.html#deprecate-loc-reindex-listlike\n",
      "  \n",
      "/cndd/fangming/venvs/conda_dobro/lib/python3.6/site-packages/ipykernel_launcher.py:13: FutureWarning: \n",
      "Passing list-likes to .loc or [] with any missing label will raise\n",
      "KeyError in the future, you can use .reindex() as an alternative.\n",
      "\n",
      "See the documentation here:\n",
      "https://pandas.pydata.org/pandas-docs/stable/indexing.html#deprecate-loc-reindex-listlike\n",
      "  del sys.path[0]\n"
     ]
    }
   ],
   "source": [
    "cca1_r = []\n",
    "cca2_r = []\n",
    "for sample in sample_ids:\n",
    "    sample_pairs = pairs_in_mb.loc[sample]\n",
    "    sample_genes = sample_pairs.gene\n",
    "    sample_ens_id = sample_pairs.ens\n",
    "    sample_ens = enhs_list.loc[sample_ens_id]\n",
    "    sample_promoters = genes.set_index(3).loc[sample_genes]\n",
    "    sample_ens = sample_ens.drop(3, axis=1)\n",
    "    bad_ix = sample_promoters.isna().sum(axis=1) > 0\n",
    "    sample_promoters = sample_promoters.loc[~bad_ix.values]\n",
    "    sample_ens = sample_ens.loc[~bad_ix.values]\n",
    "    sample_promoter_kmers = promoter_kmers.loc[sample_promoters.index.values]\n",
    "    sample_enhancer_kmers = enhancer_kmers.loc[sample_ens.kmer_format.values]\n",
    "    bad = sample_promoter_kmers.isna().sum(axis=1)> 0\n",
    "    sample_promoter_kmers = sample_promoter_kmers.loc[~bad.values]\n",
    "    sample_enhancer_kmers = sample_enhancer_kmers.loc[~bad.values]\n",
    "    x, y = cca.transform(sample_enhancer_kmers.values, sample_promoter_kmers.values)\n",
    "    cca1_r.append(spearmanr(x[:, 0], y[:, 0])[0])\n",
    "    cca2_r.append(spearmanr(x[:, 1], y[:, 1])[0])"
   ]
  },
  {
   "cell_type": "code",
   "execution_count": 113,
   "metadata": {},
   "outputs": [
    {
     "data": {
      "text/plain": [
       "[0.26587022112801045,\n",
       " 0.27134484133464343,\n",
       " 0.27062859287982222,\n",
       " 0.2698473561169758,\n",
       " 0.2614623317345367]"
      ]
     },
     "execution_count": 113,
     "metadata": {},
     "output_type": "execute_result"
    }
   ],
   "source": [
    "cca1_r"
   ]
  },
  {
   "cell_type": "code",
   "execution_count": 114,
   "metadata": {},
   "outputs": [
    {
     "data": {
      "text/plain": [
       "[0.039800961607995226,\n",
       " 0.027910145013987055,\n",
       " 0.018980106546797094,\n",
       " 0.03412152206001768,\n",
       " 0.019970642517165682]"
      ]
     },
     "execution_count": 114,
     "metadata": {},
     "output_type": "execute_result"
    }
   ],
   "source": [
    "cca2_r"
   ]
  },
  {
   "cell_type": "code",
   "execution_count": 115,
   "metadata": {},
   "outputs": [
    {
     "data": {
      "text/plain": [
       "0.26783066863879779"
      ]
     },
     "execution_count": 115,
     "metadata": {},
     "output_type": "execute_result"
    }
   ],
   "source": [
    "np.mean(cca1_r)"
   ]
  },
  {
   "cell_type": "code",
   "execution_count": 116,
   "metadata": {},
   "outputs": [
    {
     "data": {
      "text/plain": [
       "0.028156675549192545"
      ]
     },
     "execution_count": 116,
     "metadata": {},
     "output_type": "execute_result"
    }
   ],
   "source": [
    "np.mean(cca2_r)"
   ]
  },
  {
   "cell_type": "markdown",
   "metadata": {},
   "source": [
    "# validate model on correlated from atac"
   ]
  },
  {
   "cell_type": "code",
   "execution_count": 117,
   "metadata": {},
   "outputs": [],
   "source": [
    "gene_atac = []\n",
    "enh_atac = []\n",
    "for i in atac:\n",
    "    tmp = i.split(':')\n",
    "    gene_atac.append(tmp[0])\n",
    "    enh_atac.append(tmp[1])"
   ]
  },
  {
   "cell_type": "code",
   "execution_count": 118,
   "metadata": {},
   "outputs": [],
   "source": [
    "atac_enhs = enhs_list.loc[np.array(enh_atac).astype(int)]"
   ]
  },
  {
   "cell_type": "code",
   "execution_count": 119,
   "metadata": {},
   "outputs": [],
   "source": [
    "atac_enhs['paired_gene'] = gene_atac"
   ]
  },
  {
   "cell_type": "code",
   "execution_count": 120,
   "metadata": {},
   "outputs": [
    {
     "data": {
      "text/html": [
       "<div>\n",
       "<style scoped>\n",
       "    .dataframe tbody tr th:only-of-type {\n",
       "        vertical-align: middle;\n",
       "    }\n",
       "\n",
       "    .dataframe tbody tr th {\n",
       "        vertical-align: top;\n",
       "    }\n",
       "\n",
       "    .dataframe thead th {\n",
       "        text-align: right;\n",
       "    }\n",
       "</style>\n",
       "<table border=\"1\" class=\"dataframe\">\n",
       "  <thead>\n",
       "    <tr style=\"text-align: right;\">\n",
       "      <th></th>\n",
       "      <th>AA</th>\n",
       "      <th>AC</th>\n",
       "      <th>AG</th>\n",
       "      <th>AT</th>\n",
       "      <th>CA</th>\n",
       "      <th>CC</th>\n",
       "      <th>CG</th>\n",
       "      <th>CT</th>\n",
       "      <th>GA</th>\n",
       "      <th>GC</th>\n",
       "      <th>...</th>\n",
       "      <th>TTTCG</th>\n",
       "      <th>TTTCT</th>\n",
       "      <th>TTTGA</th>\n",
       "      <th>TTTGC</th>\n",
       "      <th>TTTGG</th>\n",
       "      <th>TTTGT</th>\n",
       "      <th>TTTTA</th>\n",
       "      <th>TTTTC</th>\n",
       "      <th>TTTTG</th>\n",
       "      <th>TTTTT</th>\n",
       "    </tr>\n",
       "    <tr>\n",
       "      <th>0</th>\n",
       "      <th></th>\n",
       "      <th></th>\n",
       "      <th></th>\n",
       "      <th></th>\n",
       "      <th></th>\n",
       "      <th></th>\n",
       "      <th></th>\n",
       "      <th></th>\n",
       "      <th></th>\n",
       "      <th></th>\n",
       "      <th></th>\n",
       "      <th></th>\n",
       "      <th></th>\n",
       "      <th></th>\n",
       "      <th></th>\n",
       "      <th></th>\n",
       "      <th></th>\n",
       "      <th></th>\n",
       "      <th></th>\n",
       "      <th></th>\n",
       "      <th></th>\n",
       "    </tr>\n",
       "  </thead>\n",
       "  <tbody>\n",
       "    <tr>\n",
       "      <th>&gt;chr10:100009350-100011350</th>\n",
       "      <td>335</td>\n",
       "      <td>246</td>\n",
       "      <td>281</td>\n",
       "      <td>131</td>\n",
       "      <td>327</td>\n",
       "      <td>194</td>\n",
       "      <td>37</td>\n",
       "      <td>281</td>\n",
       "      <td>225</td>\n",
       "      <td>105</td>\n",
       "      <td>...</td>\n",
       "      <td>1.0</td>\n",
       "      <td>5.0</td>\n",
       "      <td>6.0</td>\n",
       "      <td>11.0</td>\n",
       "      <td>5.0</td>\n",
       "      <td>7.0</td>\n",
       "      <td>7.0</td>\n",
       "      <td>6.0</td>\n",
       "      <td>9.0</td>\n",
       "      <td>19.0</td>\n",
       "    </tr>\n",
       "    <tr>\n",
       "      <th>&gt;chr10:100018062-100020062</th>\n",
       "      <td>447</td>\n",
       "      <td>208</td>\n",
       "      <td>269</td>\n",
       "      <td>141</td>\n",
       "      <td>280</td>\n",
       "      <td>193</td>\n",
       "      <td>26</td>\n",
       "      <td>269</td>\n",
       "      <td>231</td>\n",
       "      <td>80</td>\n",
       "      <td>...</td>\n",
       "      <td>1.0</td>\n",
       "      <td>13.0</td>\n",
       "      <td>10.0</td>\n",
       "      <td>7.0</td>\n",
       "      <td>6.0</td>\n",
       "      <td>12.0</td>\n",
       "      <td>17.0</td>\n",
       "      <td>12.0</td>\n",
       "      <td>9.0</td>\n",
       "      <td>46.0</td>\n",
       "    </tr>\n",
       "    <tr>\n",
       "      <th>&gt;chr10:100018734-100020734</th>\n",
       "      <td>404</td>\n",
       "      <td>229</td>\n",
       "      <td>300</td>\n",
       "      <td>116</td>\n",
       "      <td>284</td>\n",
       "      <td>189</td>\n",
       "      <td>31</td>\n",
       "      <td>300</td>\n",
       "      <td>247</td>\n",
       "      <td>85</td>\n",
       "      <td>...</td>\n",
       "      <td>2.0</td>\n",
       "      <td>13.0</td>\n",
       "      <td>6.0</td>\n",
       "      <td>4.0</td>\n",
       "      <td>8.0</td>\n",
       "      <td>12.0</td>\n",
       "      <td>13.0</td>\n",
       "      <td>9.0</td>\n",
       "      <td>5.0</td>\n",
       "      <td>44.0</td>\n",
       "    </tr>\n",
       "    <tr>\n",
       "      <th>&gt;chr10:100019262-100021262</th>\n",
       "      <td>419</td>\n",
       "      <td>232</td>\n",
       "      <td>289</td>\n",
       "      <td>107</td>\n",
       "      <td>289</td>\n",
       "      <td>205</td>\n",
       "      <td>31</td>\n",
       "      <td>289</td>\n",
       "      <td>242</td>\n",
       "      <td>83</td>\n",
       "      <td>...</td>\n",
       "      <td>3.0</td>\n",
       "      <td>11.0</td>\n",
       "      <td>6.0</td>\n",
       "      <td>5.0</td>\n",
       "      <td>10.0</td>\n",
       "      <td>21.0</td>\n",
       "      <td>8.0</td>\n",
       "      <td>10.0</td>\n",
       "      <td>13.0</td>\n",
       "      <td>34.0</td>\n",
       "    </tr>\n",
       "    <tr>\n",
       "      <th>&gt;chr10:100021578-100023578</th>\n",
       "      <td>275</td>\n",
       "      <td>236</td>\n",
       "      <td>323</td>\n",
       "      <td>96</td>\n",
       "      <td>339</td>\n",
       "      <td>265</td>\n",
       "      <td>23</td>\n",
       "      <td>323</td>\n",
       "      <td>250</td>\n",
       "      <td>111</td>\n",
       "      <td>...</td>\n",
       "      <td>1.0</td>\n",
       "      <td>9.0</td>\n",
       "      <td>4.0</td>\n",
       "      <td>9.0</td>\n",
       "      <td>3.0</td>\n",
       "      <td>10.0</td>\n",
       "      <td>2.0</td>\n",
       "      <td>7.0</td>\n",
       "      <td>9.0</td>\n",
       "      <td>7.0</td>\n",
       "    </tr>\n",
       "  </tbody>\n",
       "</table>\n",
       "<p>5 rows × 1360 columns</p>\n",
       "</div>"
      ],
      "text/plain": [
       "                             AA   AC   AG   AT   CA   CC  CG   CT   GA   GC  \\\n",
       "0                                                                             \n",
       ">chr10:100009350-100011350  335  246  281  131  327  194  37  281  225  105   \n",
       ">chr10:100018062-100020062  447  208  269  141  280  193  26  269  231   80   \n",
       ">chr10:100018734-100020734  404  229  300  116  284  189  31  300  247   85   \n",
       ">chr10:100019262-100021262  419  232  289  107  289  205  31  289  242   83   \n",
       ">chr10:100021578-100023578  275  236  323   96  339  265  23  323  250  111   \n",
       "\n",
       "                            ...  TTTCG  TTTCT  TTTGA  TTTGC  TTTGG  TTTGT  \\\n",
       "0                           ...                                             \n",
       ">chr10:100009350-100011350  ...    1.0    5.0    6.0   11.0    5.0    7.0   \n",
       ">chr10:100018062-100020062  ...    1.0   13.0   10.0    7.0    6.0   12.0   \n",
       ">chr10:100018734-100020734  ...    2.0   13.0    6.0    4.0    8.0   12.0   \n",
       ">chr10:100019262-100021262  ...    3.0   11.0    6.0    5.0   10.0   21.0   \n",
       ">chr10:100021578-100023578  ...    1.0    9.0    4.0    9.0    3.0   10.0   \n",
       "\n",
       "                            TTTTA  TTTTC  TTTTG  TTTTT  \n",
       "0                                                       \n",
       ">chr10:100009350-100011350    7.0    6.0    9.0   19.0  \n",
       ">chr10:100018062-100020062   17.0   12.0    9.0   46.0  \n",
       ">chr10:100018734-100020734   13.0    9.0    5.0   44.0  \n",
       ">chr10:100019262-100021262    8.0   10.0   13.0   34.0  \n",
       ">chr10:100021578-100023578    2.0    7.0    9.0    7.0  \n",
       "\n",
       "[5 rows x 1360 columns]"
      ]
     },
     "execution_count": 120,
     "metadata": {},
     "output_type": "execute_result"
    }
   ],
   "source": [
    "enhancer_kmers.head()"
   ]
  },
  {
   "cell_type": "code",
   "execution_count": 121,
   "metadata": {},
   "outputs": [
    {
     "data": {
      "text/html": [
       "<div>\n",
       "<style scoped>\n",
       "    .dataframe tbody tr th:only-of-type {\n",
       "        vertical-align: middle;\n",
       "    }\n",
       "\n",
       "    .dataframe tbody tr th {\n",
       "        vertical-align: top;\n",
       "    }\n",
       "\n",
       "    .dataframe thead th {\n",
       "        text-align: right;\n",
       "    }\n",
       "</style>\n",
       "<table border=\"1\" class=\"dataframe\">\n",
       "  <thead>\n",
       "    <tr style=\"text-align: right;\">\n",
       "      <th></th>\n",
       "      <th>0</th>\n",
       "      <th>1</th>\n",
       "      <th>2</th>\n",
       "      <th>3</th>\n",
       "      <th>kmer_format</th>\n",
       "      <th>paired_gene</th>\n",
       "    </tr>\n",
       "  </thead>\n",
       "  <tbody>\n",
       "    <tr>\n",
       "      <th>172128</th>\n",
       "      <td>chr5</td>\n",
       "      <td>63953145</td>\n",
       "      <td>63955145</td>\n",
       "      <td>NaN</td>\n",
       "      <td>&gt;chr5:63953145-63955145</td>\n",
       "      <td>ENSMUSG00000047881</td>\n",
       "    </tr>\n",
       "    <tr>\n",
       "      <th>4627</th>\n",
       "      <td>chr1</td>\n",
       "      <td>56956956</td>\n",
       "      <td>56958956</td>\n",
       "      <td>NaN</td>\n",
       "      <td>&gt;chr1:56956956-56958956</td>\n",
       "      <td>ENSMUSG00000038331</td>\n",
       "    </tr>\n",
       "    <tr>\n",
       "      <th>104504</th>\n",
       "      <td>chr17</td>\n",
       "      <td>87056930</td>\n",
       "      <td>87058930</td>\n",
       "      <td>NaN</td>\n",
       "      <td>&gt;chr17:87056930-87058930</td>\n",
       "      <td>ENSMUSG00000037104</td>\n",
       "    </tr>\n",
       "    <tr>\n",
       "      <th>209733</th>\n",
       "      <td>chr8</td>\n",
       "      <td>61227899</td>\n",
       "      <td>61229899</td>\n",
       "      <td>NaN</td>\n",
       "      <td>&gt;chr8:61227899-61229899</td>\n",
       "      <td>ENSMUSG00000058056</td>\n",
       "    </tr>\n",
       "    <tr>\n",
       "      <th>188007</th>\n",
       "      <td>chr6</td>\n",
       "      <td>87483168</td>\n",
       "      <td>87485168</td>\n",
       "      <td>NaN</td>\n",
       "      <td>&gt;chr6:87483168-87485168</td>\n",
       "      <td>ENSMUSG00000030047</td>\n",
       "    </tr>\n",
       "  </tbody>\n",
       "</table>\n",
       "</div>"
      ],
      "text/plain": [
       "            0         1         2   3               kmer_format  \\\n",
       "172128   chr5  63953145  63955145 NaN   >chr5:63953145-63955145   \n",
       "4627     chr1  56956956  56958956 NaN   >chr1:56956956-56958956   \n",
       "104504  chr17  87056930  87058930 NaN  >chr17:87056930-87058930   \n",
       "209733   chr8  61227899  61229899 NaN   >chr8:61227899-61229899   \n",
       "188007   chr6  87483168  87485168 NaN   >chr6:87483168-87485168   \n",
       "\n",
       "               paired_gene  \n",
       "172128  ENSMUSG00000047881  \n",
       "4627    ENSMUSG00000038331  \n",
       "104504  ENSMUSG00000037104  \n",
       "209733  ENSMUSG00000058056  \n",
       "188007  ENSMUSG00000030047  "
      ]
     },
     "execution_count": 121,
     "metadata": {},
     "output_type": "execute_result"
    }
   ],
   "source": [
    "atac_enhs.head()"
   ]
  },
  {
   "cell_type": "code",
   "execution_count": 122,
   "metadata": {},
   "outputs": [],
   "source": [
    "use_enhs_atac = enhancer_kmers.loc[atac_enhs.kmer_format.values]"
   ]
  },
  {
   "cell_type": "code",
   "execution_count": 123,
   "metadata": {},
   "outputs": [],
   "source": [
    "use_enhs_atac['paired_gene'] = atac_enhs['paired_gene'].values"
   ]
  },
  {
   "cell_type": "code",
   "execution_count": null,
   "metadata": {},
   "outputs": [],
   "source": []
  },
  {
   "cell_type": "code",
   "execution_count": 124,
   "metadata": {},
   "outputs": [],
   "source": [
    "use_promoter_atac = []\n",
    "missing_genes = []\n",
    "for i in use_enhs_atac.paired_gene:\n",
    "    if i in promoter_kmers.index.tolist():\n",
    "        use_promoter_atac.append(promoter_kmers.loc[i])\n",
    "    else: \n",
    "        missing_genes.append(i)"
   ]
  },
  {
   "cell_type": "code",
   "execution_count": 125,
   "metadata": {},
   "outputs": [
    {
     "data": {
      "text/plain": [
       "512"
      ]
     },
     "execution_count": 125,
     "metadata": {},
     "output_type": "execute_result"
    }
   ],
   "source": [
    "len(missing_genes)"
   ]
  },
  {
   "cell_type": "code",
   "execution_count": 126,
   "metadata": {},
   "outputs": [],
   "source": [
    "use_enhs_atac = use_enhs_atac.loc[~(use_enhs_atac.paired_gene.isin(missing_genes))]"
   ]
  },
  {
   "cell_type": "code",
   "execution_count": 127,
   "metadata": {},
   "outputs": [
    {
     "data": {
      "text/plain": [
       "(4312, 1360)"
      ]
     },
     "execution_count": 127,
     "metadata": {},
     "output_type": "execute_result"
    }
   ],
   "source": [
    "use_promoter_atac= np.array(use_promoter_atac)\n",
    "use_promoter_atac.shape"
   ]
  },
  {
   "cell_type": "code",
   "execution_count": 128,
   "metadata": {},
   "outputs": [],
   "source": [
    "atac_enh, atac_prom = cca.fit_transform(use_enhs_atac.drop('paired_gene', axis=1).values, use_promoter_atac)"
   ]
  },
  {
   "cell_type": "code",
   "execution_count": 129,
   "metadata": {},
   "outputs": [
    {
     "data": {
      "text/plain": [
       "SpearmanrResult(correlation=0.72832635811544788, pvalue=0.0)"
      ]
     },
     "execution_count": 129,
     "metadata": {},
     "output_type": "execute_result"
    }
   ],
   "source": [
    "spearmanr(atac_enh[:, 1], atac_prom[:, 1])"
   ]
  },
  {
   "cell_type": "code",
   "execution_count": 130,
   "metadata": {},
   "outputs": [
    {
     "data": {
      "text/plain": [
       "Text(0.5,1,'Second cannonical component')"
      ]
     },
     "execution_count": 130,
     "metadata": {},
     "output_type": "execute_result"
    },
    {
     "name": "stderr",
     "output_type": "stream",
     "text": [
      "/cndd/fangming/venvs/conda_dobro/lib/python3.6/site-packages/matplotlib/font_manager.py:1328: UserWarning: findfont: Font family ['sans-serif'] not found. Falling back to DejaVu Sans\n",
      "  (prop.get_family(), self.defaultFamily[fontext]))\n"
     ]
    },
    {
     "data": {
      "image/png": "[encoded data removed]",
      "text/plain": [
       "<Figure size 432x288 with 1 Axes>"
      ]
     },
     "metadata": {},
     "output_type": "display_data"
    }
   ],
   "source": [
    "plt.scatter(atac_enh[:, 1], atac_prom[:, 1], s=1)\n",
    "plt.xlabel('Enhancer kmers')\n",
    "plt.ylabel('Promoter kmers')\n",
    "plt.title('Second cannonical component')"
   ]
  },
  {
   "cell_type": "code",
   "execution_count": 131,
   "metadata": {},
   "outputs": [
    {
     "data": {
      "text/plain": [
       "Text(0.5,1,'First cannonical component')"
      ]
     },
     "execution_count": 131,
     "metadata": {},
     "output_type": "execute_result"
    },
    {
     "name": "stderr",
     "output_type": "stream",
     "text": [
      "/cndd/fangming/venvs/conda_dobro/lib/python3.6/site-packages/matplotlib/font_manager.py:1328: UserWarning: findfont: Font family ['sans-serif'] not found. Falling back to DejaVu Sans\n",
      "  (prop.get_family(), self.defaultFamily[fontext]))\n"
     ]
    },
    {
     "data": {
      "image/png": "[encoded data removed]",
      "text/plain": [
       "<Figure size 432x288 with 1 Axes>"
      ]
     },
     "metadata": {},
     "output_type": "display_data"
    }
   ],
   "source": [
    "plt.scatter(atac_enh[:, 0], atac_prom[:, 0], s=1)\n",
    "plt.xlabel('Enhancer kmers')\n",
    "plt.ylabel('Promoter kmers')\n",
    "plt.title('First cannonical component')"
   ]
  },
  {
   "cell_type": "code",
   "execution_count": 132,
   "metadata": {},
   "outputs": [
    {
     "data": {
      "text/plain": [
       "SpearmanrResult(correlation=0.80818615443786346, pvalue=0.0)"
      ]
     },
     "execution_count": 132,
     "metadata": {},
     "output_type": "execute_result"
    }
   ],
   "source": [
    "spearmanr(atac_enh[:, 0], atac_prom[:, 0])"
   ]
  },
  {
   "cell_type": "code",
   "execution_count": 133,
   "metadata": {},
   "outputs": [
    {
     "data": {
      "text/plain": [
       "(1693,)"
      ]
     },
     "execution_count": 133,
     "metadata": {},
     "output_type": "execute_result"
    }
   ],
   "source": [
    "atac_enhs.paired_gene.unique().shape"
   ]
  },
  {
   "cell_type": "code",
   "execution_count": 134,
   "metadata": {},
   "outputs": [
    {
     "data": {
      "text/plain": [
       "972"
      ]
     },
     "execution_count": 134,
     "metadata": {},
     "output_type": "execute_result"
    }
   ],
   "source": [
    "np.sum(pd.Series(use_enhs.paired_gene.unique()).isin(atac_enhs.paired_gene.unique()))"
   ]
  },
  {
   "cell_type": "code",
   "execution_count": 135,
   "metadata": {},
   "outputs": [],
   "source": [
    "use_enh_array = use_enhs_atac.drop('paired_gene', axis=1).values\n",
    "kmer_names = use_enhs_atac.columns.to_list()[:-1]\n",
    "promoter_loadings = []\n",
    "enhancer_loadings = []\n",
    "for i in range(use_enh_array.shape[1]):\n",
    "    enhancer_loadings.append(spearmanr(use_enh_array[:, i], atac_enh[:, 0])[0])\n",
    "    promoter_loadings.append(spearmanr(use_promoter_atac[:, i], atac_prom[:, 0])[0])"
   ]
  },
  {
   "cell_type": "code",
   "execution_count": 136,
   "metadata": {},
   "outputs": [
    {
     "data": {
      "text/plain": [
       "<matplotlib.collections.PathCollection at 0x7f8766874c18>"
      ]
     },
     "execution_count": 136,
     "metadata": {},
     "output_type": "execute_result"
    },
    {
     "name": "stderr",
     "output_type": "stream",
     "text": [
      "/cndd/fangming/venvs/conda_dobro/lib/python3.6/site-packages/matplotlib/font_manager.py:1328: UserWarning: findfont: Font family ['sans-serif'] not found. Falling back to DejaVu Sans\n",
      "  (prop.get_family(), self.defaultFamily[fontext]))\n"
     ]
    },
    {
     "data": {
      "image/png": "[encoded data removed]",
      "text/plain": [
       "<Figure size 432x288 with 1 Axes>"
      ]
     },
     "metadata": {},
     "output_type": "display_data"
    }
   ],
   "source": [
    "plt.scatter(enhancer_loadings, promoter_loadings)"
   ]
  },
  {
   "cell_type": "code",
   "execution_count": 137,
   "metadata": {},
   "outputs": [
    {
     "data": {
      "text/plain": [
       "SpearmanrResult(correlation=0.9190527890386494, pvalue=0.0)"
      ]
     },
     "execution_count": 137,
     "metadata": {},
     "output_type": "execute_result"
    }
   ],
   "source": [
    "spearmanr(enhancer_loadings, promoter_loadings)"
   ]
  },
  {
   "cell_type": "markdown",
   "metadata": {},
   "source": [
    "## Fangming: debug gene expression matrix "
   ]
  },
  {
   "cell_type": "code",
   "execution_count": null,
   "metadata": {},
   "outputs": [],
   "source": []
  }
 ],
 "metadata": {
  "kernelspec": {
   "display_name": "Python 3",
   "language": "python",
   "name": "python3"
  },
  "language_info": {
   "codemirror_mode": {
    "name": "ipython",
    "version": 3
   },
   "file_extension": ".py",
   "mimetype": "text/x-python",
   "name": "python",
   "nbconvert_exporter": "python",
   "pygments_lexer": "ipython3",
   "version": "3.6.6"
  }
 },
 "nbformat": 4,
 "nbformat_minor": 2
}
