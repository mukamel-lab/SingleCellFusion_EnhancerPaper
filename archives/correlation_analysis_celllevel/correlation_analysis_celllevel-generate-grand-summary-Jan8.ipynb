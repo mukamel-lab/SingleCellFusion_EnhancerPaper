{
 "cells": [
  {
   "cell_type": "code",
   "execution_count": 1,
   "metadata": {},
   "outputs": [
    {
     "data": {
      "text/plain": [
       "<module 'enhancer_gene_utils' from '../enhancer_gene_utils.py'>"
      ]
     },
     "execution_count": 1,
     "metadata": {},
     "output_type": "execute_result"
    }
   ],
   "source": [
    "import sys\n",
    "sys.path.insert(0, \"/cndd/fangming/CEMBA/snmcseq_dev\")\n",
    "\n",
    "from multiprocessing import Pool,cpu_count\n",
    "from functools import partial\n",
    "\n",
    "from scipy import sparse\n",
    "from scipy import stats\n",
    "import importlib\n",
    "from __init__ import *\n",
    "from __init__jupyterlab import *\n",
    "import snmcseq_utils\n",
    "importlib.reload(snmcseq_utils)\n",
    "\n",
    "import re\n",
    "import pickle\n",
    "import datetime\n",
    "from scipy import optimize\n",
    "\n",
    "import tqdm\n",
    "\n",
    "import importlib\n",
    "sys.path.insert(0, '../')\n",
    "import enhancer_gene_utils\n",
    "importlib.reload(enhancer_gene_utils)"
   ]
  },
  {
   "cell_type": "code",
   "execution_count": 2,
   "metadata": {},
   "outputs": [
    {
     "name": "stdout",
     "output_type": "stream",
     "text": [
      "2021-01-08\n"
     ]
    }
   ],
   "source": [
    "today = datetime.date.today()\n",
    "print(today)"
   ]
  },
  {
   "cell_type": "markdown",
   "metadata": {},
   "source": [
    "# Get grand summary \n",
    "### - 80% cells for 5-time downsampling"
   ]
  },
  {
   "cell_type": "code",
   "execution_count": 3,
   "metadata": {},
   "outputs": [
    {
     "name": "stdout",
     "output_type": "stream",
     "text": [
      "/cndd2/fangming/projects/scf_enhancers/results/2021-01-08_metacell_corr_res_{}\n"
     ]
    }
   ],
   "source": [
    "input_enh_gene_table = '/cndd2/fangming/projects/scf_enhancers/results/200521_to_evals.tsv' \n",
    "output_res = '/cndd2/fangming/projects/scf_enhancers/results/{}_metacell_corr_res_{{}}'.format(today)\n",
    "print(output_res)"
   ]
  },
  {
   "cell_type": "code",
   "execution_count": 4,
   "metadata": {},
   "outputs": [
    {
     "name": "stdout",
     "output_type": "stream",
     "text": [
      "(2589994, 3)\n",
      "6.211456298828125\n"
     ]
    },
    {
     "data": {
      "text/html": [
       "<div>\n",
       "<style scoped>\n",
       "    .dataframe tbody tr th:only-of-type {\n",
       "        vertical-align: middle;\n",
       "    }\n",
       "\n",
       "    .dataframe tbody tr th {\n",
       "        vertical-align: top;\n",
       "    }\n",
       "\n",
       "    .dataframe thead th {\n",
       "        text-align: right;\n",
       "    }\n",
       "</style>\n",
       "<table border=\"1\" class=\"dataframe\">\n",
       "  <thead>\n",
       "    <tr style=\"text-align: right;\">\n",
       "      <th></th>\n",
       "      <th>gene</th>\n",
       "      <th>enh</th>\n",
       "      <th>dist</th>\n",
       "    </tr>\n",
       "  </thead>\n",
       "  <tbody>\n",
       "    <tr>\n",
       "      <th>0</th>\n",
       "      <td>ENSMUSG00000000001</td>\n",
       "      <td>147520</td>\n",
       "      <td>995118</td>\n",
       "    </tr>\n",
       "    <tr>\n",
       "      <th>1</th>\n",
       "      <td>ENSMUSG00000000001</td>\n",
       "      <td>147522</td>\n",
       "      <td>985740</td>\n",
       "    </tr>\n",
       "    <tr>\n",
       "      <th>2</th>\n",
       "      <td>ENSMUSG00000000001</td>\n",
       "      <td>147523</td>\n",
       "      <td>983725</td>\n",
       "    </tr>\n",
       "    <tr>\n",
       "      <th>3</th>\n",
       "      <td>ENSMUSG00000000001</td>\n",
       "      <td>147527</td>\n",
       "      <td>970444</td>\n",
       "    </tr>\n",
       "    <tr>\n",
       "      <th>4</th>\n",
       "      <td>ENSMUSG00000000001</td>\n",
       "      <td>147528</td>\n",
       "      <td>969372</td>\n",
       "    </tr>\n",
       "  </tbody>\n",
       "</table>\n",
       "</div>"
      ],
      "text/plain": [
       "                 gene     enh    dist\n",
       "0  ENSMUSG00000000001  147520  995118\n",
       "1  ENSMUSG00000000001  147522  985740\n",
       "2  ENSMUSG00000000001  147523  983725\n",
       "3  ENSMUSG00000000001  147527  970444\n",
       "4  ENSMUSG00000000001  147528  969372"
      ]
     },
     "execution_count": 4,
     "metadata": {},
     "output_type": "execute_result"
    }
   ],
   "source": [
    "# enhancer-gene linkage\n",
    "ti = time.time()\n",
    "enhancer_gene_to_eval = (pd.read_csv(input_enh_gene_table, sep='\\t')\n",
    "                             [['gene', 'ens', 'dist']]\n",
    "                             .rename(columns={'ens': 'enh'})\n",
    "                        )\n",
    "\n",
    "print(enhancer_gene_to_eval.shape)\n",
    "print(time.time()-ti)\n",
    "enhancer_gene_to_eval.head()"
   ]
  },
  {
   "cell_type": "code",
   "execution_count": 5,
   "metadata": {},
   "outputs": [
    {
     "name": "stderr",
     "output_type": "stream",
     "text": [
      "0it [00:00, ?it/s]"
     ]
    },
    {
     "name": "stdout",
     "output_type": "stream",
     "text": [
      "(25, 3)\n"
     ]
    },
    {
     "name": "stderr",
     "output_type": "stream",
     "text": [
      "25it [00:06,  4.11it/s]"
     ]
    },
    {
     "name": "stdout",
     "output_type": "stream",
     "text": [
      "(1025, 4)\n"
     ]
    },
    {
     "name": "stderr",
     "output_type": "stream",
     "text": [
      "\n"
     ]
    },
    {
     "data": {
      "text/html": [
       "<div>\n",
       "<style scoped>\n",
       "    .dataframe tbody tr th:only-of-type {\n",
       "        vertical-align: middle;\n",
       "    }\n",
       "\n",
       "    .dataframe tbody tr th {\n",
       "        vertical-align: top;\n",
       "    }\n",
       "\n",
       "    .dataframe thead th {\n",
       "        text-align: right;\n",
       "    }\n",
       "</style>\n",
       "<table border=\"1\" class=\"dataframe\">\n",
       "  <thead>\n",
       "    <tr style=\"text-align: right;\">\n",
       "      <th></th>\n",
       "      <th>k</th>\n",
       "      <th>i</th>\n",
       "      <th>r</th>\n",
       "      <th>num_clst</th>\n",
       "    </tr>\n",
       "  </thead>\n",
       "  <tbody>\n",
       "    <tr>\n",
       "      <th>0</th>\n",
       "      <td>100</td>\n",
       "      <td>0</td>\n",
       "      <td>1.000000</td>\n",
       "      <td>16</td>\n",
       "    </tr>\n",
       "    <tr>\n",
       "      <th>1</th>\n",
       "      <td>100</td>\n",
       "      <td>0</td>\n",
       "      <td>1.258925</td>\n",
       "      <td>20</td>\n",
       "    </tr>\n",
       "    <tr>\n",
       "      <th>2</th>\n",
       "      <td>100</td>\n",
       "      <td>0</td>\n",
       "      <td>1.584893</td>\n",
       "      <td>24</td>\n",
       "    </tr>\n",
       "    <tr>\n",
       "      <th>3</th>\n",
       "      <td>100</td>\n",
       "      <td>0</td>\n",
       "      <td>1.995262</td>\n",
       "      <td>29</td>\n",
       "    </tr>\n",
       "    <tr>\n",
       "      <th>4</th>\n",
       "      <td>100</td>\n",
       "      <td>0</td>\n",
       "      <td>2.511886</td>\n",
       "      <td>34</td>\n",
       "    </tr>\n",
       "  </tbody>\n",
       "</table>\n",
       "</div>"
      ],
      "text/plain": [
       "     k  i         r  num_clst\n",
       "0  100  0  1.000000        16\n",
       "1  100  0  1.258925        20\n",
       "2  100  0  1.584893        24\n",
       "3  100  0  1.995262        29\n",
       "4  100  0  2.511886        34"
      ]
     },
     "execution_count": 5,
     "metadata": {},
     "output_type": "execute_result"
    }
   ],
   "source": [
    "# get all clusterings\n",
    "def get_isub_clstfile(fname):\n",
    "    \"\"\"Subsampling index\n",
    "    \"\"\"\n",
    "    pattern = '_sub[0-9]+.tsv.gz' \n",
    "    isub = int(re.findall(pattern, fname)[0][len(\"_sub\"):-len('.tsv.gz')])\n",
    "    return isub \n",
    "\n",
    "def get_knn_clstfile(fname):\n",
    "    \"\"\"cross-modal knn\n",
    "    \"\"\"\n",
    "    pattern = '_knn[0-9]+_' \n",
    "    knn = int(re.findall(pattern, fname)[0][len(\"_knn\"):-len('_')])\n",
    "    return knn \n",
    "\n",
    "f_pattern = (\"/cndd2/fangming/projects/miniatlas/results/\"\n",
    "             \"clusterings_10x_cells_v3_mop_10x_cells_v3_snatac_gene_ka30_knn*_201130_sub*.tsv.gz\"\n",
    "             )\n",
    "fnames = np.sort(glob.glob(f_pattern))\n",
    "iterator_clsts = pd.DataFrame([{'i': get_isub_clstfile(fname),\n",
    "                                'k': get_knn_clstfile(fname),\n",
    "                                'fname': fname,\n",
    "                              } for fname in fnames])\n",
    "print(iterator_clsts.shape)\n",
    "\n",
    "res_clsts = []\n",
    "for idx, row in tqdm.tqdm(iterator_clsts.iterrows()):\n",
    "    isub = row['i']\n",
    "    knn = row['k']\n",
    "    fname = row['fname']\n",
    "    \n",
    "    df = pd.read_csv(fname, index_col=0, sep='\\t')\n",
    "    for col in df.columns:\n",
    "        r = float(col[len('cluster_r'):])\n",
    "        num_clst = len(df[col].unique())\n",
    "        res_clsts.append({\n",
    "            'k': knn,\n",
    "            'i': isub,\n",
    "            'r': r,\n",
    "            'num_clst': num_clst,\n",
    "        })\n",
    "#     break\n",
    "res_clsts = pd.DataFrame(res_clsts)\n",
    "\n",
    "print(res_clsts.shape)\n",
    "res_clsts.head()"
   ]
  },
  {
   "cell_type": "code",
   "execution_count": 6,
   "metadata": {},
   "outputs": [],
   "source": [
    "# a little hack\n",
    "res_clsts['rM'] = (res_clsts['r']*1e6).astype(int)"
   ]
  },
  {
   "cell_type": "code",
   "execution_count": 7,
   "metadata": {},
   "outputs": [
    {
     "data": {
      "image/png": "[encoded data removed]",
      "text/plain": [
       "<Figure size 432x288 with 1 Axes>"
      ]
     },
     "metadata": {
      "image/png": {
       "height": 282,
       "width": 411
      }
     },
     "output_type": "display_data"
    }
   ],
   "source": [
    "fig, ax = plt.subplots()\n",
    "ax.plot(res_clsts['r'].values, res_clsts['num_clst'].values, 'o', markersize=5)\n",
    "ax.set_xscale('log')\n",
    "ax.set_yscale('log')\n",
    "ax.set_xlabel('Resolution (r)')\n",
    "ax.set_ylabel('Num clusters')\n",
    "plt.show()"
   ]
  },
  {
   "cell_type": "code",
   "execution_count": 8,
   "metadata": {},
   "outputs": [],
   "source": [
    "bins = np.linspace(-1,1,201)\n",
    "fdr_threshold = 0.2\n",
    "distance_threshold = 1e5\n",
    "label = 'pairs (<100kb)'\n",
    "\n",
    "col_orders = [\n",
    "            'num_linked_pairs',\n",
    "            'num_linked_genes',\n",
    "            'num_linked_enhs',\n",
    "            'id_linked_pairs',\n",
    "    \n",
    "            'num_correlated_pairs',\n",
    "            'num_correlated_genes',\n",
    "            'num_correlated_enhs',\n",
    "            'id_correlated_pairs',\n",
    "    \n",
    "            'num_total_pairs',\n",
    "            'num_total_genes',\n",
    "            'num_total_enhs',\n",
    "            'id_total_pairs',\n",
    "    \n",
    "            'r_th_linked', \n",
    "            'r_th_correlated_left',\n",
    "            'r_th_correlated_right',\n",
    "    ]"
   ]
  },
  {
   "cell_type": "code",
   "execution_count": 9,
   "metadata": {},
   "outputs": [
    {
     "name": "stdout",
     "output_type": "stream",
     "text": [
      "(750, 4)\n",
      "(750, 4)\n",
      "(750, 5)\n"
     ]
    },
    {
     "data": {
      "text/html": [
       "<div>\n",
       "<style scoped>\n",
       "    .dataframe tbody tr th:only-of-type {\n",
       "        vertical-align: middle;\n",
       "    }\n",
       "\n",
       "    .dataframe tbody tr th {\n",
       "        vertical-align: top;\n",
       "    }\n",
       "\n",
       "    .dataframe thead th {\n",
       "        text-align: right;\n",
       "    }\n",
       "</style>\n",
       "<table border=\"1\" class=\"dataframe\">\n",
       "  <thead>\n",
       "    <tr style=\"text-align: right;\">\n",
       "      <th></th>\n",
       "      <th>r</th>\n",
       "      <th>i</th>\n",
       "      <th>k</th>\n",
       "      <th>fname_mc</th>\n",
       "      <th>fname_atac</th>\n",
       "    </tr>\n",
       "  </thead>\n",
       "  <tbody>\n",
       "    <tr>\n",
       "      <th>0</th>\n",
       "      <td>1.000000</td>\n",
       "      <td>0</td>\n",
       "      <td>100</td>\n",
       "      <td>/cndd2/fangming/projects/scf_enhancers/results...</td>\n",
       "      <td>/cndd2/fangming/projects/scf_enhancers/results...</td>\n",
       "    </tr>\n",
       "    <tr>\n",
       "      <th>1</th>\n",
       "      <td>1.258925</td>\n",
       "      <td>0</td>\n",
       "      <td>100</td>\n",
       "      <td>/cndd2/fangming/projects/scf_enhancers/results...</td>\n",
       "      <td>/cndd2/fangming/projects/scf_enhancers/results...</td>\n",
       "    </tr>\n",
       "    <tr>\n",
       "      <th>2</th>\n",
       "      <td>1.584893</td>\n",
       "      <td>0</td>\n",
       "      <td>100</td>\n",
       "      <td>/cndd2/fangming/projects/scf_enhancers/results...</td>\n",
       "      <td>/cndd2/fangming/projects/scf_enhancers/results...</td>\n",
       "    </tr>\n",
       "    <tr>\n",
       "      <th>3</th>\n",
       "      <td>1.995262</td>\n",
       "      <td>0</td>\n",
       "      <td>100</td>\n",
       "      <td>/cndd2/fangming/projects/scf_enhancers/results...</td>\n",
       "      <td>/cndd2/fangming/projects/scf_enhancers/results...</td>\n",
       "    </tr>\n",
       "    <tr>\n",
       "      <th>4</th>\n",
       "      <td>10.000000</td>\n",
       "      <td>0</td>\n",
       "      <td>100</td>\n",
       "      <td>/cndd2/fangming/projects/scf_enhancers/results...</td>\n",
       "      <td>/cndd2/fangming/projects/scf_enhancers/results...</td>\n",
       "    </tr>\n",
       "  </tbody>\n",
       "</table>\n",
       "</div>"
      ],
      "text/plain": [
       "           r  i    k                                           fname_mc  \\\n",
       "0   1.000000  0  100  /cndd2/fangming/projects/scf_enhancers/results...   \n",
       "1   1.258925  0  100  /cndd2/fangming/projects/scf_enhancers/results...   \n",
       "2   1.584893  0  100  /cndd2/fangming/projects/scf_enhancers/results...   \n",
       "3   1.995262  0  100  /cndd2/fangming/projects/scf_enhancers/results...   \n",
       "4  10.000000  0  100  /cndd2/fangming/projects/scf_enhancers/results...   \n",
       "\n",
       "                                          fname_atac  \n",
       "0  /cndd2/fangming/projects/scf_enhancers/results...  \n",
       "1  /cndd2/fangming/projects/scf_enhancers/results...  \n",
       "2  /cndd2/fangming/projects/scf_enhancers/results...  \n",
       "3  /cndd2/fangming/projects/scf_enhancers/results...  \n",
       "4  /cndd2/fangming/projects/scf_enhancers/results...  "
      ]
     },
     "execution_count": 9,
     "metadata": {},
     "output_type": "execute_result"
    }
   ],
   "source": [
    "# get all (shared) corr analyses\n",
    "def get_resolution(fname):\n",
    "    \"\"\"Resolution\n",
    "    \"\"\"\n",
    "    resolution_pattern = '_cluster_r[0-9.]+_' \n",
    "    r = float(re.findall(resolution_pattern, fname)[0][len(\"_cluster_r\"):-len('_')])\n",
    "    return r\n",
    "    \n",
    "def get_isub(fname):\n",
    "    \"\"\"Subsampling index\n",
    "    \"\"\"\n",
    "    pattern = '_[0-9]_cluster' \n",
    "    isub = int(re.findall(pattern, fname)[0][len(\"_\"):-len('_cluster')])\n",
    "    return isub \n",
    "\n",
    "def get_knn(fname):\n",
    "    \"\"\"cross-modal knn\n",
    "    \"\"\"\n",
    "    pattern = '_knn[0-9]+_' \n",
    "    knn = int(re.findall(pattern, fname)[0][len(\"_knn\"):-len('_')])\n",
    "    return knn \n",
    "\n",
    "# mC\n",
    "f_pattern = (\"/cndd2/fangming/projects/scf_enhancers/results/\"\n",
    "             \"mop_10x_cells_v3_snmcseq_gene_ka30_knn*_201130\"\n",
    "             \"_[0-9]_cluster_r*_spearmanr_corrs.pkl\"\n",
    "            )\n",
    "fnames = np.sort(glob.glob(f_pattern))\n",
    "iterator_mc = pd.DataFrame([{'r': get_resolution(fname),\n",
    "                             'i': get_isub(fname),\n",
    "                             'k': get_knn(fname),\n",
    "                             'fname_mc': fname,\n",
    "                          } for fname in fnames])\n",
    "print(iterator_mc.shape)\n",
    "\n",
    "# ATAC\n",
    "f_pattern = (\"/cndd2/fangming/projects/scf_enhancers/results/\"\n",
    "             \"mop_10x_cells_v3_snatac_gene_ka30_knn*_201130\"\n",
    "             \"_[0-9]_cluster_r*_spearmanr_corrs.pkl\"\n",
    "            )\n",
    "fnames = np.sort(glob.glob(f_pattern))\n",
    "iterator_atac = pd.DataFrame([{'r': get_resolution(fname),\n",
    "                               'i': get_isub(fname),\n",
    "                               'k': get_knn(fname),\n",
    "                               'fname_atac': fname,\n",
    "                              } for fname in fnames])\n",
    "print(iterator_atac.shape)\n",
    "\n",
    "# both\n",
    "iterator_both = pd.merge(iterator_mc, iterator_atac, on=['k', 'r', 'i'])\n",
    "print(iterator_both.shape)\n",
    "iterator_both.head()"
   ]
  },
  {
   "cell_type": "code",
   "execution_count": 10,
   "metadata": {},
   "outputs": [
    {
     "name": "stderr",
     "output_type": "stream",
     "text": [
      "750it [29:26,  2.36s/it]"
     ]
    },
    {
     "name": "stdout",
     "output_type": "stream",
     "text": [
      "(750, 39)\n"
     ]
    },
    {
     "name": "stderr",
     "output_type": "stream",
     "text": [
      "\n"
     ]
    }
   ],
   "source": [
    "# calc corr\n",
    "iterator_both = iterator_both.sort_values(['r', 'i'])\n",
    "# ## test\n",
    "# res_corr = enhancer_gene_utils.get_corr_stats(iterator_both.iloc[[0, 1]], \n",
    "#                                               enhancer_gene_to_eval, col_orders) \n",
    "# ## end of test\n",
    "\n",
    "res_corr = enhancer_gene_utils.get_corr_stats(iterator_both, \n",
    "                                              enhancer_gene_to_eval, col_orders) \n",
    "iterator_both = iterator_both.join(res_corr)\n",
    "# a little hack to avoid merge on float number\n",
    "iterator_both['rM'] = (iterator_both['r']*1e6).astype(int)\n",
    "\n",
    "# merge with res_clsts\n",
    "iterator_both = pd.merge(iterator_both, res_clsts.drop('r', axis=1), on=['rM', 'i', 'k'], how='inner')"
   ]
  },
  {
   "cell_type": "code",
   "execution_count": 11,
   "metadata": {},
   "outputs": [
    {
     "name": "stdout",
     "output_type": "stream",
     "text": [
      "/cndd2/fangming/projects/scf_enhancers/results/2021-01-08_metacell_corr_res_grand_res_summary_table.tsv.gz\n"
     ]
    }
   ],
   "source": [
    "# save this bit\n",
    "output = output_res.format('grand_res_summary_table.tsv.gz')\n",
    "print(output)\n",
    "iterator_both.to_csv(output, sep='\\t', header=True, index=False)"
   ]
  },
  {
   "cell_type": "code",
   "execution_count": 12,
   "metadata": {},
   "outputs": [
    {
     "name": "stdout",
     "output_type": "stream",
     "text": [
      "(750, 46)\n"
     ]
    },
    {
     "data": {
      "text/html": [
       "<div>\n",
       "<style scoped>\n",
       "    .dataframe tbody tr th:only-of-type {\n",
       "        vertical-align: middle;\n",
       "    }\n",
       "\n",
       "    .dataframe tbody tr th {\n",
       "        vertical-align: top;\n",
       "    }\n",
       "\n",
       "    .dataframe thead th {\n",
       "        text-align: right;\n",
       "    }\n",
       "</style>\n",
       "<table border=\"1\" class=\"dataframe\">\n",
       "  <thead>\n",
       "    <tr style=\"text-align: right;\">\n",
       "      <th></th>\n",
       "      <th>r</th>\n",
       "      <th>i</th>\n",
       "      <th>k</th>\n",
       "      <th>fname_mc</th>\n",
       "      <th>fname_atac</th>\n",
       "      <th>num_linked_pairs_mc</th>\n",
       "      <th>num_linked_genes_mc</th>\n",
       "      <th>num_linked_enhs_mc</th>\n",
       "      <th>id_linked_pairs_mc</th>\n",
       "      <th>num_correlated_pairs_mc</th>\n",
       "      <th>...</th>\n",
       "      <th>num_linked_genes_both</th>\n",
       "      <th>num_linked_enhs_both</th>\n",
       "      <th>num_correlated_pairs_both</th>\n",
       "      <th>num_correlated_genes_both</th>\n",
       "      <th>num_correlated_enhs_both</th>\n",
       "      <th>num_total_pairs_both</th>\n",
       "      <th>num_total_genes_both</th>\n",
       "      <th>num_total_enhs_both</th>\n",
       "      <th>rM</th>\n",
       "      <th>num_clst</th>\n",
       "    </tr>\n",
       "  </thead>\n",
       "  <tbody>\n",
       "    <tr>\n",
       "      <th>0</th>\n",
       "      <td>1.0</td>\n",
       "      <td>0</td>\n",
       "      <td>100</td>\n",
       "      <td>/cndd2/fangming/projects/scf_enhancers/results...</td>\n",
       "      <td>/cndd2/fangming/projects/scf_enhancers/results...</td>\n",
       "      <td>2798</td>\n",
       "      <td>1104</td>\n",
       "      <td>2640</td>\n",
       "      <td>[    475     698    1192 ... 2585888 2586075 2...</td>\n",
       "      <td>64766</td>\n",
       "      <td>...</td>\n",
       "      <td>244</td>\n",
       "      <td>354</td>\n",
       "      <td>14563</td>\n",
       "      <td>5269</td>\n",
       "      <td>12332</td>\n",
       "      <td>219808</td>\n",
       "      <td>16157</td>\n",
       "      <td>95613</td>\n",
       "      <td>1000000</td>\n",
       "      <td>16</td>\n",
       "    </tr>\n",
       "    <tr>\n",
       "      <th>1</th>\n",
       "      <td>1.0</td>\n",
       "      <td>0</td>\n",
       "      <td>10</td>\n",
       "      <td>/cndd2/fangming/projects/scf_enhancers/results...</td>\n",
       "      <td>/cndd2/fangming/projects/scf_enhancers/results...</td>\n",
       "      <td>864</td>\n",
       "      <td>479</td>\n",
       "      <td>844</td>\n",
       "      <td>[   1540    1542    1544    4692    8636    86...</td>\n",
       "      <td>60100</td>\n",
       "      <td>...</td>\n",
       "      <td>46</td>\n",
       "      <td>57</td>\n",
       "      <td>16156</td>\n",
       "      <td>5705</td>\n",
       "      <td>13403</td>\n",
       "      <td>219808</td>\n",
       "      <td>16157</td>\n",
       "      <td>95613</td>\n",
       "      <td>1000000</td>\n",
       "      <td>16</td>\n",
       "    </tr>\n",
       "    <tr>\n",
       "      <th>2</th>\n",
       "      <td>1.0</td>\n",
       "      <td>0</td>\n",
       "      <td>30</td>\n",
       "      <td>/cndd2/fangming/projects/scf_enhancers/results...</td>\n",
       "      <td>/cndd2/fangming/projects/scf_enhancers/results...</td>\n",
       "      <td>3782</td>\n",
       "      <td>1417</td>\n",
       "      <td>3551</td>\n",
       "      <td>[    475     481     487 ... 2585888 2586076 2...</td>\n",
       "      <td>52814</td>\n",
       "      <td>...</td>\n",
       "      <td>241</td>\n",
       "      <td>341</td>\n",
       "      <td>20715</td>\n",
       "      <td>6424</td>\n",
       "      <td>16902</td>\n",
       "      <td>219808</td>\n",
       "      <td>16157</td>\n",
       "      <td>95613</td>\n",
       "      <td>1000000</td>\n",
       "      <td>16</td>\n",
       "    </tr>\n",
       "    <tr>\n",
       "      <th>3</th>\n",
       "      <td>1.0</td>\n",
       "      <td>0</td>\n",
       "      <td>50</td>\n",
       "      <td>/cndd2/fangming/projects/scf_enhancers/results...</td>\n",
       "      <td>/cndd2/fangming/projects/scf_enhancers/results...</td>\n",
       "      <td>2743</td>\n",
       "      <td>1140</td>\n",
       "      <td>2597</td>\n",
       "      <td>[    475     487     698 ... 2586075 2586076 2...</td>\n",
       "      <td>52454</td>\n",
       "      <td>...</td>\n",
       "      <td>154</td>\n",
       "      <td>202</td>\n",
       "      <td>18339</td>\n",
       "      <td>6027</td>\n",
       "      <td>15046</td>\n",
       "      <td>219808</td>\n",
       "      <td>16157</td>\n",
       "      <td>95613</td>\n",
       "      <td>1000000</td>\n",
       "      <td>16</td>\n",
       "    </tr>\n",
       "    <tr>\n",
       "      <th>4</th>\n",
       "      <td>1.0</td>\n",
       "      <td>0</td>\n",
       "      <td>5</td>\n",
       "      <td>/cndd2/fangming/projects/scf_enhancers/results...</td>\n",
       "      <td>/cndd2/fangming/projects/scf_enhancers/results...</td>\n",
       "      <td>1180</td>\n",
       "      <td>604</td>\n",
       "      <td>1139</td>\n",
       "      <td>[   1540    1541    1542 ... 2571616 2585868 2...</td>\n",
       "      <td>59630</td>\n",
       "      <td>...</td>\n",
       "      <td>52</td>\n",
       "      <td>60</td>\n",
       "      <td>20306</td>\n",
       "      <td>6407</td>\n",
       "      <td>16456</td>\n",
       "      <td>219808</td>\n",
       "      <td>16157</td>\n",
       "      <td>95613</td>\n",
       "      <td>1000000</td>\n",
       "      <td>16</td>\n",
       "    </tr>\n",
       "  </tbody>\n",
       "</table>\n",
       "<p>5 rows × 46 columns</p>\n",
       "</div>"
      ],
      "text/plain": [
       "     r  i    k                                           fname_mc  \\\n",
       "0  1.0  0  100  /cndd2/fangming/projects/scf_enhancers/results...   \n",
       "1  1.0  0   10  /cndd2/fangming/projects/scf_enhancers/results...   \n",
       "2  1.0  0   30  /cndd2/fangming/projects/scf_enhancers/results...   \n",
       "3  1.0  0   50  /cndd2/fangming/projects/scf_enhancers/results...   \n",
       "4  1.0  0    5  /cndd2/fangming/projects/scf_enhancers/results...   \n",
       "\n",
       "                                          fname_atac  num_linked_pairs_mc  \\\n",
       "0  /cndd2/fangming/projects/scf_enhancers/results...                 2798   \n",
       "1  /cndd2/fangming/projects/scf_enhancers/results...                  864   \n",
       "2  /cndd2/fangming/projects/scf_enhancers/results...                 3782   \n",
       "3  /cndd2/fangming/projects/scf_enhancers/results...                 2743   \n",
       "4  /cndd2/fangming/projects/scf_enhancers/results...                 1180   \n",
       "\n",
       "   num_linked_genes_mc  num_linked_enhs_mc  \\\n",
       "0                 1104                2640   \n",
       "1                  479                 844   \n",
       "2                 1417                3551   \n",
       "3                 1140                2597   \n",
       "4                  604                1139   \n",
       "\n",
       "                                  id_linked_pairs_mc  num_correlated_pairs_mc  \\\n",
       "0  [    475     698    1192 ... 2585888 2586075 2...                    64766   \n",
       "1  [   1540    1542    1544    4692    8636    86...                    60100   \n",
       "2  [    475     481     487 ... 2585888 2586076 2...                    52814   \n",
       "3  [    475     487     698 ... 2586075 2586076 2...                    52454   \n",
       "4  [   1540    1541    1542 ... 2571616 2585868 2...                    59630   \n",
       "\n",
       "   ...  num_linked_genes_both  num_linked_enhs_both num_correlated_pairs_both  \\\n",
       "0  ...                    244                   354                     14563   \n",
       "1  ...                     46                    57                     16156   \n",
       "2  ...                    241                   341                     20715   \n",
       "3  ...                    154                   202                     18339   \n",
       "4  ...                     52                    60                     20306   \n",
       "\n",
       "   num_correlated_genes_both  num_correlated_enhs_both  num_total_pairs_both  \\\n",
       "0                       5269                     12332                219808   \n",
       "1                       5705                     13403                219808   \n",
       "2                       6424                     16902                219808   \n",
       "3                       6027                     15046                219808   \n",
       "4                       6407                     16456                219808   \n",
       "\n",
       "  num_total_genes_both  num_total_enhs_both       rM  num_clst  \n",
       "0                16157                95613  1000000        16  \n",
       "1                16157                95613  1000000        16  \n",
       "2                16157                95613  1000000        16  \n",
       "3                16157                95613  1000000        16  \n",
       "4                16157                95613  1000000        16  \n",
       "\n",
       "[5 rows x 46 columns]"
      ]
     },
     "execution_count": 12,
     "metadata": {},
     "output_type": "execute_result"
    }
   ],
   "source": [
    "iterator_both = pd.read_csv(output, sep='\\t')\n",
    "print(iterator_both.shape)\n",
    "iterator_both.head()"
   ]
  },
  {
   "cell_type": "code",
   "execution_count": 13,
   "metadata": {},
   "outputs": [
    {
     "data": {
      "text/plain": [
       "Index(['r', 'i', 'k', 'fname_mc', 'fname_atac', 'num_linked_pairs_mc',\n",
       "       'num_linked_genes_mc', 'num_linked_enhs_mc', 'id_linked_pairs_mc',\n",
       "       'num_correlated_pairs_mc', 'num_correlated_genes_mc',\n",
       "       'num_correlated_enhs_mc', 'id_correlated_pairs_mc',\n",
       "       'num_total_pairs_mc', 'num_total_genes_mc', 'num_total_enhs_mc',\n",
       "       'id_total_pairs_mc', 'r_th_linked_mc', 'r_th_correlated_left_mc',\n",
       "       'r_th_correlated_right_mc', 'num_linked_pairs_atac',\n",
       "       'num_linked_genes_atac', 'num_linked_enhs_atac', 'id_linked_pairs_atac',\n",
       "       'num_correlated_pairs_atac', 'num_correlated_genes_atac',\n",
       "       'num_correlated_enhs_atac', 'id_correlated_pairs_atac',\n",
       "       'num_total_pairs_atac', 'num_total_genes_atac', 'num_total_enhs_atac',\n",
       "       'id_total_pairs_atac', 'r_th_linked_atac', 'r_th_correlated_left_atac',\n",
       "       'r_th_correlated_right_atac', 'num_linked_pairs_both',\n",
       "       'num_linked_genes_both', 'num_linked_enhs_both',\n",
       "       'num_correlated_pairs_both', 'num_correlated_genes_both',\n",
       "       'num_correlated_enhs_both', 'num_total_pairs_both',\n",
       "       'num_total_genes_both', 'num_total_enhs_both', 'rM', 'num_clst'],\n",
       "      dtype='object')"
      ]
     },
     "execution_count": 13,
     "metadata": {},
     "output_type": "execute_result"
    }
   ],
   "source": [
    "iterator_both.columns"
   ]
  },
  {
   "cell_type": "code",
   "execution_count": null,
   "metadata": {},
   "outputs": [],
   "source": []
  }
 ],
 "metadata": {
  "kernelspec": {
   "display_name": "Python 3",
   "language": "python",
   "name": "python3"
  },
  "language_info": {
   "codemirror_mode": {
    "name": "ipython",
    "version": 3
   },
   "file_extension": ".py",
   "mimetype": "text/x-python",
   "name": "python",
   "nbconvert_exporter": "python",
   "pygments_lexer": "ipython3",
   "version": "3.8.1"
  }
 },
 "nbformat": 4,
 "nbformat_minor": 4
}
