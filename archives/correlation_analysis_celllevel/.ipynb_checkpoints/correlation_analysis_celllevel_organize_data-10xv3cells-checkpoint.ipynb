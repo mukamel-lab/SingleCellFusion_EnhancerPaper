{
 "cells": [
  {
   "cell_type": "code",
   "execution_count": 1,
   "metadata": {},
   "outputs": [],
   "source": [
    "import sys\n",
    "sys.path.insert(0, \"/cndd/fangming/CEMBA/snmcseq_dev\")\n",
    "\n",
    "from multiprocessing import Pool,cpu_count\n",
    "from functools import partial\n",
    "\n",
    "from scipy import sparse\n",
    "from scipy import stats\n",
    "import importlib\n",
    "from __init__ import *\n",
    "from __init__jupyterlab import *\n",
    "import snmcseq_utils\n",
    "importlib.reload(snmcseq_utils)\n",
    "\n",
    "import pickle\n",
    "import datetime"
   ]
  },
  {
   "cell_type": "markdown",
   "metadata": {},
   "source": [
    "# Todo\n",
    "- ..."
   ]
  },
  {
   "cell_type": "code",
   "execution_count": 2,
   "metadata": {},
   "outputs": [
    {
     "name": "stdout",
     "output_type": "stream",
     "text": [
      "2020-08-25\n"
     ]
    }
   ],
   "source": [
    "today = datetime.date.today()\n",
    "print(today)"
   ]
  },
  {
   "cell_type": "markdown",
   "metadata": {},
   "source": [
    "# Load data (pull from everywhere)"
   ]
  },
  {
   "cell_type": "markdown",
   "metadata": {},
   "source": [
    "### old-to-new cell ids (mC) "
   ]
  },
  {
   "cell_type": "code",
   "execution_count": 3,
   "metadata": {},
   "outputs": [
    {
     "name": "stdout",
     "output_type": "stream",
     "text": [
      "(9941, 24)\n"
     ]
    },
    {
     "data": {
      "text/html": [
       "<div>\n",
       "<style scoped>\n",
       "    .dataframe tbody tr th:only-of-type {\n",
       "        vertical-align: middle;\n",
       "    }\n",
       "\n",
       "    .dataframe tbody tr th {\n",
       "        vertical-align: top;\n",
       "    }\n",
       "\n",
       "    .dataframe thead th {\n",
       "        text-align: right;\n",
       "    }\n",
       "</style>\n",
       "<table border=\"1\" class=\"dataframe\">\n",
       "  <thead>\n",
       "    <tr style=\"text-align: right;\">\n",
       "      <th></th>\n",
       "      <th>cell</th>\n",
       "      <th>AllcPath</th>\n",
       "      <th>CCC_Rate</th>\n",
       "      <th>CG_Rate</th>\n",
       "      <th>CG_RateAdj</th>\n",
       "      <th>CH_Rate</th>\n",
       "      <th>CH_RateAdj</th>\n",
       "      <th>FinalReads</th>\n",
       "      <th>InputReads</th>\n",
       "      <th>MappedReads</th>\n",
       "      <th>...</th>\n",
       "      <th>MappingRate</th>\n",
       "      <th>Pos96</th>\n",
       "      <th>Plate</th>\n",
       "      <th>Col96</th>\n",
       "      <th>Row96</th>\n",
       "      <th>Col384</th>\n",
       "      <th>Row384</th>\n",
       "      <th>Batch</th>\n",
       "      <th>old_name</th>\n",
       "      <th>new_name</th>\n",
       "    </tr>\n",
       "  </thead>\n",
       "  <tbody>\n",
       "    <tr>\n",
       "      <th>0</th>\n",
       "      <td>2C_M_0</td>\n",
       "      <td>/gale/raidix/rdx-4/CEMBA_RS1/2C/CEMBA180409_2C...</td>\n",
       "      <td>0.00511</td>\n",
       "      <td>0.77073</td>\n",
       "      <td>0.76955</td>\n",
       "      <td>0.02154</td>\n",
       "      <td>0.01651</td>\n",
       "      <td>1076259.0</td>\n",
       "      <td>2314862</td>\n",
       "      <td>1517338.0</td>\n",
       "      <td>...</td>\n",
       "      <td>0.655477</td>\n",
       "      <td>A10</td>\n",
       "      <td>CEMBA180409_2C_1</td>\n",
       "      <td>9</td>\n",
       "      <td>0</td>\n",
       "      <td>18</td>\n",
       "      <td>0</td>\n",
       "      <td>CEMBA180409_2C</td>\n",
       "      <td>180508_CEMBA_mm_P56_P63_2C_CEMBA180409_2C_1_CE...</td>\n",
       "      <td>snmcseq_gene_2C_M_0</td>\n",
       "    </tr>\n",
       "    <tr>\n",
       "      <th>1</th>\n",
       "      <td>2C_M_1</td>\n",
       "      <td>/gale/raidix/rdx-4/CEMBA_RS1/2C/CEMBA180409_2C...</td>\n",
       "      <td>0.00531</td>\n",
       "      <td>0.75683</td>\n",
       "      <td>0.75553</td>\n",
       "      <td>0.02196</td>\n",
       "      <td>0.01674</td>\n",
       "      <td>1197092.0</td>\n",
       "      <td>2590626</td>\n",
       "      <td>1709334.0</td>\n",
       "      <td>...</td>\n",
       "      <td>0.659815</td>\n",
       "      <td>A10</td>\n",
       "      <td>CEMBA180409_2C_1</td>\n",
       "      <td>9</td>\n",
       "      <td>0</td>\n",
       "      <td>18</td>\n",
       "      <td>1</td>\n",
       "      <td>CEMBA180409_2C</td>\n",
       "      <td>180508_CEMBA_mm_P56_P63_2C_CEMBA180409_2C_1_CE...</td>\n",
       "      <td>snmcseq_gene_2C_M_1</td>\n",
       "    </tr>\n",
       "    <tr>\n",
       "      <th>2</th>\n",
       "      <td>2C_M_10</td>\n",
       "      <td>/gale/raidix/rdx-4/CEMBA_RS1/2C/CEMBA180409_2C...</td>\n",
       "      <td>0.00581</td>\n",
       "      <td>0.75720</td>\n",
       "      <td>0.75578</td>\n",
       "      <td>0.02603</td>\n",
       "      <td>0.02034</td>\n",
       "      <td>1006630.0</td>\n",
       "      <td>2348484</td>\n",
       "      <td>1606410.0</td>\n",
       "      <td>...</td>\n",
       "      <td>0.684020</td>\n",
       "      <td>A11</td>\n",
       "      <td>CEMBA180409_2C_2</td>\n",
       "      <td>10</td>\n",
       "      <td>0</td>\n",
       "      <td>20</td>\n",
       "      <td>0</td>\n",
       "      <td>CEMBA180409_2C</td>\n",
       "      <td>180508_CEMBA_mm_P56_P63_2C_CEMBA180409_2C_1_CE...</td>\n",
       "      <td>snmcseq_gene_2C_M_10</td>\n",
       "    </tr>\n",
       "    <tr>\n",
       "      <th>3</th>\n",
       "      <td>2C_M_100</td>\n",
       "      <td>/gale/raidix/rdx-4/CEMBA_RS1/2C/CEMBA180409_2C...</td>\n",
       "      <td>0.00634</td>\n",
       "      <td>0.74984</td>\n",
       "      <td>0.74824</td>\n",
       "      <td>0.02718</td>\n",
       "      <td>0.02097</td>\n",
       "      <td>2026078.0</td>\n",
       "      <td>4599922</td>\n",
       "      <td>3154619.0</td>\n",
       "      <td>...</td>\n",
       "      <td>0.685798</td>\n",
       "      <td>B1</td>\n",
       "      <td>CEMBA180409_2C_2</td>\n",
       "      <td>0</td>\n",
       "      <td>1</td>\n",
       "      <td>1</td>\n",
       "      <td>2</td>\n",
       "      <td>CEMBA180409_2C</td>\n",
       "      <td>180508_CEMBA_mm_P56_P63_2C_CEMBA180409_2C_1_CE...</td>\n",
       "      <td>snmcseq_gene_2C_M_100</td>\n",
       "    </tr>\n",
       "    <tr>\n",
       "      <th>4</th>\n",
       "      <td>2C_M_1000</td>\n",
       "      <td>/gale/raidix/rdx-4/CEMBA_RS1/2C/CEMBA180409_2C...</td>\n",
       "      <td>0.00521</td>\n",
       "      <td>0.77073</td>\n",
       "      <td>0.76953</td>\n",
       "      <td>0.02117</td>\n",
       "      <td>0.01604</td>\n",
       "      <td>2368464.0</td>\n",
       "      <td>5320502</td>\n",
       "      <td>3648786.0</td>\n",
       "      <td>...</td>\n",
       "      <td>0.685797</td>\n",
       "      <td>F8</td>\n",
       "      <td>CEMBA180409_2C_3</td>\n",
       "      <td>7</td>\n",
       "      <td>5</td>\n",
       "      <td>15</td>\n",
       "      <td>11</td>\n",
       "      <td>CEMBA180409_2C</td>\n",
       "      <td>180508_CEMBA_mm_P56_P63_2C_CEMBA180409_2C_3_CE...</td>\n",
       "      <td>snmcseq_gene_2C_M_1000</td>\n",
       "    </tr>\n",
       "  </tbody>\n",
       "</table>\n",
       "<p>5 rows × 24 columns</p>\n",
       "</div>"
      ],
      "text/plain": [
       "        cell                                           AllcPath  CCC_Rate  \\\n",
       "0     2C_M_0  /gale/raidix/rdx-4/CEMBA_RS1/2C/CEMBA180409_2C...   0.00511   \n",
       "1     2C_M_1  /gale/raidix/rdx-4/CEMBA_RS1/2C/CEMBA180409_2C...   0.00531   \n",
       "2    2C_M_10  /gale/raidix/rdx-4/CEMBA_RS1/2C/CEMBA180409_2C...   0.00581   \n",
       "3   2C_M_100  /gale/raidix/rdx-4/CEMBA_RS1/2C/CEMBA180409_2C...   0.00634   \n",
       "4  2C_M_1000  /gale/raidix/rdx-4/CEMBA_RS1/2C/CEMBA180409_2C...   0.00521   \n",
       "\n",
       "   CG_Rate  CG_RateAdj  CH_Rate  CH_RateAdj  FinalReads  InputReads  \\\n",
       "0  0.77073     0.76955  0.02154     0.01651   1076259.0     2314862   \n",
       "1  0.75683     0.75553  0.02196     0.01674   1197092.0     2590626   \n",
       "2  0.75720     0.75578  0.02603     0.02034   1006630.0     2348484   \n",
       "3  0.74984     0.74824  0.02718     0.02097   2026078.0     4599922   \n",
       "4  0.77073     0.76953  0.02117     0.01604   2368464.0     5320502   \n",
       "\n",
       "   MappedReads  ... MappingRate Pos96             Plate  Col96  Row96 Col384  \\\n",
       "0    1517338.0  ...    0.655477   A10  CEMBA180409_2C_1      9      0     18   \n",
       "1    1709334.0  ...    0.659815   A10  CEMBA180409_2C_1      9      0     18   \n",
       "2    1606410.0  ...    0.684020   A11  CEMBA180409_2C_2     10      0     20   \n",
       "3    3154619.0  ...    0.685798    B1  CEMBA180409_2C_2      0      1      1   \n",
       "4    3648786.0  ...    0.685797    F8  CEMBA180409_2C_3      7      5     15   \n",
       "\n",
       "  Row384           Batch                                           old_name  \\\n",
       "0      0  CEMBA180409_2C  180508_CEMBA_mm_P56_P63_2C_CEMBA180409_2C_1_CE...   \n",
       "1      1  CEMBA180409_2C  180508_CEMBA_mm_P56_P63_2C_CEMBA180409_2C_1_CE...   \n",
       "2      0  CEMBA180409_2C  180508_CEMBA_mm_P56_P63_2C_CEMBA180409_2C_1_CE...   \n",
       "3      2  CEMBA180409_2C  180508_CEMBA_mm_P56_P63_2C_CEMBA180409_2C_1_CE...   \n",
       "4     11  CEMBA180409_2C  180508_CEMBA_mm_P56_P63_2C_CEMBA180409_2C_3_CE...   \n",
       "\n",
       "                 new_name  \n",
       "0     snmcseq_gene_2C_M_0  \n",
       "1     snmcseq_gene_2C_M_1  \n",
       "2    snmcseq_gene_2C_M_10  \n",
       "3   snmcseq_gene_2C_M_100  \n",
       "4  snmcseq_gene_2C_M_1000  \n",
       "\n",
       "[5 rows x 24 columns]"
      ]
     },
     "execution_count": 3,
     "metadata": {},
     "output_type": "execute_result"
    }
   ],
   "source": [
    "# old - new names\n",
    "f = '/cndd/fangming/CEMBA/data/MOp_all/data_freeze/snmc_and_snatac/metadata/MOp_Metadata.tsv.gz'\n",
    "old2new = pd.read_csv(f, sep=\"\\t\")\n",
    "old2new['old_name'] = old2new['AllcPath'].apply(lambda x: x.split('/')[-1][len(\"allc_\"):-len(\".tsv.gz\")])\n",
    "old2new['new_name'] = old2new['cell'].apply(lambda x: 'snmcseq_gene_{}'.format(x))\n",
    "\n",
    "print(old2new.shape)\n",
    "old2new.head()"
   ]
  },
  {
   "cell_type": "markdown",
   "metadata": {},
   "source": [
    "### cell-cell knn matrix"
   ]
  },
  {
   "cell_type": "code",
   "execution_count": 4,
   "metadata": {},
   "outputs": [],
   "source": [
    "# # knn mat \n",
    "# ti = time.time()\n",
    "\n",
    "# # 20 (mC cells) for each row (rna cell)\n",
    "# f = '/cndd2/fangming/projects/miniatlas/results/knn_across_mop_2mods_200727_test_smarter_cells_snmcseq_gene.npz'\n",
    "# cell_cell_knn_mat = sparse.load_npz(f)\n",
    "# f = '/cndd/fangming/CEMBA/data/MOp_all/data_freeze_neurons/smarter_cells_features.cell'\n",
    "# cell_cell_knn_xaxis = snmcseq_utils.import_single_textcol(f)\n",
    "# f = '/cndd/fangming/CEMBA/data/MOp_all/data_freeze_neurons/snmcseq_gene_features.cell'\n",
    "# cell_cell_knn_yaxis = snmcseq_utils.import_single_textcol(f)\n",
    "\n",
    "# print(cell_cell_knn_mat.shape)\n",
    "# print(cell_cell_knn_xaxis.shape, cell_cell_knn_xaxis[:5])\n",
    "# print(cell_cell_knn_yaxis.shape, cell_cell_knn_yaxis[:5])\n",
    "\n",
    "# print(time.time()-ti)"
   ]
  },
  {
   "cell_type": "code",
   "execution_count": 5,
   "metadata": {},
   "outputs": [],
   "source": [
    "# # knn mat within\n",
    "# ti = time.time()\n",
    "\n",
    "# # 20 NN for each row (rna cell)\n",
    "# f = '/cndd2/fangming/projects/miniatlas/results/knn_within_mop_2mods_200727_test_smarter_cells.npz'\n",
    "# cell_cell_knn_mat_within = sparse.load_npz(f)\n",
    "# f = '/cndd/fangming/CEMBA/data/MOp_all/data_freeze_neurons/smarter_cells_features.cell'\n",
    "# cell_cell_knn_mat_within_axis = snmcseq_utils.import_single_textcol(f)\n",
    "\n",
    "# print(cell_cell_knn_mat_within.shape)\n",
    "# print(cell_cell_knn_mat_within_axis.shape, cell_cell_knn_mat_within_axis[:5])\n",
    "\n",
    "# print(time.time()-ti)"
   ]
  },
  {
   "cell_type": "markdown",
   "metadata": {},
   "source": [
    "### enhancer-cell matrix (mC)"
   ]
  },
  {
   "cell_type": "code",
   "execution_count": 6,
   "metadata": {},
   "outputs": [
    {
     "name": "stdout",
     "output_type": "stream",
     "text": [
      "9931\n",
      "9931\n",
      "['snmcseq_gene_3C_M_0' 'snmcseq_gene_3C_M_1' 'snmcseq_gene_3C_M_2'\n",
      " 'snmcseq_gene_3C_M_3' 'snmcseq_gene_3C_M_4']\n",
      "233514\n",
      "  chr    start      end\n",
      "0   1  3083769  3083816\n",
      "1   1  3112234  3112467\n",
      "2   1  3112770  3112986\n",
      "3   1  3113717  3114035\n",
      "4   1  3118790  3118935\n",
      "mCG (233514, 9931)\n",
      "CG (233514, 9931)\n",
      "mCH (233514, 9931)\n",
      "CH (233514, 9931)\n",
      "15.04911994934082\n"
     ]
    }
   ],
   "source": [
    "ti = time.time()\n",
    "\n",
    "# cells \n",
    "f = '/cndd2/fangming/projects/scf_enhancers/enhancer_cell_level/mcg/combined_enh_cell_mc_mats.cell'\n",
    "enhancer_cell_mc_mats_cell = snmcseq_utils.import_single_textcol(f)\n",
    "print(len(enhancer_cell_mc_mats_cell))\n",
    "enhancer_cell_mc_mats_cell = old2new.set_index('old_name').reindex(enhancer_cell_mc_mats_cell)['new_name'].values\n",
    "print(len(enhancer_cell_mc_mats_cell))\n",
    "print(enhancer_cell_mc_mats_cell[:5])\n",
    "\n",
    "# regions\n",
    "f = '/cndd2/fangming/projects/scf_enhancers/enhancer_cell_level/mcg/combined_enh_cell_mc_mats.region'\n",
    "enhancer_cell_mc_mats_region = pd.read_csv(f, sep='\\t') \n",
    "print(len(enhancer_cell_mc_mats_region))\n",
    "print(enhancer_cell_mc_mats_region.head())\n",
    "\n",
    "# takes ~3min to load\n",
    "# enhancer-cell-matrix\n",
    "f = '/cndd2/fangming/projects/scf_enhancers/enhancer_cell_level/mcg/combined_enh_cell_mc_mats.pkl'\n",
    "with open(f, 'rb') as handle:\n",
    "    enhancer_cell_mc_mats = pickle.load(handle)\n",
    "    \n",
    "for col in enhancer_cell_mc_mats.keys():\n",
    "    # was originally cell-by-enhancer; turn into enhancer-by-cell\n",
    "    enhancer_cell_mc_mats[col] = enhancer_cell_mc_mats[col].T \n",
    "    print(col, enhancer_cell_mc_mats[col].shape)\n",
    "    \n",
    "print(time.time()-ti)"
   ]
  },
  {
   "cell_type": "markdown",
   "metadata": {},
   "source": [
    "### enhancer-cell matrix (ATAC)"
   ]
  },
  {
   "cell_type": "code",
   "execution_count": 7,
   "metadata": {},
   "outputs": [
    {
     "name": "stdout",
     "output_type": "stream",
     "text": [
      "135665\n",
      "['snatac_gene_CEMBA171206_3C_AGCGATAGAACCAGGTAAGAGATGATAGAGGC'\n",
      " 'snatac_gene_CEMBA171206_3C_AGCGATAGAACCAGGTAAGAGATGTATAGCCT'\n",
      " 'snatac_gene_CEMBA171206_3C_AGCGATAGAACCAGGTAATGACGTCAGGACGT'\n",
      " 'snatac_gene_CEMBA171206_3C_AGCGATAGAACCAGGTAGGATAACATAGAGGC'\n",
      " 'snatac_gene_CEMBA171206_3C_AGCGATAGAACCAGGTATAGCCTTAGGCGAAG']\n",
      "233524\n",
      "    chr    start      end\n",
      "0  chr1  3083769  3083816\n",
      "1  chr1  3112234  3112467\n",
      "2  chr1  3112770  3112986\n",
      "3  chr1  3113717  3114035\n",
      "4  chr1  3118790  3118935\n",
      "(233524, 135665)\n",
      "5.290282487869263\n"
     ]
    }
   ],
   "source": [
    "ti = time.time()\n",
    "input_dir = '/cndd2/fangming/projects/scf_enhancers/enhancer_cell_level/atac'\n",
    "\n",
    "# cells \n",
    "f = os.path.join(input_dir, 'combined_enh_cell_atac_mat.cell') \n",
    "enhancer_cell_atac_mat_cell = snmcseq_utils.import_single_textcol(f)\n",
    "print(len(enhancer_cell_atac_mat_cell))\n",
    "print(enhancer_cell_atac_mat_cell[:5])\n",
    "\n",
    "# regions\n",
    "f = os.path.join(input_dir, 'combined_enh_cell_atac_mat.region') \n",
    "enhancer_cell_atac_mat_region = pd.read_csv(f, sep='\\t')\n",
    "print(len(enhancer_cell_atac_mat_region))\n",
    "print(enhancer_cell_atac_mat_region.head())\n",
    "\n",
    "# takes ~3min to load\n",
    "# enhancer-cell-matrix\n",
    "f = os.path.join(input_dir, 'combined_enh_cell_atac_mat.npz') \n",
    "enhancer_cell_atac_mat = sparse.load_npz(f)\n",
    "print(enhancer_cell_atac_mat.shape)\n",
    "\n",
    "print(time.time()-ti)"
   ]
  },
  {
   "cell_type": "markdown",
   "metadata": {},
   "source": [
    "### gene-cell matrix (RNA)"
   ]
  },
  {
   "cell_type": "code",
   "execution_count": 8,
   "metadata": {},
   "outputs": [
    {
     "name": "stdout",
     "output_type": "stream",
     "text": [
      "(32324, 6244)\n",
      "4.428145170211792\n"
     ]
    }
   ],
   "source": [
    "# gene-cell matrix (rna)\n",
    "\n",
    "ti = time.time()\n",
    "f = '/cndd/fangming/CEMBA/data/MOp_all/data_freeze_neurons/smarter_cells_features.npz'\n",
    "fgene = '/cndd/fangming/CEMBA/data/MOp_all/data_freeze_neurons/smarter_cells_features.gene'\n",
    "fcell = '/cndd/fangming/CEMBA/data/MOp_all/data_freeze_neurons/smarter_cells_features.cell'\n",
    "\n",
    "gene_cell_rna_mat = snmcseq_utils.load_gc_matrix(fgene, fcell, f)\n",
    "\n",
    "print(gene_cell_rna_mat.data.shape)\n",
    "print(time.time()-ti)\n"
   ]
  },
  {
   "cell_type": "markdown",
   "metadata": {},
   "source": [
    "### enhancer-gene linkage"
   ]
  },
  {
   "cell_type": "code",
   "execution_count": 9,
   "metadata": {},
   "outputs": [
    {
     "name": "stdout",
     "output_type": "stream",
     "text": [
      "(2589994, 18)\n",
      "8.512635231018066\n"
     ]
    },
    {
     "data": {
      "text/html": [
       "<div>\n",
       "<style scoped>\n",
       "    .dataframe tbody tr th:only-of-type {\n",
       "        vertical-align: middle;\n",
       "    }\n",
       "\n",
       "    .dataframe tbody tr th {\n",
       "        vertical-align: top;\n",
       "    }\n",
       "\n",
       "    .dataframe thead th {\n",
       "        text-align: right;\n",
       "    }\n",
       "</style>\n",
       "<table border=\"1\" class=\"dataframe\">\n",
       "  <thead>\n",
       "    <tr style=\"text-align: right;\">\n",
       "      <th></th>\n",
       "      <th>gene</th>\n",
       "      <th>ens</th>\n",
       "      <th>val</th>\n",
       "      <th>val2</th>\n",
       "      <th>val_clustershuffled</th>\n",
       "      <th>val2_clustershuffled</th>\n",
       "      <th>dist</th>\n",
       "      <th>pvalues</th>\n",
       "      <th>fdr&lt;100kb</th>\n",
       "      <th>fdr&lt;200kb</th>\n",
       "      <th>fdr&lt;500kb</th>\n",
       "      <th>fdr&lt;100kb shuffled (cluster label)</th>\n",
       "      <th>pvalues2</th>\n",
       "      <th>fdr2&lt;100kb</th>\n",
       "      <th>fdr2&lt;200kb</th>\n",
       "      <th>fdr2&lt;500kb</th>\n",
       "      <th>fdr2&lt;100kb shuffled (cluster label)</th>\n",
       "      <th>val_both</th>\n",
       "    </tr>\n",
       "  </thead>\n",
       "  <tbody>\n",
       "    <tr>\n",
       "      <th>0</th>\n",
       "      <td>ENSMUSG00000000001</td>\n",
       "      <td>147520</td>\n",
       "      <td>-0.157895</td>\n",
       "      <td>0.127913</td>\n",
       "      <td>-0.169712</td>\n",
       "      <td>-0.049349</td>\n",
       "      <td>995118</td>\n",
       "      <td>0.288079</td>\n",
       "      <td>0.674683</td>\n",
       "      <td>0.736811</td>\n",
       "      <td>0.827139</td>\n",
       "      <td>1.647931</td>\n",
       "      <td>0.383141</td>\n",
       "      <td>0.745977</td>\n",
       "      <td>0.797076</td>\n",
       "      <td>0.872822</td>\n",
       "      <td>1.955898</td>\n",
       "      <td>-0.285808</td>\n",
       "    </tr>\n",
       "    <tr>\n",
       "      <th>1</th>\n",
       "      <td>ENSMUSG00000000001</td>\n",
       "      <td>147522</td>\n",
       "      <td>0.027465</td>\n",
       "      <td>-0.307145</td>\n",
       "      <td>0.064887</td>\n",
       "      <td>0.105591</td>\n",
       "      <td>985740</td>\n",
       "      <td>0.561881</td>\n",
       "      <td>0.830849</td>\n",
       "      <td>0.867082</td>\n",
       "      <td>0.917381</td>\n",
       "      <td>0.958300</td>\n",
       "      <td>0.935264</td>\n",
       "      <td>0.973809</td>\n",
       "      <td>0.979844</td>\n",
       "      <td>0.987476</td>\n",
       "      <td>0.959470</td>\n",
       "      <td>0.334610</td>\n",
       "    </tr>\n",
       "    <tr>\n",
       "      <th>2</th>\n",
       "      <td>ENSMUSG00000000001</td>\n",
       "      <td>147523</td>\n",
       "      <td>-0.040376</td>\n",
       "      <td>0.011489</td>\n",
       "      <td>-0.155487</td>\n",
       "      <td>0.014772</td>\n",
       "      <td>983725</td>\n",
       "      <td>0.457686</td>\n",
       "      <td>0.780196</td>\n",
       "      <td>0.825259</td>\n",
       "      <td>0.889141</td>\n",
       "      <td>1.089312</td>\n",
       "      <td>0.580703</td>\n",
       "      <td>0.841673</td>\n",
       "      <td>0.874844</td>\n",
       "      <td>0.922832</td>\n",
       "      <td>1.273339</td>\n",
       "      <td>-0.051866</td>\n",
       "    </tr>\n",
       "    <tr>\n",
       "      <th>3</th>\n",
       "      <td>ENSMUSG00000000001</td>\n",
       "      <td>147527</td>\n",
       "      <td>-0.070795</td>\n",
       "      <td>0.111719</td>\n",
       "      <td>-0.088084</td>\n",
       "      <td>0.184594</td>\n",
       "      <td>970444</td>\n",
       "      <td>0.411564</td>\n",
       "      <td>0.755088</td>\n",
       "      <td>0.804341</td>\n",
       "      <td>0.874375</td>\n",
       "      <td>1.183332</td>\n",
       "      <td>0.410358</td>\n",
       "      <td>0.761056</td>\n",
       "      <td>0.809464</td>\n",
       "      <td>0.880982</td>\n",
       "      <td>1.812516</td>\n",
       "      <td>-0.182514</td>\n",
       "    </tr>\n",
       "    <tr>\n",
       "      <th>4</th>\n",
       "      <td>ENSMUSG00000000001</td>\n",
       "      <td>147528</td>\n",
       "      <td>0.012583</td>\n",
       "      <td>0.150673</td>\n",
       "      <td>-0.036218</td>\n",
       "      <td>0.147609</td>\n",
       "      <td>969372</td>\n",
       "      <td>0.539123</td>\n",
       "      <td>0.819981</td>\n",
       "      <td>0.858026</td>\n",
       "      <td>0.911467</td>\n",
       "      <td>0.979843</td>\n",
       "      <td>0.345993</td>\n",
       "      <td>0.725803</td>\n",
       "      <td>0.780447</td>\n",
       "      <td>0.862033</td>\n",
       "      <td>2.191506</td>\n",
       "      <td>-0.138090</td>\n",
       "    </tr>\n",
       "  </tbody>\n",
       "</table>\n",
       "</div>"
      ],
      "text/plain": [
       "                 gene     ens       val      val2  val_clustershuffled  \\\n",
       "0  ENSMUSG00000000001  147520 -0.157895  0.127913            -0.169712   \n",
       "1  ENSMUSG00000000001  147522  0.027465 -0.307145             0.064887   \n",
       "2  ENSMUSG00000000001  147523 -0.040376  0.011489            -0.155487   \n",
       "3  ENSMUSG00000000001  147527 -0.070795  0.111719            -0.088084   \n",
       "4  ENSMUSG00000000001  147528  0.012583  0.150673            -0.036218   \n",
       "\n",
       "   val2_clustershuffled    dist   pvalues  fdr<100kb  fdr<200kb  fdr<500kb  \\\n",
       "0             -0.049349  995118  0.288079   0.674683   0.736811   0.827139   \n",
       "1              0.105591  985740  0.561881   0.830849   0.867082   0.917381   \n",
       "2              0.014772  983725  0.457686   0.780196   0.825259   0.889141   \n",
       "3              0.184594  970444  0.411564   0.755088   0.804341   0.874375   \n",
       "4              0.147609  969372  0.539123   0.819981   0.858026   0.911467   \n",
       "\n",
       "   fdr<100kb shuffled (cluster label)  pvalues2  fdr2<100kb  fdr2<200kb  \\\n",
       "0                            1.647931  0.383141    0.745977    0.797076   \n",
       "1                            0.958300  0.935264    0.973809    0.979844   \n",
       "2                            1.089312  0.580703    0.841673    0.874844   \n",
       "3                            1.183332  0.410358    0.761056    0.809464   \n",
       "4                            0.979843  0.345993    0.725803    0.780447   \n",
       "\n",
       "   fdr2<500kb  fdr2<100kb shuffled (cluster label)  val_both  \n",
       "0    0.872822                             1.955898 -0.285808  \n",
       "1    0.987476                             0.959470  0.334610  \n",
       "2    0.922832                             1.273339 -0.051866  \n",
       "3    0.880982                             1.812516 -0.182514  \n",
       "4    0.862033                             2.191506 -0.138090  "
      ]
     },
     "execution_count": 9,
     "metadata": {},
     "output_type": "execute_result"
    }
   ],
   "source": [
    "# enhancer-gene linkage\n",
    "ti = time.time()\n",
    "f = '/cndd2/fangming/projects/scf_enhancers/results/200521_to_evals.tsv'\n",
    "enhancer_gene_to_eval = pd.read_csv(f, sep='\\t')\n",
    "f = '/cndd2/fangming/projects/scf_enhancers/results/200521_to_evals_shuffled.tsv'\n",
    "enhancer_gene_to_eval_shuffled = pd.read_csv(f, sep='\\t')\n",
    "\n",
    "print(enhancer_gene_to_eval.shape)\n",
    "print(time.time()-ti)\n",
    "enhancer_gene_to_eval.head()"
   ]
  },
  {
   "cell_type": "markdown",
   "metadata": {},
   "source": [
    "# Organize data (and save to local folder) "
   ]
  },
  {
   "cell_type": "markdown",
   "metadata": {},
   "source": [
    "### match cells "
   ]
  },
  {
   "cell_type": "code",
   "execution_count": 10,
   "metadata": {},
   "outputs": [
    {
     "name": "stdout",
     "output_type": "stream",
     "text": [
      "9931 6244 135665\n"
     ]
    }
   ],
   "source": [
    "# common_mc_cells = np.intersect1d(enhancer_cell_mc_mats_cell, \n",
    "#                                  cell_cell_knn_yaxis,\n",
    "#                                 ) \n",
    "# common_rna_cells = np.intersect1d(gene_cell_rna_mat.cell, \n",
    "#                                  cell_cell_knn_xaxis) \n",
    "\n",
    "# print(len(common_mc_cells), len(common_rna_cells))\n",
    "\n",
    "common_mc_cells = enhancer_cell_mc_mats_cell\n",
    "common_atac_cells = enhancer_cell_atac_mat_cell \n",
    "common_rna_cells = gene_cell_rna_mat.cell \n",
    "\n",
    "print(len(common_mc_cells), len(common_rna_cells), len(common_atac_cells))"
   ]
  },
  {
   "cell_type": "markdown",
   "metadata": {},
   "source": [
    "### match gene and enhancers "
   ]
  },
  {
   "cell_type": "code",
   "execution_count": 11,
   "metadata": {},
   "outputs": [
    {
     "name": "stdout",
     "output_type": "stream",
     "text": [
      "32324 18988\n",
      "233514 151577\n"
     ]
    }
   ],
   "source": [
    "# just need first number greater than the second\n",
    "print(len(gene_cell_rna_mat.gene), len(enhancer_gene_to_eval['gene'].unique()))\n",
    "print(len(enhancer_cell_mc_mats_region), len(enhancer_gene_to_eval['ens'].unique()))"
   ]
  },
  {
   "cell_type": "markdown",
   "metadata": {},
   "source": [
    "### match common enhancers"
   ]
  },
  {
   "cell_type": "code",
   "execution_count": 12,
   "metadata": {},
   "outputs": [
    {
     "data": {
      "text/html": [
       "<div>\n",
       "<style scoped>\n",
       "    .dataframe tbody tr th:only-of-type {\n",
       "        vertical-align: middle;\n",
       "    }\n",
       "\n",
       "    .dataframe tbody tr th {\n",
       "        vertical-align: top;\n",
       "    }\n",
       "\n",
       "    .dataframe thead th {\n",
       "        text-align: right;\n",
       "    }\n",
       "</style>\n",
       "<table border=\"1\" class=\"dataframe\">\n",
       "  <thead>\n",
       "    <tr style=\"text-align: right;\">\n",
       "      <th></th>\n",
       "      <th>chr</th>\n",
       "      <th>start</th>\n",
       "      <th>end</th>\n",
       "    </tr>\n",
       "  </thead>\n",
       "  <tbody>\n",
       "    <tr>\n",
       "      <th>233509</th>\n",
       "      <td>X</td>\n",
       "      <td>169837855</td>\n",
       "      <td>169838443</td>\n",
       "    </tr>\n",
       "    <tr>\n",
       "      <th>233510</th>\n",
       "      <td>X</td>\n",
       "      <td>169857939</td>\n",
       "      <td>169858058</td>\n",
       "    </tr>\n",
       "    <tr>\n",
       "      <th>233511</th>\n",
       "      <td>X</td>\n",
       "      <td>169890644</td>\n",
       "      <td>169890829</td>\n",
       "    </tr>\n",
       "    <tr>\n",
       "      <th>233512</th>\n",
       "      <td>X</td>\n",
       "      <td>169918008</td>\n",
       "      <td>169918093</td>\n",
       "    </tr>\n",
       "    <tr>\n",
       "      <th>233513</th>\n",
       "      <td>X</td>\n",
       "      <td>169935048</td>\n",
       "      <td>169935204</td>\n",
       "    </tr>\n",
       "  </tbody>\n",
       "</table>\n",
       "</div>"
      ],
      "text/plain": [
       "       chr      start        end\n",
       "233509   X  169837855  169838443\n",
       "233510   X  169857939  169858058\n",
       "233511   X  169890644  169890829\n",
       "233512   X  169918008  169918093\n",
       "233513   X  169935048  169935204"
      ]
     },
     "execution_count": 12,
     "metadata": {},
     "output_type": "execute_result"
    }
   ],
   "source": [
    "enhancer_cell_mc_mats_region.tail()"
   ]
  },
  {
   "cell_type": "code",
   "execution_count": 13,
   "metadata": {},
   "outputs": [
    {
     "data": {
      "text/html": [
       "<div>\n",
       "<style scoped>\n",
       "    .dataframe tbody tr th:only-of-type {\n",
       "        vertical-align: middle;\n",
       "    }\n",
       "\n",
       "    .dataframe tbody tr th {\n",
       "        vertical-align: top;\n",
       "    }\n",
       "\n",
       "    .dataframe thead th {\n",
       "        text-align: right;\n",
       "    }\n",
       "</style>\n",
       "<table border=\"1\" class=\"dataframe\">\n",
       "  <thead>\n",
       "    <tr style=\"text-align: right;\">\n",
       "      <th></th>\n",
       "      <th>chr</th>\n",
       "      <th>start</th>\n",
       "      <th>end</th>\n",
       "    </tr>\n",
       "  </thead>\n",
       "  <tbody>\n",
       "    <tr>\n",
       "      <th>233504</th>\n",
       "      <td>chrX</td>\n",
       "      <td>169794516</td>\n",
       "      <td>169794636</td>\n",
       "    </tr>\n",
       "    <tr>\n",
       "      <th>233505</th>\n",
       "      <td>chrX</td>\n",
       "      <td>169795049</td>\n",
       "      <td>169795261</td>\n",
       "    </tr>\n",
       "    <tr>\n",
       "      <th>233506</th>\n",
       "      <td>chrX</td>\n",
       "      <td>169797486</td>\n",
       "      <td>169797719</td>\n",
       "    </tr>\n",
       "    <tr>\n",
       "      <th>233507</th>\n",
       "      <td>chrX</td>\n",
       "      <td>169811349</td>\n",
       "      <td>169811537</td>\n",
       "    </tr>\n",
       "    <tr>\n",
       "      <th>233508</th>\n",
       "      <td>chrX</td>\n",
       "      <td>169814152</td>\n",
       "      <td>169814807</td>\n",
       "    </tr>\n",
       "    <tr>\n",
       "      <th>233509</th>\n",
       "      <td>chrX</td>\n",
       "      <td>169837855</td>\n",
       "      <td>169838443</td>\n",
       "    </tr>\n",
       "    <tr>\n",
       "      <th>233510</th>\n",
       "      <td>chrX</td>\n",
       "      <td>169857939</td>\n",
       "      <td>169858058</td>\n",
       "    </tr>\n",
       "    <tr>\n",
       "      <th>233511</th>\n",
       "      <td>chrX</td>\n",
       "      <td>169890644</td>\n",
       "      <td>169890829</td>\n",
       "    </tr>\n",
       "    <tr>\n",
       "      <th>233512</th>\n",
       "      <td>chrX</td>\n",
       "      <td>169918008</td>\n",
       "      <td>169918093</td>\n",
       "    </tr>\n",
       "    <tr>\n",
       "      <th>233513</th>\n",
       "      <td>chrX</td>\n",
       "      <td>169935048</td>\n",
       "      <td>169935204</td>\n",
       "    </tr>\n",
       "    <tr>\n",
       "      <th>233514</th>\n",
       "      <td>chrY</td>\n",
       "      <td>1052173</td>\n",
       "      <td>1052340</td>\n",
       "    </tr>\n",
       "    <tr>\n",
       "      <th>233515</th>\n",
       "      <td>chrY</td>\n",
       "      <td>1090664</td>\n",
       "      <td>1090682</td>\n",
       "    </tr>\n",
       "    <tr>\n",
       "      <th>233516</th>\n",
       "      <td>chrY</td>\n",
       "      <td>1299513</td>\n",
       "      <td>1299714</td>\n",
       "    </tr>\n",
       "    <tr>\n",
       "      <th>233517</th>\n",
       "      <td>chrY</td>\n",
       "      <td>90761427</td>\n",
       "      <td>90761479</td>\n",
       "    </tr>\n",
       "    <tr>\n",
       "      <th>233518</th>\n",
       "      <td>chrY</td>\n",
       "      <td>90797432</td>\n",
       "      <td>90797435</td>\n",
       "    </tr>\n",
       "    <tr>\n",
       "      <th>233519</th>\n",
       "      <td>chrY</td>\n",
       "      <td>90798757</td>\n",
       "      <td>90798825</td>\n",
       "    </tr>\n",
       "    <tr>\n",
       "      <th>233520</th>\n",
       "      <td>chrY</td>\n",
       "      <td>90799559</td>\n",
       "      <td>90800504</td>\n",
       "    </tr>\n",
       "    <tr>\n",
       "      <th>233521</th>\n",
       "      <td>chrY</td>\n",
       "      <td>90804088</td>\n",
       "      <td>90805373</td>\n",
       "    </tr>\n",
       "    <tr>\n",
       "      <th>233522</th>\n",
       "      <td>chrY</td>\n",
       "      <td>90808309</td>\n",
       "      <td>90809280</td>\n",
       "    </tr>\n",
       "    <tr>\n",
       "      <th>233523</th>\n",
       "      <td>chrY</td>\n",
       "      <td>90809398</td>\n",
       "      <td>90809664</td>\n",
       "    </tr>\n",
       "  </tbody>\n",
       "</table>\n",
       "</div>"
      ],
      "text/plain": [
       "         chr      start        end\n",
       "233504  chrX  169794516  169794636\n",
       "233505  chrX  169795049  169795261\n",
       "233506  chrX  169797486  169797719\n",
       "233507  chrX  169811349  169811537\n",
       "233508  chrX  169814152  169814807\n",
       "233509  chrX  169837855  169838443\n",
       "233510  chrX  169857939  169858058\n",
       "233511  chrX  169890644  169890829\n",
       "233512  chrX  169918008  169918093\n",
       "233513  chrX  169935048  169935204\n",
       "233514  chrY    1052173    1052340\n",
       "233515  chrY    1090664    1090682\n",
       "233516  chrY    1299513    1299714\n",
       "233517  chrY   90761427   90761479\n",
       "233518  chrY   90797432   90797435\n",
       "233519  chrY   90798757   90798825\n",
       "233520  chrY   90799559   90800504\n",
       "233521  chrY   90804088   90805373\n",
       "233522  chrY   90808309   90809280\n",
       "233523  chrY   90809398   90809664"
      ]
     },
     "execution_count": 13,
     "metadata": {},
     "output_type": "execute_result"
    }
   ],
   "source": [
    "enhancer_cell_atac_mat_region.tail(20)"
   ]
  },
  {
   "cell_type": "code",
   "execution_count": 14,
   "metadata": {},
   "outputs": [
    {
     "name": "stdout",
     "output_type": "stream",
     "text": [
      "(233524, 135665)\n",
      "(233514, 135665)\n"
     ]
    }
   ],
   "source": [
    "print(enhancer_cell_atac_mat.shape)\n",
    "enhancer_cell_atac_mat = enhancer_cell_atac_mat.tocsr()[:len(enhancer_cell_mc_mats_region),:]\n",
    "print(enhancer_cell_atac_mat.shape)"
   ]
  },
  {
   "cell_type": "markdown",
   "metadata": {},
   "source": [
    "### match dimensions of matrices "
   ]
  },
  {
   "cell_type": "code",
   "execution_count": 15,
   "metadata": {},
   "outputs": [
    {
     "name": "stdout",
     "output_type": "stream",
     "text": [
      "(32324, 6244)\n"
     ]
    }
   ],
   "source": [
    "cell_idx_rna = snmcseq_utils.get_index_from_array(gene_cell_rna_mat.cell, common_rna_cells)\n",
    "X = gene_cell_rna_mat.data.tocsc()[:,cell_idx_rna]\n",
    "print(X.shape)"
   ]
  },
  {
   "cell_type": "code",
   "execution_count": 16,
   "metadata": {},
   "outputs": [
    {
     "name": "stdout",
     "output_type": "stream",
     "text": [
      "(233514, 9931) (233514, 9931)\n"
     ]
    }
   ],
   "source": [
    "cell_idx_mc = snmcseq_utils.get_index_from_array(enhancer_cell_mc_mats_cell, common_mc_cells)\n",
    "Y_mcg = enhancer_cell_mc_mats['mCG'].tocsc()[:,cell_idx_mc]\n",
    "Y_cg = enhancer_cell_mc_mats['CG'].tocsc()[:,cell_idx_mc]\n",
    "print(Y_mcg.shape, Y_cg.shape)"
   ]
  },
  {
   "cell_type": "code",
   "execution_count": 17,
   "metadata": {},
   "outputs": [
    {
     "name": "stdout",
     "output_type": "stream",
     "text": [
      "(233514, 135665)\n"
     ]
    }
   ],
   "source": [
    "cell_idx_atac = snmcseq_utils.get_index_from_array(enhancer_cell_atac_mat_cell, common_atac_cells)\n",
    "Y_atac = enhancer_cell_atac_mat.tocsc()[:,cell_idx_atac]\n",
    "print(Y_atac.shape,)"
   ]
  },
  {
   "cell_type": "code",
   "execution_count": 18,
   "metadata": {},
   "outputs": [],
   "source": [
    "# cell_idx_xaxis = snmcseq_utils.get_index_from_array(cell_cell_knn_xaxis, common_rna_cells)\n",
    "# cell_idx_yaxis = snmcseq_utils.get_index_from_array(cell_cell_knn_yaxis, common_mc_cells)\n",
    "\n",
    "# knn_xy = cell_cell_knn_mat.tocsr()[cell_idx_xaxis,:].tocsc()[:,cell_idx_yaxis] # x-by-y\n",
    "# print(knn_xy.shape)"
   ]
  },
  {
   "cell_type": "code",
   "execution_count": 19,
   "metadata": {},
   "outputs": [],
   "source": [
    "# cell_idx_axis = snmcseq_utils.get_index_from_array(cell_cell_knn_mat_within_axis, common_rna_cells)\n",
    "# knn_xx = cell_cell_knn_mat_within.tocsr()[cell_idx_axis,:].tocsc()[:,cell_idx_axis] # x-by-x\n",
    "# print(knn_xx.shape)"
   ]
  },
  {
   "cell_type": "code",
   "execution_count": 20,
   "metadata": {},
   "outputs": [],
   "source": [
    "# print(knn_xx.sum(axis=1)) # weighted ka=5, p=0.7"
   ]
  },
  {
   "cell_type": "markdown",
   "metadata": {},
   "source": [
    "# Save these raw matrices we need later \n",
    "- will be used over and over later "
   ]
  },
  {
   "cell_type": "code",
   "execution_count": 21,
   "metadata": {},
   "outputs": [
    {
     "data": {
      "text/plain": [
       "<233514x135665 sparse matrix of type '<class 'numpy.uint8'>'\n",
       "\twith 101955457 stored elements in Compressed Sparse Column format>"
      ]
     },
     "execution_count": 21,
     "metadata": {},
     "output_type": "execute_result"
    }
   ],
   "source": [
    "# 4 one-dimensional objects\n",
    "# cell_x\n",
    "common_rna_cells\n",
    "# cell_y\n",
    "common_mc_cells\n",
    "# cell_y2\n",
    "common_atac_cells\n",
    "\n",
    "# gene\n",
    "gene_cell_rna_mat.gene\n",
    "# enh\n",
    "enhancer_cell_mc_mats_region\n",
    "\n",
    "# 5 matrices [all in sparse format]\n",
    "# cell (rna) by gene RNA \n",
    "X\n",
    "\n",
    "# cell (mC) by enh mC\n",
    "Y_mcg\n",
    "Y_cg\n",
    "\n",
    "# cell (ATAC) by enh mC\n",
    "Y_atac\n",
    "\n",
    "\n",
    "# # knn_xy (cell_in_x) by (cell_in_y); matched with above \n",
    "# knn_xy\n",
    "\n",
    "# # knn_xx (cell_in_x)\n",
    "# knn_xx"
   ]
  },
  {
   "cell_type": "code",
   "execution_count": 22,
   "metadata": {},
   "outputs": [
    {
     "name": "stdout",
     "output_type": "stream",
     "text": [
      "<class 'numpy.ndarray'> (6244,) cell_smarter_cells.txt\n",
      "<class 'numpy.ndarray'> (9931,) cell_snmcseq_gene.txt\n",
      "<class 'numpy.ndarray'> (135665,) cell_snatac_gene.txt\n",
      "<class 'numpy.ndarray'> (32324,) gene_smarter_cells.txt\n",
      "<class 'pandas.core.frame.DataFrame'> (233514, 3) enh.tsv\n",
      "<class 'scipy.sparse.csc.csc_matrix'> (32324, 6244) mat_smarter_cells.npz\n",
      "<class 'scipy.sparse.csc.csc_matrix'> (233514, 9931) mat_mcg_snmcseq_gene.npz\n",
      "<class 'scipy.sparse.csc.csc_matrix'> (233514, 9931) mat_cg_snmcseq_gene.npz\n",
      "<class 'scipy.sparse.csc.csc_matrix'> (233514, 135665) mat_atac_snatacseq_gene.npz\n"
     ]
    }
   ],
   "source": [
    "bundle = (\n",
    "    common_rna_cells, common_mc_cells, common_atac_cells, \n",
    "    gene_cell_rna_mat.gene, enhancer_cell_mc_mats_region,\n",
    "    X, Y_mcg, Y_cg, Y_atac,\n",
    "    )\n",
    "bundle_fnames = (\n",
    "    'cell_smarter_cells.txt',\n",
    "    'cell_snmcseq_gene.txt',\n",
    "    'cell_snatac_gene.txt',\n",
    "    \n",
    "    'gene_smarter_cells.txt',\n",
    "    'enh.tsv',\n",
    "    \n",
    "    'mat_smarter_cells.npz',\n",
    "    'mat_mcg_snmcseq_gene.npz',\n",
    "    'mat_cg_snmcseq_gene.npz',\n",
    "    'mat_atac_snatacseq_gene.npz',\n",
    "    \n",
    "#     'knn_smarter_cells_snmcseq_gene.npz',\n",
    "#     'knn_smarter_cells.npz',\n",
    ")\n",
    "\n",
    "for item, fname in zip(bundle, bundle_fnames):\n",
    "    print(type(item), item.shape, fname)"
   ]
  },
  {
   "cell_type": "code",
   "execution_count": 23,
   "metadata": {},
   "outputs": [
    {
     "name": "stdout",
     "output_type": "stream",
     "text": [
      "<class 'numpy.ndarray'> (6244,) cell_smarter_cells.txt 0.0006747245788574219\n",
      "<class 'numpy.ndarray'> (9931,) cell_snmcseq_gene.txt 0.0031578540802001953\n",
      "<class 'numpy.ndarray'> (135665,) cell_snatac_gene.txt 0.0055904388427734375\n",
      "<class 'numpy.ndarray'> (32324,) gene_smarter_cells.txt 0.03899979591369629\n",
      "<class 'pandas.core.frame.DataFrame'> (233514, 3) enh.tsv 0.04429173469543457\n",
      "<class 'scipy.sparse.csc.csc_matrix'> (32324, 6244) mat_smarter_cells.npz 0.05871272087097168\n",
      "<class 'scipy.sparse.csc.csc_matrix'> (233514, 9931) mat_mcg_snmcseq_gene.npz 1.8218648433685303\n",
      "<class 'scipy.sparse.csc.csc_matrix'> (233514, 9931) mat_cg_snmcseq_gene.npz 9.160670280456543\n",
      "<class 'scipy.sparse.csc.csc_matrix'> (233514, 135665) mat_atac_snatacseq_gene.npz 20.959280729293823\n"
     ]
    }
   ],
   "source": [
    "f = '/cndd2/fangming/projects/scf_enhancers/data/organized_cell_level/version_aug25'\n",
    "ti = time.time()\n",
    "with snmcseq_utils.cd(f):\n",
    "    for item, fname in zip(bundle, bundle_fnames):\n",
    "        print(type(item), item.shape, fname, time.time()-ti)\n",
    "        #  save all as pickle file\n",
    "        with open(fname, \"wb\") as fh:\n",
    "            pickle.dump(item, fh)"
   ]
  }
 ],
 "metadata": {
  "kernelspec": {
   "display_name": "Python 3",
   "language": "python",
   "name": "python3"
  },
  "language_info": {
   "codemirror_mode": {
    "name": "ipython",
    "version": 3
   },
   "file_extension": ".py",
   "mimetype": "text/x-python",
   "name": "python",
   "nbconvert_exporter": "python",
   "pygments_lexer": "ipython3",
   "version": "3.8.1"
  }
 },
 "nbformat": 4,
 "nbformat_minor": 4
}
