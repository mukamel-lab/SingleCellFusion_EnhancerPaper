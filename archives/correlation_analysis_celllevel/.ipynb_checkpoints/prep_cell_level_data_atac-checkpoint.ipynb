{
 "cells": [
  {
   "cell_type": "code",
   "execution_count": 82,
   "metadata": {},
   "outputs": [],
   "source": [
    "import sys\n",
    "sys.path.insert(0, '/cndd/fangming/CEMBA/snmcseq_dev')\n",
    "\n",
    "from __init__ import *\n",
    "from __init__jupyterlab import *\n",
    "import h5py\n",
    "from scipy import sparse\n",
    "import pickle\n",
    "import snmcseq_utils"
   ]
  },
  {
   "cell_type": "code",
   "execution_count": 81,
   "metadata": {},
   "outputs": [
    {
     "name": "stdout",
     "output_type": "stream",
     "text": [
      "['/cndd2/fangming/projects/scf_enhancers/data/atac_raw/CEMBA180104_4B.snap', '/cndd2/fangming/projects/scf_enhancers/data/atac_raw/CEMBA171213_4B.snap', '/cndd2/fangming/projects/scf_enhancers/data/atac_raw/CEMBA180612_5D.snap', '/cndd2/fangming/projects/scf_enhancers/data/atac_raw/CEMBA171212_4B.snap', '/cndd2/fangming/projects/scf_enhancers/data/atac_raw/CEMBA180618_5D.snap', '/cndd2/fangming/projects/scf_enhancers/data/atac_raw/CEMBA171206_3C.snap', '/cndd2/fangming/projects/scf_enhancers/data/atac_raw/CEMBA171207_3C.snap', '/cndd2/fangming/projects/scf_enhancers/data/atac_raw/CEMBA180410_2C.snap', '/cndd2/fangming/projects/scf_enhancers/data/atac_raw/CEMBA180409_2C.snap']\n",
      "<KeysViewHDF5 ['AM', 'BD', 'FM', 'GM', 'HD', 'PM']>\n",
      "<KeysViewHDF5 ['AM', 'BD', 'FM', 'GM', 'HD', 'PM']>\n",
      "<KeysViewHDF5 ['AM', 'BD', 'FM', 'GM', 'HD', 'PM']>\n",
      "<KeysViewHDF5 ['AM', 'BD', 'FM', 'GM', 'HD', 'PM']>\n",
      "<KeysViewHDF5 ['AM', 'BD', 'FM', 'GM', 'HD', 'PM']>\n",
      "<KeysViewHDF5 ['AM', 'BD', 'FM', 'GM', 'HD', 'PM']>\n",
      "<KeysViewHDF5 ['AM', 'BD', 'FM', 'GM', 'HD', 'PM']>\n",
      "<KeysViewHDF5 ['AM', 'BD', 'FM', 'GM', 'HD', 'PM']>\n",
      "<KeysViewHDF5 ['AM', 'BD', 'FM', 'GM', 'HD', 'PM']>\n"
     ]
    }
   ],
   "source": [
    "# delete all PM\n",
    "\n",
    "fp = '/cndd2/fangming/projects/scf_enhancers/data/atac_raw/*.snap'\n",
    "fs = glob.glob(fp)\n",
    "print(fs)\n",
    "\n",
    "for f in fs:\n",
    "    with h5py.File(f,  \"r\") as fh:\n",
    "        print(fh.keys())\n",
    "    \n",
    "#     if \"CEMBA171206_3C\" in f:\n",
    "#         continue\n",
    "    \n",
    "#     print(f)\n",
    "#     with h5py.File(f,  \"a\") as fh:\n",
    "#         try:\n",
    "#             del fh['PM']\n",
    "#         except:\n",
    "#             pass\n",
    "#         print(fh.keys())"
   ]
  },
  {
   "cell_type": "code",
   "execution_count": 39,
   "metadata": {},
   "outputs": [
    {
     "name": "stdout",
     "output_type": "stream",
     "text": [
      "CM <HDF5 dataset \"CM\": shape (15731,), type \"<u4\">\n",
      "PE <HDF5 dataset \"PE\": shape (15731,), type \"<u4\">\n",
      "PL <HDF5 dataset \"PL\": shape (15731,), type \"<u4\">\n",
      "PP <HDF5 dataset \"PP\": shape (15731,), type \"<u4\">\n",
      "SA <HDF5 dataset \"SA\": shape (15731,), type \"<u4\">\n",
      "SE <HDF5 dataset \"SE\": shape (15731,), type \"<u4\">\n",
      "TN <HDF5 dataset \"TN\": shape (15731,), type \"<u4\">\n",
      "UM <HDF5 dataset \"UM\": shape (15731,), type \"<u4\">\n",
      "UQ <HDF5 dataset \"UQ\": shape (15731,), type \"<u4\">\n",
      "US <HDF5 dataset \"US\": shape (15731,), type \"<u4\">\n",
      "name <HDF5 dataset \"name\": shape (15731,), type \"|O\">\n",
      "...\n",
      "count <HDF5 dataset \"count\": shape (13390019,), type \"|u1\">\n",
      "idx <HDF5 dataset \"idx\": shape (13390019,), type \"<u4\">\n",
      "idy <HDF5 dataset \"idy\": shape (13390019,), type \"<u4\">\n",
      "peakChrom <HDF5 dataset \"peakChrom\": shape (233524,), type \"|O\">\n",
      "peakEnd <HDF5 dataset \"peakEnd\": shape (233524,), type \"<u4\">\n",
      "peakStart <HDF5 dataset \"peakStart\": shape (233524,), type \"<u4\">\n"
     ]
    }
   ],
   "source": [
    "f = '/cndd2/fangming/projects/scf_enhancers/data/atac_raw/CEMBA171206_3C.snap'\n",
    "with h5py.File(f, 'r') as fh:\n",
    "    for key, val in fh['BD'].items():\n",
    "        print(key, val)\n",
    "    print('...')\n",
    "    for key, val in fh['PM'].items():\n",
    "        print(key, val)"
   ]
  },
  {
   "cell_type": "code",
   "execution_count": 40,
   "metadata": {},
   "outputs": [
    {
     "name": "stdout",
     "output_type": "stream",
     "text": [
      "(13390019,)\n",
      "15731\n",
      "233524\n",
      "['AGCGATAGAACCAGGTAAGAGATGATAGAGGC' 'AGCGATAGAACCAGGTAAGAGATGTATAGCCT'\n",
      " 'AGCGATAGAACCAGGTAATGACGTCAGGACGT' ... 'TCTCGCGCTTCCATCCTTCATCCAAGGCGAAG'\n",
      " 'TCTCGCGCTTCCATCCTTGGAAGTCCTATCCT' 'TCTCGCGCTTCCATCCTTGGAAGTTATAGCCT']\n"
     ]
    }
   ],
   "source": [
    "with h5py.File(f, 'r') as fh:\n",
    "    print(fh['PM']['idx'].shape)\n",
    "    print(np.array(fh['PM']['idx']).max()) # cell\n",
    "    print(np.array(fh['PM']['idy']).max()) # peak\n",
    "    \n",
    "    print(np.array([name.decode('utf-8') \n",
    "                    for name in np.array(fh['BD']['name'])]\n",
    "          )) # cellid "
   ]
  },
  {
   "cell_type": "code",
   "execution_count": 55,
   "metadata": {},
   "outputs": [
    {
     "name": "stdout",
     "output_type": "stream",
     "text": [
      "(13390019,) 1 1\n",
      "15731 233524\n",
      "(233524,) (233524,) (233524,)\n"
     ]
    }
   ],
   "source": [
    "with h5py.File(f, 'r') as fh:\n",
    "    # get peak by cell matrix (sparse)\n",
    "    \n",
    "    \n",
    "    # the coo matrix\n",
    "    counts = np.array(fh['PM']['count'])\n",
    "    idx_peak = np.array(fh['PM']['idy']) - 1\n",
    "    idx_cell = np.array(fh['PM']['idx']) - 1\n",
    "    \n",
    "    # cell (cols)\n",
    "    cells = np.array([name.decode('utf-8') \n",
    "                    for name in np.array(fh['BD']['name'])]\n",
    "            ) \n",
    "    ncell = len(cells)\n",
    "    \n",
    "    # peak (rows)\n",
    "    peak_chrs = np.array(fh['PM']['peakChrom'])\n",
    "    peak_starts = np.array(fh['PM']['peakStart'])\n",
    "    peak_ends = np.array(fh['PM']['peakEnd'])\n",
    "    npeak = len(peak_chrs)\n",
    "    \n",
    "    print(fh['PM']['idx'].shape, \n",
    "          np.array(fh['PM']['idx']).min(),\n",
    "          np.array(fh['PM']['idy']).min(),\n",
    "         )\n",
    "    print(ncell, npeak)\n",
    "    print(peak_chrs.shape, peak_starts.shape, peak_ends.shape)\n",
    "    \n",
    "    pmat = sparse.coo_matrix((counts, (idx_peak, idx_cell)), shape=(npeak, ncell))\n",
    "    \n",
    "    "
   ]
  },
  {
   "cell_type": "code",
   "execution_count": 56,
   "metadata": {},
   "outputs": [
    {
     "name": "stdout",
     "output_type": "stream",
     "text": [
      "(233524, 3)\n"
     ]
    },
    {
     "data": {
      "text/html": [
       "<div>\n",
       "<style scoped>\n",
       "    .dataframe tbody tr th:only-of-type {\n",
       "        vertical-align: middle;\n",
       "    }\n",
       "\n",
       "    .dataframe tbody tr th {\n",
       "        vertical-align: top;\n",
       "    }\n",
       "\n",
       "    .dataframe thead th {\n",
       "        text-align: right;\n",
       "    }\n",
       "</style>\n",
       "<table border=\"1\" class=\"dataframe\">\n",
       "  <thead>\n",
       "    <tr style=\"text-align: right;\">\n",
       "      <th></th>\n",
       "      <th>chr</th>\n",
       "      <th>start</th>\n",
       "      <th>end</th>\n",
       "    </tr>\n",
       "  </thead>\n",
       "  <tbody>\n",
       "    <tr>\n",
       "      <th>0</th>\n",
       "      <td>chr1</td>\n",
       "      <td>3083769</td>\n",
       "      <td>3083816</td>\n",
       "    </tr>\n",
       "    <tr>\n",
       "      <th>1</th>\n",
       "      <td>chr1</td>\n",
       "      <td>3112234</td>\n",
       "      <td>3112467</td>\n",
       "    </tr>\n",
       "    <tr>\n",
       "      <th>2</th>\n",
       "      <td>chr1</td>\n",
       "      <td>3112770</td>\n",
       "      <td>3112986</td>\n",
       "    </tr>\n",
       "    <tr>\n",
       "      <th>3</th>\n",
       "      <td>chr1</td>\n",
       "      <td>3113717</td>\n",
       "      <td>3114035</td>\n",
       "    </tr>\n",
       "    <tr>\n",
       "      <th>4</th>\n",
       "      <td>chr1</td>\n",
       "      <td>3118790</td>\n",
       "      <td>3118935</td>\n",
       "    </tr>\n",
       "  </tbody>\n",
       "</table>\n",
       "</div>"
      ],
      "text/plain": [
       "    chr    start      end\n",
       "0  chr1  3083769  3083816\n",
       "1  chr1  3112234  3112467\n",
       "2  chr1  3112770  3112986\n",
       "3  chr1  3113717  3114035\n",
       "4  chr1  3118790  3118935"
      ]
     },
     "execution_count": 56,
     "metadata": {},
     "output_type": "execute_result"
    }
   ],
   "source": [
    "# # all pickle files\n",
    "\n",
    "\n",
    "# output = 'mat_enhancer_atac_snatac_gene.npz'\n",
    "# output = 'enh_snatac_gene.tsv'\n",
    "# output = 'cell_snatac_gene.txt'\n",
    "\n",
    "peak_regions = pd.DataFrame(np.array([peak_chrs, peak_starts, peak_ends]).T, \n",
    "                            columns=['chr', 'start', 'end']\n",
    "                           )\n",
    "peak_regions['chr'] = peak_regions['chr'].apply(lambda x: x.decode('utf-8'))\n",
    "\n",
    "print(peak_regions.shape)\n",
    "peak_regions.head()"
   ]
  },
  {
   "cell_type": "code",
   "execution_count": 57,
   "metadata": {},
   "outputs": [
    {
     "data": {
      "text/plain": [
       "array(['AGCGATAGAACCAGGTAAGAGATGATAGAGGC',\n",
       "       'AGCGATAGAACCAGGTAAGAGATGTATAGCCT',\n",
       "       'AGCGATAGAACCAGGTAATGACGTCAGGACGT', ...,\n",
       "       'TCTCGCGCTTCCATCCTTCATCCAAGGCGAAG',\n",
       "       'TCTCGCGCTTCCATCCTTGGAAGTCCTATCCT',\n",
       "       'TCTCGCGCTTCCATCCTTGGAAGTTATAGCCT'], dtype='<U32')"
      ]
     },
     "execution_count": 57,
     "metadata": {},
     "output_type": "execute_result"
    }
   ],
   "source": [
    "cells"
   ]
  },
  {
   "cell_type": "code",
   "execution_count": 58,
   "metadata": {},
   "outputs": [
    {
     "data": {
      "text/plain": [
       "<233524x15731 sparse matrix of type '<class 'numpy.uint8'>'\n",
       "\twith 13390019 stored elements in COOrdinate format>"
      ]
     },
     "execution_count": 58,
     "metadata": {},
     "output_type": "execute_result"
    }
   ],
   "source": [
    "pmat"
   ]
  },
  {
   "cell_type": "code",
   "execution_count": 59,
   "metadata": {},
   "outputs": [
    {
     "name": "stdout",
     "output_type": "stream",
     "text": [
      "(233524, 15731) (15731,) (233524, 3)\n"
     ]
    }
   ],
   "source": [
    "print(pmat.shape, cells.shape, peak_regions.shape)"
   ]
  },
  {
   "cell_type": "markdown",
   "metadata": {},
   "source": [
    "# iteration 2 "
   ]
  },
  {
   "cell_type": "code",
   "execution_count": 62,
   "metadata": {},
   "outputs": [
    {
     "name": "stdout",
     "output_type": "stream",
     "text": [
      "['/cndd2/fangming/projects/scf_enhancers/data/atac_raw/CEMBA171206_3C.snap'\n",
      " '/cndd2/fangming/projects/scf_enhancers/data/atac_raw/CEMBA171207_3C.snap'\n",
      " '/cndd2/fangming/projects/scf_enhancers/data/atac_raw/CEMBA171212_4B.snap'\n",
      " '/cndd2/fangming/projects/scf_enhancers/data/atac_raw/CEMBA171213_4B.snap'\n",
      " '/cndd2/fangming/projects/scf_enhancers/data/atac_raw/CEMBA180104_4B.snap'\n",
      " '/cndd2/fangming/projects/scf_enhancers/data/atac_raw/CEMBA180409_2C.snap'\n",
      " '/cndd2/fangming/projects/scf_enhancers/data/atac_raw/CEMBA180410_2C.snap'\n",
      " '/cndd2/fangming/projects/scf_enhancers/data/atac_raw/CEMBA180612_5D.snap'\n",
      " '/cndd2/fangming/projects/scf_enhancers/data/atac_raw/CEMBA180618_5D.snap']\n"
     ]
    }
   ],
   "source": [
    "fp = '/cndd2/fangming/projects/scf_enhancers/data/atac_raw/*.snap'\n",
    "fs = np.sort(glob.glob(fp))\n",
    "print(fs)"
   ]
  },
  {
   "cell_type": "code",
   "execution_count": 69,
   "metadata": {},
   "outputs": [
    {
     "name": "stdout",
     "output_type": "stream",
     "text": [
      "CEMBA171206_3C\n",
      "(13390019,) 1 1\n",
      "15731 233524\n",
      "(233524,) (233524,) (233524,)\n",
      "CEMBA171207_3C\n",
      "(14483613,) 1 1\n",
      "14687 233524\n",
      "(233524,) (233524,) (233524,)\n",
      "CEMBA171212_4B\n",
      "(11702297,) 1 1\n",
      "15703 233524\n",
      "(233524,) (233524,) (233524,)\n",
      "CEMBA171213_4B\n",
      "(12520442,) 1 1\n",
      "16184 233524\n",
      "(233524,) (233524,) (233524,)\n",
      "CEMBA180104_4B\n",
      "(7743873,) 1 1\n",
      "13689 233524\n",
      "(233524,) (233524,) (233524,)\n",
      "CEMBA180409_2C\n",
      "(9045085,) 1 2\n",
      "14576 233524\n",
      "(233524,) (233524,) (233524,)\n",
      "CEMBA180410_2C\n",
      "(11960477,) 1 1\n",
      "15586 233524\n",
      "(233524,) (233524,) (233524,)\n",
      "CEMBA180612_5D\n",
      "(11252993,) 1 1\n",
      "14878 233524\n",
      "(233524,) (233524,) (233524,)\n",
      "CEMBA180618_5D\n",
      "(9866100,) 1 2\n",
      "14631 233524\n",
      "(233524,) (233524,) (233524,)\n",
      "(135665,)\n",
      "(233524, 135665)\n"
     ]
    }
   ],
   "source": [
    "\n",
    "pmat_all = []\n",
    "cells_all = []\n",
    "\n",
    "for f in fs:\n",
    "    dataset = f.split('/')[-1][:-len('.snap')]\n",
    "    print(dataset)\n",
    "    with h5py.File(f, 'r') as fh:\n",
    "        # get peak by cell matrix (sparse)\n",
    "\n",
    "\n",
    "        # the coo matrix\n",
    "        counts = np.array(fh['PM']['count'])\n",
    "        idx_peak = np.array(fh['PM']['idy']) - 1\n",
    "        idx_cell = np.array(fh['PM']['idx']) - 1\n",
    "\n",
    "        # cell (cols)\n",
    "        cells = np.array(['snatac_gene_{}_'.format(dataset)+name.decode('utf-8') \n",
    "                        for name in np.array(fh['BD']['name'])]\n",
    "                ) \n",
    "        ncell = len(cells)\n",
    "\n",
    "        # peak (rows)\n",
    "        peak_chrs = np.array(fh['PM']['peakChrom'])\n",
    "        peak_starts = np.array(fh['PM']['peakStart'])\n",
    "        peak_ends = np.array(fh['PM']['peakEnd'])\n",
    "        npeak = len(peak_chrs)\n",
    "\n",
    "        print(fh['PM']['idx'].shape, \n",
    "              np.array(fh['PM']['idx']).min(),\n",
    "              np.array(fh['PM']['idy']).min(),\n",
    "             )\n",
    "        print(ncell, npeak)\n",
    "        print(peak_chrs.shape, peak_starts.shape, peak_ends.shape)\n",
    "\n",
    "        pmat = sparse.coo_matrix((counts, (idx_peak, idx_cell)), shape=(npeak, ncell))\n",
    "        # concat\n",
    "        pmat_all.append(pmat)\n",
    "        cells_all.append(cells)\n",
    "\n",
    "cells_all = np.hstack(cells_all)\n",
    "print(cells_all.shape)\n",
    "    \n",
    "pmat_all = sparse.hstack(pmat_all)\n",
    "print(pmat_all.shape)\n",
    "    "
   ]
  },
  {
   "cell_type": "code",
   "execution_count": 74,
   "metadata": {},
   "outputs": [
    {
     "name": "stdout",
     "output_type": "stream",
     "text": [
      "(233524, 3)\n"
     ]
    },
    {
     "data": {
      "text/html": [
       "<div>\n",
       "<style scoped>\n",
       "    .dataframe tbody tr th:only-of-type {\n",
       "        vertical-align: middle;\n",
       "    }\n",
       "\n",
       "    .dataframe tbody tr th {\n",
       "        vertical-align: top;\n",
       "    }\n",
       "\n",
       "    .dataframe thead th {\n",
       "        text-align: right;\n",
       "    }\n",
       "</style>\n",
       "<table border=\"1\" class=\"dataframe\">\n",
       "  <thead>\n",
       "    <tr style=\"text-align: right;\">\n",
       "      <th></th>\n",
       "      <th>chr</th>\n",
       "      <th>start</th>\n",
       "      <th>end</th>\n",
       "    </tr>\n",
       "  </thead>\n",
       "  <tbody>\n",
       "    <tr>\n",
       "      <th>0</th>\n",
       "      <td>chr1</td>\n",
       "      <td>3083769</td>\n",
       "      <td>3083816</td>\n",
       "    </tr>\n",
       "    <tr>\n",
       "      <th>1</th>\n",
       "      <td>chr1</td>\n",
       "      <td>3112234</td>\n",
       "      <td>3112467</td>\n",
       "    </tr>\n",
       "    <tr>\n",
       "      <th>2</th>\n",
       "      <td>chr1</td>\n",
       "      <td>3112770</td>\n",
       "      <td>3112986</td>\n",
       "    </tr>\n",
       "    <tr>\n",
       "      <th>3</th>\n",
       "      <td>chr1</td>\n",
       "      <td>3113717</td>\n",
       "      <td>3114035</td>\n",
       "    </tr>\n",
       "    <tr>\n",
       "      <th>4</th>\n",
       "      <td>chr1</td>\n",
       "      <td>3118790</td>\n",
       "      <td>3118935</td>\n",
       "    </tr>\n",
       "  </tbody>\n",
       "</table>\n",
       "</div>"
      ],
      "text/plain": [
       "    chr    start      end\n",
       "0  chr1  3083769  3083816\n",
       "1  chr1  3112234  3112467\n",
       "2  chr1  3112770  3112986\n",
       "3  chr1  3113717  3114035\n",
       "4  chr1  3118790  3118935"
      ]
     },
     "execution_count": 74,
     "metadata": {},
     "output_type": "execute_result"
    }
   ],
   "source": [
    "# # all pickle files\n",
    "\n",
    "\n",
    "peak_regions = pd.DataFrame(np.array([peak_chrs, peak_starts, peak_ends]).T, \n",
    "                            columns=['chr', 'start', 'end']\n",
    "                           )\n",
    "peak_regions['chr'] = peak_regions['chr'].apply(lambda x: x.decode('utf-8'))\n",
    "\n",
    "print(peak_regions.shape)\n",
    "peak_regions.head()"
   ]
  },
  {
   "cell_type": "code",
   "execution_count": 75,
   "metadata": {},
   "outputs": [
    {
     "data": {
      "text/plain": [
       "array(['snatac_gene_CEMBA171206_3C_AGCGATAGAACCAGGTAAGAGATGATAGAGGC',\n",
       "       'snatac_gene_CEMBA171206_3C_AGCGATAGAACCAGGTAAGAGATGTATAGCCT',\n",
       "       'snatac_gene_CEMBA171206_3C_AGCGATAGAACCAGGTAATGACGTCAGGACGT', ...,\n",
       "       'snatac_gene_CEMBA180618_5D_TCCGGAGATTCCATCCTATAGCCTCGAATTCC',\n",
       "       'snatac_gene_CEMBA180618_5D_TCCGGAGATTCCATCCTATAGCCTTAAGATCC',\n",
       "       'snatac_gene_CEMBA180618_5D_TCCGGAGATTCCATCCTATAGCCTTTGGAAGT'],\n",
       "      dtype='<U59')"
      ]
     },
     "execution_count": 75,
     "metadata": {},
     "output_type": "execute_result"
    }
   ],
   "source": [
    "cells_all"
   ]
  },
  {
   "cell_type": "code",
   "execution_count": 76,
   "metadata": {},
   "outputs": [
    {
     "data": {
      "text/plain": [
       "<233524x135665 sparse matrix of type '<class 'numpy.uint8'>'\n",
       "\twith 101964899 stored elements in COOrdinate format>"
      ]
     },
     "execution_count": 76,
     "metadata": {},
     "output_type": "execute_result"
    }
   ],
   "source": [
    "pmat_all"
   ]
  },
  {
   "cell_type": "code",
   "execution_count": 77,
   "metadata": {},
   "outputs": [
    {
     "name": "stdout",
     "output_type": "stream",
     "text": [
      "(233524, 135665) (135665,) (233524, 3)\n"
     ]
    }
   ],
   "source": [
    "print(pmat_all.shape, cells_all.shape, peak_regions.shape)"
   ]
  },
  {
   "cell_type": "code",
   "execution_count": 79,
   "metadata": {},
   "outputs": [
    {
     "name": "stdout",
     "output_type": "stream",
     "text": [
      "/cndd2/fangming/projects/scf_enhancers/data/organized_cell_level/version_july29/mat_enhancer_atac_snatac_gene.npz\n",
      "/cndd2/fangming/projects/scf_enhancers/data/organized_cell_level/version_july29/enh_snatac_gene.tsv\n",
      "/cndd2/fangming/projects/scf_enhancers/data/organized_cell_level/version_july29/cell_snatac_gene.txt\n"
     ]
    }
   ],
   "source": [
    "# output_dir = '/cndd2/fangming/projects/scf_enhancers/data/organized_cell_level/version_july29'\n",
    "# outputs = [\n",
    "#     'mat_enhancer_atac_snatac_gene.npz',\n",
    "#     'enh_snatac_gene.tsv', \n",
    "#     'cell_snatac_gene.txt',\n",
    "#     ]\n",
    "# output_objs = [\n",
    "#     pmat_all, \n",
    "#     peak_regions,\n",
    "#     cells_all,\n",
    "# ]\n",
    "\n",
    "# for f, obj in zip(outputs, output_objs):\n",
    "#     f = os.path.join(output_dir, f) \n",
    "#     print(f)\n",
    "#     with open(f, 'wb') as fh:\n",
    "#         pickle.dump(obj, fh)"
   ]
  },
  {
   "cell_type": "code",
   "execution_count": 83,
   "metadata": {},
   "outputs": [],
   "source": [
    "output_dir = '/cndd2/fangming/projects/scf_enhancers/enhancer_cell_level/atac'\n",
    "\n",
    "f = os.path.join(output_dir, 'combined_enh_cell_atac_mat.cell') \n",
    "snmcseq_utils.export_single_textcol(f, cells_all)\n",
    "\n",
    "f = os.path.join(output_dir, 'combined_enh_cell_atac_mat.region') \n",
    "peak_regions.to_csv(f, sep='\\t', header=True, index=False)\n",
    "\n",
    "f = os.path.join(output_dir, 'combined_enh_cell_atac_mat.npz') \n",
    "sparse.save_npz(f, pmat_all)"
   ]
  }
 ],
 "metadata": {
  "kernelspec": {
   "display_name": "Python 3",
   "language": "python",
   "name": "python3"
  },
  "language_info": {
   "codemirror_mode": {
    "name": "ipython",
    "version": 3
   },
   "file_extension": ".py",
   "mimetype": "text/x-python",
   "name": "python",
   "nbconvert_exporter": "python",
   "pygments_lexer": "ipython3",
   "version": "3.8.1"
  }
 },
 "nbformat": 4,
 "nbformat_minor": 4
}
