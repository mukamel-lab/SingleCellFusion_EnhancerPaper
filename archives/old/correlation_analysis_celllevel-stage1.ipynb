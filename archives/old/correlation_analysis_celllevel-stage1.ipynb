{
 "cells": [
  {
   "cell_type": "code",
   "execution_count": 2,
   "metadata": {},
   "outputs": [],
   "source": [
    "import sys\n",
    "sys.path.insert(0, \"/cndd/fangming/CEMBA/snmcseq_dev\")\n",
    "\n",
    "from multiprocessing import Pool,cpu_count\n",
    "from functools import partial\n",
    "\n",
    "from scipy import sparse\n",
    "import importlib\n",
    "from __init__ import *\n",
    "from __init__jupyterlab import *\n",
    "import snmcseq_utils\n",
    "importlib.reload(snmcseq_utils)\n",
    "\n",
    "import pickle\n",
    "import datetime"
   ]
  },
  {
   "cell_type": "markdown",
   "metadata": {},
   "source": [
    "- read enhancer-cell-matrix (mcg)\n",
    "- read gene-cell matrix (rna)\n",
    "- read kNN matrix (from previous files)\n",
    "- read enhancer-gene linkage files (from previous files)\n",
    "\n",
    "- do the analysis"
   ]
  },
  {
   "cell_type": "markdown",
   "metadata": {},
   "source": [
    "# Todo\n",
    "\n",
    "- figure out the best matrix multiplications to do\n",
    "\n",
    "- make sure the enhancer-gene linkage file match"
   ]
  },
  {
   "cell_type": "code",
   "execution_count": 3,
   "metadata": {},
   "outputs": [
    {
     "name": "stdout",
     "output_type": "stream",
     "text": [
      "2020-07-28\n"
     ]
    }
   ],
   "source": [
    "today = datetime.date.today()\n",
    "print(today)"
   ]
  },
  {
   "cell_type": "code",
   "execution_count": 4,
   "metadata": {},
   "outputs": [],
   "source": [
    "# check memory usage\n",
    "# how can it be speed up?\n",
    "# each enhancer matrix costs ~ 10GB = E5 (regions) E4 (cells) E1 (float64 type costs 8 bytes)\n",
    "# example_sizes = {\n",
    "#     \"int\": 3,\n",
    "#     \"float\": 3.0, \n",
    "#     \"str\": \"3\", \n",
    "#     \"list\": [],\n",
    "#     \"list2\": [3,],\n",
    "#     \"tuple\": (),\n",
    "#     \"tuple2\": (3,),\n",
    "#     \"np_float32\": np.float32(3.0),\n",
    "#     \"np_float64\": np.float64(3.0),\n",
    "# }\n",
    "\n",
    "# for key, val in example_sizes.items():\n",
    "#     print(key, sys.getsizeof(val))\n",
    "    \n",
    "# print(sys.getsizeof(A), A.size, A.itemsize)"
   ]
  },
  {
   "cell_type": "markdown",
   "metadata": {},
   "source": [
    "# Load data (pull from everywhere)"
   ]
  },
  {
   "cell_type": "markdown",
   "metadata": {},
   "source": [
    "### old-to-new cell ids (mC) "
   ]
  },
  {
   "cell_type": "code",
   "execution_count": 5,
   "metadata": {},
   "outputs": [
    {
     "name": "stdout",
     "output_type": "stream",
     "text": [
      "(9941, 24)\n"
     ]
    },
    {
     "data": {
      "text/html": [
       "<div>\n",
       "<style scoped>\n",
       "    .dataframe tbody tr th:only-of-type {\n",
       "        vertical-align: middle;\n",
       "    }\n",
       "\n",
       "    .dataframe tbody tr th {\n",
       "        vertical-align: top;\n",
       "    }\n",
       "\n",
       "    .dataframe thead th {\n",
       "        text-align: right;\n",
       "    }\n",
       "</style>\n",
       "<table border=\"1\" class=\"dataframe\">\n",
       "  <thead>\n",
       "    <tr style=\"text-align: right;\">\n",
       "      <th></th>\n",
       "      <th>cell</th>\n",
       "      <th>AllcPath</th>\n",
       "      <th>CCC_Rate</th>\n",
       "      <th>CG_Rate</th>\n",
       "      <th>CG_RateAdj</th>\n",
       "      <th>CH_Rate</th>\n",
       "      <th>CH_RateAdj</th>\n",
       "      <th>FinalReads</th>\n",
       "      <th>InputReads</th>\n",
       "      <th>MappedReads</th>\n",
       "      <th>...</th>\n",
       "      <th>MappingRate</th>\n",
       "      <th>Pos96</th>\n",
       "      <th>Plate</th>\n",
       "      <th>Col96</th>\n",
       "      <th>Row96</th>\n",
       "      <th>Col384</th>\n",
       "      <th>Row384</th>\n",
       "      <th>Batch</th>\n",
       "      <th>old_name</th>\n",
       "      <th>new_name</th>\n",
       "    </tr>\n",
       "  </thead>\n",
       "  <tbody>\n",
       "    <tr>\n",
       "      <th>0</th>\n",
       "      <td>2C_M_0</td>\n",
       "      <td>/gale/raidix/rdx-4/CEMBA_RS1/2C/CEMBA180409_2C...</td>\n",
       "      <td>0.00511</td>\n",
       "      <td>0.77073</td>\n",
       "      <td>0.76955</td>\n",
       "      <td>0.02154</td>\n",
       "      <td>0.01651</td>\n",
       "      <td>1076259.0</td>\n",
       "      <td>2314862</td>\n",
       "      <td>1517338.0</td>\n",
       "      <td>...</td>\n",
       "      <td>0.655477</td>\n",
       "      <td>A10</td>\n",
       "      <td>CEMBA180409_2C_1</td>\n",
       "      <td>9</td>\n",
       "      <td>0</td>\n",
       "      <td>18</td>\n",
       "      <td>0</td>\n",
       "      <td>CEMBA180409_2C</td>\n",
       "      <td>180508_CEMBA_mm_P56_P63_2C_CEMBA180409_2C_1_CE...</td>\n",
       "      <td>snmcseq_gene_2C_M_0</td>\n",
       "    </tr>\n",
       "    <tr>\n",
       "      <th>1</th>\n",
       "      <td>2C_M_1</td>\n",
       "      <td>/gale/raidix/rdx-4/CEMBA_RS1/2C/CEMBA180409_2C...</td>\n",
       "      <td>0.00531</td>\n",
       "      <td>0.75683</td>\n",
       "      <td>0.75553</td>\n",
       "      <td>0.02196</td>\n",
       "      <td>0.01674</td>\n",
       "      <td>1197092.0</td>\n",
       "      <td>2590626</td>\n",
       "      <td>1709334.0</td>\n",
       "      <td>...</td>\n",
       "      <td>0.659815</td>\n",
       "      <td>A10</td>\n",
       "      <td>CEMBA180409_2C_1</td>\n",
       "      <td>9</td>\n",
       "      <td>0</td>\n",
       "      <td>18</td>\n",
       "      <td>1</td>\n",
       "      <td>CEMBA180409_2C</td>\n",
       "      <td>180508_CEMBA_mm_P56_P63_2C_CEMBA180409_2C_1_CE...</td>\n",
       "      <td>snmcseq_gene_2C_M_1</td>\n",
       "    </tr>\n",
       "    <tr>\n",
       "      <th>2</th>\n",
       "      <td>2C_M_10</td>\n",
       "      <td>/gale/raidix/rdx-4/CEMBA_RS1/2C/CEMBA180409_2C...</td>\n",
       "      <td>0.00581</td>\n",
       "      <td>0.75720</td>\n",
       "      <td>0.75578</td>\n",
       "      <td>0.02603</td>\n",
       "      <td>0.02034</td>\n",
       "      <td>1006630.0</td>\n",
       "      <td>2348484</td>\n",
       "      <td>1606410.0</td>\n",
       "      <td>...</td>\n",
       "      <td>0.684020</td>\n",
       "      <td>A11</td>\n",
       "      <td>CEMBA180409_2C_2</td>\n",
       "      <td>10</td>\n",
       "      <td>0</td>\n",
       "      <td>20</td>\n",
       "      <td>0</td>\n",
       "      <td>CEMBA180409_2C</td>\n",
       "      <td>180508_CEMBA_mm_P56_P63_2C_CEMBA180409_2C_1_CE...</td>\n",
       "      <td>snmcseq_gene_2C_M_10</td>\n",
       "    </tr>\n",
       "    <tr>\n",
       "      <th>3</th>\n",
       "      <td>2C_M_100</td>\n",
       "      <td>/gale/raidix/rdx-4/CEMBA_RS1/2C/CEMBA180409_2C...</td>\n",
       "      <td>0.00634</td>\n",
       "      <td>0.74984</td>\n",
       "      <td>0.74824</td>\n",
       "      <td>0.02718</td>\n",
       "      <td>0.02097</td>\n",
       "      <td>2026078.0</td>\n",
       "      <td>4599922</td>\n",
       "      <td>3154619.0</td>\n",
       "      <td>...</td>\n",
       "      <td>0.685798</td>\n",
       "      <td>B1</td>\n",
       "      <td>CEMBA180409_2C_2</td>\n",
       "      <td>0</td>\n",
       "      <td>1</td>\n",
       "      <td>1</td>\n",
       "      <td>2</td>\n",
       "      <td>CEMBA180409_2C</td>\n",
       "      <td>180508_CEMBA_mm_P56_P63_2C_CEMBA180409_2C_1_CE...</td>\n",
       "      <td>snmcseq_gene_2C_M_100</td>\n",
       "    </tr>\n",
       "    <tr>\n",
       "      <th>4</th>\n",
       "      <td>2C_M_1000</td>\n",
       "      <td>/gale/raidix/rdx-4/CEMBA_RS1/2C/CEMBA180409_2C...</td>\n",
       "      <td>0.00521</td>\n",
       "      <td>0.77073</td>\n",
       "      <td>0.76953</td>\n",
       "      <td>0.02117</td>\n",
       "      <td>0.01604</td>\n",
       "      <td>2368464.0</td>\n",
       "      <td>5320502</td>\n",
       "      <td>3648786.0</td>\n",
       "      <td>...</td>\n",
       "      <td>0.685797</td>\n",
       "      <td>F8</td>\n",
       "      <td>CEMBA180409_2C_3</td>\n",
       "      <td>7</td>\n",
       "      <td>5</td>\n",
       "      <td>15</td>\n",
       "      <td>11</td>\n",
       "      <td>CEMBA180409_2C</td>\n",
       "      <td>180508_CEMBA_mm_P56_P63_2C_CEMBA180409_2C_3_CE...</td>\n",
       "      <td>snmcseq_gene_2C_M_1000</td>\n",
       "    </tr>\n",
       "  </tbody>\n",
       "</table>\n",
       "<p>5 rows × 24 columns</p>\n",
       "</div>"
      ],
      "text/plain": [
       "        cell                                           AllcPath  CCC_Rate  \\\n",
       "0     2C_M_0  /gale/raidix/rdx-4/CEMBA_RS1/2C/CEMBA180409_2C...   0.00511   \n",
       "1     2C_M_1  /gale/raidix/rdx-4/CEMBA_RS1/2C/CEMBA180409_2C...   0.00531   \n",
       "2    2C_M_10  /gale/raidix/rdx-4/CEMBA_RS1/2C/CEMBA180409_2C...   0.00581   \n",
       "3   2C_M_100  /gale/raidix/rdx-4/CEMBA_RS1/2C/CEMBA180409_2C...   0.00634   \n",
       "4  2C_M_1000  /gale/raidix/rdx-4/CEMBA_RS1/2C/CEMBA180409_2C...   0.00521   \n",
       "\n",
       "   CG_Rate  CG_RateAdj  CH_Rate  CH_RateAdj  FinalReads  InputReads  \\\n",
       "0  0.77073     0.76955  0.02154     0.01651   1076259.0     2314862   \n",
       "1  0.75683     0.75553  0.02196     0.01674   1197092.0     2590626   \n",
       "2  0.75720     0.75578  0.02603     0.02034   1006630.0     2348484   \n",
       "3  0.74984     0.74824  0.02718     0.02097   2026078.0     4599922   \n",
       "4  0.77073     0.76953  0.02117     0.01604   2368464.0     5320502   \n",
       "\n",
       "   MappedReads  ... MappingRate Pos96             Plate  Col96  Row96 Col384  \\\n",
       "0    1517338.0  ...    0.655477   A10  CEMBA180409_2C_1      9      0     18   \n",
       "1    1709334.0  ...    0.659815   A10  CEMBA180409_2C_1      9      0     18   \n",
       "2    1606410.0  ...    0.684020   A11  CEMBA180409_2C_2     10      0     20   \n",
       "3    3154619.0  ...    0.685798    B1  CEMBA180409_2C_2      0      1      1   \n",
       "4    3648786.0  ...    0.685797    F8  CEMBA180409_2C_3      7      5     15   \n",
       "\n",
       "  Row384           Batch                                           old_name  \\\n",
       "0      0  CEMBA180409_2C  180508_CEMBA_mm_P56_P63_2C_CEMBA180409_2C_1_CE...   \n",
       "1      1  CEMBA180409_2C  180508_CEMBA_mm_P56_P63_2C_CEMBA180409_2C_1_CE...   \n",
       "2      0  CEMBA180409_2C  180508_CEMBA_mm_P56_P63_2C_CEMBA180409_2C_1_CE...   \n",
       "3      2  CEMBA180409_2C  180508_CEMBA_mm_P56_P63_2C_CEMBA180409_2C_1_CE...   \n",
       "4     11  CEMBA180409_2C  180508_CEMBA_mm_P56_P63_2C_CEMBA180409_2C_3_CE...   \n",
       "\n",
       "                 new_name  \n",
       "0     snmcseq_gene_2C_M_0  \n",
       "1     snmcseq_gene_2C_M_1  \n",
       "2    snmcseq_gene_2C_M_10  \n",
       "3   snmcseq_gene_2C_M_100  \n",
       "4  snmcseq_gene_2C_M_1000  \n",
       "\n",
       "[5 rows x 24 columns]"
      ]
     },
     "execution_count": 5,
     "metadata": {},
     "output_type": "execute_result"
    }
   ],
   "source": [
    "# old - new names\n",
    "f = '/cndd/fangming/CEMBA/data/MOp_all/data_freeze/snmc_and_snatac/metadata/MOp_Metadata.tsv.gz'\n",
    "old2new = pd.read_csv(f, sep=\"\\t\")\n",
    "old2new['old_name'] = old2new['AllcPath'].apply(lambda x: x.split('/')[-1][len(\"allc_\"):-len(\".tsv.gz\")])\n",
    "old2new['new_name'] = old2new['cell'].apply(lambda x: 'snmcseq_gene_{}'.format(x))\n",
    "\n",
    "print(old2new.shape)\n",
    "old2new.head()"
   ]
  },
  {
   "cell_type": "markdown",
   "metadata": {},
   "source": [
    "### cell-cell knn matrix"
   ]
  },
  {
   "cell_type": "code",
   "execution_count": 6,
   "metadata": {},
   "outputs": [
    {
     "name": "stdout",
     "output_type": "stream",
     "text": [
      "(6244, 9366)\n",
      "0.08101582527160645\n",
      "(6244,) ['smarter_cells_LS-15395_S41_E1-50' 'smarter_cells_LS-15395_S42_E1-50'\n",
      " 'smarter_cells_LS-15501_S28_E1-50' 'smarter_cells_LS-15501_S81_E1-50'\n",
      " 'smarter_cells_LS-15524_S21_E1-50']\n",
      "(9366,) ['snmcseq_gene_2C_M_0' 'snmcseq_gene_2C_M_1' 'snmcseq_gene_2C_M_100'\n",
      " 'snmcseq_gene_2C_M_1000' 'snmcseq_gene_2C_M_1001']\n"
     ]
    }
   ],
   "source": [
    "# knn mat - not saved - need to regenerate\n",
    "ti = time.time()\n",
    "f = '/cndd2/fangming/projects/miniatlas/results/knn_across_mop_2mods_200727_test_smarter_cells_snmcseq_gene.npz'\n",
    "# 20 (mC cells) for each row (rna cell)\n",
    "cell_cell_knn_mat = sparse.load_npz(f)\n",
    "print(cell_cell_knn_mat.shape)\n",
    "print(time.time()-ti)\n",
    "\n",
    "cell_cell_knn_mat.sum(axis=1)\n",
    "\n",
    "f = '/cndd/fangming/CEMBA/data/MOp_all/data_freeze_neurons/smarter_cells_features.cell'\n",
    "cell_cell_knn_xaxis = snmcseq_utils.import_single_textcol(f)\n",
    "print(cell_cell_knn_xaxis.shape, cell_cell_knn_xaxis[:5])\n",
    "\n",
    "f = '/cndd/fangming/CEMBA/data/MOp_all/data_freeze_neurons/snmcseq_gene_features.cell'\n",
    "cell_cell_knn_yaxis = snmcseq_utils.import_single_textcol(f)\n",
    "print(cell_cell_knn_yaxis.shape, cell_cell_knn_yaxis[:5])\n",
    "\n",
    "\n",
    "# resolve dimension mismatch"
   ]
  },
  {
   "cell_type": "code",
   "execution_count": 7,
   "metadata": {},
   "outputs": [
    {
     "name": "stdout",
     "output_type": "stream",
     "text": [
      "(6244, 6244)\n",
      "0.15384650230407715\n",
      "(6244,) ['smarter_cells_LS-15395_S41_E1-50' 'smarter_cells_LS-15395_S42_E1-50'\n",
      " 'smarter_cells_LS-15501_S28_E1-50' 'smarter_cells_LS-15501_S81_E1-50'\n",
      " 'smarter_cells_LS-15524_S21_E1-50']\n"
     ]
    }
   ],
   "source": [
    "# knn mat - not saved - need to regenerate\n",
    "ti = time.time()\n",
    "f = '/cndd2/fangming/projects/miniatlas/results/knn_within_mop_2mods_200727_test_smarter_cells.npz'\n",
    "# 20 (mC cells) for each row (rna cell)\n",
    "cell_cell_knn_mat_within = sparse.load_npz(f)\n",
    "print(cell_cell_knn_mat_within.shape)\n",
    "print(time.time()-ti)\n",
    "\n",
    "cell_cell_knn_mat_within.sum(axis=1)\n",
    "\n",
    "f = '/cndd/fangming/CEMBA/data/MOp_all/data_freeze_neurons/smarter_cells_features.cell'\n",
    "cell_cell_knn_mat_within_axis = snmcseq_utils.import_single_textcol(f)\n",
    "print(cell_cell_knn_mat_within_axis.shape, cell_cell_knn_mat_within_axis[:5])\n",
    "\n",
    "# resolve dimension mismat_withinch"
   ]
  },
  {
   "cell_type": "markdown",
   "metadata": {},
   "source": [
    "### enhancer-cell matrix (mC)"
   ]
  },
  {
   "cell_type": "code",
   "execution_count": 8,
   "metadata": {},
   "outputs": [
    {
     "name": "stdout",
     "output_type": "stream",
     "text": [
      "mCG (233514, 9931)\n",
      "CG (233514, 9931)\n",
      "mCH (233514, 9931)\n",
      "CH (233514, 9931)\n",
      "127.2348256111145\n"
     ]
    }
   ],
   "source": [
    "ti = time.time()\n",
    "\n",
    "# takes ~3min to load\n",
    "# enhancer-cell-matrix\n",
    "f = '/cndd2/fangming/projects/scf_enhancers/enhancer_cell_level/mcg/combined_enh_cell_mc_mats.pkl'\n",
    "with open(f, 'rb') as handle:\n",
    "    enhancer_cell_mc_mats = pickle.load(handle)\n",
    "    \n",
    "for col in enhancer_cell_mc_mats.keys():\n",
    "    # was originally cell-by-enhancer; turn into enhancer-by-cell\n",
    "    enhancer_cell_mc_mats[col] = enhancer_cell_mc_mats[col].T \n",
    "    print(col, enhancer_cell_mc_mats[col].shape)\n",
    "print(time.time()-ti)"
   ]
  },
  {
   "cell_type": "code",
   "execution_count": 9,
   "metadata": {},
   "outputs": [
    {
     "name": "stdout",
     "output_type": "stream",
     "text": [
      "9931\n",
      "9931\n"
     ]
    },
    {
     "data": {
      "text/plain": [
       "array(['snmcseq_gene_3C_M_0', 'snmcseq_gene_3C_M_1', 'snmcseq_gene_3C_M_2',\n",
       "       ..., 'snmcseq_gene_5D_M_2370', 'snmcseq_gene_5D_M_2371',\n",
       "       'snmcseq_gene_5D_M_2372'], dtype=object)"
      ]
     },
     "execution_count": 9,
     "metadata": {},
     "output_type": "execute_result"
    }
   ],
   "source": [
    "f = '/cndd2/fangming/projects/scf_enhancers/enhancer_cell_level/mcg/combined_enh_cell_mc_mats.cell'\n",
    "enhancer_cell_mc_mats_cell = snmcseq_utils.import_single_textcol(f)\n",
    "print(len(enhancer_cell_mc_mats_cell))\n",
    "enhancer_cell_mc_mats_cell = old2new.set_index('old_name').reindex(enhancer_cell_mc_mats_cell)['new_name'].values\n",
    "print(len(enhancer_cell_mc_mats_cell))\n",
    "enhancer_cell_mc_mats_cell"
   ]
  },
  {
   "cell_type": "code",
   "execution_count": 10,
   "metadata": {},
   "outputs": [
    {
     "name": "stdout",
     "output_type": "stream",
     "text": [
      "233514\n"
     ]
    },
    {
     "data": {
      "text/html": [
       "<div>\n",
       "<style scoped>\n",
       "    .dataframe tbody tr th:only-of-type {\n",
       "        vertical-align: middle;\n",
       "    }\n",
       "\n",
       "    .dataframe tbody tr th {\n",
       "        vertical-align: top;\n",
       "    }\n",
       "\n",
       "    .dataframe thead th {\n",
       "        text-align: right;\n",
       "    }\n",
       "</style>\n",
       "<table border=\"1\" class=\"dataframe\">\n",
       "  <thead>\n",
       "    <tr style=\"text-align: right;\">\n",
       "      <th></th>\n",
       "      <th>chr</th>\n",
       "      <th>start</th>\n",
       "      <th>end</th>\n",
       "    </tr>\n",
       "  </thead>\n",
       "  <tbody>\n",
       "    <tr>\n",
       "      <th>0</th>\n",
       "      <td>1</td>\n",
       "      <td>3083769</td>\n",
       "      <td>3083816</td>\n",
       "    </tr>\n",
       "    <tr>\n",
       "      <th>1</th>\n",
       "      <td>1</td>\n",
       "      <td>3112234</td>\n",
       "      <td>3112467</td>\n",
       "    </tr>\n",
       "    <tr>\n",
       "      <th>2</th>\n",
       "      <td>1</td>\n",
       "      <td>3112770</td>\n",
       "      <td>3112986</td>\n",
       "    </tr>\n",
       "    <tr>\n",
       "      <th>3</th>\n",
       "      <td>1</td>\n",
       "      <td>3113717</td>\n",
       "      <td>3114035</td>\n",
       "    </tr>\n",
       "    <tr>\n",
       "      <th>4</th>\n",
       "      <td>1</td>\n",
       "      <td>3118790</td>\n",
       "      <td>3118935</td>\n",
       "    </tr>\n",
       "  </tbody>\n",
       "</table>\n",
       "</div>"
      ],
      "text/plain": [
       "  chr    start      end\n",
       "0   1  3083769  3083816\n",
       "1   1  3112234  3112467\n",
       "2   1  3112770  3112986\n",
       "3   1  3113717  3114035\n",
       "4   1  3118790  3118935"
      ]
     },
     "execution_count": 10,
     "metadata": {},
     "output_type": "execute_result"
    }
   ],
   "source": [
    "f = '/cndd2/fangming/projects/scf_enhancers/enhancer_cell_level/mcg/combined_enh_cell_mc_mats.region'\n",
    "enhancer_cell_mc_mats_region = pd.read_csv(f, sep='\\t') \n",
    "print(len(enhancer_cell_mc_mats_region))\n",
    "enhancer_cell_mc_mats_region.head()"
   ]
  },
  {
   "cell_type": "markdown",
   "metadata": {},
   "source": [
    "### enhancer-cell matrix (RNA)"
   ]
  },
  {
   "cell_type": "code",
   "execution_count": 11,
   "metadata": {},
   "outputs": [
    {
     "name": "stdout",
     "output_type": "stream",
     "text": [
      "(32324, 6244)\n",
      "11.233612537384033\n"
     ]
    }
   ],
   "source": [
    "# gene-cell matrix (rna)\n",
    "\n",
    "ti = time.time()\n",
    "f = '/cndd/fangming/CEMBA/data/MOp_all/data_freeze_neurons/smarter_cells_features.npz'\n",
    "fgene = '/cndd/fangming/CEMBA/data/MOp_all/data_freeze_neurons/smarter_cells_features.gene'\n",
    "fcell = '/cndd/fangming/CEMBA/data/MOp_all/data_freeze_neurons/smarter_cells_features.cell'\n",
    "\n",
    "gene_cell_rna_mat = snmcseq_utils.load_gc_matrix(fgene, fcell, f)\n",
    "\n",
    "print(gene_cell_rna_mat.data.shape)\n",
    "print(time.time()-ti)\n"
   ]
  },
  {
   "cell_type": "markdown",
   "metadata": {},
   "source": [
    "### enhancer-gene linkage"
   ]
  },
  {
   "cell_type": "code",
   "execution_count": 12,
   "metadata": {},
   "outputs": [
    {
     "name": "stdout",
     "output_type": "stream",
     "text": [
      "(2589994, 18)\n",
      "14.266006708145142\n"
     ]
    },
    {
     "data": {
      "text/html": [
       "<div>\n",
       "<style scoped>\n",
       "    .dataframe tbody tr th:only-of-type {\n",
       "        vertical-align: middle;\n",
       "    }\n",
       "\n",
       "    .dataframe tbody tr th {\n",
       "        vertical-align: top;\n",
       "    }\n",
       "\n",
       "    .dataframe thead th {\n",
       "        text-align: right;\n",
       "    }\n",
       "</style>\n",
       "<table border=\"1\" class=\"dataframe\">\n",
       "  <thead>\n",
       "    <tr style=\"text-align: right;\">\n",
       "      <th></th>\n",
       "      <th>gene</th>\n",
       "      <th>ens</th>\n",
       "      <th>val</th>\n",
       "      <th>val2</th>\n",
       "      <th>val_clustershuffled</th>\n",
       "      <th>val2_clustershuffled</th>\n",
       "      <th>dist</th>\n",
       "      <th>pvalues</th>\n",
       "      <th>fdr&lt;100kb</th>\n",
       "      <th>fdr&lt;200kb</th>\n",
       "      <th>fdr&lt;500kb</th>\n",
       "      <th>fdr&lt;100kb shuffled (cluster label)</th>\n",
       "      <th>pvalues2</th>\n",
       "      <th>fdr2&lt;100kb</th>\n",
       "      <th>fdr2&lt;200kb</th>\n",
       "      <th>fdr2&lt;500kb</th>\n",
       "      <th>fdr2&lt;100kb shuffled (cluster label)</th>\n",
       "      <th>val_both</th>\n",
       "    </tr>\n",
       "  </thead>\n",
       "  <tbody>\n",
       "    <tr>\n",
       "      <th>0</th>\n",
       "      <td>ENSMUSG00000000001</td>\n",
       "      <td>147520</td>\n",
       "      <td>-0.157895</td>\n",
       "      <td>0.127913</td>\n",
       "      <td>-0.169712</td>\n",
       "      <td>-0.049349</td>\n",
       "      <td>995118</td>\n",
       "      <td>0.288079</td>\n",
       "      <td>0.674683</td>\n",
       "      <td>0.736811</td>\n",
       "      <td>0.827139</td>\n",
       "      <td>1.647931</td>\n",
       "      <td>0.383141</td>\n",
       "      <td>0.745977</td>\n",
       "      <td>0.797076</td>\n",
       "      <td>0.872822</td>\n",
       "      <td>1.955898</td>\n",
       "      <td>-0.285808</td>\n",
       "    </tr>\n",
       "    <tr>\n",
       "      <th>1</th>\n",
       "      <td>ENSMUSG00000000001</td>\n",
       "      <td>147522</td>\n",
       "      <td>0.027465</td>\n",
       "      <td>-0.307145</td>\n",
       "      <td>0.064887</td>\n",
       "      <td>0.105591</td>\n",
       "      <td>985740</td>\n",
       "      <td>0.561881</td>\n",
       "      <td>0.830849</td>\n",
       "      <td>0.867082</td>\n",
       "      <td>0.917381</td>\n",
       "      <td>0.958300</td>\n",
       "      <td>0.935264</td>\n",
       "      <td>0.973809</td>\n",
       "      <td>0.979844</td>\n",
       "      <td>0.987476</td>\n",
       "      <td>0.959470</td>\n",
       "      <td>0.334610</td>\n",
       "    </tr>\n",
       "    <tr>\n",
       "      <th>2</th>\n",
       "      <td>ENSMUSG00000000001</td>\n",
       "      <td>147523</td>\n",
       "      <td>-0.040376</td>\n",
       "      <td>0.011489</td>\n",
       "      <td>-0.155487</td>\n",
       "      <td>0.014772</td>\n",
       "      <td>983725</td>\n",
       "      <td>0.457686</td>\n",
       "      <td>0.780196</td>\n",
       "      <td>0.825259</td>\n",
       "      <td>0.889141</td>\n",
       "      <td>1.089312</td>\n",
       "      <td>0.580703</td>\n",
       "      <td>0.841673</td>\n",
       "      <td>0.874844</td>\n",
       "      <td>0.922832</td>\n",
       "      <td>1.273339</td>\n",
       "      <td>-0.051866</td>\n",
       "    </tr>\n",
       "    <tr>\n",
       "      <th>3</th>\n",
       "      <td>ENSMUSG00000000001</td>\n",
       "      <td>147527</td>\n",
       "      <td>-0.070795</td>\n",
       "      <td>0.111719</td>\n",
       "      <td>-0.088084</td>\n",
       "      <td>0.184594</td>\n",
       "      <td>970444</td>\n",
       "      <td>0.411564</td>\n",
       "      <td>0.755088</td>\n",
       "      <td>0.804341</td>\n",
       "      <td>0.874375</td>\n",
       "      <td>1.183332</td>\n",
       "      <td>0.410358</td>\n",
       "      <td>0.761056</td>\n",
       "      <td>0.809464</td>\n",
       "      <td>0.880982</td>\n",
       "      <td>1.812516</td>\n",
       "      <td>-0.182514</td>\n",
       "    </tr>\n",
       "    <tr>\n",
       "      <th>4</th>\n",
       "      <td>ENSMUSG00000000001</td>\n",
       "      <td>147528</td>\n",
       "      <td>0.012583</td>\n",
       "      <td>0.150673</td>\n",
       "      <td>-0.036218</td>\n",
       "      <td>0.147609</td>\n",
       "      <td>969372</td>\n",
       "      <td>0.539123</td>\n",
       "      <td>0.819981</td>\n",
       "      <td>0.858026</td>\n",
       "      <td>0.911467</td>\n",
       "      <td>0.979843</td>\n",
       "      <td>0.345993</td>\n",
       "      <td>0.725803</td>\n",
       "      <td>0.780447</td>\n",
       "      <td>0.862033</td>\n",
       "      <td>2.191506</td>\n",
       "      <td>-0.138090</td>\n",
       "    </tr>\n",
       "  </tbody>\n",
       "</table>\n",
       "</div>"
      ],
      "text/plain": [
       "                 gene     ens       val      val2  val_clustershuffled  \\\n",
       "0  ENSMUSG00000000001  147520 -0.157895  0.127913            -0.169712   \n",
       "1  ENSMUSG00000000001  147522  0.027465 -0.307145             0.064887   \n",
       "2  ENSMUSG00000000001  147523 -0.040376  0.011489            -0.155487   \n",
       "3  ENSMUSG00000000001  147527 -0.070795  0.111719            -0.088084   \n",
       "4  ENSMUSG00000000001  147528  0.012583  0.150673            -0.036218   \n",
       "\n",
       "   val2_clustershuffled    dist   pvalues  fdr<100kb  fdr<200kb  fdr<500kb  \\\n",
       "0             -0.049349  995118  0.288079   0.674683   0.736811   0.827139   \n",
       "1              0.105591  985740  0.561881   0.830849   0.867082   0.917381   \n",
       "2              0.014772  983725  0.457686   0.780196   0.825259   0.889141   \n",
       "3              0.184594  970444  0.411564   0.755088   0.804341   0.874375   \n",
       "4              0.147609  969372  0.539123   0.819981   0.858026   0.911467   \n",
       "\n",
       "   fdr<100kb shuffled (cluster label)  pvalues2  fdr2<100kb  fdr2<200kb  \\\n",
       "0                            1.647931  0.383141    0.745977    0.797076   \n",
       "1                            0.958300  0.935264    0.973809    0.979844   \n",
       "2                            1.089312  0.580703    0.841673    0.874844   \n",
       "3                            1.183332  0.410358    0.761056    0.809464   \n",
       "4                            0.979843  0.345993    0.725803    0.780447   \n",
       "\n",
       "   fdr2<500kb  fdr2<100kb shuffled (cluster label)  val_both  \n",
       "0    0.872822                             1.955898 -0.285808  \n",
       "1    0.987476                             0.959470  0.334610  \n",
       "2    0.922832                             1.273339 -0.051866  \n",
       "3    0.880982                             1.812516 -0.182514  \n",
       "4    0.862033                             2.191506 -0.138090  "
      ]
     },
     "execution_count": 12,
     "metadata": {},
     "output_type": "execute_result"
    }
   ],
   "source": [
    "# enhancer-gene linkage\n",
    "ti = time.time()\n",
    "f = '/cndd2/fangming/projects/scf_enhancers/results/200521_to_evals.tsv'\n",
    "enhancer_gene_to_eval = pd.read_csv(f, sep='\\t')\n",
    "f = '/cndd2/fangming/projects/scf_enhancers/results/200521_to_evals_shuffled.tsv'\n",
    "enhancer_gene_to_eval_shuffled = pd.read_csv(f, sep='\\t')\n",
    "\n",
    "print(enhancer_gene_to_eval.shape)\n",
    "print(time.time()-ti)\n",
    "enhancer_gene_to_eval.head()"
   ]
  },
  {
   "cell_type": "markdown",
   "metadata": {},
   "source": [
    "# Organize data (and save to local folder) "
   ]
  },
  {
   "cell_type": "markdown",
   "metadata": {},
   "source": [
    "### match cells "
   ]
  },
  {
   "cell_type": "code",
   "execution_count": 13,
   "metadata": {},
   "outputs": [
    {
     "name": "stdout",
     "output_type": "stream",
     "text": [
      "9364 6244\n"
     ]
    }
   ],
   "source": [
    "common_mc_cells = np.intersect1d(enhancer_cell_mc_mats_cell, \n",
    "                                 cell_cell_knn_yaxis,\n",
    "                                ) \n",
    "common_rna_cells = np.intersect1d(gene_cell_rna_mat.cell, \n",
    "                                 cell_cell_knn_xaxis) \n",
    "\n",
    "print(len(common_mc_cells), len(common_rna_cells))"
   ]
  },
  {
   "cell_type": "markdown",
   "metadata": {},
   "source": [
    "### match gene and enhancers "
   ]
  },
  {
   "cell_type": "code",
   "execution_count": 14,
   "metadata": {},
   "outputs": [
    {
     "name": "stdout",
     "output_type": "stream",
     "text": [
      "32324 18988\n",
      "233514 151577\n"
     ]
    }
   ],
   "source": [
    "# just need first number greater than the second\n",
    "print(len(gene_cell_rna_mat.gene), len(enhancer_gene_to_eval['gene'].unique()))\n",
    "print(len(enhancer_cell_mc_mats_region), len(enhancer_gene_to_eval['ens'].unique()))"
   ]
  },
  {
   "cell_type": "markdown",
   "metadata": {},
   "source": [
    "### match dimensions of matrices "
   ]
  },
  {
   "cell_type": "code",
   "execution_count": 15,
   "metadata": {},
   "outputs": [
    {
     "name": "stdout",
     "output_type": "stream",
     "text": [
      "(32324, 6244)\n"
     ]
    }
   ],
   "source": [
    "cell_idx_rna = snmcseq_utils.get_index_from_array(gene_cell_rna_mat.cell, common_rna_cells)\n",
    "X = gene_cell_rna_mat.data.tocsc()[:,cell_idx_rna]\n",
    "print(X.shape)"
   ]
  },
  {
   "cell_type": "code",
   "execution_count": 16,
   "metadata": {},
   "outputs": [
    {
     "name": "stdout",
     "output_type": "stream",
     "text": [
      "(233514, 9364) (233514, 9364)\n"
     ]
    }
   ],
   "source": [
    "cell_idx_mc = snmcseq_utils.get_index_from_array(enhancer_cell_mc_mats_cell, common_mc_cells)\n",
    "Y_mcg = enhancer_cell_mc_mats['mCG'].tocsc()[:,cell_idx_mc]\n",
    "Y_cg = enhancer_cell_mc_mats['CG'].tocsc()[:,cell_idx_mc]\n",
    "print(Y_mcg.shape, Y_cg.shape)"
   ]
  },
  {
   "cell_type": "code",
   "execution_count": 17,
   "metadata": {},
   "outputs": [
    {
     "name": "stdout",
     "output_type": "stream",
     "text": [
      "(6244, 9364)\n"
     ]
    }
   ],
   "source": [
    "cell_idx_xaxis = snmcseq_utils.get_index_from_array(cell_cell_knn_xaxis, common_rna_cells)\n",
    "cell_idx_yaxis = snmcseq_utils.get_index_from_array(cell_cell_knn_yaxis, common_mc_cells)\n",
    "\n",
    "knn_xy = cell_cell_knn_mat.tocsr()[cell_idx_xaxis,:].tocsc()[:,cell_idx_yaxis] # x-by-y\n",
    "print(knn_xy.shape)"
   ]
  },
  {
   "cell_type": "code",
   "execution_count": 18,
   "metadata": {},
   "outputs": [
    {
     "name": "stdout",
     "output_type": "stream",
     "text": [
      "(6244, 6244)\n"
     ]
    }
   ],
   "source": [
    "cell_idx_axis = snmcseq_utils.get_index_from_array(cell_cell_knn_mat_within_axis, common_rna_cells)\n",
    "knn_xx = cell_cell_knn_mat_within.tocsr()[cell_idx_axis,:].tocsc()[:,cell_idx_axis] # x-by-x\n",
    "print(knn_xx.shape)"
   ]
  },
  {
   "cell_type": "code",
   "execution_count": 21,
   "metadata": {},
   "outputs": [
    {
     "name": "stdout",
     "output_type": "stream",
     "text": [
      "(32324, 6244) (233514, 9364) (233514, 9364) (6244, 9364) (6244, 6244)\n",
      "[[ 1.]\n",
      " [ 1.]\n",
      " [ 1.]\n",
      " ..., \n",
      " [ 1.]\n",
      " [ 1.]\n",
      " [ 1.]]\n"
     ]
    }
   ],
   "source": [
    "print(X.shape, Y_mcg.shape, Y_cg.shape, knn_xy.shape, knn_xx.shape)\n",
    "print(knn_xx.sum(axis=1)) # weighted ka=5, p=0.7"
   ]
  },
  {
   "cell_type": "markdown",
   "metadata": {},
   "source": [
    "# Compute metacell level signal \n",
    "- takes 270s (4.5 mins; run) + 145s (3 min; convert to non-sparse matrix) to run\n",
    "- 88G of memory (does it make sense?)"
   ]
  },
  {
   "cell_type": "code",
   "execution_count": 22,
   "metadata": {},
   "outputs": [
    {
     "name": "stdout",
     "output_type": "stream",
     "text": [
      "108.1030125617981\n",
      "(32324, 6244) (233514, 6244) (233514, 6244)\n"
     ]
    }
   ],
   "source": [
    "ti = time.time()\n",
    "\n",
    "# gene by metacell\n",
    "gc_rna = X.dot(knn_xx.T).todense() \n",
    "\n",
    "# enhancer by metacell\n",
    "ec_cg = Y_cg.dot(knn_xy.T).todense() \n",
    "ec_mcg = Y_mcg.dot(knn_xy.T).todense()  \n",
    "\n",
    "print(time.time()-ti)\n",
    "\n",
    "print(gc_rna.shape, ec_cg.shape, ec_mcg.shape)"
   ]
  },
  {
   "cell_type": "code",
   "execution_count": 24,
   "metadata": {},
   "outputs": [],
   "source": [
    "# # check sparsity level \n",
    "# def get_sparsiness(a):\n",
    "#     m, n = a.shape\n",
    "#     return a.nnz/(m*n)\n",
    "\n",
    "# print(\n",
    "#     get_sparsiness(X), \n",
    "#     get_sparsiness(Y_mcg), \n",
    "#     get_sparsiness(Y_cg), \n",
    "    \n",
    "#     get_sparsiness(gc_rna), \n",
    "#     get_sparsiness(ec_cg), \n",
    "#     get_sparsiness(ec_mcg), \n",
    "#     )"
   ]
  },
  {
   "cell_type": "code",
   "execution_count": 25,
   "metadata": {},
   "outputs": [
    {
     "name": "stdout",
     "output_type": "stream",
     "text": [
      "(87943, 6244)\n",
      "423.76569294929504\n"
     ]
    }
   ],
   "source": [
    "# get mcc\n",
    "ti = time.time()\n",
    "ec_mccg =  snmcseq_utils.get_mcc_lite_v4(\n",
    "                                pd.DataFrame(ec_cg).astype(np.float32), \n",
    "                                pd.DataFrame(ec_mcg).astype(np.float32), \n",
    "                                base_call_cutoff=5, sufficient_coverage_fraction=0.8, fillna=True)\n",
    "print(ec_mccg.shape)\n",
    "\n",
    "print(time.time()-ti)"
   ]
  },
  {
   "cell_type": "code",
   "execution_count": 26,
   "metadata": {},
   "outputs": [
    {
     "name": "stdout",
     "output_type": "stream",
     "text": [
      "5.454484224319458\n",
      "3.887183904647827\n"
     ]
    }
   ],
   "source": [
    "# save ec_mccg and gc_rna\n",
    "ti = time.time()\n",
    "f = '/cndd2/fangming/projects/scf_enhancers/results/{}_ec_mccg_test1.pkl'.format(today)\n",
    "with open(f, 'wb') as fh:\n",
    "    pickle.dump(ec_mccg, fh)\n",
    "print(time.time()-ti)\n",
    "    \n",
    "ti = time.time()\n",
    "f = '/cndd2/fangming/projects/scf_enhancers/results/{}_gc_rna_test1.pkl'.format(today)\n",
    "with open(f, 'wb') as fh:\n",
    "    pickle.dump(gc_rna, fh)\n",
    "print(time.time()-ti)"
   ]
  },
  {
   "cell_type": "markdown",
   "metadata": {},
   "source": [
    "# correlate enhancer and gene (a new notebook)"
   ]
  },
  {
   "cell_type": "code",
   "execution_count": 28,
   "metadata": {},
   "outputs": [
    {
     "name": "stdout",
     "output_type": "stream",
     "text": [
      "1.3835349082946777\n",
      "1.0300688743591309\n",
      "(87943, 6244) (32324, 6244)\n"
     ]
    }
   ],
   "source": [
    "# load from file\n",
    "\n",
    "# save ec_mccg and gc_rna\n",
    "ti = time.time()\n",
    "f = '/cndd2/fangming/projects/scf_enhancers/results/{}_ec_mccg_test1.pkl'.format(today)\n",
    "with open(f, 'rb') as fh:\n",
    "    ec_mccg = pickle.load(fh)\n",
    "print(time.time()-ti)\n",
    "    \n",
    "ti = time.time()\n",
    "f = '/cndd2/fangming/projects/scf_enhancers/results/{}_gc_rna_test1.pkl'.format(today)\n",
    "with open(f, 'rb') as fh:\n",
    "    gc_rna = pickle.load(fh)\n",
    "print(time.time()-ti)\n",
    "\n",
    "print(ec_mccg.shape, gc_rna.shape)"
   ]
  },
  {
   "cell_type": "code",
   "execution_count": 29,
   "metadata": {},
   "outputs": [
    {
     "name": "stdout",
     "output_type": "stream",
     "text": [
      "(32324, 6244)\n",
      "9.320297718048096\n"
     ]
    }
   ],
   "source": [
    "# gene-cell matrix (rna)\n",
    "\n",
    "ti = time.time()\n",
    "f = '/cndd/fangming/CEMBA/data/MOp_all/data_freeze_neurons/smarter_cells_features.npz'\n",
    "fgene = '/cndd/fangming/CEMBA/data/MOp_all/data_freeze_neurons/smarter_cells_features.gene'\n",
    "fcell = '/cndd/fangming/CEMBA/data/MOp_all/data_freeze_neurons/smarter_cells_features.cell'\n",
    "\n",
    "gene_cell_rna_mat = snmcseq_utils.load_gc_matrix(fgene, fcell, f)\n",
    "\n",
    "print(gene_cell_rna_mat.data.shape)\n",
    "print(time.time()-ti)\n"
   ]
  },
  {
   "cell_type": "code",
   "execution_count": 30,
   "metadata": {},
   "outputs": [
    {
     "name": "stdout",
     "output_type": "stream",
     "text": [
      "(2589994, 18)\n",
      "8.236989259719849\n"
     ]
    },
    {
     "data": {
      "text/html": [
       "<div>\n",
       "<style scoped>\n",
       "    .dataframe tbody tr th:only-of-type {\n",
       "        vertical-align: middle;\n",
       "    }\n",
       "\n",
       "    .dataframe tbody tr th {\n",
       "        vertical-align: top;\n",
       "    }\n",
       "\n",
       "    .dataframe thead th {\n",
       "        text-align: right;\n",
       "    }\n",
       "</style>\n",
       "<table border=\"1\" class=\"dataframe\">\n",
       "  <thead>\n",
       "    <tr style=\"text-align: right;\">\n",
       "      <th></th>\n",
       "      <th>gene</th>\n",
       "      <th>ens</th>\n",
       "      <th>val</th>\n",
       "      <th>val2</th>\n",
       "      <th>val_clustershuffled</th>\n",
       "      <th>val2_clustershuffled</th>\n",
       "      <th>dist</th>\n",
       "      <th>pvalues</th>\n",
       "      <th>fdr&lt;100kb</th>\n",
       "      <th>fdr&lt;200kb</th>\n",
       "      <th>fdr&lt;500kb</th>\n",
       "      <th>fdr&lt;100kb shuffled (cluster label)</th>\n",
       "      <th>pvalues2</th>\n",
       "      <th>fdr2&lt;100kb</th>\n",
       "      <th>fdr2&lt;200kb</th>\n",
       "      <th>fdr2&lt;500kb</th>\n",
       "      <th>fdr2&lt;100kb shuffled (cluster label)</th>\n",
       "      <th>val_both</th>\n",
       "    </tr>\n",
       "  </thead>\n",
       "  <tbody>\n",
       "    <tr>\n",
       "      <th>0</th>\n",
       "      <td>ENSMUSG00000000001</td>\n",
       "      <td>147520</td>\n",
       "      <td>-0.157895</td>\n",
       "      <td>0.127913</td>\n",
       "      <td>-0.169712</td>\n",
       "      <td>-0.049349</td>\n",
       "      <td>995118</td>\n",
       "      <td>0.288079</td>\n",
       "      <td>0.674683</td>\n",
       "      <td>0.736811</td>\n",
       "      <td>0.827139</td>\n",
       "      <td>1.647931</td>\n",
       "      <td>0.383141</td>\n",
       "      <td>0.745977</td>\n",
       "      <td>0.797076</td>\n",
       "      <td>0.872822</td>\n",
       "      <td>1.955898</td>\n",
       "      <td>-0.285808</td>\n",
       "    </tr>\n",
       "    <tr>\n",
       "      <th>1</th>\n",
       "      <td>ENSMUSG00000000001</td>\n",
       "      <td>147522</td>\n",
       "      <td>0.027465</td>\n",
       "      <td>-0.307145</td>\n",
       "      <td>0.064887</td>\n",
       "      <td>0.105591</td>\n",
       "      <td>985740</td>\n",
       "      <td>0.561881</td>\n",
       "      <td>0.830849</td>\n",
       "      <td>0.867082</td>\n",
       "      <td>0.917381</td>\n",
       "      <td>0.958300</td>\n",
       "      <td>0.935264</td>\n",
       "      <td>0.973809</td>\n",
       "      <td>0.979844</td>\n",
       "      <td>0.987476</td>\n",
       "      <td>0.959470</td>\n",
       "      <td>0.334610</td>\n",
       "    </tr>\n",
       "    <tr>\n",
       "      <th>2</th>\n",
       "      <td>ENSMUSG00000000001</td>\n",
       "      <td>147523</td>\n",
       "      <td>-0.040376</td>\n",
       "      <td>0.011489</td>\n",
       "      <td>-0.155487</td>\n",
       "      <td>0.014772</td>\n",
       "      <td>983725</td>\n",
       "      <td>0.457686</td>\n",
       "      <td>0.780196</td>\n",
       "      <td>0.825259</td>\n",
       "      <td>0.889141</td>\n",
       "      <td>1.089312</td>\n",
       "      <td>0.580703</td>\n",
       "      <td>0.841673</td>\n",
       "      <td>0.874844</td>\n",
       "      <td>0.922832</td>\n",
       "      <td>1.273339</td>\n",
       "      <td>-0.051866</td>\n",
       "    </tr>\n",
       "    <tr>\n",
       "      <th>3</th>\n",
       "      <td>ENSMUSG00000000001</td>\n",
       "      <td>147527</td>\n",
       "      <td>-0.070795</td>\n",
       "      <td>0.111719</td>\n",
       "      <td>-0.088084</td>\n",
       "      <td>0.184594</td>\n",
       "      <td>970444</td>\n",
       "      <td>0.411564</td>\n",
       "      <td>0.755088</td>\n",
       "      <td>0.804341</td>\n",
       "      <td>0.874375</td>\n",
       "      <td>1.183332</td>\n",
       "      <td>0.410358</td>\n",
       "      <td>0.761056</td>\n",
       "      <td>0.809464</td>\n",
       "      <td>0.880982</td>\n",
       "      <td>1.812516</td>\n",
       "      <td>-0.182514</td>\n",
       "    </tr>\n",
       "    <tr>\n",
       "      <th>4</th>\n",
       "      <td>ENSMUSG00000000001</td>\n",
       "      <td>147528</td>\n",
       "      <td>0.012583</td>\n",
       "      <td>0.150673</td>\n",
       "      <td>-0.036218</td>\n",
       "      <td>0.147609</td>\n",
       "      <td>969372</td>\n",
       "      <td>0.539123</td>\n",
       "      <td>0.819981</td>\n",
       "      <td>0.858026</td>\n",
       "      <td>0.911467</td>\n",
       "      <td>0.979843</td>\n",
       "      <td>0.345993</td>\n",
       "      <td>0.725803</td>\n",
       "      <td>0.780447</td>\n",
       "      <td>0.862033</td>\n",
       "      <td>2.191506</td>\n",
       "      <td>-0.138090</td>\n",
       "    </tr>\n",
       "  </tbody>\n",
       "</table>\n",
       "</div>"
      ],
      "text/plain": [
       "                 gene     ens       val      val2  val_clustershuffled  \\\n",
       "0  ENSMUSG00000000001  147520 -0.157895  0.127913            -0.169712   \n",
       "1  ENSMUSG00000000001  147522  0.027465 -0.307145             0.064887   \n",
       "2  ENSMUSG00000000001  147523 -0.040376  0.011489            -0.155487   \n",
       "3  ENSMUSG00000000001  147527 -0.070795  0.111719            -0.088084   \n",
       "4  ENSMUSG00000000001  147528  0.012583  0.150673            -0.036218   \n",
       "\n",
       "   val2_clustershuffled    dist   pvalues  fdr<100kb  fdr<200kb  fdr<500kb  \\\n",
       "0             -0.049349  995118  0.288079   0.674683   0.736811   0.827139   \n",
       "1              0.105591  985740  0.561881   0.830849   0.867082   0.917381   \n",
       "2              0.014772  983725  0.457686   0.780196   0.825259   0.889141   \n",
       "3              0.184594  970444  0.411564   0.755088   0.804341   0.874375   \n",
       "4              0.147609  969372  0.539123   0.819981   0.858026   0.911467   \n",
       "\n",
       "   fdr<100kb shuffled (cluster label)  pvalues2  fdr2<100kb  fdr2<200kb  \\\n",
       "0                            1.647931  0.383141    0.745977    0.797076   \n",
       "1                            0.958300  0.935264    0.973809    0.979844   \n",
       "2                            1.089312  0.580703    0.841673    0.874844   \n",
       "3                            1.183332  0.410358    0.761056    0.809464   \n",
       "4                            0.979843  0.345993    0.725803    0.780447   \n",
       "\n",
       "   fdr2<500kb  fdr2<100kb shuffled (cluster label)  val_both  \n",
       "0    0.872822                             1.955898 -0.285808  \n",
       "1    0.987476                             0.959470  0.334610  \n",
       "2    0.922832                             1.273339 -0.051866  \n",
       "3    0.880982                             1.812516 -0.182514  \n",
       "4    0.862033                             2.191506 -0.138090  "
      ]
     },
     "execution_count": 30,
     "metadata": {},
     "output_type": "execute_result"
    }
   ],
   "source": [
    "# enhancer-gene linkage\n",
    "ti = time.time()\n",
    "f = '/cndd2/fangming/projects/scf_enhancers/results/200521_to_evals.tsv'\n",
    "enhancer_gene_to_eval = pd.read_csv(f, sep='\\t')\n",
    "f = '/cndd2/fangming/projects/scf_enhancers/results/200521_to_evals_shuffled.tsv'\n",
    "enhancer_gene_to_eval_shuffled = pd.read_csv(f, sep='\\t')\n",
    "\n",
    "print(enhancer_gene_to_eval.shape)\n",
    "print(time.time()-ti)\n",
    "enhancer_gene_to_eval.head()"
   ]
  },
  {
   "cell_type": "code",
   "execution_count": 31,
   "metadata": {},
   "outputs": [
    {
     "name": "stdout",
     "output_type": "stream",
     "text": [
      "(1543535,) (1543535,)\n"
     ]
    }
   ],
   "source": [
    "# use ec_mccg and gc_rna\n",
    "# correlate e-g according to a e-g table\n",
    "# do the same to a shuffled e-g table\n",
    "\n",
    "gene_idx = snmcseq_utils.get_index_from_array(gene_cell_rna_mat.gene, enhancer_gene_to_eval['gene'])\n",
    "enh_idx = snmcseq_utils.get_index_from_array(ec_mccg.index.values, enhancer_gene_to_eval['ens']) # be careful here!\n",
    "\n",
    "to_correlate = ~np.logical_or(gene_idx==-1, enh_idx==-1)\n",
    "gene_idx = gene_idx[to_correlate]\n",
    "enh_idx = enh_idx[to_correlate]\n",
    "print(gene_idx.shape, enh_idx.shape)"
   ]
  },
  {
   "cell_type": "code",
   "execution_count": null,
   "metadata": {},
   "outputs": [],
   "source": [
    "# running time (45 mins)\n",
    "\n",
    "# uses large amount of memory for some reason\n",
    "ti = time.time()\n",
    "corrs = snmcseq_utils.pearsonr_paired_rows_fast(gc_rna[gene_idx], ec_mccg.values[enh_idx])\n",
    "print(time.time()-ti)"
   ]
  },
  {
   "cell_type": "code",
   "execution_count": null,
   "metadata": {},
   "outputs": [],
   "source": [
    "gene_idx = snmcseq_utils.get_index_from_array(gene_cell_rna_mat.gene, enhancer_gene_to_eval_shuffled['gene'])\n",
    "enh_idx = snmcseq_utils.get_index_from_array(ec_mccg.index.values, enhancer_gene_to_eval_shuffled['ens']) # be careful here!\n",
    "\n",
    "to_correlate = ~np.logical_or(gene_idx==-1, enh_idx==-1)\n",
    "gene_idx = gene_idx[to_correlate]\n",
    "enh_idx = enh_idx[to_correlate]\n",
    "print(gene_idx.shape, enh_idx.shape)"
   ]
  },
  {
   "cell_type": "code",
   "execution_count": null,
   "metadata": {},
   "outputs": [],
   "source": [
    "# running time (45 mins)\n",
    "\n",
    "# uses large amount of memory for some reason\n",
    "ti = time.time()\n",
    "corrs_shuffled = snmcseq_utils.pearsonr_paired_rows_fast(gc_rna[gene_idx], ec_mccg.values[enh_idx])\n",
    "print(time.time()-ti)"
   ]
  },
  {
   "cell_type": "markdown",
   "metadata": {},
   "source": [
    "# plotting results"
   ]
  },
  {
   "cell_type": "code",
   "execution_count": null,
   "metadata": {},
   "outputs": [],
   "source": [
    "config = {\n",
    "    'kde': False,\n",
    "    \"hist_kws\": {\n",
    "                'histtype': 'step', \n",
    "#                 'edgecolor': 'none',\n",
    "                'alpha': 1, \n",
    "                'density': True, \n",
    "                },\n",
    "}\n",
    "\n",
    "\n",
    "fig, ax = plt.subplots()\n",
    "num_bins = 200\n",
    "bins = np.linspace(-0.2, 0.2, num_bins)\n",
    "sns.distplot(corrs, \n",
    "             bins=bins, ax=ax, label='linked pairs (<500kb)', **config)\n",
    "sns.distplot(corrs_shuffled, \n",
    "             bins=bins, ax=ax, label='shuffled pairs', **config)\n",
    "ax.legend(bbox_to_anchor=(1,1))\n",
    "plt.show()"
   ]
  },
  {
   "cell_type": "code",
   "execution_count": null,
   "metadata": {},
   "outputs": [],
   "source": []
  }
 ],
 "metadata": {
  "kernelspec": {
   "display_name": "Python 3",
   "language": "python",
   "name": "python3"
  },
  "language_info": {
   "codemirror_mode": {
    "name": "ipython",
    "version": 3
   },
   "file_extension": ".py",
   "mimetype": "text/x-python",
   "name": "python",
   "nbconvert_exporter": "python",
   "pygments_lexer": "ipython3",
   "version": "3.8.1"
  }
 },
 "nbformat": 4,
 "nbformat_minor": 4
}
