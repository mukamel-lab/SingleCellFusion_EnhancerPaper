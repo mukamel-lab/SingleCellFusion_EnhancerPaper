{
 "cells": [
  {
   "cell_type": "code",
   "execution_count": 1,
   "metadata": {},
   "outputs": [],
   "source": [
    "import cooler\n",
    "import pandas as pd\n",
    "import numpy as np\n",
    "import matplotlib.pyplot as plt\n",
    "import h5py"
   ]
  },
  {
   "cell_type": "markdown",
   "metadata": {},
   "source": [
    "# get annotated bins\n",
    "- new liftover results for gene TSS as well as enhancer liftover"
   ]
  },
  {
   "cell_type": "markdown",
   "metadata": {},
   "source": [
    "### lifted over bed"
   ]
  },
  {
   "cell_type": "code",
   "execution_count": 2,
   "metadata": {},
   "outputs": [],
   "source": [
    "tss = pd.read_csv('tss_lifted.bed', sep='\\t', header=None)\n",
    "enhs = pd.read_csv('enhancers_lifted.bed', sep='\\t', header=None)"
   ]
  },
  {
   "cell_type": "markdown",
   "metadata": {},
   "source": [
    "### load cooler"
   ]
  },
  {
   "cell_type": "code",
   "execution_count": 3,
   "metadata": {},
   "outputs": [],
   "source": [
    "hic_path = '/cndd2/Public_Datasets/m3c_Lee_etal_2019/'"
   ]
  },
  {
   "cell_type": "code",
   "execution_count": 4,
   "metadata": {},
   "outputs": [],
   "source": [
    "mcool_files = !ls {hic_path}"
   ]
  },
  {
   "cell_type": "code",
   "execution_count": 5,
   "metadata": {},
   "outputs": [
    {
     "data": {
      "text/plain": [
       "['L2_3_all_brain.txt_1kb_contacts.mcool',\n",
       " 'L4_all_brain.txt_1kb_contacts.mcool',\n",
       " 'L5_all_brain.txt_1kb_contacts.mcool',\n",
       " 'L6_all_brain.txt_1kb_contacts.mcool',\n",
       " 'Pvalb_all_brain.txt_1kb_contacts.mcool',\n",
       " 'Sst_all_brain.txt_1kb_contacts.mcool',\n",
       " 'Vip_all_brain.txt_1kb_contacts.mcool']"
      ]
     },
     "execution_count": 5,
     "metadata": {},
     "output_type": "execute_result"
    }
   ],
   "source": [
    "mcool_files"
   ]
  },
  {
   "cell_type": "code",
   "execution_count": 6,
   "metadata": {},
   "outputs": [],
   "source": [
    "l23_file = hic_path+mcool_files[0]"
   ]
  },
  {
   "cell_type": "code",
   "execution_count": 7,
   "metadata": {},
   "outputs": [
    {
     "data": {
      "text/plain": [
       "'/cndd2/Public_Datasets/m3c_Lee_etal_2019/L2_3_all_brain.txt_1kb_contacts.mcool'"
      ]
     },
     "execution_count": 7,
     "metadata": {},
     "output_type": "execute_result"
    }
   ],
   "source": [
    "l23_file"
   ]
  },
  {
   "cell_type": "code",
   "execution_count": 8,
   "metadata": {},
   "outputs": [],
   "source": [
    "l23_file = hic_path+mcool_files[0]\n",
    "f = h5py.File(l23_file)"
   ]
  },
  {
   "cell_type": "markdown",
   "metadata": {},
   "source": [
    "### Use lowest resolution as coolers can easily aggregate to coarser bins"
   ]
  },
  {
   "cell_type": "code",
   "execution_count": 9,
   "metadata": {},
   "outputs": [],
   "source": [
    "cool = cooler.Cooler(f['resolutions']['1000'])"
   ]
  },
  {
   "cell_type": "code",
   "execution_count": 10,
   "metadata": {},
   "outputs": [],
   "source": [
    "bins = cool.bins()[:]"
   ]
  },
  {
   "cell_type": "code",
   "execution_count": 11,
   "metadata": {},
   "outputs": [
    {
     "data": {
      "text/html": [
       "<div>\n",
       "<style scoped>\n",
       "    .dataframe tbody tr th:only-of-type {\n",
       "        vertical-align: middle;\n",
       "    }\n",
       "\n",
       "    .dataframe tbody tr th {\n",
       "        vertical-align: top;\n",
       "    }\n",
       "\n",
       "    .dataframe thead th {\n",
       "        text-align: right;\n",
       "    }\n",
       "</style>\n",
       "<table border=\"1\" class=\"dataframe\">\n",
       "  <thead>\n",
       "    <tr style=\"text-align: right;\">\n",
       "      <th></th>\n",
       "      <th>chrom</th>\n",
       "      <th>start</th>\n",
       "      <th>end</th>\n",
       "      <th>weight</th>\n",
       "    </tr>\n",
       "  </thead>\n",
       "  <tbody>\n",
       "    <tr>\n",
       "      <th>0</th>\n",
       "      <td>chr1</td>\n",
       "      <td>0</td>\n",
       "      <td>1000</td>\n",
       "      <td>NaN</td>\n",
       "    </tr>\n",
       "    <tr>\n",
       "      <th>1</th>\n",
       "      <td>chr1</td>\n",
       "      <td>1000</td>\n",
       "      <td>2000</td>\n",
       "      <td>NaN</td>\n",
       "    </tr>\n",
       "    <tr>\n",
       "      <th>2</th>\n",
       "      <td>chr1</td>\n",
       "      <td>2000</td>\n",
       "      <td>3000</td>\n",
       "      <td>NaN</td>\n",
       "    </tr>\n",
       "    <tr>\n",
       "      <th>3</th>\n",
       "      <td>chr1</td>\n",
       "      <td>3000</td>\n",
       "      <td>4000</td>\n",
       "      <td>NaN</td>\n",
       "    </tr>\n",
       "    <tr>\n",
       "      <th>4</th>\n",
       "      <td>chr1</td>\n",
       "      <td>4000</td>\n",
       "      <td>5000</td>\n",
       "      <td>NaN</td>\n",
       "    </tr>\n",
       "  </tbody>\n",
       "</table>\n",
       "</div>"
      ],
      "text/plain": [
       "  chrom  start   end  weight\n",
       "0  chr1      0  1000     NaN\n",
       "1  chr1   1000  2000     NaN\n",
       "2  chr1   2000  3000     NaN\n",
       "3  chr1   3000  4000     NaN\n",
       "4  chr1   4000  5000     NaN"
      ]
     },
     "execution_count": 11,
     "metadata": {},
     "output_type": "execute_result"
    }
   ],
   "source": [
    "bins.head()"
   ]
  },
  {
   "cell_type": "code",
   "execution_count": 12,
   "metadata": {},
   "outputs": [
    {
     "data": {
      "text/plain": [
       "(3095706, 4)"
      ]
     },
     "execution_count": 12,
     "metadata": {},
     "output_type": "execute_result"
    }
   ],
   "source": [
    "bins.shape"
   ]
  },
  {
   "cell_type": "code",
   "execution_count": 13,
   "metadata": {},
   "outputs": [],
   "source": [
    "bins = bins.drop('weight', axis=1)\n",
    "bins['idx'] = bins.index"
   ]
  },
  {
   "cell_type": "code",
   "execution_count": null,
   "metadata": {},
   "outputs": [],
   "source": []
  },
  {
   "cell_type": "code",
   "execution_count": 79,
   "metadata": {},
   "outputs": [],
   "source": [
    "f.close()"
   ]
  },
  {
   "cell_type": "markdown",
   "metadata": {},
   "source": [
    "# Getting intersections of bins and liftover using bedtools\n",
    "### run intermeidate steps in a temp directory to conserve space and increase speed"
   ]
  },
  {
   "cell_type": "code",
   "execution_count": 14,
   "metadata": {},
   "outputs": [],
   "source": [
    "tmp_dir = '/scratch/ethan/hic/'"
   ]
  },
  {
   "cell_type": "code",
   "execution_count": 15,
   "metadata": {},
   "outputs": [],
   "source": [
    "bins.to_csv(tmp_dir+'hi_c_bins.bed', sep='\\t', header=None, index=None)"
   ]
  },
  {
   "cell_type": "code",
   "execution_count": 16,
   "metadata": {},
   "outputs": [],
   "source": [
    "tss_bed = 'tss_lifted.bed'\n",
    "enhancer_bed = 'enhancers_lifted.bed'"
   ]
  },
  {
   "cell_type": "code",
   "execution_count": 17,
   "metadata": {},
   "outputs": [],
   "source": [
    "# get intersect with enhancers"
   ]
  },
  {
   "cell_type": "code",
   "execution_count": 18,
   "metadata": {},
   "outputs": [],
   "source": [
    "!bedtools intersect -wb -a {enhancer_bed} -b {tmp_dir+'hi_c_bins.bed'} > {tmp_dir+'enhancer_bins.bed'}"
   ]
  },
  {
   "cell_type": "code",
   "execution_count": 19,
   "metadata": {},
   "outputs": [],
   "source": [
    "# get intersect with tss"
   ]
  },
  {
   "cell_type": "code",
   "execution_count": 20,
   "metadata": {},
   "outputs": [],
   "source": [
    "!bedtools intersect -wb -a {tss_bed} -b {tmp_dir+'hi_c_bins.bed'} > {tmp_dir+'tss_bins.bed'}"
   ]
  },
  {
   "cell_type": "markdown",
   "metadata": {},
   "source": [
    "# annotate bins with overlaps"
   ]
  },
  {
   "cell_type": "code",
   "execution_count": 21,
   "metadata": {},
   "outputs": [],
   "source": [
    "enh_over = pd.read_csv(tmp_dir+'enhancer_bins.bed', header=None, sep='\\t')"
   ]
  },
  {
   "cell_type": "code",
   "execution_count": 22,
   "metadata": {},
   "outputs": [],
   "source": [
    "tss_over = pd.read_csv(tmp_dir+'tss_bins.bed', header=None, sep='\\t')"
   ]
  },
  {
   "cell_type": "code",
   "execution_count": 23,
   "metadata": {},
   "outputs": [],
   "source": [
    "columns = ['chr_overlap', 'start_overlap', 'end_overlap', 'enh_idx', 'chr_b', 'start_bin', 'end_bin', 'bin_idx']"
   ]
  },
  {
   "cell_type": "code",
   "execution_count": 24,
   "metadata": {},
   "outputs": [],
   "source": [
    "enh_over.columns = columns"
   ]
  },
  {
   "cell_type": "code",
   "execution_count": 25,
   "metadata": {},
   "outputs": [
    {
     "data": {
      "text/html": [
       "<div>\n",
       "<style scoped>\n",
       "    .dataframe tbody tr th:only-of-type {\n",
       "        vertical-align: middle;\n",
       "    }\n",
       "\n",
       "    .dataframe tbody tr th {\n",
       "        vertical-align: top;\n",
       "    }\n",
       "\n",
       "    .dataframe thead th {\n",
       "        text-align: right;\n",
       "    }\n",
       "</style>\n",
       "<table border=\"1\" class=\"dataframe\">\n",
       "  <thead>\n",
       "    <tr style=\"text-align: right;\">\n",
       "      <th></th>\n",
       "      <th>chr_overlap</th>\n",
       "      <th>start_overlap</th>\n",
       "      <th>end_overlap</th>\n",
       "      <th>enh_idx</th>\n",
       "      <th>chr_b</th>\n",
       "      <th>start_bin</th>\n",
       "      <th>end_bin</th>\n",
       "      <th>bin_idx</th>\n",
       "    </tr>\n",
       "  </thead>\n",
       "  <tbody>\n",
       "    <tr>\n",
       "      <th>0</th>\n",
       "      <td>chr8</td>\n",
       "      <td>55592914</td>\n",
       "      <td>55593000</td>\n",
       "      <td>5</td>\n",
       "      <td>chr8</td>\n",
       "      <td>55592000</td>\n",
       "      <td>55593000</td>\n",
       "      <td>1448392</td>\n",
       "    </tr>\n",
       "    <tr>\n",
       "      <th>1</th>\n",
       "      <td>chr8</td>\n",
       "      <td>55593000</td>\n",
       "      <td>55593008</td>\n",
       "      <td>5</td>\n",
       "      <td>chr8</td>\n",
       "      <td>55593000</td>\n",
       "      <td>55594000</td>\n",
       "      <td>1448393</td>\n",
       "    </tr>\n",
       "    <tr>\n",
       "      <th>2</th>\n",
       "      <td>chr8</td>\n",
       "      <td>55587811</td>\n",
       "      <td>55587820</td>\n",
       "      <td>7</td>\n",
       "      <td>chr8</td>\n",
       "      <td>55587000</td>\n",
       "      <td>55588000</td>\n",
       "      <td>1448387</td>\n",
       "    </tr>\n",
       "    <tr>\n",
       "      <th>3</th>\n",
       "      <td>chr8</td>\n",
       "      <td>55528337</td>\n",
       "      <td>55528612</td>\n",
       "      <td>10</td>\n",
       "      <td>chr8</td>\n",
       "      <td>55528000</td>\n",
       "      <td>55529000</td>\n",
       "      <td>1448328</td>\n",
       "    </tr>\n",
       "    <tr>\n",
       "      <th>4</th>\n",
       "      <td>chr8</td>\n",
       "      <td>55482940</td>\n",
       "      <td>55483000</td>\n",
       "      <td>17</td>\n",
       "      <td>chr8</td>\n",
       "      <td>55482000</td>\n",
       "      <td>55483000</td>\n",
       "      <td>1448282</td>\n",
       "    </tr>\n",
       "  </tbody>\n",
       "</table>\n",
       "</div>"
      ],
      "text/plain": [
       "  chr_overlap  start_overlap  end_overlap  enh_idx chr_b  start_bin   end_bin  \\\n",
       "0        chr8       55592914     55593000        5  chr8   55592000  55593000   \n",
       "1        chr8       55593000     55593008        5  chr8   55593000  55594000   \n",
       "2        chr8       55587811     55587820        7  chr8   55587000  55588000   \n",
       "3        chr8       55528337     55528612       10  chr8   55528000  55529000   \n",
       "4        chr8       55482940     55483000       17  chr8   55482000  55483000   \n",
       "\n",
       "   bin_idx  \n",
       "0  1448392  \n",
       "1  1448393  \n",
       "2  1448387  \n",
       "3  1448328  \n",
       "4  1448282  "
      ]
     },
     "execution_count": 25,
     "metadata": {},
     "output_type": "execute_result"
    }
   ],
   "source": [
    "enh_over.head()"
   ]
  },
  {
   "cell_type": "code",
   "execution_count": 26,
   "metadata": {},
   "outputs": [],
   "source": [
    "columns = ['chr_overlap', 'start_overlap', 'end_overlap', 'mm_gene_id', 'chr_b', 'start_bin', 'end_bin', 'bin_idx']"
   ]
  },
  {
   "cell_type": "code",
   "execution_count": 27,
   "metadata": {},
   "outputs": [],
   "source": [
    "tss_over.columns = columns"
   ]
  },
  {
   "cell_type": "code",
   "execution_count": 28,
   "metadata": {},
   "outputs": [
    {
     "data": {
      "text/html": [
       "<div>\n",
       "<style scoped>\n",
       "    .dataframe tbody tr th:only-of-type {\n",
       "        vertical-align: middle;\n",
       "    }\n",
       "\n",
       "    .dataframe tbody tr th {\n",
       "        vertical-align: top;\n",
       "    }\n",
       "\n",
       "    .dataframe thead th {\n",
       "        text-align: right;\n",
       "    }\n",
       "</style>\n",
       "<table border=\"1\" class=\"dataframe\">\n",
       "  <thead>\n",
       "    <tr style=\"text-align: right;\">\n",
       "      <th></th>\n",
       "      <th>chr_overlap</th>\n",
       "      <th>start_overlap</th>\n",
       "      <th>end_overlap</th>\n",
       "      <th>mm_gene_id</th>\n",
       "      <th>chr_b</th>\n",
       "      <th>start_bin</th>\n",
       "      <th>end_bin</th>\n",
       "      <th>bin_idx</th>\n",
       "    </tr>\n",
       "  </thead>\n",
       "  <tbody>\n",
       "    <tr>\n",
       "      <th>0</th>\n",
       "      <td>chr8</td>\n",
       "      <td>55102323</td>\n",
       "      <td>55102324</td>\n",
       "      <td>ENSMUSG00000051951</td>\n",
       "      <td>chr8</td>\n",
       "      <td>55102000</td>\n",
       "      <td>55103000</td>\n",
       "      <td>1447902</td>\n",
       "    </tr>\n",
       "    <tr>\n",
       "      <th>1</th>\n",
       "      <td>chr4</td>\n",
       "      <td>83273518</td>\n",
       "      <td>83273519</td>\n",
       "      <td>ENSMUSG00000102851</td>\n",
       "      <td>chr4</td>\n",
       "      <td>83273000</td>\n",
       "      <td>83274000</td>\n",
       "      <td>773747</td>\n",
       "    </tr>\n",
       "    <tr>\n",
       "      <th>2</th>\n",
       "      <td>chr8</td>\n",
       "      <td>55409874</td>\n",
       "      <td>55409875</td>\n",
       "      <td>ENSMUSG00000103377</td>\n",
       "      <td>chr8</td>\n",
       "      <td>55409000</td>\n",
       "      <td>55410000</td>\n",
       "      <td>1448209</td>\n",
       "    </tr>\n",
       "    <tr>\n",
       "      <th>3</th>\n",
       "      <td>chr8</td>\n",
       "      <td>55288183</td>\n",
       "      <td>55288184</td>\n",
       "      <td>ENSMUSG00000089699</td>\n",
       "      <td>chr8</td>\n",
       "      <td>55288000</td>\n",
       "      <td>55289000</td>\n",
       "      <td>1448088</td>\n",
       "    </tr>\n",
       "    <tr>\n",
       "      <th>4</th>\n",
       "      <td>chr8</td>\n",
       "      <td>55230212</td>\n",
       "      <td>55230213</td>\n",
       "      <td>ENSMUSG00000103201</td>\n",
       "      <td>chr8</td>\n",
       "      <td>55230000</td>\n",
       "      <td>55231000</td>\n",
       "      <td>1448030</td>\n",
       "    </tr>\n",
       "  </tbody>\n",
       "</table>\n",
       "</div>"
      ],
      "text/plain": [
       "  chr_overlap  start_overlap  end_overlap          mm_gene_id chr_b  \\\n",
       "0        chr8       55102323     55102324  ENSMUSG00000051951  chr8   \n",
       "1        chr4       83273518     83273519  ENSMUSG00000102851  chr4   \n",
       "2        chr8       55409874     55409875  ENSMUSG00000103377  chr8   \n",
       "3        chr8       55288183     55288184  ENSMUSG00000089699  chr8   \n",
       "4        chr8       55230212     55230213  ENSMUSG00000103201  chr8   \n",
       "\n",
       "   start_bin   end_bin  bin_idx  \n",
       "0   55102000  55103000  1447902  \n",
       "1   83273000  83274000   773747  \n",
       "2   55409000  55410000  1448209  \n",
       "3   55288000  55289000  1448088  \n",
       "4   55230000  55231000  1448030  "
      ]
     },
     "execution_count": 28,
     "metadata": {},
     "output_type": "execute_result"
    }
   ],
   "source": [
    "tss_over.head()"
   ]
  },
  {
   "cell_type": "code",
   "execution_count": 29,
   "metadata": {},
   "outputs": [
    {
     "data": {
      "text/html": [
       "<div>\n",
       "<style scoped>\n",
       "    .dataframe tbody tr th:only-of-type {\n",
       "        vertical-align: middle;\n",
       "    }\n",
       "\n",
       "    .dataframe tbody tr th {\n",
       "        vertical-align: top;\n",
       "    }\n",
       "\n",
       "    .dataframe thead th {\n",
       "        text-align: right;\n",
       "    }\n",
       "</style>\n",
       "<table border=\"1\" class=\"dataframe\">\n",
       "  <thead>\n",
       "    <tr style=\"text-align: right;\">\n",
       "      <th></th>\n",
       "      <th>chrom</th>\n",
       "      <th>start</th>\n",
       "      <th>end</th>\n",
       "      <th>idx</th>\n",
       "    </tr>\n",
       "  </thead>\n",
       "  <tbody>\n",
       "    <tr>\n",
       "      <th>0</th>\n",
       "      <td>chr1</td>\n",
       "      <td>0</td>\n",
       "      <td>1000</td>\n",
       "      <td>0</td>\n",
       "    </tr>\n",
       "    <tr>\n",
       "      <th>1</th>\n",
       "      <td>chr1</td>\n",
       "      <td>1000</td>\n",
       "      <td>2000</td>\n",
       "      <td>1</td>\n",
       "    </tr>\n",
       "    <tr>\n",
       "      <th>2</th>\n",
       "      <td>chr1</td>\n",
       "      <td>2000</td>\n",
       "      <td>3000</td>\n",
       "      <td>2</td>\n",
       "    </tr>\n",
       "    <tr>\n",
       "      <th>3</th>\n",
       "      <td>chr1</td>\n",
       "      <td>3000</td>\n",
       "      <td>4000</td>\n",
       "      <td>3</td>\n",
       "    </tr>\n",
       "    <tr>\n",
       "      <th>4</th>\n",
       "      <td>chr1</td>\n",
       "      <td>4000</td>\n",
       "      <td>5000</td>\n",
       "      <td>4</td>\n",
       "    </tr>\n",
       "  </tbody>\n",
       "</table>\n",
       "</div>"
      ],
      "text/plain": [
       "  chrom  start   end  idx\n",
       "0  chr1      0  1000    0\n",
       "1  chr1   1000  2000    1\n",
       "2  chr1   2000  3000    2\n",
       "3  chr1   3000  4000    3\n",
       "4  chr1   4000  5000    4"
      ]
     },
     "execution_count": 29,
     "metadata": {},
     "output_type": "execute_result"
    }
   ],
   "source": [
    "bins.head()"
   ]
  },
  {
   "cell_type": "code",
   "execution_count": 30,
   "metadata": {},
   "outputs": [],
   "source": [
    "tss_over = tss_over.set_index(\"bin_idx\")"
   ]
  },
  {
   "cell_type": "code",
   "execution_count": 31,
   "metadata": {},
   "outputs": [],
   "source": [
    "enh_over = enh_over.set_index(\"bin_idx\")"
   ]
  },
  {
   "cell_type": "code",
   "execution_count": 32,
   "metadata": {},
   "outputs": [
    {
     "data": {
      "text/html": [
       "<div>\n",
       "<style scoped>\n",
       "    .dataframe tbody tr th:only-of-type {\n",
       "        vertical-align: middle;\n",
       "    }\n",
       "\n",
       "    .dataframe tbody tr th {\n",
       "        vertical-align: top;\n",
       "    }\n",
       "\n",
       "    .dataframe thead th {\n",
       "        text-align: right;\n",
       "    }\n",
       "</style>\n",
       "<table border=\"1\" class=\"dataframe\">\n",
       "  <thead>\n",
       "    <tr style=\"text-align: right;\">\n",
       "      <th></th>\n",
       "      <th>chr_overlap</th>\n",
       "      <th>start_overlap</th>\n",
       "      <th>end_overlap</th>\n",
       "      <th>mm_gene_id</th>\n",
       "      <th>chr_b</th>\n",
       "      <th>start_bin</th>\n",
       "      <th>end_bin</th>\n",
       "    </tr>\n",
       "    <tr>\n",
       "      <th>bin_idx</th>\n",
       "      <th></th>\n",
       "      <th></th>\n",
       "      <th></th>\n",
       "      <th></th>\n",
       "      <th></th>\n",
       "      <th></th>\n",
       "      <th></th>\n",
       "    </tr>\n",
       "  </thead>\n",
       "  <tbody>\n",
       "    <tr>\n",
       "      <th>1447902</th>\n",
       "      <td>chr8</td>\n",
       "      <td>55102323</td>\n",
       "      <td>55102324</td>\n",
       "      <td>ENSMUSG00000051951</td>\n",
       "      <td>chr8</td>\n",
       "      <td>55102000</td>\n",
       "      <td>55103000</td>\n",
       "    </tr>\n",
       "    <tr>\n",
       "      <th>773747</th>\n",
       "      <td>chr4</td>\n",
       "      <td>83273518</td>\n",
       "      <td>83273519</td>\n",
       "      <td>ENSMUSG00000102851</td>\n",
       "      <td>chr4</td>\n",
       "      <td>83273000</td>\n",
       "      <td>83274000</td>\n",
       "    </tr>\n",
       "    <tr>\n",
       "      <th>1448209</th>\n",
       "      <td>chr8</td>\n",
       "      <td>55409874</td>\n",
       "      <td>55409875</td>\n",
       "      <td>ENSMUSG00000103377</td>\n",
       "      <td>chr8</td>\n",
       "      <td>55409000</td>\n",
       "      <td>55410000</td>\n",
       "    </tr>\n",
       "    <tr>\n",
       "      <th>1448088</th>\n",
       "      <td>chr8</td>\n",
       "      <td>55288183</td>\n",
       "      <td>55288184</td>\n",
       "      <td>ENSMUSG00000089699</td>\n",
       "      <td>chr8</td>\n",
       "      <td>55288000</td>\n",
       "      <td>55289000</td>\n",
       "    </tr>\n",
       "    <tr>\n",
       "      <th>1448030</th>\n",
       "      <td>chr8</td>\n",
       "      <td>55230212</td>\n",
       "      <td>55230213</td>\n",
       "      <td>ENSMUSG00000103201</td>\n",
       "      <td>chr8</td>\n",
       "      <td>55230000</td>\n",
       "      <td>55231000</td>\n",
       "    </tr>\n",
       "  </tbody>\n",
       "</table>\n",
       "</div>"
      ],
      "text/plain": [
       "        chr_overlap  start_overlap  end_overlap          mm_gene_id chr_b  \\\n",
       "bin_idx                                                                     \n",
       "1447902        chr8       55102323     55102324  ENSMUSG00000051951  chr8   \n",
       "773747         chr4       83273518     83273519  ENSMUSG00000102851  chr4   \n",
       "1448209        chr8       55409874     55409875  ENSMUSG00000103377  chr8   \n",
       "1448088        chr8       55288183     55288184  ENSMUSG00000089699  chr8   \n",
       "1448030        chr8       55230212     55230213  ENSMUSG00000103201  chr8   \n",
       "\n",
       "         start_bin   end_bin  \n",
       "bin_idx                       \n",
       "1447902   55102000  55103000  \n",
       "773747    83273000  83274000  \n",
       "1448209   55409000  55410000  \n",
       "1448088   55288000  55289000  \n",
       "1448030   55230000  55231000  "
      ]
     },
     "execution_count": 32,
     "metadata": {},
     "output_type": "execute_result"
    }
   ],
   "source": [
    "tss_over.head()"
   ]
  },
  {
   "cell_type": "code",
   "execution_count": 33,
   "metadata": {},
   "outputs": [
    {
     "data": {
      "text/plain": [
       "(12363, 7)"
      ]
     },
     "execution_count": 33,
     "metadata": {},
     "output_type": "execute_result"
    }
   ],
   "source": [
    "tss_over.loc[tss_over.index.duplicated(keep=False)].shape"
   ]
  },
  {
   "cell_type": "code",
   "execution_count": 34,
   "metadata": {},
   "outputs": [],
   "source": [
    "dupe = tss_over.loc[tss_over.index.duplicated(keep=False)]"
   ]
  },
  {
   "cell_type": "code",
   "execution_count": 35,
   "metadata": {},
   "outputs": [
    {
     "data": {
      "text/html": [
       "<div>\n",
       "<style scoped>\n",
       "    .dataframe tbody tr th:only-of-type {\n",
       "        vertical-align: middle;\n",
       "    }\n",
       "\n",
       "    .dataframe tbody tr th {\n",
       "        vertical-align: top;\n",
       "    }\n",
       "\n",
       "    .dataframe thead th {\n",
       "        text-align: right;\n",
       "    }\n",
       "</style>\n",
       "<table border=\"1\" class=\"dataframe\">\n",
       "  <thead>\n",
       "    <tr style=\"text-align: right;\">\n",
       "      <th></th>\n",
       "      <th>chr_overlap</th>\n",
       "      <th>start_overlap</th>\n",
       "      <th>end_overlap</th>\n",
       "      <th>mm_gene_id</th>\n",
       "      <th>chr_b</th>\n",
       "      <th>start_bin</th>\n",
       "      <th>end_bin</th>\n",
       "    </tr>\n",
       "    <tr>\n",
       "      <th>bin_idx</th>\n",
       "      <th></th>\n",
       "      <th></th>\n",
       "      <th></th>\n",
       "      <th></th>\n",
       "      <th></th>\n",
       "      <th></th>\n",
       "      <th></th>\n",
       "    </tr>\n",
       "  </thead>\n",
       "  <tbody>\n",
       "    <tr>\n",
       "      <th>2019667</th>\n",
       "      <td>chr12</td>\n",
       "      <td>68746378</td>\n",
       "      <td>68746379</td>\n",
       "      <td>ENSMUSG00000103147</td>\n",
       "      <td>chr12</td>\n",
       "      <td>68746000</td>\n",
       "      <td>68747000</td>\n",
       "    </tr>\n",
       "    <tr>\n",
       "      <th>1447359</th>\n",
       "      <td>chr8</td>\n",
       "      <td>54559208</td>\n",
       "      <td>54559209</td>\n",
       "      <td>ENSMUSG00000025900</td>\n",
       "      <td>chr8</td>\n",
       "      <td>54559000</td>\n",
       "      <td>54560000</td>\n",
       "    </tr>\n",
       "    <tr>\n",
       "      <th>1447359</th>\n",
       "      <td>chr8</td>\n",
       "      <td>54559302</td>\n",
       "      <td>54559303</td>\n",
       "      <td>ENSMUSG00000109048</td>\n",
       "      <td>chr8</td>\n",
       "      <td>54559000</td>\n",
       "      <td>54560000</td>\n",
       "    </tr>\n",
       "    <tr>\n",
       "      <th>112674</th>\n",
       "      <td>chr1</td>\n",
       "      <td>112674914</td>\n",
       "      <td>112674915</td>\n",
       "      <td>ENSMUSG00000102269</td>\n",
       "      <td>chr1</td>\n",
       "      <td>112674000</td>\n",
       "      <td>112675000</td>\n",
       "    </tr>\n",
       "    <tr>\n",
       "      <th>2083746</th>\n",
       "      <td>chr12</td>\n",
       "      <td>132825706</td>\n",
       "      <td>132825707</td>\n",
       "      <td>ENSMUSG00000103003</td>\n",
       "      <td>chr12</td>\n",
       "      <td>132825000</td>\n",
       "      <td>132826000</td>\n",
       "    </tr>\n",
       "  </tbody>\n",
       "</table>\n",
       "</div>"
      ],
      "text/plain": [
       "        chr_overlap  start_overlap  end_overlap          mm_gene_id  chr_b  \\\n",
       "bin_idx                                                                      \n",
       "2019667       chr12       68746378     68746379  ENSMUSG00000103147  chr12   \n",
       "1447359        chr8       54559208     54559209  ENSMUSG00000025900   chr8   \n",
       "1447359        chr8       54559302     54559303  ENSMUSG00000109048   chr8   \n",
       "112674         chr1      112674914    112674915  ENSMUSG00000102269   chr1   \n",
       "2083746       chr12      132825706    132825707  ENSMUSG00000103003  chr12   \n",
       "\n",
       "         start_bin    end_bin  \n",
       "bin_idx                        \n",
       "2019667   68746000   68747000  \n",
       "1447359   54559000   54560000  \n",
       "1447359   54559000   54560000  \n",
       "112674   112674000  112675000  \n",
       "2083746  132825000  132826000  "
      ]
     },
     "execution_count": 35,
     "metadata": {},
     "output_type": "execute_result"
    }
   ],
   "source": [
    "dupe.head()"
   ]
  },
  {
   "cell_type": "code",
   "execution_count": 36,
   "metadata": {},
   "outputs": [
    {
     "data": {
      "text/plain": [
       "(12363, 7)"
      ]
     },
     "execution_count": 36,
     "metadata": {},
     "output_type": "execute_result"
    }
   ],
   "source": [
    "dupe.shape"
   ]
  },
  {
   "cell_type": "code",
   "execution_count": 37,
   "metadata": {},
   "outputs": [
    {
     "data": {
      "text/plain": [
       "(3559,)"
      ]
     },
     "execution_count": 37,
     "metadata": {},
     "output_type": "execute_result"
    }
   ],
   "source": [
    "dupe.index.unique().shape"
   ]
  },
  {
   "cell_type": "code",
   "execution_count": 38,
   "metadata": {},
   "outputs": [],
   "source": [
    "bin_names_tss = dupe.index.unique()\n",
    "tss_names = []\n",
    "for i in dupe.index.unique():\n",
    "    tss_names.append(dupe.loc[i, 'mm_gene_id'].values)"
   ]
  },
  {
   "cell_type": "code",
   "execution_count": 39,
   "metadata": {},
   "outputs": [
    {
     "data": {
      "text/plain": [
       "3559"
      ]
     },
     "execution_count": 39,
     "metadata": {},
     "output_type": "execute_result"
    }
   ],
   "source": [
    "len(tss_names)"
   ]
  },
  {
   "cell_type": "code",
   "execution_count": 40,
   "metadata": {},
   "outputs": [
    {
     "data": {
      "text/html": [
       "<div>\n",
       "<style scoped>\n",
       "    .dataframe tbody tr th:only-of-type {\n",
       "        vertical-align: middle;\n",
       "    }\n",
       "\n",
       "    .dataframe tbody tr th {\n",
       "        vertical-align: top;\n",
       "    }\n",
       "\n",
       "    .dataframe thead th {\n",
       "        text-align: right;\n",
       "    }\n",
       "</style>\n",
       "<table border=\"1\" class=\"dataframe\">\n",
       "  <thead>\n",
       "    <tr style=\"text-align: right;\">\n",
       "      <th></th>\n",
       "      <th>chr_overlap</th>\n",
       "      <th>start_overlap</th>\n",
       "      <th>end_overlap</th>\n",
       "      <th>enh_idx</th>\n",
       "      <th>chr_b</th>\n",
       "      <th>start_bin</th>\n",
       "      <th>end_bin</th>\n",
       "    </tr>\n",
       "    <tr>\n",
       "      <th>bin_idx</th>\n",
       "      <th></th>\n",
       "      <th></th>\n",
       "      <th></th>\n",
       "      <th></th>\n",
       "      <th></th>\n",
       "      <th></th>\n",
       "      <th></th>\n",
       "    </tr>\n",
       "  </thead>\n",
       "  <tbody>\n",
       "    <tr>\n",
       "      <th>1448217</th>\n",
       "      <td>chr8</td>\n",
       "      <td>55417801</td>\n",
       "      <td>55418000</td>\n",
       "      <td>28</td>\n",
       "      <td>chr8</td>\n",
       "      <td>55417000</td>\n",
       "      <td>55418000</td>\n",
       "    </tr>\n",
       "    <tr>\n",
       "      <th>1448217</th>\n",
       "      <td>chr8</td>\n",
       "      <td>55417241</td>\n",
       "      <td>55417460</td>\n",
       "      <td>29</td>\n",
       "      <td>chr8</td>\n",
       "      <td>55417000</td>\n",
       "      <td>55418000</td>\n",
       "    </tr>\n",
       "    <tr>\n",
       "      <th>1445396</th>\n",
       "      <td>chr8</td>\n",
       "      <td>52596329</td>\n",
       "      <td>52596587</td>\n",
       "      <td>164</td>\n",
       "      <td>chr8</td>\n",
       "      <td>52596000</td>\n",
       "      <td>52597000</td>\n",
       "    </tr>\n",
       "    <tr>\n",
       "      <th>1445396</th>\n",
       "      <td>chr8</td>\n",
       "      <td>52596000</td>\n",
       "      <td>52596151</td>\n",
       "      <td>165</td>\n",
       "      <td>chr8</td>\n",
       "      <td>52596000</td>\n",
       "      <td>52597000</td>\n",
       "    </tr>\n",
       "    <tr>\n",
       "      <th>1444316</th>\n",
       "      <td>chr8</td>\n",
       "      <td>51516569</td>\n",
       "      <td>51516902</td>\n",
       "      <td>205</td>\n",
       "      <td>chr8</td>\n",
       "      <td>51516000</td>\n",
       "      <td>51517000</td>\n",
       "    </tr>\n",
       "  </tbody>\n",
       "</table>\n",
       "</div>"
      ],
      "text/plain": [
       "        chr_overlap  start_overlap  end_overlap  enh_idx chr_b  start_bin  \\\n",
       "bin_idx                                                                     \n",
       "1448217        chr8       55417801     55418000       28  chr8   55417000   \n",
       "1448217        chr8       55417241     55417460       29  chr8   55417000   \n",
       "1445396        chr8       52596329     52596587      164  chr8   52596000   \n",
       "1445396        chr8       52596000     52596151      165  chr8   52596000   \n",
       "1444316        chr8       51516569     51516902      205  chr8   51516000   \n",
       "\n",
       "          end_bin  \n",
       "bin_idx            \n",
       "1448217  55418000  \n",
       "1448217  55418000  \n",
       "1445396  52597000  \n",
       "1445396  52597000  \n",
       "1444316  51517000  "
      ]
     },
     "execution_count": 40,
     "metadata": {},
     "output_type": "execute_result"
    }
   ],
   "source": [
    "dupe = enh_over.loc[enh_over.index.duplicated(keep=False)]\n",
    "dupe.head()"
   ]
  },
  {
   "cell_type": "code",
   "execution_count": 41,
   "metadata": {},
   "outputs": [
    {
     "data": {
      "text/plain": [
       "(36652, 7)"
      ]
     },
     "execution_count": 41,
     "metadata": {},
     "output_type": "execute_result"
    }
   ],
   "source": [
    "dupe.shape"
   ]
  },
  {
   "cell_type": "code",
   "execution_count": 42,
   "metadata": {},
   "outputs": [],
   "source": [
    "bin_names_enh = dupe.index.unique()\n",
    "enh_names = []\n",
    "for i in dupe.index.unique():\n",
    "    enh_names.append(dupe.loc[i, 'enh_idx'].values)"
   ]
  },
  {
   "cell_type": "code",
   "execution_count": 43,
   "metadata": {},
   "outputs": [
    {
     "data": {
      "text/plain": [
       "17562"
      ]
     },
     "execution_count": 43,
     "metadata": {},
     "output_type": "execute_result"
    }
   ],
   "source": [
    "len(enh_names)"
   ]
  },
  {
   "cell_type": "markdown",
   "metadata": {},
   "source": [
    "## fix duplicates"
   ]
  },
  {
   "cell_type": "code",
   "execution_count": 44,
   "metadata": {},
   "outputs": [],
   "source": [
    "annotate_enh = enh_over.enh_idx"
   ]
  },
  {
   "cell_type": "code",
   "execution_count": 45,
   "metadata": {},
   "outputs": [],
   "source": [
    "annotate_tss = tss_over.mm_gene_id"
   ]
  },
  {
   "cell_type": "code",
   "execution_count": 46,
   "metadata": {},
   "outputs": [],
   "source": [
    "annotate_enh = annotate_enh.drop(bin_names_enh)"
   ]
  },
  {
   "cell_type": "code",
   "execution_count": 47,
   "metadata": {},
   "outputs": [],
   "source": [
    "annotate_tss = annotate_tss.drop(bin_names_tss)"
   ]
  },
  {
   "cell_type": "code",
   "execution_count": 48,
   "metadata": {},
   "outputs": [
    {
     "data": {
      "text/plain": [
       "((137283,), (21260,))"
      ]
     },
     "execution_count": 48,
     "metadata": {},
     "output_type": "execute_result"
    }
   ],
   "source": [
    "annotate_enh.shape, annotate_tss.shape"
   ]
  },
  {
   "cell_type": "code",
   "execution_count": 49,
   "metadata": {},
   "outputs": [],
   "source": [
    "multi_enh = pd.Series(index=bin_names_enh, data=enh_names)"
   ]
  },
  {
   "cell_type": "code",
   "execution_count": 50,
   "metadata": {},
   "outputs": [
    {
     "data": {
      "text/plain": [
       "bin_idx\n",
       "1448217            [28, 29]\n",
       "1445396          [164, 165]\n",
       "1444316          [205, 206]\n",
       "1442959          [243, 244]\n",
       "1442715          [267, 268]\n",
       "                 ...       \n",
       "2893165    [233423, 233424]\n",
       "2893060    [233432, 233433]\n",
       "2892208    [233479, 233480]\n",
       "2892143    [233487, 233488]\n",
       "2892142    [233488, 233489]\n",
       "Length: 17562, dtype: object"
      ]
     },
     "execution_count": 50,
     "metadata": {},
     "output_type": "execute_result"
    }
   ],
   "source": [
    "multi_enh"
   ]
  },
  {
   "cell_type": "code",
   "execution_count": 51,
   "metadata": {},
   "outputs": [],
   "source": [
    "multi_gene = pd.Series(index=bin_names_tss, data=tss_names)"
   ]
  },
  {
   "cell_type": "code",
   "execution_count": 52,
   "metadata": {},
   "outputs": [
    {
     "data": {
      "text/plain": [
       "bin_idx\n",
       "2019667             [ENSMUSG00000103147, ENSMUSG00000106067]\n",
       "1447359             [ENSMUSG00000025900, ENSMUSG00000109048]\n",
       "112674              [ENSMUSG00000102269, ENSMUSG00000002227]\n",
       "2083746    [ENSMUSG00000103003, ENSMUSG00000103379, ENSMU...\n",
       "220253     [ENSMUSG00000102735, ENSMUSG00000104171, ENSMU...\n",
       "                                 ...                        \n",
       "2891539             [ENSMUSG00000095134, ENSMUSG00000099871]\n",
       "3095689             [ENSMUSG00000064336, ENSMUSG00000064337]\n",
       "3095690             [ENSMUSG00000064338, ENSMUSG00000064339]\n",
       "3095692             [ENSMUSG00000064340, ENSMUSG00000064341]\n",
       "3095701    [ENSMUSG00000064364, ENSMUSG00000064365, ENSMU...\n",
       "Length: 3559, dtype: object"
      ]
     },
     "execution_count": 52,
     "metadata": {},
     "output_type": "execute_result"
    }
   ],
   "source": [
    "multi_gene"
   ]
  },
  {
   "cell_type": "code",
   "execution_count": 53,
   "metadata": {},
   "outputs": [],
   "source": [
    "annotate_enh = pd.concat([annotate_enh, multi_enh])"
   ]
  },
  {
   "cell_type": "code",
   "execution_count": 54,
   "metadata": {},
   "outputs": [
    {
     "data": {
      "text/plain": [
       "bin_idx\n",
       "1448392                   5\n",
       "1448393                   5\n",
       "1448387                   7\n",
       "1448328                  10\n",
       "1448282                  17\n",
       "                 ...       \n",
       "2893165    [233423, 233424]\n",
       "2893060    [233432, 233433]\n",
       "2892208    [233479, 233480]\n",
       "2892143    [233487, 233488]\n",
       "2892142    [233488, 233489]\n",
       "Length: 154845, dtype: object"
      ]
     },
     "execution_count": 54,
     "metadata": {},
     "output_type": "execute_result"
    }
   ],
   "source": [
    "annotate_enh"
   ]
  },
  {
   "cell_type": "code",
   "execution_count": 55,
   "metadata": {},
   "outputs": [],
   "source": [
    "annotate_tss = pd.concat([annotate_tss, multi_gene])"
   ]
  },
  {
   "cell_type": "code",
   "execution_count": 56,
   "metadata": {},
   "outputs": [
    {
     "data": {
      "text/plain": [
       "bin_idx\n",
       "1447902                                   ENSMUSG00000051951\n",
       "773747                                    ENSMUSG00000102851\n",
       "1448209                                   ENSMUSG00000103377\n",
       "1448088                                   ENSMUSG00000089699\n",
       "1448030                                   ENSMUSG00000103201\n",
       "                                 ...                        \n",
       "2891539             [ENSMUSG00000095134, ENSMUSG00000099871]\n",
       "3095689             [ENSMUSG00000064336, ENSMUSG00000064337]\n",
       "3095690             [ENSMUSG00000064338, ENSMUSG00000064339]\n",
       "3095692             [ENSMUSG00000064340, ENSMUSG00000064341]\n",
       "3095701    [ENSMUSG00000064364, ENSMUSG00000064365, ENSMU...\n",
       "Length: 24819, dtype: object"
      ]
     },
     "execution_count": 56,
     "metadata": {},
     "output_type": "execute_result"
    }
   ],
   "source": [
    "annotate_tss"
   ]
  },
  {
   "cell_type": "code",
   "execution_count": 57,
   "metadata": {},
   "outputs": [
    {
     "data": {
      "text/plain": [
       "(154845,)"
      ]
     },
     "execution_count": 57,
     "metadata": {},
     "output_type": "execute_result"
    }
   ],
   "source": [
    "annotate_enh.index.isin(annotate_tss.index).shape"
   ]
  },
  {
   "cell_type": "code",
   "execution_count": 58,
   "metadata": {},
   "outputs": [
    {
     "data": {
      "text/plain": [
       "0"
      ]
     },
     "execution_count": 58,
     "metadata": {},
     "output_type": "execute_result"
    }
   ],
   "source": [
    "annotate_enh.index.duplicated().sum()"
   ]
  },
  {
   "cell_type": "code",
   "execution_count": 59,
   "metadata": {},
   "outputs": [
    {
     "data": {
      "text/plain": [
       "0"
      ]
     },
     "execution_count": 59,
     "metadata": {},
     "output_type": "execute_result"
    }
   ],
   "source": [
    "annotate_tss.index.duplicated().sum()"
   ]
  },
  {
   "cell_type": "code",
   "execution_count": 60,
   "metadata": {},
   "outputs": [],
   "source": [
    "both_vals = annotate_enh.loc[annotate_enh.index.isin(annotate_tss.index)].index"
   ]
  },
  {
   "cell_type": "code",
   "execution_count": 61,
   "metadata": {},
   "outputs": [],
   "source": [
    "both_tss = annotate_tss.loc[both_vals]"
   ]
  },
  {
   "cell_type": "code",
   "execution_count": 62,
   "metadata": {},
   "outputs": [
    {
     "data": {
      "text/plain": [
       "0"
      ]
     },
     "execution_count": 62,
     "metadata": {},
     "output_type": "execute_result"
    }
   ],
   "source": [
    "both_tss.index.duplicated(keep=False).sum()"
   ]
  },
  {
   "cell_type": "code",
   "execution_count": 81,
   "metadata": {},
   "outputs": [
    {
     "data": {
      "text/plain": [
       "0"
      ]
     },
     "execution_count": 81,
     "metadata": {},
     "output_type": "execute_result"
    }
   ],
   "source": [
    "both_enh.index.duplicated(keep=False).sum()"
   ]
  },
  {
   "cell_type": "code",
   "execution_count": 83,
   "metadata": {},
   "outputs": [
    {
     "data": {
      "text/plain": [
       "0"
      ]
     },
     "execution_count": 83,
     "metadata": {},
     "output_type": "execute_result"
    }
   ],
   "source": [
    "annotate_enh.index.duplicated(keep=False).sum()"
   ]
  },
  {
   "cell_type": "code",
   "execution_count": 85,
   "metadata": {},
   "outputs": [
    {
     "data": {
      "text/plain": [
       "0"
      ]
     },
     "execution_count": 85,
     "metadata": {},
     "output_type": "execute_result"
    }
   ],
   "source": [
    "annotate_tss.index.duplicated(keep=False).sum()"
   ]
  },
  {
   "cell_type": "code",
   "execution_count": 87,
   "metadata": {},
   "outputs": [
    {
     "data": {
      "text/plain": [
       "212"
      ]
     },
     "execution_count": 87,
     "metadata": {},
     "output_type": "execute_result"
    }
   ],
   "source": [
    "annotate_enh.index.isin(both_enh.index).sum()"
   ]
  },
  {
   "cell_type": "code",
   "execution_count": 88,
   "metadata": {},
   "outputs": [
    {
     "data": {
      "text/plain": [
       "212"
      ]
     },
     "execution_count": 88,
     "metadata": {},
     "output_type": "execute_result"
    }
   ],
   "source": [
    "annotate_tss.index.isin(both_enh.index).sum()"
   ]
  },
  {
   "cell_type": "code",
   "execution_count": 63,
   "metadata": {},
   "outputs": [],
   "source": [
    "both_enh = annotate_enh.loc[both_vals]"
   ]
  },
  {
   "cell_type": "code",
   "execution_count": 64,
   "metadata": {},
   "outputs": [],
   "source": [
    "both_tss = pd.Series(index=both_tss.index, \n",
    "                      data= [[i] if type(i) != np.ndarray else i.tolist() for i in both_tss.values])"
   ]
  },
  {
   "cell_type": "code",
   "execution_count": 65,
   "metadata": {},
   "outputs": [],
   "source": [
    "both_enh = pd.Series(index=both_enh.index, \n",
    "                      data= [[i] if type(i) != np.ndarray else i.tolist() for i in both_enh.values])"
   ]
  },
  {
   "cell_type": "code",
   "execution_count": 66,
   "metadata": {},
   "outputs": [],
   "source": [
    "both = both_tss + both_enh.loc[both_tss.index]"
   ]
  },
  {
   "cell_type": "code",
   "execution_count": 67,
   "metadata": {},
   "outputs": [
    {
     "data": {
      "text/plain": [
       "bin_idx\n",
       "3057222    [ENSMUSG00000084238, ENSMUSG00000100468, ENSMU...\n",
       "1112638                            [ENSMUSG00000101738, 972]\n",
       "1142919                           [ENSMUSG00000099694, 3521]\n",
       "594027     [ENSMUSG00000083786, ENSMUSG00000083985, ENSMU...\n",
       "455062                            [ENSMUSG00000100426, 5194]\n",
       "                                 ...                        \n",
       "2672348    [ENSMUSG00000084151, ENSMUSG00000099801, ENSMU...\n",
       "1552138    [ENSMUSG00000109692, ENSMUSG00000094530, ENSMU...\n",
       "2777478                 [ENSMUSG00000103878, 138577, 138578]\n",
       "1573890    [ENSMUSG00000084010, ENSMUSG00000082414, 15551...\n",
       "1949946                 [ENSMUSG00000100409, 218145, 218146]\n",
       "Length: 212, dtype: object"
      ]
     },
     "execution_count": 67,
     "metadata": {},
     "output_type": "execute_result"
    }
   ],
   "source": [
    "both"
   ]
  },
  {
   "cell_type": "code",
   "execution_count": 107,
   "metadata": {},
   "outputs": [
    {
     "ename": "KeyError",
     "evalue": "'[3057222 1112638 1142919  594027  455062  460427  373276  373384  206528\\n  944406 2895288 1918209  423971  220253 1709278  197328  166276  166277\\n 2112394  209267 1054604 1752652 2981954  164356 1171401  958005   54089\\n 2852793 1799251 2038722 2026244  287732  287733 1062377 2717132 2717130\\n  171593  182335  182336 1300084 1341111 2955420  321235 2587838 2478302\\n 1935213 1069304 2732710  334157  515708 2220420   40333  715132 2224552\\n 2134784 2164676 1299732  937468  553181 1609382 1343621 1648001  258522\\n 2005105 1928149 2851396 2723875  924750 1849151 1065435 2389665  182942\\n  990222  592970  154558  259694  259695  259696  171591 1096246 1105908\\n 1101867 1509566 2590558 2545214 2269828 1397587  706730  153634  153636\\n  153638 2004216 2004220 1087521  914791  176616 2696355 1006438 1672185\\n 1012618 2991390  631533  525203  525204 1423612 1874354 1611313  480836\\n 1780725 2275539 2235205 2981955  429065  347078 1749679 2397927 1096808\\n 2751631   77129 2757485 2764361 2671918 2988396 2984400  663105  673693\\n 2281189 1545913 1637772 1647791 1656345 1657248 1553151 1553369 1037120\\n   53291   46613 2739749 1326378 2549055  734372 1068517  772394 2762235\\n 1349242 1278128 1279658 3032037 2679579 1371382 1375949  766057  997680\\n  997681 1961767 2701081 2418981 2904881  442981 2401326 2672097 1827267\\n  309986 1816228  593908 2234512 2083285 2497093 1558365 2460932  234357\\n 1947167 1927992 2515884 2378330 1473358 1473359 2366049  150903 2221177\\n 2907267 1772186 2968748 2070880 2183988 1890660 1819806 1075059 2265956\\n  878444  425452 2996762 2996763 2546902 3035861 1496568 1832888 2025459\\n 2025458 1999862  146298 1332047  676951 2255293 2435857  770553  514833\\n 2672348 1552138 2777478 1573890 1949946] not found in axis'",
     "output_type": "error",
     "traceback": [
      "\u001b[0;31m---------------------------------------------------------------------------\u001b[0m",
      "\u001b[0;31mKeyError\u001b[0m                                  Traceback (most recent call last)",
      "\u001b[0;32m<ipython-input-107-5c42a6ecfaea>\u001b[0m in \u001b[0;36m<module>\u001b[0;34m\u001b[0m\n\u001b[0;32m----> 1\u001b[0;31m \u001b[0mannotate_tss\u001b[0m \u001b[0;34m=\u001b[0m \u001b[0mannotate_tss\u001b[0m\u001b[0;34m.\u001b[0m\u001b[0mdrop\u001b[0m\u001b[0;34m(\u001b[0m\u001b[0mboth\u001b[0m\u001b[0;34m.\u001b[0m\u001b[0mindex\u001b[0m\u001b[0;34m)\u001b[0m\u001b[0;34m\u001b[0m\u001b[0;34m\u001b[0m\u001b[0m\n\u001b[0m",
      "\u001b[0;32m/cndd/earmand/conda_envs/multiplex/lib/python3.7/site-packages/pandas/core/series.py\u001b[0m in \u001b[0;36mdrop\u001b[0;34m(self, labels, axis, index, columns, level, inplace, errors)\u001b[0m\n\u001b[1;32m   4324\u001b[0m             \u001b[0mlevel\u001b[0m\u001b[0;34m=\u001b[0m\u001b[0mlevel\u001b[0m\u001b[0;34m,\u001b[0m\u001b[0;34m\u001b[0m\u001b[0;34m\u001b[0m\u001b[0m\n\u001b[1;32m   4325\u001b[0m             \u001b[0minplace\u001b[0m\u001b[0;34m=\u001b[0m\u001b[0minplace\u001b[0m\u001b[0;34m,\u001b[0m\u001b[0;34m\u001b[0m\u001b[0;34m\u001b[0m\u001b[0m\n\u001b[0;32m-> 4326\u001b[0;31m             \u001b[0merrors\u001b[0m\u001b[0;34m=\u001b[0m\u001b[0merrors\u001b[0m\u001b[0;34m,\u001b[0m\u001b[0;34m\u001b[0m\u001b[0;34m\u001b[0m\u001b[0m\n\u001b[0m\u001b[1;32m   4327\u001b[0m         )\n\u001b[1;32m   4328\u001b[0m \u001b[0;34m\u001b[0m\u001b[0m\n",
      "\u001b[0;32m/cndd/earmand/conda_envs/multiplex/lib/python3.7/site-packages/pandas/core/generic.py\u001b[0m in \u001b[0;36mdrop\u001b[0;34m(self, labels, axis, index, columns, level, inplace, errors)\u001b[0m\n\u001b[1;32m   3912\u001b[0m         \u001b[0;32mfor\u001b[0m \u001b[0maxis\u001b[0m\u001b[0;34m,\u001b[0m \u001b[0mlabels\u001b[0m \u001b[0;32min\u001b[0m \u001b[0maxes\u001b[0m\u001b[0;34m.\u001b[0m\u001b[0mitems\u001b[0m\u001b[0;34m(\u001b[0m\u001b[0;34m)\u001b[0m\u001b[0;34m:\u001b[0m\u001b[0;34m\u001b[0m\u001b[0;34m\u001b[0m\u001b[0m\n\u001b[1;32m   3913\u001b[0m             \u001b[0;32mif\u001b[0m \u001b[0mlabels\u001b[0m \u001b[0;32mis\u001b[0m \u001b[0;32mnot\u001b[0m \u001b[0;32mNone\u001b[0m\u001b[0;34m:\u001b[0m\u001b[0;34m\u001b[0m\u001b[0;34m\u001b[0m\u001b[0m\n\u001b[0;32m-> 3914\u001b[0;31m                 \u001b[0mobj\u001b[0m \u001b[0;34m=\u001b[0m \u001b[0mobj\u001b[0m\u001b[0;34m.\u001b[0m\u001b[0m_drop_axis\u001b[0m\u001b[0;34m(\u001b[0m\u001b[0mlabels\u001b[0m\u001b[0;34m,\u001b[0m \u001b[0maxis\u001b[0m\u001b[0;34m,\u001b[0m \u001b[0mlevel\u001b[0m\u001b[0;34m=\u001b[0m\u001b[0mlevel\u001b[0m\u001b[0;34m,\u001b[0m \u001b[0merrors\u001b[0m\u001b[0;34m=\u001b[0m\u001b[0merrors\u001b[0m\u001b[0;34m)\u001b[0m\u001b[0;34m\u001b[0m\u001b[0;34m\u001b[0m\u001b[0m\n\u001b[0m\u001b[1;32m   3915\u001b[0m \u001b[0;34m\u001b[0m\u001b[0m\n\u001b[1;32m   3916\u001b[0m         \u001b[0;32mif\u001b[0m \u001b[0minplace\u001b[0m\u001b[0;34m:\u001b[0m\u001b[0;34m\u001b[0m\u001b[0;34m\u001b[0m\u001b[0m\n",
      "\u001b[0;32m/cndd/earmand/conda_envs/multiplex/lib/python3.7/site-packages/pandas/core/generic.py\u001b[0m in \u001b[0;36m_drop_axis\u001b[0;34m(self, labels, axis, level, errors)\u001b[0m\n\u001b[1;32m   3944\u001b[0m                 \u001b[0mnew_axis\u001b[0m \u001b[0;34m=\u001b[0m \u001b[0maxis\u001b[0m\u001b[0;34m.\u001b[0m\u001b[0mdrop\u001b[0m\u001b[0;34m(\u001b[0m\u001b[0mlabels\u001b[0m\u001b[0;34m,\u001b[0m \u001b[0mlevel\u001b[0m\u001b[0;34m=\u001b[0m\u001b[0mlevel\u001b[0m\u001b[0;34m,\u001b[0m \u001b[0merrors\u001b[0m\u001b[0;34m=\u001b[0m\u001b[0merrors\u001b[0m\u001b[0;34m)\u001b[0m\u001b[0;34m\u001b[0m\u001b[0;34m\u001b[0m\u001b[0m\n\u001b[1;32m   3945\u001b[0m             \u001b[0;32melse\u001b[0m\u001b[0;34m:\u001b[0m\u001b[0;34m\u001b[0m\u001b[0;34m\u001b[0m\u001b[0m\n\u001b[0;32m-> 3946\u001b[0;31m                 \u001b[0mnew_axis\u001b[0m \u001b[0;34m=\u001b[0m \u001b[0maxis\u001b[0m\u001b[0;34m.\u001b[0m\u001b[0mdrop\u001b[0m\u001b[0;34m(\u001b[0m\u001b[0mlabels\u001b[0m\u001b[0;34m,\u001b[0m \u001b[0merrors\u001b[0m\u001b[0;34m=\u001b[0m\u001b[0merrors\u001b[0m\u001b[0;34m)\u001b[0m\u001b[0;34m\u001b[0m\u001b[0;34m\u001b[0m\u001b[0m\n\u001b[0m\u001b[1;32m   3947\u001b[0m             \u001b[0mresult\u001b[0m \u001b[0;34m=\u001b[0m \u001b[0mself\u001b[0m\u001b[0;34m.\u001b[0m\u001b[0mreindex\u001b[0m\u001b[0;34m(\u001b[0m\u001b[0;34m**\u001b[0m\u001b[0;34m{\u001b[0m\u001b[0maxis_name\u001b[0m\u001b[0;34m:\u001b[0m \u001b[0mnew_axis\u001b[0m\u001b[0;34m}\u001b[0m\u001b[0;34m)\u001b[0m\u001b[0;34m\u001b[0m\u001b[0;34m\u001b[0m\u001b[0m\n\u001b[1;32m   3948\u001b[0m \u001b[0;34m\u001b[0m\u001b[0m\n",
      "\u001b[0;32m/cndd/earmand/conda_envs/multiplex/lib/python3.7/site-packages/pandas/core/indexes/base.py\u001b[0m in \u001b[0;36mdrop\u001b[0;34m(self, labels, errors)\u001b[0m\n\u001b[1;32m   5338\u001b[0m         \u001b[0;32mif\u001b[0m \u001b[0mmask\u001b[0m\u001b[0;34m.\u001b[0m\u001b[0many\u001b[0m\u001b[0;34m(\u001b[0m\u001b[0;34m)\u001b[0m\u001b[0;34m:\u001b[0m\u001b[0;34m\u001b[0m\u001b[0;34m\u001b[0m\u001b[0m\n\u001b[1;32m   5339\u001b[0m             \u001b[0;32mif\u001b[0m \u001b[0merrors\u001b[0m \u001b[0;34m!=\u001b[0m \u001b[0;34m\"ignore\"\u001b[0m\u001b[0;34m:\u001b[0m\u001b[0;34m\u001b[0m\u001b[0;34m\u001b[0m\u001b[0m\n\u001b[0;32m-> 5340\u001b[0;31m                 \u001b[0;32mraise\u001b[0m \u001b[0mKeyError\u001b[0m\u001b[0;34m(\u001b[0m\u001b[0;34m\"{} not found in axis\"\u001b[0m\u001b[0;34m.\u001b[0m\u001b[0mformat\u001b[0m\u001b[0;34m(\u001b[0m\u001b[0mlabels\u001b[0m\u001b[0;34m[\u001b[0m\u001b[0mmask\u001b[0m\u001b[0;34m]\u001b[0m\u001b[0;34m)\u001b[0m\u001b[0;34m)\u001b[0m\u001b[0;34m\u001b[0m\u001b[0;34m\u001b[0m\u001b[0m\n\u001b[0m\u001b[1;32m   5341\u001b[0m             \u001b[0mindexer\u001b[0m \u001b[0;34m=\u001b[0m \u001b[0mindexer\u001b[0m\u001b[0;34m[\u001b[0m\u001b[0;34m~\u001b[0m\u001b[0mmask\u001b[0m\u001b[0;34m]\u001b[0m\u001b[0;34m\u001b[0m\u001b[0;34m\u001b[0m\u001b[0m\n\u001b[1;32m   5342\u001b[0m         \u001b[0;32mreturn\u001b[0m \u001b[0mself\u001b[0m\u001b[0;34m.\u001b[0m\u001b[0mdelete\u001b[0m\u001b[0;34m(\u001b[0m\u001b[0mindexer\u001b[0m\u001b[0;34m)\u001b[0m\u001b[0;34m\u001b[0m\u001b[0;34m\u001b[0m\u001b[0m\n",
      "\u001b[0;31mKeyError\u001b[0m: '[3057222 1112638 1142919  594027  455062  460427  373276  373384  206528\\n  944406 2895288 1918209  423971  220253 1709278  197328  166276  166277\\n 2112394  209267 1054604 1752652 2981954  164356 1171401  958005   54089\\n 2852793 1799251 2038722 2026244  287732  287733 1062377 2717132 2717130\\n  171593  182335  182336 1300084 1341111 2955420  321235 2587838 2478302\\n 1935213 1069304 2732710  334157  515708 2220420   40333  715132 2224552\\n 2134784 2164676 1299732  937468  553181 1609382 1343621 1648001  258522\\n 2005105 1928149 2851396 2723875  924750 1849151 1065435 2389665  182942\\n  990222  592970  154558  259694  259695  259696  171591 1096246 1105908\\n 1101867 1509566 2590558 2545214 2269828 1397587  706730  153634  153636\\n  153638 2004216 2004220 1087521  914791  176616 2696355 1006438 1672185\\n 1012618 2991390  631533  525203  525204 1423612 1874354 1611313  480836\\n 1780725 2275539 2235205 2981955  429065  347078 1749679 2397927 1096808\\n 2751631   77129 2757485 2764361 2671918 2988396 2984400  663105  673693\\n 2281189 1545913 1637772 1647791 1656345 1657248 1553151 1553369 1037120\\n   53291   46613 2739749 1326378 2549055  734372 1068517  772394 2762235\\n 1349242 1278128 1279658 3032037 2679579 1371382 1375949  766057  997680\\n  997681 1961767 2701081 2418981 2904881  442981 2401326 2672097 1827267\\n  309986 1816228  593908 2234512 2083285 2497093 1558365 2460932  234357\\n 1947167 1927992 2515884 2378330 1473358 1473359 2366049  150903 2221177\\n 2907267 1772186 2968748 2070880 2183988 1890660 1819806 1075059 2265956\\n  878444  425452 2996762 2996763 2546902 3035861 1496568 1832888 2025459\\n 2025458 1999862  146298 1332047  676951 2255293 2435857  770553  514833\\n 2672348 1552138 2777478 1573890 1949946] not found in axis'"
     ]
    }
   ],
   "source": [
    "annotate_tss = annotate_tss.drop(both.index)"
   ]
  },
  {
   "cell_type": "code",
   "execution_count": 106,
   "metadata": {},
   "outputs": [
    {
     "ename": "KeyError",
     "evalue": "'[3057222 1112638 1142919  594027  455062  460427  373276  373384  206528\\n  944406 2895288 1918209  423971  220253 1709278  197328  166276  166277\\n 2112394  209267 1054604 1752652 2981954  164356 1171401  958005   54089\\n 2852793 1799251 2038722 2026244  287732  287733 1062377 2717132 2717130\\n  171593  182335  182336 1300084 1341111 2955420  321235 2587838 2478302\\n 1935213 1069304 2732710  334157  515708 2220420   40333  715132 2224552\\n 2134784 2164676 1299732  937468  553181 1609382 1343621 1648001  258522\\n 2005105 1928149 2851396 2723875  924750 1849151 1065435 2389665  182942\\n  990222  592970  154558  259694  259695  259696  171591 1096246 1105908\\n 1101867 1509566 2590558 2545214 2269828 1397587  706730  153634  153636\\n  153638 2004216 2004220 1087521  914791  176616 2696355 1006438 1672185\\n 1012618 2991390  631533  525203  525204 1423612 1874354 1611313  480836\\n 1780725 2275539 2235205 2981955  429065  347078 1749679 2397927 1096808\\n 2751631   77129 2757485 2764361 2671918 2988396 2984400  663105  673693\\n 2281189 1545913 1637772 1647791 1656345 1657248 1553151 1553369 1037120\\n   53291   46613 2739749 1326378 2549055  734372 1068517  772394 2762235\\n 1349242 1278128 1279658 3032037 2679579 1371382 1375949  766057  997680\\n  997681 1961767 2701081 2418981 2904881  442981 2401326 2672097 1827267\\n  309986 1816228  593908 2234512 2083285 2497093 1558365 2460932  234357\\n 1947167 1927992 2515884 2378330 1473358 1473359 2366049  150903 2221177\\n 2907267 1772186 2968748 2070880 2183988 1890660 1819806 1075059 2265956\\n  878444  425452 2996762 2996763 2546902 3035861 1496568 1832888 2025459\\n 2025458 1999862  146298 1332047  676951 2255293 2435857  770553  514833\\n 2672348 1552138 2777478 1573890 1949946] not found in axis'",
     "output_type": "error",
     "traceback": [
      "\u001b[0;31m---------------------------------------------------------------------------\u001b[0m",
      "\u001b[0;31mKeyError\u001b[0m                                  Traceback (most recent call last)",
      "\u001b[0;32m<ipython-input-106-93d66b87105d>\u001b[0m in \u001b[0;36m<module>\u001b[0;34m\u001b[0m\n\u001b[1;32m      1\u001b[0m \u001b[0mannotate_tss\u001b[0m \u001b[0;34m=\u001b[0m \u001b[0mannotate_tss\u001b[0m\u001b[0;34m.\u001b[0m\u001b[0mdrop\u001b[0m\u001b[0;34m(\u001b[0m\u001b[0mboth\u001b[0m\u001b[0;34m.\u001b[0m\u001b[0mindex\u001b[0m\u001b[0;34m)\u001b[0m\u001b[0;34m\u001b[0m\u001b[0;34m\u001b[0m\u001b[0m\n\u001b[0;32m----> 2\u001b[0;31m \u001b[0mannotate_enh\u001b[0m \u001b[0;34m=\u001b[0m \u001b[0mannotate_enh\u001b[0m\u001b[0;34m.\u001b[0m\u001b[0mdrop\u001b[0m\u001b[0;34m(\u001b[0m\u001b[0mboth\u001b[0m\u001b[0;34m.\u001b[0m\u001b[0mindex\u001b[0m\u001b[0;34m)\u001b[0m\u001b[0;34m\u001b[0m\u001b[0;34m\u001b[0m\u001b[0m\n\u001b[0m",
      "\u001b[0;32m/cndd/earmand/conda_envs/multiplex/lib/python3.7/site-packages/pandas/core/series.py\u001b[0m in \u001b[0;36mdrop\u001b[0;34m(self, labels, axis, index, columns, level, inplace, errors)\u001b[0m\n\u001b[1;32m   4324\u001b[0m             \u001b[0mlevel\u001b[0m\u001b[0;34m=\u001b[0m\u001b[0mlevel\u001b[0m\u001b[0;34m,\u001b[0m\u001b[0;34m\u001b[0m\u001b[0;34m\u001b[0m\u001b[0m\n\u001b[1;32m   4325\u001b[0m             \u001b[0minplace\u001b[0m\u001b[0;34m=\u001b[0m\u001b[0minplace\u001b[0m\u001b[0;34m,\u001b[0m\u001b[0;34m\u001b[0m\u001b[0;34m\u001b[0m\u001b[0m\n\u001b[0;32m-> 4326\u001b[0;31m             \u001b[0merrors\u001b[0m\u001b[0;34m=\u001b[0m\u001b[0merrors\u001b[0m\u001b[0;34m,\u001b[0m\u001b[0;34m\u001b[0m\u001b[0;34m\u001b[0m\u001b[0m\n\u001b[0m\u001b[1;32m   4327\u001b[0m         )\n\u001b[1;32m   4328\u001b[0m \u001b[0;34m\u001b[0m\u001b[0m\n",
      "\u001b[0;32m/cndd/earmand/conda_envs/multiplex/lib/python3.7/site-packages/pandas/core/generic.py\u001b[0m in \u001b[0;36mdrop\u001b[0;34m(self, labels, axis, index, columns, level, inplace, errors)\u001b[0m\n\u001b[1;32m   3912\u001b[0m         \u001b[0;32mfor\u001b[0m \u001b[0maxis\u001b[0m\u001b[0;34m,\u001b[0m \u001b[0mlabels\u001b[0m \u001b[0;32min\u001b[0m \u001b[0maxes\u001b[0m\u001b[0;34m.\u001b[0m\u001b[0mitems\u001b[0m\u001b[0;34m(\u001b[0m\u001b[0;34m)\u001b[0m\u001b[0;34m:\u001b[0m\u001b[0;34m\u001b[0m\u001b[0;34m\u001b[0m\u001b[0m\n\u001b[1;32m   3913\u001b[0m             \u001b[0;32mif\u001b[0m \u001b[0mlabels\u001b[0m \u001b[0;32mis\u001b[0m \u001b[0;32mnot\u001b[0m \u001b[0;32mNone\u001b[0m\u001b[0;34m:\u001b[0m\u001b[0;34m\u001b[0m\u001b[0;34m\u001b[0m\u001b[0m\n\u001b[0;32m-> 3914\u001b[0;31m                 \u001b[0mobj\u001b[0m \u001b[0;34m=\u001b[0m \u001b[0mobj\u001b[0m\u001b[0;34m.\u001b[0m\u001b[0m_drop_axis\u001b[0m\u001b[0;34m(\u001b[0m\u001b[0mlabels\u001b[0m\u001b[0;34m,\u001b[0m \u001b[0maxis\u001b[0m\u001b[0;34m,\u001b[0m \u001b[0mlevel\u001b[0m\u001b[0;34m=\u001b[0m\u001b[0mlevel\u001b[0m\u001b[0;34m,\u001b[0m \u001b[0merrors\u001b[0m\u001b[0;34m=\u001b[0m\u001b[0merrors\u001b[0m\u001b[0;34m)\u001b[0m\u001b[0;34m\u001b[0m\u001b[0;34m\u001b[0m\u001b[0m\n\u001b[0m\u001b[1;32m   3915\u001b[0m \u001b[0;34m\u001b[0m\u001b[0m\n\u001b[1;32m   3916\u001b[0m         \u001b[0;32mif\u001b[0m \u001b[0minplace\u001b[0m\u001b[0;34m:\u001b[0m\u001b[0;34m\u001b[0m\u001b[0;34m\u001b[0m\u001b[0m\n",
      "\u001b[0;32m/cndd/earmand/conda_envs/multiplex/lib/python3.7/site-packages/pandas/core/generic.py\u001b[0m in \u001b[0;36m_drop_axis\u001b[0;34m(self, labels, axis, level, errors)\u001b[0m\n\u001b[1;32m   3944\u001b[0m                 \u001b[0mnew_axis\u001b[0m \u001b[0;34m=\u001b[0m \u001b[0maxis\u001b[0m\u001b[0;34m.\u001b[0m\u001b[0mdrop\u001b[0m\u001b[0;34m(\u001b[0m\u001b[0mlabels\u001b[0m\u001b[0;34m,\u001b[0m \u001b[0mlevel\u001b[0m\u001b[0;34m=\u001b[0m\u001b[0mlevel\u001b[0m\u001b[0;34m,\u001b[0m \u001b[0merrors\u001b[0m\u001b[0;34m=\u001b[0m\u001b[0merrors\u001b[0m\u001b[0;34m)\u001b[0m\u001b[0;34m\u001b[0m\u001b[0;34m\u001b[0m\u001b[0m\n\u001b[1;32m   3945\u001b[0m             \u001b[0;32melse\u001b[0m\u001b[0;34m:\u001b[0m\u001b[0;34m\u001b[0m\u001b[0;34m\u001b[0m\u001b[0m\n\u001b[0;32m-> 3946\u001b[0;31m                 \u001b[0mnew_axis\u001b[0m \u001b[0;34m=\u001b[0m \u001b[0maxis\u001b[0m\u001b[0;34m.\u001b[0m\u001b[0mdrop\u001b[0m\u001b[0;34m(\u001b[0m\u001b[0mlabels\u001b[0m\u001b[0;34m,\u001b[0m \u001b[0merrors\u001b[0m\u001b[0;34m=\u001b[0m\u001b[0merrors\u001b[0m\u001b[0;34m)\u001b[0m\u001b[0;34m\u001b[0m\u001b[0;34m\u001b[0m\u001b[0m\n\u001b[0m\u001b[1;32m   3947\u001b[0m             \u001b[0mresult\u001b[0m \u001b[0;34m=\u001b[0m \u001b[0mself\u001b[0m\u001b[0;34m.\u001b[0m\u001b[0mreindex\u001b[0m\u001b[0;34m(\u001b[0m\u001b[0;34m**\u001b[0m\u001b[0;34m{\u001b[0m\u001b[0maxis_name\u001b[0m\u001b[0;34m:\u001b[0m \u001b[0mnew_axis\u001b[0m\u001b[0;34m}\u001b[0m\u001b[0;34m)\u001b[0m\u001b[0;34m\u001b[0m\u001b[0;34m\u001b[0m\u001b[0m\n\u001b[1;32m   3948\u001b[0m \u001b[0;34m\u001b[0m\u001b[0m\n",
      "\u001b[0;32m/cndd/earmand/conda_envs/multiplex/lib/python3.7/site-packages/pandas/core/indexes/base.py\u001b[0m in \u001b[0;36mdrop\u001b[0;34m(self, labels, errors)\u001b[0m\n\u001b[1;32m   5338\u001b[0m         \u001b[0;32mif\u001b[0m \u001b[0mmask\u001b[0m\u001b[0;34m.\u001b[0m\u001b[0many\u001b[0m\u001b[0;34m(\u001b[0m\u001b[0;34m)\u001b[0m\u001b[0;34m:\u001b[0m\u001b[0;34m\u001b[0m\u001b[0;34m\u001b[0m\u001b[0m\n\u001b[1;32m   5339\u001b[0m             \u001b[0;32mif\u001b[0m \u001b[0merrors\u001b[0m \u001b[0;34m!=\u001b[0m \u001b[0;34m\"ignore\"\u001b[0m\u001b[0;34m:\u001b[0m\u001b[0;34m\u001b[0m\u001b[0;34m\u001b[0m\u001b[0m\n\u001b[0;32m-> 5340\u001b[0;31m                 \u001b[0;32mraise\u001b[0m \u001b[0mKeyError\u001b[0m\u001b[0;34m(\u001b[0m\u001b[0;34m\"{} not found in axis\"\u001b[0m\u001b[0;34m.\u001b[0m\u001b[0mformat\u001b[0m\u001b[0;34m(\u001b[0m\u001b[0mlabels\u001b[0m\u001b[0;34m[\u001b[0m\u001b[0mmask\u001b[0m\u001b[0;34m]\u001b[0m\u001b[0;34m)\u001b[0m\u001b[0;34m)\u001b[0m\u001b[0;34m\u001b[0m\u001b[0;34m\u001b[0m\u001b[0m\n\u001b[0m\u001b[1;32m   5341\u001b[0m             \u001b[0mindexer\u001b[0m \u001b[0;34m=\u001b[0m \u001b[0mindexer\u001b[0m\u001b[0;34m[\u001b[0m\u001b[0;34m~\u001b[0m\u001b[0mmask\u001b[0m\u001b[0;34m]\u001b[0m\u001b[0;34m\u001b[0m\u001b[0;34m\u001b[0m\u001b[0m\n\u001b[1;32m   5342\u001b[0m         \u001b[0;32mreturn\u001b[0m \u001b[0mself\u001b[0m\u001b[0;34m.\u001b[0m\u001b[0mdelete\u001b[0m\u001b[0;34m(\u001b[0m\u001b[0mindexer\u001b[0m\u001b[0;34m)\u001b[0m\u001b[0;34m\u001b[0m\u001b[0;34m\u001b[0m\u001b[0m\n",
      "\u001b[0;31mKeyError\u001b[0m: '[3057222 1112638 1142919  594027  455062  460427  373276  373384  206528\\n  944406 2895288 1918209  423971  220253 1709278  197328  166276  166277\\n 2112394  209267 1054604 1752652 2981954  164356 1171401  958005   54089\\n 2852793 1799251 2038722 2026244  287732  287733 1062377 2717132 2717130\\n  171593  182335  182336 1300084 1341111 2955420  321235 2587838 2478302\\n 1935213 1069304 2732710  334157  515708 2220420   40333  715132 2224552\\n 2134784 2164676 1299732  937468  553181 1609382 1343621 1648001  258522\\n 2005105 1928149 2851396 2723875  924750 1849151 1065435 2389665  182942\\n  990222  592970  154558  259694  259695  259696  171591 1096246 1105908\\n 1101867 1509566 2590558 2545214 2269828 1397587  706730  153634  153636\\n  153638 2004216 2004220 1087521  914791  176616 2696355 1006438 1672185\\n 1012618 2991390  631533  525203  525204 1423612 1874354 1611313  480836\\n 1780725 2275539 2235205 2981955  429065  347078 1749679 2397927 1096808\\n 2751631   77129 2757485 2764361 2671918 2988396 2984400  663105  673693\\n 2281189 1545913 1637772 1647791 1656345 1657248 1553151 1553369 1037120\\n   53291   46613 2739749 1326378 2549055  734372 1068517  772394 2762235\\n 1349242 1278128 1279658 3032037 2679579 1371382 1375949  766057  997680\\n  997681 1961767 2701081 2418981 2904881  442981 2401326 2672097 1827267\\n  309986 1816228  593908 2234512 2083285 2497093 1558365 2460932  234357\\n 1947167 1927992 2515884 2378330 1473358 1473359 2366049  150903 2221177\\n 2907267 1772186 2968748 2070880 2183988 1890660 1819806 1075059 2265956\\n  878444  425452 2996762 2996763 2546902 3035861 1496568 1832888 2025459\\n 2025458 1999862  146298 1332047  676951 2255293 2435857  770553  514833\\n 2672348 1552138 2777478 1573890 1949946] not found in axis'"
     ]
    }
   ],
   "source": [
    "annotate_enh = annotate_enh.drop(both.index)"
   ]
  },
  {
   "cell_type": "code",
   "execution_count": 108,
   "metadata": {},
   "outputs": [],
   "source": [
    "annotate_bins = pd.concat([annotate_tss, annotate_enh, both])"
   ]
  },
  {
   "cell_type": "code",
   "execution_count": 109,
   "metadata": {},
   "outputs": [
    {
     "data": {
      "text/plain": [
       "(212,)"
      ]
     },
     "execution_count": 109,
     "metadata": {},
     "output_type": "execute_result"
    }
   ],
   "source": [
    "both.shape"
   ]
  },
  {
   "cell_type": "code",
   "execution_count": 110,
   "metadata": {},
   "outputs": [
    {
     "data": {
      "text/html": [
       "<div>\n",
       "<style scoped>\n",
       "    .dataframe tbody tr th:only-of-type {\n",
       "        vertical-align: middle;\n",
       "    }\n",
       "\n",
       "    .dataframe tbody tr th {\n",
       "        vertical-align: top;\n",
       "    }\n",
       "\n",
       "    .dataframe thead th {\n",
       "        text-align: right;\n",
       "    }\n",
       "</style>\n",
       "<table border=\"1\" class=\"dataframe\">\n",
       "  <thead>\n",
       "    <tr style=\"text-align: right;\">\n",
       "      <th></th>\n",
       "      <th>chrom</th>\n",
       "      <th>start</th>\n",
       "      <th>end</th>\n",
       "      <th>idx</th>\n",
       "    </tr>\n",
       "  </thead>\n",
       "  <tbody>\n",
       "    <tr>\n",
       "      <th>0</th>\n",
       "      <td>chr1</td>\n",
       "      <td>0</td>\n",
       "      <td>1000</td>\n",
       "      <td>0</td>\n",
       "    </tr>\n",
       "    <tr>\n",
       "      <th>1</th>\n",
       "      <td>chr1</td>\n",
       "      <td>1000</td>\n",
       "      <td>2000</td>\n",
       "      <td>1</td>\n",
       "    </tr>\n",
       "    <tr>\n",
       "      <th>2</th>\n",
       "      <td>chr1</td>\n",
       "      <td>2000</td>\n",
       "      <td>3000</td>\n",
       "      <td>2</td>\n",
       "    </tr>\n",
       "    <tr>\n",
       "      <th>3</th>\n",
       "      <td>chr1</td>\n",
       "      <td>3000</td>\n",
       "      <td>4000</td>\n",
       "      <td>3</td>\n",
       "    </tr>\n",
       "    <tr>\n",
       "      <th>4</th>\n",
       "      <td>chr1</td>\n",
       "      <td>4000</td>\n",
       "      <td>5000</td>\n",
       "      <td>4</td>\n",
       "    </tr>\n",
       "  </tbody>\n",
       "</table>\n",
       "</div>"
      ],
      "text/plain": [
       "  chrom  start   end  idx\n",
       "0  chr1      0  1000    0\n",
       "1  chr1   1000  2000    1\n",
       "2  chr1   2000  3000    2\n",
       "3  chr1   3000  4000    3\n",
       "4  chr1   4000  5000    4"
      ]
     },
     "execution_count": 110,
     "metadata": {},
     "output_type": "execute_result"
    }
   ],
   "source": [
    "bins.head()"
   ]
  },
  {
   "cell_type": "code",
   "execution_count": 111,
   "metadata": {},
   "outputs": [
    {
     "data": {
      "text/plain": [
       "bin_idx\n",
       "1447902    ENSMUSG00000051951\n",
       "773747     ENSMUSG00000102851\n",
       "1448209    ENSMUSG00000103377\n",
       "1448088    ENSMUSG00000089699\n",
       "1448030    ENSMUSG00000103201\n",
       "dtype: object"
      ]
     },
     "execution_count": 111,
     "metadata": {},
     "output_type": "execute_result"
    }
   ],
   "source": [
    "annotate_bins.head()"
   ]
  },
  {
   "cell_type": "code",
   "execution_count": 112,
   "metadata": {},
   "outputs": [
    {
     "data": {
      "text/plain": [
       "(3095706, 4)"
      ]
     },
     "execution_count": 112,
     "metadata": {},
     "output_type": "execute_result"
    }
   ],
   "source": [
    "bins.shape"
   ]
  },
  {
   "cell_type": "code",
   "execution_count": 113,
   "metadata": {},
   "outputs": [
    {
     "name": "stderr",
     "output_type": "stream",
     "text": [
      "/cndd/earmand/conda_envs/multiplex/lib/python3.7/site-packages/ipykernel_launcher.py:1: FutureWarning: \n",
      "Passing list-likes to .loc or [] with any missing label will raise\n",
      "KeyError in the future, you can use .reindex() as an alternative.\n",
      "\n",
      "See the documentation here:\n",
      "https://pandas.pydata.org/pandas-docs/stable/user_guide/indexing.html#deprecate-loc-reindex-listlike\n",
      "  \"\"\"Entry point for launching an IPython kernel.\n"
     ]
    },
    {
     "data": {
      "text/plain": [
       "(3095706,)"
      ]
     },
     "execution_count": 113,
     "metadata": {},
     "output_type": "execute_result"
    }
   ],
   "source": [
    "annotate_bins.loc[bins.idx].shape"
   ]
  },
  {
   "cell_type": "code",
   "execution_count": 114,
   "metadata": {},
   "outputs": [
    {
     "data": {
      "text/plain": [
       "179452"
      ]
     },
     "execution_count": 114,
     "metadata": {},
     "output_type": "execute_result"
    }
   ],
   "source": [
    "annotate_bins.index.isin(bins.index).sum()"
   ]
  },
  {
   "cell_type": "code",
   "execution_count": 115,
   "metadata": {},
   "outputs": [
    {
     "data": {
      "text/plain": [
       "0"
      ]
     },
     "execution_count": 115,
     "metadata": {},
     "output_type": "execute_result"
    }
   ],
   "source": [
    "annotate_bins.index.duplicated().sum()"
   ]
  },
  {
   "cell_type": "code",
   "execution_count": 116,
   "metadata": {},
   "outputs": [
    {
     "data": {
      "text/plain": [
       "bin_idx\n",
       "1447902                                   ENSMUSG00000051951\n",
       "773747                                    ENSMUSG00000102851\n",
       "1448209                                   ENSMUSG00000103377\n",
       "1448088                                   ENSMUSG00000089699\n",
       "1448030                                   ENSMUSG00000103201\n",
       "                                 ...                        \n",
       "2672348    [ENSMUSG00000084151, ENSMUSG00000099801, ENSMU...\n",
       "1552138    [ENSMUSG00000109692, ENSMUSG00000094530, ENSMU...\n",
       "2777478                 [ENSMUSG00000103878, 138577, 138578]\n",
       "1573890    [ENSMUSG00000084010, ENSMUSG00000082414, 15551...\n",
       "1949946                 [ENSMUSG00000100409, 218145, 218146]\n",
       "Length: 179452, dtype: object"
      ]
     },
     "execution_count": 116,
     "metadata": {},
     "output_type": "execute_result"
    }
   ],
   "source": [
    "annotate_bins"
   ]
  },
  {
   "cell_type": "code",
   "execution_count": 117,
   "metadata": {},
   "outputs": [
    {
     "data": {
      "text/plain": [
       "(3095706,)"
      ]
     },
     "execution_count": 117,
     "metadata": {},
     "output_type": "execute_result"
    }
   ],
   "source": [
    "bins.idx.shape"
   ]
  },
  {
   "cell_type": "code",
   "execution_count": 118,
   "metadata": {},
   "outputs": [
    {
     "data": {
      "text/plain": [
       "(179452,)"
      ]
     },
     "execution_count": 118,
     "metadata": {},
     "output_type": "execute_result"
    }
   ],
   "source": [
    "annotate_bins.shape"
   ]
  },
  {
   "cell_type": "code",
   "execution_count": 119,
   "metadata": {},
   "outputs": [
    {
     "name": "stderr",
     "output_type": "stream",
     "text": [
      "/cndd/earmand/conda_envs/multiplex/lib/python3.7/site-packages/ipykernel_launcher.py:1: FutureWarning: \n",
      "Passing list-likes to .loc or [] with any missing label will raise\n",
      "KeyError in the future, you can use .reindex() as an alternative.\n",
      "\n",
      "See the documentation here:\n",
      "https://pandas.pydata.org/pandas-docs/stable/user_guide/indexing.html#deprecate-loc-reindex-listlike\n",
      "  \"\"\"Entry point for launching an IPython kernel.\n"
     ]
    },
    {
     "data": {
      "text/plain": [
       "(3095706,)"
      ]
     },
     "execution_count": 119,
     "metadata": {},
     "output_type": "execute_result"
    }
   ],
   "source": [
    "annotate_bins.loc[bins.index].shape"
   ]
  },
  {
   "cell_type": "code",
   "execution_count": 120,
   "metadata": {},
   "outputs": [
    {
     "data": {
      "text/plain": [
       "179452"
      ]
     },
     "execution_count": 120,
     "metadata": {},
     "output_type": "execute_result"
    }
   ],
   "source": [
    "bins.index.isin(annotate_bins.index).sum()"
   ]
  },
  {
   "cell_type": "code",
   "execution_count": 121,
   "metadata": {},
   "outputs": [
    {
     "data": {
      "text/plain": [
       "(179452,)"
      ]
     },
     "execution_count": 121,
     "metadata": {},
     "output_type": "execute_result"
    }
   ],
   "source": [
    "annotate_bins.shape"
   ]
  },
  {
   "cell_type": "code",
   "execution_count": 122,
   "metadata": {},
   "outputs": [
    {
     "data": {
      "text/html": [
       "<div>\n",
       "<style scoped>\n",
       "    .dataframe tbody tr th:only-of-type {\n",
       "        vertical-align: middle;\n",
       "    }\n",
       "\n",
       "    .dataframe tbody tr th {\n",
       "        vertical-align: top;\n",
       "    }\n",
       "\n",
       "    .dataframe thead th {\n",
       "        text-align: right;\n",
       "    }\n",
       "</style>\n",
       "<table border=\"1\" class=\"dataframe\">\n",
       "  <thead>\n",
       "    <tr style=\"text-align: right;\">\n",
       "      <th></th>\n",
       "      <th>chrom</th>\n",
       "      <th>start</th>\n",
       "      <th>end</th>\n",
       "      <th>idx</th>\n",
       "    </tr>\n",
       "  </thead>\n",
       "  <tbody>\n",
       "    <tr>\n",
       "      <th>0</th>\n",
       "      <td>chr1</td>\n",
       "      <td>0</td>\n",
       "      <td>1000</td>\n",
       "      <td>0</td>\n",
       "    </tr>\n",
       "    <tr>\n",
       "      <th>1</th>\n",
       "      <td>chr1</td>\n",
       "      <td>1000</td>\n",
       "      <td>2000</td>\n",
       "      <td>1</td>\n",
       "    </tr>\n",
       "    <tr>\n",
       "      <th>2</th>\n",
       "      <td>chr1</td>\n",
       "      <td>2000</td>\n",
       "      <td>3000</td>\n",
       "      <td>2</td>\n",
       "    </tr>\n",
       "    <tr>\n",
       "      <th>3</th>\n",
       "      <td>chr1</td>\n",
       "      <td>3000</td>\n",
       "      <td>4000</td>\n",
       "      <td>3</td>\n",
       "    </tr>\n",
       "    <tr>\n",
       "      <th>4</th>\n",
       "      <td>chr1</td>\n",
       "      <td>4000</td>\n",
       "      <td>5000</td>\n",
       "      <td>4</td>\n",
       "    </tr>\n",
       "  </tbody>\n",
       "</table>\n",
       "</div>"
      ],
      "text/plain": [
       "  chrom  start   end  idx\n",
       "0  chr1      0  1000    0\n",
       "1  chr1   1000  2000    1\n",
       "2  chr1   2000  3000    2\n",
       "3  chr1   3000  4000    3\n",
       "4  chr1   4000  5000    4"
      ]
     },
     "execution_count": 122,
     "metadata": {},
     "output_type": "execute_result"
    }
   ],
   "source": [
    "bins.head()"
   ]
  },
  {
   "cell_type": "code",
   "execution_count": 123,
   "metadata": {},
   "outputs": [
    {
     "name": "stderr",
     "output_type": "stream",
     "text": [
      "/cndd/earmand/conda_envs/multiplex/lib/python3.7/site-packages/ipykernel_launcher.py:1: FutureWarning: \n",
      "Passing list-likes to .loc or [] with any missing label will raise\n",
      "KeyError in the future, you can use .reindex() as an alternative.\n",
      "\n",
      "See the documentation here:\n",
      "https://pandas.pydata.org/pandas-docs/stable/user_guide/indexing.html#deprecate-loc-reindex-listlike\n",
      "  \"\"\"Entry point for launching an IPython kernel.\n"
     ]
    }
   ],
   "source": [
    "bins['annotation'] = annotate_bins.loc[bins.index].values"
   ]
  },
  {
   "cell_type": "code",
   "execution_count": 124,
   "metadata": {},
   "outputs": [
    {
     "data": {
      "text/html": [
       "<div>\n",
       "<style scoped>\n",
       "    .dataframe tbody tr th:only-of-type {\n",
       "        vertical-align: middle;\n",
       "    }\n",
       "\n",
       "    .dataframe tbody tr th {\n",
       "        vertical-align: top;\n",
       "    }\n",
       "\n",
       "    .dataframe thead th {\n",
       "        text-align: right;\n",
       "    }\n",
       "</style>\n",
       "<table border=\"1\" class=\"dataframe\">\n",
       "  <thead>\n",
       "    <tr style=\"text-align: right;\">\n",
       "      <th></th>\n",
       "      <th>chrom</th>\n",
       "      <th>start</th>\n",
       "      <th>end</th>\n",
       "      <th>idx</th>\n",
       "      <th>annotation</th>\n",
       "    </tr>\n",
       "  </thead>\n",
       "  <tbody>\n",
       "    <tr>\n",
       "      <th>0</th>\n",
       "      <td>chr1</td>\n",
       "      <td>0</td>\n",
       "      <td>1000</td>\n",
       "      <td>0</td>\n",
       "      <td>NaN</td>\n",
       "    </tr>\n",
       "    <tr>\n",
       "      <th>1</th>\n",
       "      <td>chr1</td>\n",
       "      <td>1000</td>\n",
       "      <td>2000</td>\n",
       "      <td>1</td>\n",
       "      <td>NaN</td>\n",
       "    </tr>\n",
       "    <tr>\n",
       "      <th>2</th>\n",
       "      <td>chr1</td>\n",
       "      <td>2000</td>\n",
       "      <td>3000</td>\n",
       "      <td>2</td>\n",
       "      <td>NaN</td>\n",
       "    </tr>\n",
       "    <tr>\n",
       "      <th>3</th>\n",
       "      <td>chr1</td>\n",
       "      <td>3000</td>\n",
       "      <td>4000</td>\n",
       "      <td>3</td>\n",
       "      <td>NaN</td>\n",
       "    </tr>\n",
       "    <tr>\n",
       "      <th>4</th>\n",
       "      <td>chr1</td>\n",
       "      <td>4000</td>\n",
       "      <td>5000</td>\n",
       "      <td>4</td>\n",
       "      <td>NaN</td>\n",
       "    </tr>\n",
       "  </tbody>\n",
       "</table>\n",
       "</div>"
      ],
      "text/plain": [
       "  chrom  start   end  idx annotation\n",
       "0  chr1      0  1000    0        NaN\n",
       "1  chr1   1000  2000    1        NaN\n",
       "2  chr1   2000  3000    2        NaN\n",
       "3  chr1   3000  4000    3        NaN\n",
       "4  chr1   4000  5000    4        NaN"
      ]
     },
     "execution_count": 124,
     "metadata": {},
     "output_type": "execute_result"
    }
   ],
   "source": [
    "bins.head()"
   ]
  },
  {
   "cell_type": "code",
   "execution_count": 126,
   "metadata": {},
   "outputs": [
    {
     "data": {
      "text/plain": [
       "179452"
      ]
     },
     "execution_count": 126,
     "metadata": {},
     "output_type": "execute_result"
    }
   ],
   "source": [
    "bins.annotation.notna().sum()"
   ]
  },
  {
   "cell_type": "code",
   "execution_count": 127,
   "metadata": {},
   "outputs": [],
   "source": [
    "import pickle"
   ]
  },
  {
   "cell_type": "code",
   "execution_count": 133,
   "metadata": {},
   "outputs": [],
   "source": [
    "pickle.dump(bins, open('data/annotated_bins.pkl', 'wb'), protocol=pickle.HIGHEST_PROTOCOL)"
   ]
  },
  {
   "cell_type": "code",
   "execution_count": null,
   "metadata": {},
   "outputs": [],
   "source": []
  },
  {
   "cell_type": "code",
   "execution_count": null,
   "metadata": {},
   "outputs": [],
   "source": []
  }
 ],
 "metadata": {
  "kernelspec": {
   "display_name": "Python 3",
   "language": "python",
   "name": "python3"
  },
  "language_info": {
   "codemirror_mode": {
    "name": "ipython",
    "version": 3
   },
   "file_extension": ".py",
   "mimetype": "text/x-python",
   "name": "python",
   "nbconvert_exporter": "python",
   "pygments_lexer": "ipython3",
   "version": "3.6.12"
  }
 },
 "nbformat": 4,
 "nbformat_minor": 2
}
