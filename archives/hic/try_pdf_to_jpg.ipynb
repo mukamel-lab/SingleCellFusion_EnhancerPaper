{
 "cells": [
  {
   "cell_type": "code",
   "execution_count": 14,
   "metadata": {},
   "outputs": [],
   "source": [
    "# import module \n",
    "from pdf2image import convert_from_path \n",
    "import glob\n",
    "import tqdm\n",
    "import os"
   ]
  },
  {
   "cell_type": "code",
   "execution_count": 11,
   "metadata": {},
   "outputs": [
    {
     "name": "stdout",
     "output_type": "stream",
     "text": [
      "['/cndd2/fangming/projects/scf_enhancers/figures/figureshic_map_contacted_genes_Dpysl5_10000_2020-12-07.pdf', '/cndd2/fangming/projects/scf_enhancers/figures/figureshic_map_contacted_genes_Slc6a1_10000_2020-12-07.pdf', '/cndd2/fangming/projects/scf_enhancers/figures/figureshic_map_contacted_genes_Ankrd33b_10000_2020-12-07.pdf', '/cndd2/fangming/projects/scf_enhancers/figures/figureshic_map_correlated_genes_Zdhhc23_10000_2020-12-07.pdf', '/cndd2/fangming/projects/scf_enhancers/figures/figureshic_map_contacted_genes_Tatdn1_10000_2020-12-07.pdf', '/cndd2/fangming/projects/scf_enhancers/figures/figureshic_map_contacted_genes_Etv1_10000_2020-12-07.pdf', '/cndd2/fangming/projects/scf_enhancers/figures/figureshic_map_correlated_genes_Camk2a_10000_2020-12-07.pdf', '/cndd2/fangming/projects/scf_enhancers/figures/figureshic_map_contacted_genes_4930538E20Rik_10000_2020-12-07.pdf', '/cndd2/fangming/projects/scf_enhancers/figures/figureshic_map_correlated_genes_Ier5_10000_2020-12-07.pdf', '/cndd2/fangming/projects/scf_enhancers/figures/figureshic_map_correlated_genes_Zfp365_10000_2020-12-07.pdf', '/cndd2/fangming/projects/scf_enhancers/figures/figureshic_map_contacted_genes_Afap1_10000_2020-12-07.pdf', '/cndd2/fangming/projects/scf_enhancers/figures/figureshic_map_contacted_genes_Stim2_10000_2020-12-07.pdf', '/cndd2/fangming/projects/scf_enhancers/figures/figureshic_map_contacted_genes_Snap25_10000_2020-12-07.pdf', '/cndd2/fangming/projects/scf_enhancers/figures/figureshic_map_correlated_genes_Grip1os2_10000_2020-12-07.pdf', '/cndd2/fangming/projects/scf_enhancers/figures/figureshic_map_contacted_genes_Rasl11b_10000_2020-12-07.pdf', '/cndd2/fangming/projects/scf_enhancers/figures/figureshic_map_contacted_genes_Neurod6_10000_2020-12-07.pdf', '/cndd2/fangming/projects/scf_enhancers/figures/figureshic_map_correlated_genes_Egr3_10000_2020-12-07.pdf', '/cndd2/fangming/projects/scf_enhancers/figures/figureshic_map_correlated_genes_Runx2os1_10000_2020-12-07.pdf', '/cndd2/fangming/projects/scf_enhancers/figures/figureshic_map_correlated_genes_Stim2_10000_2020-12-07.pdf', '/cndd2/fangming/projects/scf_enhancers/figures/figureshic_map_correlated_genes_Maf_10000_2020-12-07.pdf', '/cndd2/fangming/projects/scf_enhancers/figures/figureshic_map_correlated_genes_Rasgrp1_10000_2020-12-07.pdf', '/cndd2/fangming/projects/scf_enhancers/figures/figureshic_map_correlated_genes_Lmo4_10000_2020-12-07.pdf', '/cndd2/fangming/projects/scf_enhancers/figures/figureshic_map_contacted_genes_Satb1_10000_2020-12-07.pdf', '/cndd2/fangming/projects/scf_enhancers/figures/figureshic_map_contacted_genes_Ubash3b_10000_2020-12-07.pdf', '/cndd2/fangming/projects/scf_enhancers/figures/figureshic_map_correlated_genes_Snap25_10000_2020-12-07.pdf', '/cndd2/fangming/projects/scf_enhancers/figures/figureshic_map_correlated_genes_Phf24_10000_2020-12-07.pdf', '/cndd2/fangming/projects/scf_enhancers/figures/figureshic_map_correlated_genes_Rasl11b_10000_2020-12-07.pdf', '/cndd2/fangming/projects/scf_enhancers/figures/figureshic_map_correlated_genes_Neurod6_10000_2020-12-07.pdf', '/cndd2/fangming/projects/scf_enhancers/figures/figureshic_map__Stim2_10000_2020-12-08.pdf', '/cndd2/fangming/projects/scf_enhancers/figures/figureshic_map_contacted_genes_Limch1_10000_2020-12-07.pdf', '/cndd2/fangming/projects/scf_enhancers/figures/figureshic_map_contacted_genes_Grip1os2_10000_2020-12-07.pdf', '/cndd2/fangming/projects/scf_enhancers/figures/figureshic_map_contacted_genes_Adora1_10000_2020-12-07.pdf', '/cndd2/fangming/projects/scf_enhancers/figures/figureshic_map_correlated_genes_Ngef_10000_2020-12-07.pdf', '/cndd2/fangming/projects/scf_enhancers/figures/figureshic_map_correlated_genes_Pdp1_10000_2020-12-07.pdf', '/cndd2/fangming/projects/scf_enhancers/figures/figureshic_map_correlated_genes_Slc6a1_10000_2020-12-07.pdf', '/cndd2/fangming/projects/scf_enhancers/figures/figureshic_map_correlated_genes_Ankrd33b_10000_2020-12-07.pdf', '/cndd2/fangming/projects/scf_enhancers/figures/figureshic_map_contacted_genes_Zdhhc23_10000_2020-12-07.pdf', '/cndd2/fangming/projects/scf_enhancers/figures/figureshic_map_correlated_genes_Tatdn1_10000_2020-12-07.pdf', '/cndd2/fangming/projects/scf_enhancers/figures/figureshic_map_correlated_genes_Dusp6_10000_2020-12-07.pdf', '/cndd2/fangming/projects/scf_enhancers/figures/figureshic_map_correlated_genes_Ift27_10000_2020-12-07.pdf', '/cndd2/fangming/projects/scf_enhancers/figures/figureshic_map_correlated_genes_Sox2_10000_2020-12-07.pdf', '/cndd2/fangming/projects/scf_enhancers/figures/figureshic_map_contacted_genes_Mast4_10000_2020-12-07.pdf', '/cndd2/fangming/projects/scf_enhancers/figures/figureshic_map_contacted_genes_Egr3_10000_2020-12-07.pdf', '/cndd2/fangming/projects/scf_enhancers/figures/figureshic_map_contacted_genes_Adcyap1r1_10000_2020-12-07.pdf', '/cndd2/fangming/projects/scf_enhancers/figures/figureshic_map_contacted_genes_Camk2a_10000_2020-12-07.pdf']\n"
     ]
    }
   ],
   "source": [
    "\n",
    "files = glob.glob('/cndd2/fangming/projects/scf_enhancers/figures/figureshic_map*.pdf')\n",
    "print(files)\n"
   ]
  },
  {
   "cell_type": "code",
   "execution_count": 17,
   "metadata": {},
   "outputs": [
    {
     "name": "stderr",
     "output_type": "stream",
     "text": [
      "  2%|▏         | 1/45 [00:00<00:31,  1.39it/s]"
     ]
    },
    {
     "name": "stdout",
     "output_type": "stream",
     "text": [
      "/cndd2/fangming/projects/scf_enhancers/figures/figureshic_map_contacted_genes_Dpysl5_10000_2020-12-07_0.jpg\n"
     ]
    },
    {
     "name": "stderr",
     "output_type": "stream",
     "text": [
      "\r",
      "  4%|▍         | 2/45 [00:01<00:31,  1.36it/s]"
     ]
    },
    {
     "name": "stdout",
     "output_type": "stream",
     "text": [
      "/cndd2/fangming/projects/scf_enhancers/figures/figureshic_map_contacted_genes_Slc6a1_10000_2020-12-07_0.jpg\n",
      "/cndd2/fangming/projects/scf_enhancers/figures/figureshic_map_contacted_genes_Ankrd33b_10000_2020-12-07_0.jpg\n"
     ]
    },
    {
     "name": "stderr",
     "output_type": "stream",
     "text": [
      "\r",
      "  7%|▋         | 3/45 [00:02<00:31,  1.33it/s]"
     ]
    },
    {
     "name": "stdout",
     "output_type": "stream",
     "text": [
      "/cndd2/fangming/projects/scf_enhancers/figures/figureshic_map_correlated_genes_Zdhhc23_10000_2020-12-07_0.jpg\n"
     ]
    },
    {
     "name": "stderr",
     "output_type": "stream",
     "text": [
      " 11%|█         | 5/45 [00:03<00:31,  1.28it/s]"
     ]
    },
    {
     "name": "stdout",
     "output_type": "stream",
     "text": [
      "/cndd2/fangming/projects/scf_enhancers/figures/figureshic_map_contacted_genes_Tatdn1_10000_2020-12-07_0.jpg\n"
     ]
    },
    {
     "name": "stderr",
     "output_type": "stream",
     "text": [
      "\r",
      " 13%|█▎        | 6/45 [00:04<00:30,  1.27it/s]"
     ]
    },
    {
     "name": "stdout",
     "output_type": "stream",
     "text": [
      "/cndd2/fangming/projects/scf_enhancers/figures/figureshic_map_contacted_genes_Etv1_10000_2020-12-07_0.jpg\n"
     ]
    },
    {
     "name": "stderr",
     "output_type": "stream",
     "text": [
      "\r",
      " 16%|█▌        | 7/45 [00:05<00:29,  1.27it/s]"
     ]
    },
    {
     "name": "stdout",
     "output_type": "stream",
     "text": [
      "/cndd2/fangming/projects/scf_enhancers/figures/figureshic_map_correlated_genes_Camk2a_10000_2020-12-07_0.jpg\n"
     ]
    },
    {
     "name": "stderr",
     "output_type": "stream",
     "text": [
      "\r",
      " 18%|█▊        | 8/45 [00:06<00:29,  1.27it/s]"
     ]
    },
    {
     "name": "stdout",
     "output_type": "stream",
     "text": [
      "/cndd2/fangming/projects/scf_enhancers/figures/figureshic_map_contacted_genes_4930538E20Rik_10000_2020-12-07_0.jpg\n"
     ]
    },
    {
     "name": "stderr",
     "output_type": "stream",
     "text": [
      "\r",
      " 20%|██        | 9/45 [00:06<00:26,  1.37it/s]"
     ]
    },
    {
     "name": "stdout",
     "output_type": "stream",
     "text": [
      "/cndd2/fangming/projects/scf_enhancers/figures/figureshic_map_correlated_genes_Ier5_10000_2020-12-07_0.jpg\n"
     ]
    },
    {
     "name": "stderr",
     "output_type": "stream",
     "text": [
      "\r",
      " 22%|██▏       | 10/45 [00:07<00:25,  1.36it/s]"
     ]
    },
    {
     "name": "stdout",
     "output_type": "stream",
     "text": [
      "/cndd2/fangming/projects/scf_enhancers/figures/figureshic_map_correlated_genes_Zfp365_10000_2020-12-07_0.jpg\n",
      "/cndd2/fangming/projects/scf_enhancers/figures/figureshic_map_contacted_genes_Afap1_10000_2020-12-07_0.jpg\n"
     ]
    },
    {
     "name": "stderr",
     "output_type": "stream",
     "text": [
      "\r",
      " 24%|██▍       | 11/45 [00:08<00:25,  1.35it/s]"
     ]
    },
    {
     "name": "stdout",
     "output_type": "stream",
     "text": [
      "/cndd2/fangming/projects/scf_enhancers/figures/figureshic_map_contacted_genes_Stim2_10000_2020-12-07_0.jpg\n"
     ]
    },
    {
     "name": "stderr",
     "output_type": "stream",
     "text": [
      " 29%|██▉       | 13/45 [00:09<00:24,  1.31it/s]"
     ]
    },
    {
     "name": "stdout",
     "output_type": "stream",
     "text": [
      "/cndd2/fangming/projects/scf_enhancers/figures/figureshic_map_contacted_genes_Snap25_10000_2020-12-07_0.jpg\n"
     ]
    },
    {
     "name": "stderr",
     "output_type": "stream",
     "text": [
      "\r",
      " 31%|███       | 14/45 [00:10<00:23,  1.30it/s]"
     ]
    },
    {
     "name": "stdout",
     "output_type": "stream",
     "text": [
      "/cndd2/fangming/projects/scf_enhancers/figures/figureshic_map_correlated_genes_Grip1os2_10000_2020-12-07_0.jpg\n"
     ]
    },
    {
     "name": "stderr",
     "output_type": "stream",
     "text": [
      "\r",
      " 33%|███▎      | 15/45 [00:11<00:23,  1.25it/s]"
     ]
    },
    {
     "name": "stdout",
     "output_type": "stream",
     "text": [
      "/cndd2/fangming/projects/scf_enhancers/figures/figureshic_map_contacted_genes_Rasl11b_10000_2020-12-07_0.jpg\n"
     ]
    },
    {
     "name": "stderr",
     "output_type": "stream",
     "text": [
      "\r",
      " 36%|███▌      | 16/45 [00:12<00:22,  1.31it/s]"
     ]
    },
    {
     "name": "stdout",
     "output_type": "stream",
     "text": [
      "/cndd2/fangming/projects/scf_enhancers/figures/figureshic_map_contacted_genes_Neurod6_10000_2020-12-07_0.jpg\n"
     ]
    },
    {
     "name": "stderr",
     "output_type": "stream",
     "text": [
      "\r",
      " 38%|███▊      | 17/45 [00:13<00:21,  1.29it/s]"
     ]
    },
    {
     "name": "stdout",
     "output_type": "stream",
     "text": [
      "/cndd2/fangming/projects/scf_enhancers/figures/figureshic_map_correlated_genes_Egr3_10000_2020-12-07_0.jpg\n"
     ]
    },
    {
     "name": "stderr",
     "output_type": "stream",
     "text": [
      "\r",
      " 40%|████      | 18/45 [00:13<00:21,  1.27it/s]"
     ]
    },
    {
     "name": "stdout",
     "output_type": "stream",
     "text": [
      "/cndd2/fangming/projects/scf_enhancers/figures/figureshic_map_correlated_genes_Runx2os1_10000_2020-12-07_0.jpg\n"
     ]
    },
    {
     "name": "stderr",
     "output_type": "stream",
     "text": [
      "\r",
      " 42%|████▏     | 19/45 [00:14<00:20,  1.25it/s]"
     ]
    },
    {
     "name": "stdout",
     "output_type": "stream",
     "text": [
      "/cndd2/fangming/projects/scf_enhancers/figures/figureshic_map_correlated_genes_Stim2_10000_2020-12-07_0.jpg\n"
     ]
    },
    {
     "name": "stderr",
     "output_type": "stream",
     "text": [
      "\r",
      " 44%|████▍     | 20/45 [00:15<00:19,  1.28it/s]"
     ]
    },
    {
     "name": "stdout",
     "output_type": "stream",
     "text": [
      "/cndd2/fangming/projects/scf_enhancers/figures/figureshic_map_correlated_genes_Maf_10000_2020-12-07_0.jpg\n"
     ]
    },
    {
     "name": "stderr",
     "output_type": "stream",
     "text": [
      "\r",
      " 47%|████▋     | 21/45 [00:16<00:18,  1.31it/s]"
     ]
    },
    {
     "name": "stdout",
     "output_type": "stream",
     "text": [
      "/cndd2/fangming/projects/scf_enhancers/figures/figureshic_map_correlated_genes_Rasgrp1_10000_2020-12-07_0.jpg\n",
      "/cndd2/fangming/projects/scf_enhancers/figures/figureshic_map_correlated_genes_Lmo4_10000_2020-12-07_0.jpg\n"
     ]
    },
    {
     "name": "stderr",
     "output_type": "stream",
     "text": [
      " 51%|█████     | 23/45 [00:17<00:17,  1.28it/s]"
     ]
    },
    {
     "name": "stdout",
     "output_type": "stream",
     "text": [
      "/cndd2/fangming/projects/scf_enhancers/figures/figureshic_map_contacted_genes_Satb1_10000_2020-12-07_0.jpg\n"
     ]
    },
    {
     "name": "stderr",
     "output_type": "stream",
     "text": [
      "\r",
      " 53%|█████▎    | 24/45 [00:18<00:15,  1.35it/s]"
     ]
    },
    {
     "name": "stdout",
     "output_type": "stream",
     "text": [
      "/cndd2/fangming/projects/scf_enhancers/figures/figureshic_map_contacted_genes_Ubash3b_10000_2020-12-07_0.jpg\n",
      "/cndd2/fangming/projects/scf_enhancers/figures/figureshic_map_correlated_genes_Snap25_10000_2020-12-07_0.jpg\n"
     ]
    },
    {
     "name": "stderr",
     "output_type": "stream",
     "text": [
      " 58%|█████▊    | 26/45 [00:19<00:14,  1.35it/s]"
     ]
    },
    {
     "name": "stdout",
     "output_type": "stream",
     "text": [
      "/cndd2/fangming/projects/scf_enhancers/figures/figureshic_map_correlated_genes_Phf24_10000_2020-12-07_0.jpg\n"
     ]
    },
    {
     "name": "stderr",
     "output_type": "stream",
     "text": [
      "\r",
      " 60%|██████    | 27/45 [00:20<00:13,  1.31it/s]"
     ]
    },
    {
     "name": "stdout",
     "output_type": "stream",
     "text": [
      "/cndd2/fangming/projects/scf_enhancers/figures/figureshic_map_correlated_genes_Rasl11b_10000_2020-12-07_0.jpg\n",
      "/cndd2/fangming/projects/scf_enhancers/figures/figureshic_map_correlated_genes_Neurod6_10000_2020-12-07_0.jpg\n"
     ]
    },
    {
     "name": "stderr",
     "output_type": "stream",
     "text": [
      " 64%|██████▍   | 29/45 [00:22<00:12,  1.27it/s]"
     ]
    },
    {
     "name": "stdout",
     "output_type": "stream",
     "text": [
      "/cndd2/fangming/projects/scf_enhancers/figures/figureshic_map__Stim2_10000_2020-12-08_0.jpg\n"
     ]
    },
    {
     "name": "stderr",
     "output_type": "stream",
     "text": [
      "\r",
      " 67%|██████▋   | 30/45 [00:23<00:11,  1.26it/s]"
     ]
    },
    {
     "name": "stdout",
     "output_type": "stream",
     "text": [
      "/cndd2/fangming/projects/scf_enhancers/figures/figureshic_map_contacted_genes_Limch1_10000_2020-12-07_0.jpg\n",
      "/cndd2/fangming/projects/scf_enhancers/figures/figureshic_map_contacted_genes_Grip1os2_10000_2020-12-07_0.jpg\n"
     ]
    },
    {
     "name": "stderr",
     "output_type": "stream",
     "text": [
      " 71%|███████   | 32/45 [00:24<00:09,  1.34it/s]"
     ]
    },
    {
     "name": "stdout",
     "output_type": "stream",
     "text": [
      "/cndd2/fangming/projects/scf_enhancers/figures/figureshic_map_contacted_genes_Adora1_10000_2020-12-07_0.jpg\n"
     ]
    },
    {
     "name": "stderr",
     "output_type": "stream",
     "text": [
      "\r",
      " 73%|███████▎  | 33/45 [00:25<00:08,  1.36it/s]"
     ]
    },
    {
     "name": "stdout",
     "output_type": "stream",
     "text": [
      "/cndd2/fangming/projects/scf_enhancers/figures/figureshic_map_correlated_genes_Ngef_10000_2020-12-07_0.jpg\n",
      "/cndd2/fangming/projects/scf_enhancers/figures/figureshic_map_correlated_genes_Pdp1_10000_2020-12-07_0.jpg\n"
     ]
    },
    {
     "name": "stderr",
     "output_type": "stream",
     "text": [
      " 78%|███████▊  | 35/45 [00:26<00:07,  1.35it/s]"
     ]
    },
    {
     "name": "stdout",
     "output_type": "stream",
     "text": [
      "/cndd2/fangming/projects/scf_enhancers/figures/figureshic_map_correlated_genes_Slc6a1_10000_2020-12-07_0.jpg\n",
      "/cndd2/fangming/projects/scf_enhancers/figures/figureshic_map_correlated_genes_Ankrd33b_10000_2020-12-07_0.jpg\n"
     ]
    },
    {
     "name": "stderr",
     "output_type": "stream",
     "text": [
      " 82%|████████▏ | 37/45 [00:28<00:05,  1.35it/s]"
     ]
    },
    {
     "name": "stdout",
     "output_type": "stream",
     "text": [
      "/cndd2/fangming/projects/scf_enhancers/figures/figureshic_map_contacted_genes_Zdhhc23_10000_2020-12-07_0.jpg\n",
      "/cndd2/fangming/projects/scf_enhancers/figures/figureshic_map_correlated_genes_Tatdn1_10000_2020-12-07_0.jpg\n"
     ]
    },
    {
     "name": "stderr",
     "output_type": "stream",
     "text": [
      "\r",
      " 84%|████████▍ | 38/45 [00:29<00:05,  1.31it/s]"
     ]
    },
    {
     "name": "stdout",
     "output_type": "stream",
     "text": [
      "/cndd2/fangming/projects/scf_enhancers/figures/figureshic_map_correlated_genes_Dusp6_10000_2020-12-07_0.jpg\n"
     ]
    },
    {
     "name": "stderr",
     "output_type": "stream",
     "text": [
      "\r",
      " 87%|████████▋ | 39/45 [00:29<00:04,  1.29it/s]"
     ]
    },
    {
     "name": "stdout",
     "output_type": "stream",
     "text": [
      "/cndd2/fangming/projects/scf_enhancers/figures/figureshic_map_correlated_genes_Ift27_10000_2020-12-07_0.jpg\n"
     ]
    },
    {
     "name": "stderr",
     "output_type": "stream",
     "text": [
      "\r",
      " 89%|████████▉ | 40/45 [00:30<00:03,  1.28it/s]"
     ]
    },
    {
     "name": "stdout",
     "output_type": "stream",
     "text": [
      "/cndd2/fangming/projects/scf_enhancers/figures/figureshic_map_correlated_genes_Sox2_10000_2020-12-07_0.jpg\n"
     ]
    },
    {
     "name": "stderr",
     "output_type": "stream",
     "text": [
      "\r",
      " 91%|█████████ | 41/45 [00:31<00:03,  1.27it/s]"
     ]
    },
    {
     "name": "stdout",
     "output_type": "stream",
     "text": [
      "/cndd2/fangming/projects/scf_enhancers/figures/figureshic_map_contacted_genes_Mast4_10000_2020-12-07_0.jpg\n"
     ]
    },
    {
     "name": "stderr",
     "output_type": "stream",
     "text": [
      "\r",
      " 93%|█████████▎| 42/45 [00:32<00:02,  1.25it/s]"
     ]
    },
    {
     "name": "stdout",
     "output_type": "stream",
     "text": [
      "/cndd2/fangming/projects/scf_enhancers/figures/figureshic_map_contacted_genes_Egr3_10000_2020-12-07_0.jpg\n"
     ]
    },
    {
     "name": "stderr",
     "output_type": "stream",
     "text": [
      "\r",
      " 96%|█████████▌| 43/45 [00:33<00:01,  1.24it/s]"
     ]
    },
    {
     "name": "stdout",
     "output_type": "stream",
     "text": [
      "/cndd2/fangming/projects/scf_enhancers/figures/figureshic_map_contacted_genes_Adcyap1r1_10000_2020-12-07_0.jpg\n"
     ]
    },
    {
     "name": "stderr",
     "output_type": "stream",
     "text": [
      "\r",
      " 98%|█████████▊| 44/45 [00:34<00:00,  1.23it/s]"
     ]
    },
    {
     "name": "stdout",
     "output_type": "stream",
     "text": [
      "/cndd2/fangming/projects/scf_enhancers/figures/figureshic_map_contacted_genes_Camk2a_10000_2020-12-07_0.jpg\n"
     ]
    },
    {
     "name": "stderr",
     "output_type": "stream",
     "text": [
      "100%|██████████| 45/45 [00:34<00:00,  1.29it/s]\n"
     ]
    }
   ],
   "source": [
    "\n",
    "# Store Pdf with convert_from_path function \n",
    "for file in tqdm.tqdm(files):\n",
    "    images = convert_from_path(file) \n",
    "    for i, img in enumerate(images): \n",
    "        output = \"{}_{}.jpg\".format(file.replace('.pdf', ''), i)\n",
    "        print(output)\n",
    "        img.save(output, 'JPEG')"
   ]
  },
  {
   "cell_type": "code",
   "execution_count": null,
   "metadata": {},
   "outputs": [],
   "source": []
  }
 ],
 "metadata": {
  "kernelspec": {
   "display_name": "Python 3",
   "language": "python",
   "name": "python3"
  },
  "language_info": {
   "codemirror_mode": {
    "name": "ipython",
    "version": 3
   },
   "file_extension": ".py",
   "mimetype": "text/x-python",
   "name": "python",
   "nbconvert_exporter": "python",
   "pygments_lexer": "ipython3",
   "version": "3.6.12"
  }
 },
 "nbformat": 4,
 "nbformat_minor": 4
}
