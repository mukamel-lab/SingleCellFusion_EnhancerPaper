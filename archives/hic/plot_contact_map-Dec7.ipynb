{
 "cells": [
  {
   "cell_type": "code",
   "execution_count": 1,
   "metadata": {},
   "outputs": [],
   "source": [
    "import cooler\n",
    "import pandas as pd\n",
    "import numpy as np\n",
    "import matplotlib.pyplot as plt\n",
    "import multiprocessing as mp\n",
    "import h5py\n",
    "import pickle\n",
    "import seaborn as sns\n",
    "import tqdm\n",
    "\n",
    "from scipy import stats\n",
    "\n",
    "from statsmodels.stats.multitest import multipletests\n",
    "\n",
    "import sys\n",
    "import itertools\n",
    "import time\n",
    "import datetime\n",
    "\n",
    "sys.path.insert(0, '/cndd/fangming/CEMBA/snmcseq_dev')\n",
    "from __init__ import *\n",
    "from __init__jupyterlab import * \n",
    "import snmcseq_utils\n",
    "\n",
    "from enhancer_gene_hic_validation_utils import *"
   ]
  },
  {
   "cell_type": "code",
   "execution_count": 2,
   "metadata": {},
   "outputs": [
    {
     "name": "stdout",
     "output_type": "stream",
     "text": [
      "2020-12-08\n"
     ]
    }
   ],
   "source": [
    "default_colorbar_kws = DEFAULT_COLORBAR_KWS\n",
    "today = datetime.date.today()\n",
    "print(today)"
   ]
  },
  {
   "cell_type": "code",
   "execution_count": 3,
   "metadata": {},
   "outputs": [
    {
     "data": {
      "text/plain": [
       "'0.22.0'"
      ]
     },
     "execution_count": 3,
     "metadata": {},
     "output_type": "execute_result"
    }
   ],
   "source": [
    "pd.__version__"
   ]
  },
  {
   "cell_type": "code",
   "execution_count": 3,
   "metadata": {},
   "outputs": [
    {
     "data": {
      "image/png": "[encoded data removed]",
      "text/plain": [
       "<Figure size 1440x72 with 1 Axes>"
      ]
     },
     "metadata": {
      "needs_background": "light"
     },
     "output_type": "display_data"
    },
    {
     "data": {
      "image/png": "[encoded data removed]",
      "text/plain": [
       "<Figure size 216x72 with 1 Axes>"
      ]
     },
     "metadata": {
      "needs_background": "light"
     },
     "output_type": "display_data"
    },
    {
     "data": {
      "image/png": "[encoded data removed]",
      "text/plain": [
       "<Figure size 216x72 with 1 Axes>"
      ]
     },
     "metadata": {
      "needs_background": "light"
     },
     "output_type": "display_data"
    },
    {
     "data": {
      "image/png": "[encoded data removed]",
      "text/plain": [
       "<Figure size 288x72 with 1 Axes>"
      ]
     },
     "metadata": {
      "needs_background": "light"
     },
     "output_type": "display_data"
    }
   ],
   "source": [
    "# color palette\n",
    "cm = plt.cm.tab20c.colors\n",
    "\n",
    "# settle down on a color palette\n",
    "colors_mc = [cm[8], cm[9], cm[10],]\n",
    "colors_atac = [cm[0], cm[1], cm[2],]\n",
    "colors_null = ['black', cm[16], cm[17], cm[18],]\n",
    "\n",
    "color_tracks = [\n",
    "    cm,\n",
    "    colors_mc,\n",
    "    colors_atac,\n",
    "    colors_null,\n",
    "]\n",
    "\n",
    "labels = [\n",
    "    'All',\n",
    "    'mC',\n",
    "    'ATAC',\n",
    "    'Null',\n",
    "]\n",
    "\n",
    "for color_track, label in zip(color_tracks, labels):\n",
    "    n = len(color_track)\n",
    "    fig, ax = plt.subplots(figsize=(1*n,1))\n",
    "    ax.bar(np.arange(n), 1, \n",
    "           color=color_track)\n",
    "    ax.set_xticks(np.arange(n))\n",
    "    ax.set_ylabel(label, rotation=0, ha='right')\n",
    "    sns.despine(ax=ax, left=True)\n",
    "    ax.set_yticks([])\n",
    "    plt.show()"
   ]
  },
  {
   "cell_type": "code",
   "execution_count": 4,
   "metadata": {},
   "outputs": [],
   "source": [
    "mod_palette = {\n",
    "    'mc': 'C2',\n",
    "    'atac': 'C0',\n",
    "    'null': 'k',\n",
    "}\n",
    "\n",
    "mod_palette_comp = {\n",
    "    'mc': colors_mc,\n",
    "    'atac': colors_atac,\n",
    "    'null': colors_null,\n",
    "}\n",
    "\n",
    "KB = 1000\n",
    "\n",
    "# def p25(x):\n",
    "#     return np.percentile(x, 25)\n",
    "# def p75(x):\n",
    "#     return np.percentile(x, 75)"
   ]
  },
  {
   "cell_type": "code",
   "execution_count": 5,
   "metadata": {},
   "outputs": [],
   "source": [
    "chromosomes = ['chr'+str(i+1) for i in range(22)] + ['chrX']\n",
    "celltypes = ['L2_3', 'L4', 'L5', 'L6', \n",
    "             'Pvalb', 'Sst', 'Vip', 'Ndnf']\n",
    "resolution = 10000\n",
    "\n",
    "\n",
    "celltype = 'L2_3'\n",
    "chromosome = 'chr1'"
   ]
  },
  {
   "cell_type": "markdown",
   "metadata": {},
   "source": [
    "# search for the most contacted pairs of all linked pairs"
   ]
  },
  {
   "cell_type": "code",
   "execution_count": 6,
   "metadata": {},
   "outputs": [
    {
     "data": {
      "text/html": [
       "<div>\n",
       "<style scoped>\n",
       "    .dataframe tbody tr th:only-of-type {\n",
       "        vertical-align: middle;\n",
       "    }\n",
       "\n",
       "    .dataframe tbody tr th {\n",
       "        vertical-align: top;\n",
       "    }\n",
       "\n",
       "    .dataframe thead th {\n",
       "        text-align: right;\n",
       "    }\n",
       "</style>\n",
       "<table border=\"1\" class=\"dataframe\">\n",
       "  <thead>\n",
       "    <tr style=\"text-align: right;\">\n",
       "      <th></th>\n",
       "      <th>gene_id</th>\n",
       "      <th>gene_name</th>\n",
       "      <th>chr</th>\n",
       "      <th>start</th>\n",
       "      <th>end</th>\n",
       "      <th>strand</th>\n",
       "      <th>gene_type</th>\n",
       "    </tr>\n",
       "    <tr>\n",
       "      <th>gid</th>\n",
       "      <th></th>\n",
       "      <th></th>\n",
       "      <th></th>\n",
       "      <th></th>\n",
       "      <th></th>\n",
       "      <th></th>\n",
       "      <th></th>\n",
       "    </tr>\n",
       "  </thead>\n",
       "  <tbody>\n",
       "    <tr>\n",
       "      <th>ENSMUSG00000102693</th>\n",
       "      <td>ENSMUSG00000102693.1</td>\n",
       "      <td>4933401J01Rik</td>\n",
       "      <td>chr1</td>\n",
       "      <td>3073253</td>\n",
       "      <td>3074322</td>\n",
       "      <td>+</td>\n",
       "      <td>TEC</td>\n",
       "    </tr>\n",
       "    <tr>\n",
       "      <th>ENSMUSG00000064842</th>\n",
       "      <td>ENSMUSG00000064842.1</td>\n",
       "      <td>Gm26206</td>\n",
       "      <td>chr1</td>\n",
       "      <td>3102016</td>\n",
       "      <td>3102125</td>\n",
       "      <td>+</td>\n",
       "      <td>snRNA</td>\n",
       "    </tr>\n",
       "    <tr>\n",
       "      <th>ENSMUSG00000051951</th>\n",
       "      <td>ENSMUSG00000051951.5</td>\n",
       "      <td>Xkr4</td>\n",
       "      <td>chr1</td>\n",
       "      <td>3205901</td>\n",
       "      <td>3671498</td>\n",
       "      <td>-</td>\n",
       "      <td>protein_coding</td>\n",
       "    </tr>\n",
       "    <tr>\n",
       "      <th>ENSMUSG00000102851</th>\n",
       "      <td>ENSMUSG00000102851.1</td>\n",
       "      <td>Gm18956</td>\n",
       "      <td>chr1</td>\n",
       "      <td>3252757</td>\n",
       "      <td>3253236</td>\n",
       "      <td>+</td>\n",
       "      <td>processed_pseudogene</td>\n",
       "    </tr>\n",
       "    <tr>\n",
       "      <th>ENSMUSG00000103377</th>\n",
       "      <td>ENSMUSG00000103377.1</td>\n",
       "      <td>Gm37180</td>\n",
       "      <td>chr1</td>\n",
       "      <td>3365731</td>\n",
       "      <td>3368549</td>\n",
       "      <td>-</td>\n",
       "      <td>TEC</td>\n",
       "    </tr>\n",
       "  </tbody>\n",
       "</table>\n",
       "</div>"
      ],
      "text/plain": [
       "                                 gene_id      gene_name   chr    start  \\\n",
       "gid                                                                      \n",
       "ENSMUSG00000102693  ENSMUSG00000102693.1  4933401J01Rik  chr1  3073253   \n",
       "ENSMUSG00000064842  ENSMUSG00000064842.1        Gm26206  chr1  3102016   \n",
       "ENSMUSG00000051951  ENSMUSG00000051951.5           Xkr4  chr1  3205901   \n",
       "ENSMUSG00000102851  ENSMUSG00000102851.1        Gm18956  chr1  3252757   \n",
       "ENSMUSG00000103377  ENSMUSG00000103377.1        Gm37180  chr1  3365731   \n",
       "\n",
       "                        end strand             gene_type  \n",
       "gid                                                       \n",
       "ENSMUSG00000102693  3074322      +                   TEC  \n",
       "ENSMUSG00000064842  3102125      +                 snRNA  \n",
       "ENSMUSG00000051951  3671498      -        protein_coding  \n",
       "ENSMUSG00000102851  3253236      +  processed_pseudogene  \n",
       "ENSMUSG00000103377  3368549      -                   TEC  "
      ]
     },
     "execution_count": 6,
     "metadata": {},
     "output_type": "execute_result"
    }
   ],
   "source": [
    "df_genes = pd.read_csv(GENEBODY, sep='\\t')\n",
    "df_genes['gid'] = df_genes['gene_id'].apply(lambda x: x.split('.')[0])\n",
    "df_genes = df_genes.set_index('gid')\n",
    "df_genes.head()"
   ]
  },
  {
   "cell_type": "code",
   "execution_count": 7,
   "metadata": {},
   "outputs": [
    {
     "name": "stdout",
     "output_type": "stream",
     "text": [
      "(126134, 5)\n",
      "(33814, 4)\n",
      "(7455, 3)\n",
      "(3879, 3)\n",
      "(85596, 3)\n",
      "(50012, 3)\n"
     ]
    },
    {
     "data": {
      "text/html": [
       "<div>\n",
       "<style scoped>\n",
       "    .dataframe tbody tr th:only-of-type {\n",
       "        vertical-align: middle;\n",
       "    }\n",
       "\n",
       "    .dataframe tbody tr th {\n",
       "        vertical-align: top;\n",
       "    }\n",
       "\n",
       "    .dataframe thead th {\n",
       "        text-align: right;\n",
       "    }\n",
       "</style>\n",
       "<table border=\"1\" class=\"dataframe\">\n",
       "  <thead>\n",
       "    <tr style=\"text-align: right;\">\n",
       "      <th></th>\n",
       "      <th>gene</th>\n",
       "      <th>enh</th>\n",
       "      <th>dist</th>\n",
       "    </tr>\n",
       "  </thead>\n",
       "  <tbody>\n",
       "    <tr>\n",
       "      <th>0</th>\n",
       "      <td>ENSMUSG00000000058</td>\n",
       "      <td>181997</td>\n",
       "      <td>14555</td>\n",
       "    </tr>\n",
       "    <tr>\n",
       "      <th>1</th>\n",
       "      <td>ENSMUSG00000000088</td>\n",
       "      <td>221978</td>\n",
       "      <td>48225</td>\n",
       "    </tr>\n",
       "    <tr>\n",
       "      <th>2</th>\n",
       "      <td>ENSMUSG00000000126</td>\n",
       "      <td>35942</td>\n",
       "      <td>90017</td>\n",
       "    </tr>\n",
       "    <tr>\n",
       "      <th>3</th>\n",
       "      <td>ENSMUSG00000000126</td>\n",
       "      <td>35953</td>\n",
       "      <td>4552</td>\n",
       "    </tr>\n",
       "    <tr>\n",
       "      <th>4</th>\n",
       "      <td>ENSMUSG00000000126</td>\n",
       "      <td>35954</td>\n",
       "      <td>5567</td>\n",
       "    </tr>\n",
       "  </tbody>\n",
       "</table>\n",
       "</div>"
      ],
      "text/plain": [
       "                 gene     enh   dist\n",
       "0  ENSMUSG00000000058  181997  14555\n",
       "1  ENSMUSG00000000088  221978  48225\n",
       "2  ENSMUSG00000000126   35942  90017\n",
       "3  ENSMUSG00000000126   35953   4552\n",
       "4  ENSMUSG00000000126   35954   5567"
      ]
     },
     "execution_count": 7,
     "metadata": {},
     "output_type": "execute_result"
    }
   ],
   "source": [
    "# enhancers lifted\n",
    "f = './hic_from_ethan/enhancers_lifted.bed'\n",
    "enh_list = pd.read_csv(f, sep='\\t', header=None, names=['chr', 'start', 'end', 'enh_id'])\n",
    "enh_list['center'] = (enh_list['start'] + enh_list['end'])/2\n",
    "print(enh_list.shape)\n",
    "enh_list.head()\n",
    "\n",
    "# tss lifted\n",
    "f = './hic_from_ethan/tss_lifted.bed'\n",
    "tss_list = pd.read_csv(f, sep='\\t', header=None, names=['chr', 'start', 'end', 'gid'])\n",
    "print(tss_list.shape)\n",
    "tss_list.head()\n",
    "\n",
    "# enh - tss linked list\n",
    "# orig significant pairs (enh_index and gid)\n",
    "f = '/sphere/fangming/enhancers/scripts/results_new/fig2_201027_linked_pairs_mc.tsv'\n",
    "linked_pairs_mc = pd.read_csv(f, sep=\"\\t\")\n",
    "print(linked_pairs_mc.shape)\n",
    "\n",
    "f = '/sphere/fangming/enhancers/scripts/results_new/fig2_201027_linked_pairs_atac.tsv'\n",
    "linked_pairs_atac = pd.read_csv(f, sep=\"\\t\")\n",
    "print(linked_pairs_atac.shape)\n",
    "\n",
    "f = '/sphere/fangming/enhancers/scripts/results_new/fig2_201027_correlated_pairs_mc.tsv'\n",
    "correlated_pairs_mc = pd.read_csv(f, sep=\"\\t\")\n",
    "print(correlated_pairs_mc.shape)\n",
    "\n",
    "f = '/sphere/fangming/enhancers/scripts/results_new/fig2_201027_correlated_pairs_atac.tsv'\n",
    "correlated_pairs_atac = pd.read_csv(f, sep=\"\\t\")\n",
    "print(correlated_pairs_atac.shape)\n",
    "\n",
    "linked_pairs_mc.head()"
   ]
  },
  {
   "cell_type": "code",
   "execution_count": 8,
   "metadata": {},
   "outputs": [
    {
     "name": "stdout",
     "output_type": "stream",
     "text": [
      "(1268, 3) (35309, 3)\n"
     ]
    }
   ],
   "source": [
    "linked_pairs_both = pd.merge(linked_pairs_mc, linked_pairs_atac, on=['gene', 'enh', 'dist'])\n",
    "correlated_pairs_both = pd.merge(correlated_pairs_mc, correlated_pairs_atac, on=['gene', 'enh', 'dist'])\n",
    "print(linked_pairs_both.shape, \n",
    "      correlated_pairs_both.shape, \n",
    "     )"
   ]
  },
  {
   "cell_type": "code",
   "execution_count": 9,
   "metadata": {},
   "outputs": [
    {
     "name": "stdout",
     "output_type": "stream",
     "text": [
      "(12095, 38)\n",
      "(38,)\n"
     ]
    },
    {
     "data": {
      "text/plain": [
       "cluster\n",
       "1-1-1       L4/5 IT (1)\n",
       "1-2-1       L4/5 IT (2)\n",
       "1-2-2       L4/5 IT (3)\n",
       "2-1-1    L6 CT Cpa6 (1)\n",
       "2-1-2    L6 CT Cpa6 (2)\n",
       "Name: annotation, dtype: object"
      ]
     },
     "execution_count": 9,
     "metadata": {},
     "output_type": "execute_result"
    }
   ],
   "source": [
    "# gene expression profiles\n",
    "f = '/sphere/fangming/enhancers/scripts/data_organized/gene_rna_clsts.tsv'\n",
    "gene_rna_clsts = pd.read_csv(f, sep='\\t', index_col=0) #header=True, index=True)\n",
    "print(gene_rna_clsts.shape)\n",
    "gene_rna_clsts.head()\n",
    "\n",
    "# cluster annotation\n",
    "f = '/cndd2/fangming/projects/scf_enhancers/enhancer_ethan38_200520/ref/annotations_order.tsv'\n",
    "clst_annot = pd.read_csv(f, sep='\\t').set_index('cluster')['annotation']\n",
    "print(clst_annot.shape)\n",
    "clst_annot.head()"
   ]
  },
  {
   "cell_type": "code",
   "execution_count": 10,
   "metadata": {},
   "outputs": [
    {
     "name": "stdout",
     "output_type": "stream",
     "text": [
      "(38,) 8 ['L2_3' 'L4' 'L5' 'L6' 'Ndnf' 'Pvalb' 'Sst' 'Vip']\n"
     ]
    }
   ],
   "source": [
    "# merge cluster name\n",
    "annot_rename_lookup = {\n",
    "    'L2/3': \"L2_3\",\n",
    "    'L4/5': \"L4\",\n",
    "    'L6b': \"L6\",\n",
    "    'Sncg': \"Ndnf\",\n",
    "    'Lamp5': \"Ndnf\",\n",
    "}\n",
    "\n",
    "def rename_annot(x, annot_rename_lookup):\n",
    "    \"\"\"\n",
    "    \"\"\"\n",
    "    if x in annot_rename_lookup.keys():\n",
    "        return annot_rename_lookup[x]\n",
    "    else:\n",
    "        return x\n",
    "    \n",
    "clst_annot_broad = pd.Series([annot.split(' ')[0] for annot in clst_annot.values], \n",
    "                             index=clst_annot.index)\n",
    "clst_annot_broad = clst_annot_broad.apply(lambda x: rename_annot(x, annot_rename_lookup))\n",
    "\n",
    "print(clst_annot_broad.shape, \n",
    "      len(np.unique(clst_annot_broad.values)),\n",
    "      np.unique(clst_annot_broad.values),\n",
    "     )"
   ]
  },
  {
   "cell_type": "code",
   "execution_count": 11,
   "metadata": {},
   "outputs": [
    {
     "name": "stdout",
     "output_type": "stream",
     "text": [
      "(12095, 8)\n"
     ]
    },
    {
     "data": {
      "text/html": [
       "<div>\n",
       "<style scoped>\n",
       "    .dataframe tbody tr th:only-of-type {\n",
       "        vertical-align: middle;\n",
       "    }\n",
       "\n",
       "    .dataframe tbody tr th {\n",
       "        vertical-align: top;\n",
       "    }\n",
       "\n",
       "    .dataframe thead th {\n",
       "        text-align: right;\n",
       "    }\n",
       "</style>\n",
       "<table border=\"1\" class=\"dataframe\">\n",
       "  <thead>\n",
       "    <tr style=\"text-align: right;\">\n",
       "      <th>annot</th>\n",
       "      <th>L2_3</th>\n",
       "      <th>L4</th>\n",
       "      <th>L5</th>\n",
       "      <th>L6</th>\n",
       "      <th>Ndnf</th>\n",
       "      <th>Pvalb</th>\n",
       "      <th>Sst</th>\n",
       "      <th>Vip</th>\n",
       "    </tr>\n",
       "  </thead>\n",
       "  <tbody>\n",
       "    <tr>\n",
       "      <th>ENSMUSG00000000001</th>\n",
       "      <td>0.500</td>\n",
       "      <td>0.750</td>\n",
       "      <td>0.250</td>\n",
       "      <td>0.625</td>\n",
       "      <td>0.875</td>\n",
       "      <td>0.125</td>\n",
       "      <td>0.375</td>\n",
       "      <td>1.000</td>\n",
       "    </tr>\n",
       "    <tr>\n",
       "      <th>ENSMUSG00000000056</th>\n",
       "      <td>0.125</td>\n",
       "      <td>0.750</td>\n",
       "      <td>0.875</td>\n",
       "      <td>0.500</td>\n",
       "      <td>0.625</td>\n",
       "      <td>1.000</td>\n",
       "      <td>0.250</td>\n",
       "      <td>0.375</td>\n",
       "    </tr>\n",
       "    <tr>\n",
       "      <th>ENSMUSG00000000058</th>\n",
       "      <td>0.625</td>\n",
       "      <td>1.000</td>\n",
       "      <td>0.250</td>\n",
       "      <td>0.375</td>\n",
       "      <td>0.750</td>\n",
       "      <td>0.125</td>\n",
       "      <td>0.500</td>\n",
       "      <td>0.875</td>\n",
       "    </tr>\n",
       "    <tr>\n",
       "      <th>ENSMUSG00000000078</th>\n",
       "      <td>0.250</td>\n",
       "      <td>1.000</td>\n",
       "      <td>0.625</td>\n",
       "      <td>0.750</td>\n",
       "      <td>0.125</td>\n",
       "      <td>0.500</td>\n",
       "      <td>0.875</td>\n",
       "      <td>0.375</td>\n",
       "    </tr>\n",
       "    <tr>\n",
       "      <th>ENSMUSG00000000085</th>\n",
       "      <td>0.250</td>\n",
       "      <td>0.125</td>\n",
       "      <td>0.625</td>\n",
       "      <td>0.375</td>\n",
       "      <td>0.875</td>\n",
       "      <td>0.500</td>\n",
       "      <td>0.750</td>\n",
       "      <td>1.000</td>\n",
       "    </tr>\n",
       "  </tbody>\n",
       "</table>\n",
       "</div>"
      ],
      "text/plain": [
       "annot                L2_3     L4     L5     L6   Ndnf  Pvalb    Sst    Vip\n",
       "ENSMUSG00000000001  0.500  0.750  0.250  0.625  0.875  0.125  0.375  1.000\n",
       "ENSMUSG00000000056  0.125  0.750  0.875  0.500  0.625  1.000  0.250  0.375\n",
       "ENSMUSG00000000058  0.625  1.000  0.250  0.375  0.750  0.125  0.500  0.875\n",
       "ENSMUSG00000000078  0.250  1.000  0.625  0.750  0.125  0.500  0.875  0.375\n",
       "ENSMUSG00000000085  0.250  0.125  0.625  0.375  0.875  0.500  0.750  1.000"
      ]
     },
     "execution_count": 11,
     "metadata": {},
     "output_type": "execute_result"
    }
   ],
   "source": [
    "# merge RNA profiles\n",
    "_tmp = gene_rna_clsts.T\n",
    "_tmp['annot'] = clst_annot_broad.loc[_tmp.index]\n",
    "gene_rna_clsts_broad = _tmp.groupby('annot').median().T\n",
    "gene_rna_clsts_broad_rank = gene_rna_clsts_broad.rank(pct=True, axis=1)\n",
    "print(gene_rna_clsts_broad_rank.shape)\n",
    "gene_rna_clsts_broad_rank.head()"
   ]
  },
  {
   "cell_type": "code",
   "execution_count": 12,
   "metadata": {
    "scrolled": true
   },
   "outputs": [
    {
     "name": "stderr",
     "output_type": "stream",
     "text": [
      "  0%|          | 0/8 [00:00<?, ?it/s]\n",
      "  0%|          | 0/23 [00:00<?, ?it/s]\u001b[A\n",
      "\n",
      "100%|██████████| 10/10 [00:00<00:00, 946.86it/s]\n",
      "\n",
      "  4%|▍         | 1/23 [00:04<01:49,  4.99s/it]\u001b[A\n",
      "\n",
      "100%|██████████| 10/10 [00:00<00:00, 967.03it/s]\n",
      "\n",
      "  9%|▊         | 2/23 [00:09<01:43,  4.94s/it]\u001b[A\n",
      "\n",
      "100%|██████████| 10/10 [00:00<00:00, 1321.62it/s]\n",
      "\n",
      " 13%|█▎        | 3/23 [00:13<01:29,  4.49s/it]\u001b[A\n",
      "\n",
      "100%|██████████| 10/10 [00:00<00:00, 520.62it/s]\n",
      "\n",
      " 17%|█▋        | 4/23 [00:16<01:18,  4.12s/it]\u001b[A\n",
      "\n",
      "100%|██████████| 10/10 [00:00<00:00, 1114.59it/s]\n",
      "\n",
      " 22%|██▏       | 5/23 [00:19<01:07,  3.75s/it]\u001b[A\n",
      "\n",
      "100%|██████████| 10/10 [00:00<00:00, 1477.23it/s]\n",
      "\n",
      " 26%|██▌       | 6/23 [00:21<00:57,  3.39s/it]\u001b[A\n",
      "\n",
      "100%|██████████| 10/10 [00:00<00:00, 1436.45it/s]\n",
      "\n",
      " 30%|███       | 7/23 [00:24<00:49,  3.07s/it]\u001b[A\n",
      "\n",
      "100%|██████████| 10/10 [00:00<00:00, 1298.18it/s]\n",
      "\n",
      " 35%|███▍      | 8/23 [00:26<00:41,  2.75s/it]\u001b[A\n",
      "\n",
      "100%|██████████| 10/10 [00:00<00:00, 821.67it/s]\n",
      "\n",
      " 39%|███▉      | 9/23 [00:28<00:34,  2.45s/it]\u001b[A\n",
      "\n",
      "100%|██████████| 10/10 [00:00<00:00, 1489.61it/s]\n",
      "\n",
      " 43%|████▎     | 10/23 [00:29<00:29,  2.24s/it]\u001b[A\n",
      "\n",
      "100%|██████████| 10/10 [00:00<00:00, 1372.98it/s]\n",
      "\n",
      " 48%|████▊     | 11/23 [00:31<00:25,  2.11s/it]\u001b[A\n",
      "\n",
      "100%|██████████| 10/10 [00:00<00:00, 1451.52it/s]\n",
      "\n",
      " 52%|█████▏    | 12/23 [00:33<00:21,  1.98s/it]\u001b[A\n",
      "\n",
      "100%|██████████| 10/10 [00:00<00:00, 2016.49it/s]\n",
      "\n",
      " 57%|█████▋    | 13/23 [00:34<00:17,  1.75s/it]\u001b[A\n",
      "\n",
      "100%|██████████| 10/10 [00:00<00:00, 1939.47it/s]\n",
      "\n",
      " 61%|██████    | 14/23 [00:35<00:14,  1.57s/it]\u001b[A\n",
      "\n",
      "100%|██████████| 10/10 [00:00<00:00, 847.57it/s]\n",
      "\n",
      " 65%|██████▌   | 15/23 [00:36<00:11,  1.41s/it]\u001b[A\n",
      "\n",
      "100%|██████████| 10/10 [00:00<00:00, 2250.65it/s]\n",
      "\n",
      " 70%|██████▉   | 16/23 [00:37<00:08,  1.27s/it]\u001b[A\n",
      "\n",
      "100%|██████████| 10/10 [00:00<00:00, 2373.28it/s]\n",
      "\n",
      " 74%|███████▍  | 17/23 [00:38<00:06,  1.13s/it]\u001b[A\n",
      "\n",
      "100%|██████████| 10/10 [00:00<00:00, 1599.11it/s]\n",
      "\n",
      " 78%|███████▊  | 18/23 [00:39<00:04,  1.01it/s]\u001b[A\n",
      "\n",
      "100%|██████████| 10/10 [00:00<00:00, 4133.13it/s]\n",
      "\n",
      " 83%|████████▎ | 19/23 [00:39<00:03,  1.19it/s]\u001b[A\n",
      "\n",
      "100%|██████████| 10/10 [00:00<00:00, 2958.74it/s]\n",
      "\n",
      " 87%|████████▋ | 20/23 [00:40<00:02,  1.32it/s]\u001b[A\n",
      "\n",
      "100%|██████████| 10/10 [00:00<00:00, 2423.61it/s]\n",
      "\n",
      " 91%|█████████▏| 21/23 [00:40<00:01,  1.54it/s]\u001b[A\n",
      "\n",
      "100%|██████████| 10/10 [00:00<00:00, 1577.34it/s]\n",
      "\n",
      " 96%|█████████▌| 22/23 [00:40<00:00,  1.79it/s]\u001b[A\n",
      "\n",
      "100%|██████████| 10/10 [00:00<00:00, 1788.92it/s]\n",
      "\n",
      "100%|██████████| 23/23 [00:42<00:00,  1.86s/it]\u001b[A\n",
      " 12%|█▎        | 1/8 [00:42<04:59, 42.80s/it]\n",
      "  0%|          | 0/23 [00:00<?, ?it/s]\u001b[A\n",
      "\n",
      "100%|██████████| 10/10 [00:00<00:00, 971.58it/s]\n",
      "\n",
      "  4%|▍         | 1/23 [00:04<01:35,  4.34s/it]\u001b[A\n",
      "\n",
      "100%|██████████| 10/10 [00:00<00:00, 962.64it/s]\n",
      "\n",
      "  9%|▊         | 2/23 [00:08<01:30,  4.31s/it]\u001b[A\n",
      "\n",
      "100%|██████████| 10/10 [00:00<00:00, 567.40it/s]\n",
      "\n",
      " 13%|█▎        | 3/23 [00:11<01:17,  3.88s/it]\u001b[A\n",
      "\n",
      "100%|██████████| 10/10 [00:00<00:00, 942.79it/s]\n",
      "\n",
      " 17%|█▋        | 4/23 [00:14<01:08,  3.60s/it]\u001b[A\n",
      "\n",
      "100%|██████████| 10/10 [00:00<00:00, 1086.83it/s]\n",
      "\n",
      " 22%|██▏       | 5/23 [00:16<00:58,  3.27s/it]\u001b[A\n",
      "\n",
      "100%|██████████| 10/10 [00:00<00:00, 1508.36it/s]\n",
      "\n",
      " 26%|██▌       | 6/23 [00:19<00:50,  2.95s/it]\u001b[A\n",
      "\n",
      "100%|██████████| 10/10 [00:00<00:00, 1279.80it/s]\n",
      "\n",
      " 30%|███       | 7/23 [00:21<00:42,  2.66s/it]\u001b[A\n",
      "\n",
      "100%|██████████| 10/10 [00:00<00:00, 584.16it/s]\n",
      "\n",
      " 35%|███▍      | 8/23 [00:22<00:35,  2.39s/it]\u001b[A\n",
      "\n",
      "100%|██████████| 10/10 [00:00<00:00, 1525.37it/s]\n",
      "\n",
      " 39%|███▉      | 9/23 [00:24<00:29,  2.13s/it]\u001b[A\n",
      "\n",
      "100%|██████████| 10/10 [00:00<00:00, 1621.11it/s]\n",
      "\n",
      " 43%|████▎     | 10/23 [00:25<00:25,  1.95s/it]\u001b[A\n",
      "\n",
      "100%|██████████| 10/10 [00:00<00:00, 1349.61it/s]\n",
      "\n",
      " 48%|████▊     | 11/23 [00:27<00:21,  1.78s/it]\u001b[A\n",
      "\n",
      "100%|██████████| 10/10 [00:00<00:00, 1482.61it/s]\n",
      "\n",
      " 52%|█████▏    | 12/23 [00:28<00:18,  1.66s/it]\u001b[A\n",
      "\n",
      "100%|██████████| 10/10 [00:00<00:00, 960.23it/s]\n",
      "\n",
      " 57%|█████▋    | 13/23 [00:29<00:14,  1.47s/it]\u001b[A\n",
      "\n",
      "100%|██████████| 10/10 [00:00<00:00, 2049.50it/s]\n",
      "\n",
      " 61%|██████    | 14/23 [00:30<00:12,  1.33s/it]\u001b[A\n",
      "\n",
      "100%|██████████| 10/10 [00:00<00:00, 1691.59it/s]\n",
      "\n",
      " 65%|██████▌   | 15/23 [00:31<00:09,  1.18s/it]\u001b[A\n",
      "\n",
      "100%|██████████| 10/10 [00:00<00:00, 2322.43it/s]\n",
      "\n",
      " 70%|██████▉   | 16/23 [00:32<00:07,  1.04s/it]\u001b[A\n",
      "\n",
      "100%|██████████| 10/10 [00:00<00:00, 1243.53it/s]\n",
      "\n",
      " 74%|███████▍  | 17/23 [00:32<00:05,  1.09it/s]\u001b[A\n",
      "\n",
      "100%|██████████| 10/10 [00:00<00:00, 2421.93it/s]\n",
      "\n",
      " 78%|███████▊  | 18/23 [00:33<00:04,  1.18it/s]\u001b[A\n",
      "\n",
      "100%|██████████| 10/10 [00:00<00:00, 2898.42it/s]\n",
      "\n",
      " 83%|████████▎ | 19/23 [00:33<00:02,  1.43it/s]\u001b[A\n",
      "\n",
      "100%|██████████| 10/10 [00:00<00:00, 2339.53it/s]\n",
      "\n",
      " 87%|████████▋ | 20/23 [00:34<00:01,  1.61it/s]\u001b[A\n",
      "\n",
      "100%|██████████| 10/10 [00:00<00:00, 3278.85it/s]\n",
      "\n",
      " 91%|█████████▏| 21/23 [00:34<00:01,  1.95it/s]\u001b[A\n",
      "\n",
      "100%|██████████| 10/10 [00:00<00:00, 2936.16it/s]\n",
      "\n",
      " 96%|█████████▌| 22/23 [00:34<00:00,  2.22it/s]\u001b[A\n",
      "\n",
      "100%|██████████| 10/10 [00:00<00:00, 1832.45it/s]\n",
      "\n",
      "100%|██████████| 23/23 [00:36<00:00,  1.59s/it]\u001b[A\n",
      " 25%|██▌       | 2/8 [01:19<04:05, 40.96s/it]\n",
      "  0%|          | 0/23 [00:00<?, ?it/s]\u001b[A\n",
      "\n",
      "100%|██████████| 10/10 [00:00<00:00, 1041.70it/s]\n",
      "\n",
      "  4%|▍         | 1/23 [00:04<01:36,  4.37s/it]\u001b[A\n",
      "\n",
      "100%|██████████| 10/10 [00:00<00:00, 927.06it/s]\n",
      "\n",
      "  9%|▊         | 2/23 [00:08<01:31,  4.36s/it]\u001b[A\n",
      "\n",
      "100%|██████████| 10/10 [00:00<00:00, 1209.67it/s]\n",
      "\n",
      " 13%|█▎        | 3/23 [00:11<01:19,  3.96s/it]\u001b[A\n",
      "\n",
      "100%|██████████| 10/10 [00:00<00:00, 1375.54it/s]\n",
      "\n",
      " 17%|█▋        | 4/23 [00:14<01:08,  3.59s/it]\u001b[A\n",
      "\n",
      "100%|██████████| 10/10 [00:00<00:00, 1138.06it/s]\n",
      "\n",
      " 22%|██▏       | 5/23 [00:16<00:58,  3.25s/it]\u001b[A\n",
      "\n",
      "100%|██████████| 10/10 [00:00<00:00, 1555.64it/s]\n",
      "\n",
      " 26%|██▌       | 6/23 [00:19<00:49,  2.93s/it]\u001b[A\n",
      "\n",
      "100%|██████████| 10/10 [00:00<00:00, 1430.67it/s]\n",
      "\n",
      " 30%|███       | 7/23 [00:21<00:42,  2.64s/it]\u001b[A\n",
      "\n",
      "100%|██████████| 10/10 [00:00<00:00, 1396.24it/s]\n",
      "\n",
      " 35%|███▍      | 8/23 [00:22<00:35,  2.34s/it]\u001b[A\n",
      "\n",
      "100%|██████████| 10/10 [00:00<00:00, 1371.05it/s]\n",
      "\n",
      " 39%|███▉      | 9/23 [00:24<00:29,  2.09s/it]\u001b[A\n",
      "\n",
      "100%|██████████| 10/10 [00:00<00:00, 1439.02it/s]\n",
      "\n",
      " 43%|████▎     | 10/23 [00:25<00:24,  1.89s/it]\u001b[A\n",
      "\n",
      "100%|██████████| 10/10 [00:00<00:00, 1381.20it/s]\n",
      "\n",
      " 48%|████▊     | 11/23 [00:27<00:20,  1.75s/it]\u001b[A\n",
      "\n",
      "100%|██████████| 10/10 [00:00<00:00, 1506.57it/s]\n",
      "\n",
      " 52%|█████▏    | 12/23 [00:28<00:18,  1.64s/it]\u001b[A\n",
      "\n",
      "100%|██████████| 10/10 [00:00<00:00, 1947.22it/s]\n",
      "\n",
      " 57%|█████▋    | 13/23 [00:29<00:14,  1.46s/it]\u001b[A\n",
      "\n",
      "100%|██████████| 10/10 [00:00<00:00, 1484.08it/s]\n",
      "\n",
      " 61%|██████    | 14/23 [00:30<00:11,  1.31s/it]\u001b[A\n",
      "\n",
      "100%|██████████| 10/10 [00:00<00:00, 1725.27it/s]\n",
      "\n",
      " 65%|██████▌   | 15/23 [00:31<00:09,  1.16s/it]\u001b[A\n",
      "\n",
      "100%|██████████| 10/10 [00:00<00:00, 2221.68it/s]\n",
      "\n",
      " 70%|██████▉   | 16/23 [00:31<00:07,  1.01s/it]\u001b[A\n",
      "\n",
      "100%|██████████| 10/10 [00:00<00:00, 2239.83it/s]\n",
      "\n",
      " 74%|███████▍  | 17/23 [00:32<00:05,  1.08it/s]\u001b[A\n",
      "\n",
      "100%|██████████| 10/10 [00:00<00:00, 2876.16it/s]\n",
      "\n",
      " 78%|███████▊  | 18/23 [00:33<00:04,  1.18it/s]\u001b[A\n",
      "\n",
      "100%|██████████| 10/10 [00:00<00:00, 2576.35it/s]\n",
      "\n",
      " 83%|████████▎ | 19/23 [00:33<00:02,  1.38it/s]\u001b[A\n",
      "\n",
      "100%|██████████| 10/10 [00:00<00:00, 1429.45it/s]\n",
      "\n",
      " 87%|████████▋ | 20/23 [00:34<00:01,  1.54it/s]\u001b[A\n",
      "\n",
      "100%|██████████| 10/10 [00:00<00:00, 4091.60it/s]\n",
      "\n",
      " 91%|█████████▏| 21/23 [00:34<00:01,  1.78it/s]\u001b[A\n",
      "\n",
      "100%|██████████| 10/10 [00:00<00:00, 4372.71it/s]\n",
      "\n",
      " 96%|█████████▌| 22/23 [00:34<00:00,  1.96it/s]\u001b[A\n",
      "\n",
      "100%|██████████| 10/10 [00:00<00:00, 1700.03it/s]\n",
      "\n",
      "100%|██████████| 23/23 [00:36<00:00,  1.59s/it]\u001b[A\n",
      " 38%|███▊      | 3/8 [01:56<03:18, 39.66s/it]\n",
      "  0%|          | 0/23 [00:00<?, ?it/s]\u001b[A\n",
      "\n",
      "100%|██████████| 10/10 [00:00<00:00, 952.13it/s]\n",
      "\n",
      "  4%|▍         | 1/23 [00:04<01:34,  4.30s/it]\u001b[A\n",
      "\n",
      "100%|██████████| 10/10 [00:00<00:00, 937.21it/s]\n",
      "\n",
      "  9%|▊         | 2/23 [00:08<01:29,  4.25s/it]\u001b[A\n",
      "\n",
      "100%|██████████| 10/10 [00:00<00:00, 1397.78it/s]\n",
      "\n",
      " 13%|█▎        | 3/23 [00:11<01:16,  3.80s/it]\u001b[A\n",
      "\n",
      "100%|██████████| 10/10 [00:00<00:00, 1168.46it/s]\n",
      "\n",
      " 17%|█▋        | 4/23 [00:13<01:05,  3.43s/it]\u001b[A\n",
      "\n",
      "100%|██████████| 10/10 [00:00<00:00, 1153.99it/s]\n",
      "\n",
      " 22%|██▏       | 5/23 [00:16<00:55,  3.09s/it]\u001b[A\n",
      "\n",
      "100%|██████████| 10/10 [00:00<00:00, 1366.62it/s]\n",
      "\n",
      " 26%|██▌       | 6/23 [00:18<00:47,  2.79s/it]\u001b[A\n",
      "\n",
      "100%|██████████| 10/10 [00:00<00:00, 1481.30it/s]\n",
      "\n",
      " 30%|███       | 7/23 [00:19<00:39,  2.49s/it]\u001b[A\n",
      "\n",
      "100%|██████████| 10/10 [00:00<00:00, 1299.87it/s]\n",
      "\n",
      " 35%|███▍      | 8/23 [00:21<00:33,  2.22s/it]\u001b[A\n",
      "\n",
      "100%|██████████| 10/10 [00:00<00:00, 1508.09it/s]\n",
      "\n",
      " 39%|███▉      | 9/23 [00:22<00:27,  1.97s/it]\u001b[A\n",
      "\n",
      "100%|██████████| 10/10 [00:00<00:00, 1618.17it/s]\n",
      "\n",
      " 43%|████▎     | 10/23 [00:24<00:23,  1.78s/it]\u001b[A\n",
      "\n",
      "100%|██████████| 10/10 [00:00<00:00, 1375.09it/s]\n",
      "\n",
      " 48%|████▊     | 11/23 [00:25<00:19,  1.65s/it]\u001b[A\n",
      "\n",
      "100%|██████████| 10/10 [00:00<00:00, 1518.74it/s]\n",
      "\n",
      " 52%|█████▏    | 12/23 [00:26<00:17,  1.55s/it]\u001b[A\n",
      "\n",
      "100%|██████████| 10/10 [00:00<00:00, 2223.92it/s]\n",
      "\n",
      " 57%|█████▋    | 13/23 [00:27<00:13,  1.39s/it]\u001b[A\n",
      "\n",
      "100%|██████████| 10/10 [00:00<00:00, 1563.87it/s]\n",
      "\n",
      " 61%|██████    | 14/23 [00:28<00:11,  1.23s/it]\u001b[A\n",
      "\n",
      "100%|██████████| 10/10 [00:00<00:00, 856.96it/s]\n",
      "\n",
      " 65%|██████▌   | 15/23 [00:29<00:09,  1.14s/it]\u001b[A\n",
      "\n",
      "100%|██████████| 10/10 [00:00<00:00, 2389.24it/s]\n",
      "\n",
      " 70%|██████▉   | 16/23 [00:30<00:07,  1.02s/it]\u001b[A\n",
      "\n",
      "100%|██████████| 10/10 [00:00<00:00, 1182.09it/s]\n",
      "\n",
      " 74%|███████▍  | 17/23 [00:31<00:05,  1.08it/s]\u001b[A\n",
      "\n",
      "100%|██████████| 10/10 [00:00<00:00, 2473.49it/s]\n",
      "\n",
      " 78%|███████▊  | 18/23 [00:31<00:04,  1.22it/s]\u001b[A\n",
      "\n",
      "100%|██████████| 10/10 [00:00<00:00, 3839.53it/s]\n",
      "\n",
      " 83%|████████▎ | 19/23 [00:32<00:02,  1.41it/s]\u001b[A\n",
      "\n",
      "100%|██████████| 10/10 [00:00<00:00, 2613.11it/s]\n",
      "\n",
      " 87%|████████▋ | 20/23 [00:32<00:01,  1.63it/s]\u001b[A\n",
      "\n",
      "100%|██████████| 10/10 [00:00<00:00, 3173.18it/s]\n",
      "\n",
      " 91%|█████████▏| 21/23 [00:32<00:01,  1.94it/s]\u001b[A\n",
      "\n",
      "100%|██████████| 10/10 [00:00<00:00, 3106.66it/s]\n",
      "\n",
      " 96%|█████████▌| 22/23 [00:33<00:00,  2.28it/s]\u001b[A\n",
      "\n",
      "100%|██████████| 10/10 [00:00<00:00, 1770.27it/s]\n",
      "\n",
      "100%|██████████| 23/23 [00:34<00:00,  1.51s/it]\u001b[A\n",
      " 50%|█████     | 4/8 [02:30<02:32, 38.18s/it]\n",
      "  0%|          | 0/23 [00:00<?, ?it/s]\u001b[A\n",
      "\n",
      "100%|██████████| 10/10 [00:00<00:00, 987.17it/s]\n",
      "\n",
      "  4%|▍         | 1/23 [00:04<01:36,  4.39s/it]\u001b[A\n",
      "\n",
      "100%|██████████| 10/10 [00:00<00:00, 994.50it/s]\n",
      "\n",
      "  9%|▊         | 2/23 [00:08<01:31,  4.36s/it]\u001b[A\n",
      "\n",
      "100%|██████████| 10/10 [00:00<00:00, 1104.20it/s]\n",
      "\n",
      " 13%|█▎        | 3/23 [00:11<01:19,  3.96s/it]\u001b[A\n",
      "\n",
      "100%|██████████| 10/10 [00:00<00:00, 1183.86it/s]\n",
      "\n",
      " 17%|█▋        | 4/23 [00:14<01:07,  3.58s/it]\u001b[A\n",
      "\n",
      "100%|██████████| 10/10 [00:00<00:00, 1251.51it/s]\n",
      "\n",
      " 22%|██▏       | 5/23 [00:16<00:58,  3.24s/it]\u001b[A\n",
      "\n",
      "100%|██████████| 10/10 [00:00<00:00, 1345.58it/s]\n",
      "\n",
      " 26%|██▌       | 6/23 [00:19<00:49,  2.92s/it]\u001b[A\n",
      "\n",
      "100%|██████████| 10/10 [00:00<00:00, 598.35it/s]\n",
      "\n",
      " 30%|███       | 7/23 [00:20<00:41,  2.62s/it]\u001b[A\n",
      "\n",
      "100%|██████████| 10/10 [00:00<00:00, 641.65it/s]\n",
      "\n",
      " 35%|███▍      | 8/23 [00:22<00:35,  2.35s/it]\u001b[A\n",
      "\n",
      "100%|██████████| 10/10 [00:00<00:00, 723.59it/s]\n",
      "\n",
      " 39%|███▉      | 9/23 [00:24<00:29,  2.12s/it]\u001b[A\n",
      "\n",
      "100%|██████████| 10/10 [00:00<00:00, 677.10it/s]\n",
      "\n",
      " 43%|████▎     | 10/23 [00:25<00:25,  1.93s/it]\u001b[A\n",
      "\n",
      "100%|██████████| 10/10 [00:00<00:00, 1365.07it/s]\n",
      "\n",
      " 48%|████▊     | 11/23 [00:27<00:21,  1.79s/it]\u001b[A\n",
      "\n",
      "100%|██████████| 10/10 [00:00<00:00, 1322.58it/s]\n",
      "\n",
      " 52%|█████▏    | 12/23 [00:28<00:18,  1.67s/it]\u001b[A\n",
      "\n",
      "100%|██████████| 10/10 [00:00<00:00, 1959.41it/s]\n",
      "\n",
      " 57%|█████▋    | 13/23 [00:29<00:14,  1.47s/it]\u001b[A\n",
      "\n",
      "100%|██████████| 10/10 [00:00<00:00, 2041.82it/s]\n",
      "\n",
      " 61%|██████    | 14/23 [00:30<00:11,  1.30s/it]\u001b[A\n",
      "\n",
      "100%|██████████| 10/10 [00:00<00:00, 1916.08it/s]\n",
      "\n",
      " 65%|██████▌   | 15/23 [00:31<00:09,  1.16s/it]\u001b[A\n",
      "\n",
      "100%|██████████| 10/10 [00:00<00:00, 1642.38it/s]\n",
      "\n",
      " 70%|██████▉   | 16/23 [00:31<00:07,  1.01s/it]\u001b[A\n",
      "\n",
      "100%|██████████| 10/10 [00:00<00:00, 1748.79it/s]\n",
      "\n",
      " 74%|███████▍  | 17/23 [00:32<00:05,  1.11it/s]\u001b[A\n",
      "\n",
      "100%|██████████| 10/10 [00:00<00:00, 1746.32it/s]\n",
      "\n",
      " 78%|███████▊  | 18/23 [00:33<00:04,  1.23it/s]\u001b[A\n",
      "\n",
      "100%|██████████| 10/10 [00:00<00:00, 2907.26it/s]\n",
      "\n",
      " 83%|████████▎ | 19/23 [00:33<00:02,  1.48it/s]\u001b[A\n",
      "\n",
      "100%|██████████| 10/10 [00:00<00:00, 2481.98it/s]\n",
      "\n",
      " 87%|████████▋ | 20/23 [00:34<00:01,  1.65it/s]\u001b[A\n",
      "\n",
      "100%|██████████| 10/10 [00:00<00:00, 3251.15it/s]\n",
      "\n",
      " 91%|█████████▏| 21/23 [00:34<00:01,  2.00it/s]\u001b[A\n",
      "\n",
      "100%|██████████| 10/10 [00:00<00:00, 2707.75it/s]\n",
      "\n",
      " 96%|█████████▌| 22/23 [00:34<00:00,  2.31it/s]\u001b[A\n",
      "\n",
      "100%|██████████| 10/10 [00:00<00:00, 1891.20it/s]\n",
      "\n",
      "100%|██████████| 23/23 [00:36<00:00,  1.58s/it]\u001b[A\n",
      " 62%|██████▎   | 5/8 [03:07<01:52, 37.60s/it]\n",
      "  0%|          | 0/23 [00:00<?, ?it/s]\u001b[A\n",
      "\n",
      "100%|██████████| 10/10 [00:00<00:00, 990.46it/s]\n",
      "\n",
      "  4%|▍         | 1/23 [00:04<01:44,  4.74s/it]\u001b[A\n",
      "\n",
      "100%|██████████| 10/10 [00:00<00:00, 904.24it/s]\n",
      "\n",
      "  9%|▊         | 2/23 [00:09<01:38,  4.69s/it]\u001b[A\n",
      "\n",
      "100%|██████████| 10/10 [00:00<00:00, 1096.21it/s]\n",
      "\n",
      " 13%|█▎        | 3/23 [00:12<01:24,  4.25s/it]\u001b[A\n",
      "\n",
      "100%|██████████| 10/10 [00:00<00:00, 1190.14it/s]\n",
      "\n",
      " 17%|█▋        | 4/23 [00:15<01:12,  3.83s/it]\u001b[A\n",
      "\n",
      "100%|██████████| 10/10 [00:00<00:00, 1148.81it/s]\n",
      "\n",
      " 22%|██▏       | 5/23 [00:17<01:02,  3.46s/it]\u001b[A\n",
      "\n",
      "100%|██████████| 10/10 [00:00<00:00, 1519.79it/s]\n",
      "\n",
      " 26%|██▌       | 6/23 [00:20<00:53,  3.12s/it]\u001b[A\n",
      "\n",
      "100%|██████████| 10/10 [00:00<00:00, 1390.91it/s]\n",
      "\n",
      " 30%|███       | 7/23 [00:22<00:44,  2.79s/it]\u001b[A\n",
      "\n",
      "100%|██████████| 10/10 [00:00<00:00, 1464.49it/s]\n",
      "\n",
      " 35%|███▍      | 8/23 [00:24<00:37,  2.52s/it]\u001b[A\n",
      "\n",
      "100%|██████████| 10/10 [00:00<00:00, 685.59it/s]\n",
      "\n",
      " 39%|███▉      | 9/23 [00:25<00:31,  2.27s/it]\u001b[A\n",
      "\n",
      "100%|██████████| 10/10 [00:00<00:00, 1350.04it/s]\n",
      "\n",
      " 43%|████▎     | 10/23 [00:27<00:26,  2.07s/it]\u001b[A\n",
      "\n",
      "100%|██████████| 10/10 [00:00<00:00, 1396.52it/s]\n",
      "\n",
      " 48%|████▊     | 11/23 [00:29<00:23,  1.96s/it]\u001b[A\n",
      "\n",
      "100%|██████████| 10/10 [00:00<00:00, 1443.82it/s]\n",
      "\n",
      " 52%|█████▏    | 12/23 [00:30<00:20,  1.84s/it]\u001b[A\n",
      "\n",
      "100%|██████████| 10/10 [00:00<00:00, 1989.80it/s]\n",
      "\n",
      " 57%|█████▋    | 13/23 [00:32<00:16,  1.67s/it]\u001b[A\n",
      "\n",
      "100%|██████████| 10/10 [00:00<00:00, 1449.51it/s]\n",
      "\n",
      " 61%|██████    | 14/23 [00:33<00:13,  1.48s/it]\u001b[A\n",
      "\n",
      "100%|██████████| 10/10 [00:00<00:00, 2015.91it/s]\n",
      "\n",
      " 65%|██████▌   | 15/23 [00:34<00:10,  1.33s/it]\u001b[A\n",
      "\n",
      "100%|██████████| 10/10 [00:00<00:00, 1700.51it/s]\n",
      "\n",
      " 70%|██████▉   | 16/23 [00:34<00:08,  1.14s/it]\u001b[A\n",
      "\n",
      "100%|██████████| 10/10 [00:00<00:00, 2350.54it/s]\n",
      "\n",
      " 74%|███████▍  | 17/23 [00:35<00:05,  1.01it/s]\u001b[A\n",
      "\n",
      "100%|██████████| 10/10 [00:00<00:00, 793.44it/s]\n",
      "\n",
      " 78%|███████▊  | 18/23 [00:36<00:04,  1.12it/s]\u001b[A\n",
      "\n",
      "100%|██████████| 10/10 [00:00<00:00, 3522.55it/s]\n",
      "\n",
      " 83%|████████▎ | 19/23 [00:36<00:03,  1.30it/s]\u001b[A\n",
      "\n",
      "100%|██████████| 10/10 [00:00<00:00, 2050.90it/s]\n",
      "\n",
      " 87%|████████▋ | 20/23 [00:37<00:02,  1.44it/s]\u001b[A\n",
      "\n",
      "100%|██████████| 10/10 [00:00<00:00, 3075.90it/s]\n",
      "\n",
      " 91%|█████████▏| 21/23 [00:37<00:01,  1.65it/s]\u001b[A\n",
      "\n",
      "100%|██████████| 10/10 [00:00<00:00, 2828.07it/s]\n",
      "\n",
      " 96%|█████████▌| 22/23 [00:37<00:00,  1.84it/s]\u001b[A\n",
      "\n",
      "100%|██████████| 10/10 [00:00<00:00, 855.82it/s]\n",
      "\n",
      "100%|██████████| 23/23 [00:39<00:00,  1.73s/it]\u001b[A\n",
      " 75%|███████▌  | 6/8 [03:46<01:16, 38.24s/it]\n",
      "  0%|          | 0/23 [00:00<?, ?it/s]\u001b[A\n",
      "\n",
      "100%|██████████| 10/10 [00:00<00:00, 1035.04it/s]\n",
      "\n",
      "  4%|▍         | 1/23 [00:04<01:44,  4.73s/it]\u001b[A\n",
      "\n",
      "100%|██████████| 10/10 [00:00<00:00, 944.81it/s]\n",
      "\n",
      "  9%|▊         | 2/23 [00:09<01:37,  4.64s/it]\u001b[A\n",
      "\n",
      "100%|██████████| 10/10 [00:00<00:00, 1278.40it/s]\n",
      "\n",
      " 13%|█▎        | 3/23 [00:12<01:22,  4.15s/it]\u001b[A\n",
      "\n",
      "100%|██████████| 10/10 [00:00<00:00, 538.89it/s]\n",
      "\n",
      " 17%|█▋        | 4/23 [00:15<01:11,  3.78s/it]\u001b[A\n",
      "\n",
      "100%|██████████| 10/10 [00:00<00:00, 1223.29it/s]\n",
      "\n",
      " 22%|██▏       | 5/23 [00:17<01:01,  3.42s/it]\u001b[A\n",
      "\n",
      "100%|██████████| 10/10 [00:00<00:00, 1529.48it/s]\n",
      "\n",
      " 26%|██▌       | 6/23 [00:19<00:52,  3.07s/it]\u001b[A\n",
      "\n",
      "100%|██████████| 10/10 [00:00<00:00, 1429.65it/s]\n",
      "\n",
      " 30%|███       | 7/23 [00:21<00:43,  2.74s/it]\u001b[A\n",
      "\n",
      "100%|██████████| 10/10 [00:00<00:00, 1398.47it/s]\n",
      "\n",
      " 35%|███▍      | 8/23 [00:23<00:36,  2.43s/it]\u001b[A\n",
      "\n",
      "100%|██████████| 10/10 [00:00<00:00, 1809.68it/s]\n",
      "\n",
      " 39%|███▉      | 9/23 [00:25<00:30,  2.18s/it]\u001b[A\n",
      "\n",
      "100%|██████████| 10/10 [00:00<00:00, 684.48it/s]\n",
      "\n",
      " 43%|████▎     | 10/23 [00:26<00:26,  2.00s/it]\u001b[A\n",
      "\n",
      "100%|██████████| 10/10 [00:00<00:00, 1324.17it/s]\n",
      "\n",
      " 48%|████▊     | 11/23 [00:28<00:22,  1.85s/it]\u001b[A\n",
      "\n",
      "100%|██████████| 10/10 [00:00<00:00, 1399.27it/s]\n",
      "\n",
      " 52%|█████▏    | 12/23 [00:29<00:19,  1.76s/it]\u001b[A\n",
      "\n",
      "100%|██████████| 10/10 [00:00<00:00, 2349.75it/s]\n",
      "\n",
      " 57%|█████▋    | 13/23 [00:30<00:15,  1.58s/it]\u001b[A\n",
      "\n",
      "100%|██████████| 10/10 [00:00<00:00, 1117.68it/s]\n",
      "\n",
      " 61%|██████    | 14/23 [00:31<00:12,  1.38s/it]\u001b[A\n",
      "\n",
      "100%|██████████| 10/10 [00:00<00:00, 2123.27it/s]\n",
      "\n",
      " 65%|██████▌   | 15/23 [00:32<00:09,  1.25s/it]\u001b[A\n",
      "\n",
      "100%|██████████| 10/10 [00:00<00:00, 1648.70it/s]\n",
      "\n"
     ]
    },
    {
     "name": "stderr",
     "output_type": "stream",
     "text": [
      " 70%|██████▉   | 16/23 [00:33<00:07,  1.08s/it]\u001b[A\n",
      "\n",
      "100%|██████████| 10/10 [00:00<00:00, 1982.56it/s]\n",
      "\n",
      " 74%|███████▍  | 17/23 [00:34<00:05,  1.03it/s]\u001b[A\n",
      "\n",
      "100%|██████████| 10/10 [00:00<00:00, 1865.13it/s]\n",
      "\n",
      " 78%|███████▊  | 18/23 [00:34<00:04,  1.12it/s]\u001b[A\n",
      "\n",
      "100%|██████████| 10/10 [00:00<00:00, 2877.54it/s]\n",
      "\n",
      " 83%|████████▎ | 19/23 [00:35<00:02,  1.35it/s]\u001b[A\n",
      "\n",
      "100%|██████████| 10/10 [00:00<00:00, 2080.51it/s]\n",
      "\n",
      " 87%|████████▋ | 20/23 [00:35<00:01,  1.52it/s]\u001b[A\n",
      "\n",
      "100%|██████████| 10/10 [00:00<00:00, 1613.07it/s]\n",
      "\n",
      " 91%|█████████▏| 21/23 [00:36<00:01,  1.86it/s]\u001b[A\n",
      "\n",
      "100%|██████████| 10/10 [00:00<00:00, 2863.40it/s]\n",
      "\n",
      " 96%|█████████▌| 22/23 [00:36<00:00,  2.03it/s]\u001b[A\n",
      "\n",
      "100%|██████████| 10/10 [00:00<00:00, 1776.57it/s]\n",
      "\n",
      "100%|██████████| 23/23 [00:38<00:00,  1.66s/it]\u001b[A\n",
      " 88%|████████▊ | 7/8 [04:25<00:38, 38.23s/it]\n",
      "  0%|          | 0/23 [00:00<?, ?it/s]\u001b[A\n",
      "\n",
      "100%|██████████| 10/10 [00:00<00:00, 1002.99it/s]\n",
      "\n",
      "  4%|▍         | 1/23 [00:04<01:36,  4.37s/it]\u001b[A\n",
      "\n",
      "100%|██████████| 10/10 [00:00<00:00, 911.25it/s]\n",
      "\n",
      "  9%|▊         | 2/23 [00:08<01:31,  4.36s/it]\u001b[A\n",
      "\n",
      "100%|██████████| 10/10 [00:00<00:00, 1191.29it/s]\n",
      "\n",
      " 13%|█▎        | 3/23 [00:11<01:19,  3.96s/it]\u001b[A\n",
      "\n",
      "100%|██████████| 10/10 [00:00<00:00, 1125.11it/s]\n",
      "\n",
      " 17%|█▋        | 4/23 [00:14<01:08,  3.59s/it]\u001b[A\n",
      "\n",
      "100%|██████████| 10/10 [00:00<00:00, 1128.44it/s]\n",
      "\n",
      " 22%|██▏       | 5/23 [00:16<00:58,  3.27s/it]\u001b[A\n",
      "\n",
      "100%|██████████| 10/10 [00:00<00:00, 1408.19it/s]\n",
      "\n",
      " 26%|██▌       | 6/23 [00:19<00:50,  2.95s/it]\u001b[A\n",
      "\n",
      "100%|██████████| 10/10 [00:00<00:00, 1330.55it/s]\n",
      "\n",
      " 30%|███       | 7/23 [00:21<00:42,  2.67s/it]\u001b[A\n",
      "\n",
      "100%|██████████| 10/10 [00:00<00:00, 1423.97it/s]\n",
      "\n",
      " 35%|███▍      | 8/23 [00:22<00:35,  2.40s/it]\u001b[A\n",
      "\n",
      "100%|██████████| 10/10 [00:00<00:00, 1405.13it/s]\n",
      "\n",
      " 39%|███▉      | 9/23 [00:24<00:29,  2.12s/it]\u001b[A\n",
      "\n",
      "100%|██████████| 10/10 [00:00<00:00, 1407.48it/s]\n",
      "\n",
      " 43%|████▎     | 10/23 [00:25<00:24,  1.91s/it]\u001b[A\n",
      "\n",
      "100%|██████████| 10/10 [00:00<00:00, 1362.10it/s]\n",
      "\n",
      " 48%|████▊     | 11/23 [00:27<00:21,  1.76s/it]\u001b[A\n",
      "\n",
      "100%|██████████| 10/10 [00:00<00:00, 1276.77it/s]\n",
      "\n",
      " 52%|█████▏    | 12/23 [00:28<00:18,  1.67s/it]\u001b[A\n",
      "\n",
      "100%|██████████| 10/10 [00:00<00:00, 1985.56it/s]\n",
      "\n",
      " 57%|█████▋    | 13/23 [00:29<00:15,  1.51s/it]\u001b[A\n",
      "\n",
      "100%|██████████| 10/10 [00:00<00:00, 1452.12it/s]\n",
      "\n",
      " 61%|██████    | 14/23 [00:30<00:12,  1.34s/it]\u001b[A\n",
      "\n",
      "100%|██████████| 10/10 [00:00<00:00, 2067.08it/s]\n",
      "\n",
      " 65%|██████▌   | 15/23 [00:31<00:09,  1.18s/it]\u001b[A\n",
      "\n",
      "100%|██████████| 10/10 [00:00<00:00, 1694.39it/s]\n",
      "\n",
      " 70%|██████▉   | 16/23 [00:32<00:07,  1.06s/it]\u001b[A\n",
      "\n",
      "100%|██████████| 10/10 [00:00<00:00, 2118.98it/s]\n",
      "\n",
      " 74%|███████▍  | 17/23 [00:33<00:05,  1.04it/s]\u001b[A\n",
      "\n",
      "100%|██████████| 10/10 [00:00<00:00, 1701.47it/s]\n",
      "\n",
      " 78%|███████▊  | 18/23 [00:33<00:04,  1.17it/s]\u001b[A\n",
      "\n",
      "100%|██████████| 10/10 [00:00<00:00, 2734.05it/s]\n",
      "\n",
      " 83%|████████▎ | 19/23 [00:34<00:02,  1.41it/s]\u001b[A\n",
      "\n",
      "100%|██████████| 10/10 [00:00<00:00, 2191.38it/s]\n",
      "\n",
      " 87%|████████▋ | 20/23 [00:34<00:01,  1.62it/s]\u001b[A\n",
      "\n",
      "100%|██████████| 10/10 [00:00<00:00, 3280.13it/s]\n",
      "\n",
      " 91%|█████████▏| 21/23 [00:34<00:01,  1.96it/s]\u001b[A\n",
      "\n",
      "100%|██████████| 10/10 [00:00<00:00, 2592.28it/s]\n",
      "\n",
      " 96%|█████████▌| 22/23 [00:35<00:00,  2.28it/s]\u001b[A\n",
      "\n",
      "100%|██████████| 10/10 [00:00<00:00, 1688.87it/s]\n",
      "\n",
      "100%|██████████| 23/23 [00:36<00:00,  1.60s/it]\u001b[A\n",
      "100%|██████████| 8/8 [05:01<00:00, 37.71s/it]\n"
     ]
    },
    {
     "name": "stdout",
     "output_type": "stream",
     "text": [
      "(168, 15)\n"
     ]
    }
   ],
   "source": [
    "active_th = 0.5\n",
    "# distances\n",
    "distance_cutoff = 1e5\n",
    "distance_idx = np.arange(1, int(distance_cutoff/resolution)+1)\n",
    "distances = distance_idx * resolution\n",
    "\n",
    "resolution = 10000\n",
    "# celltype = \"L2_3\"\n",
    "# chromosome = \"chr1\"\n",
    "\n",
    "# get a list of candidate pairs\n",
    "candidates_pair_all = []\n",
    "    \n",
    "for celltype in tqdm.tqdm(celltypes):\n",
    "    for chromosome in tqdm.tqdm(chromosomes):\n",
    "        # read in the matrix \n",
    "        resource_string = (\n",
    "             '/sphere/fangming/enhancers/data_m3c/{}_all_brain.txt_1kb_contacts.mcool'\n",
    "             '::/resolutions/{}'.format(celltype, resolution)\n",
    "             )\n",
    "        c = cooler.Cooler(resource_string)\n",
    "        mat_all = c.matrix(balance=True).fetch(chromosome)\n",
    "\n",
    "        # all enhancers and tss on that chromosomes\n",
    "        enhs = enh_list[enh_list['chr']==chromosome]\n",
    "        tsss = tss_list[tss_list['chr']==chromosome]\n",
    "        # only include the gene if it is actively expressed (>50% across cell types)\n",
    "        active_genes = gene_rna_clsts_broad_rank[gene_rna_clsts_broad_rank[celltype]>active_th].index.values\n",
    "        tsss = tsss[tsss['gid'].isin(active_genes)]\n",
    "\n",
    "        # get paired bins\n",
    "        paired_bin_tables = collections.OrderedDict({\n",
    "        #     'linked_mc': enh_gene_id_to_binidx(linked_pairs_mc, tsss, enhs, resolution),\n",
    "        #     'linked_atac': enh_gene_id_to_binidx(linked_pairs_atac, tsss, enhs, resolution),\n",
    "            'linked_both': enh_gene_id_to_binidx(linked_pairs_both, tsss, enhs, resolution),\n",
    "        #     'correlated_mc': enh_gene_id_to_binidx(correlated_pairs_mc, tsss, enhs, resolution),\n",
    "        #     'correlated_atac': enh_gene_id_to_binidx(correlated_pairs_atac, tsss, enhs, resolution),\n",
    "        #     'correlated_both': enh_gene_id_to_binidx(correlated_pairs_both, tsss, enhs, resolution),\n",
    "        })\n",
    "        track_names = list(paired_bin_tables.keys())\n",
    "\n",
    "        # contact stats: distance bin by corr values in that bin\n",
    "        (_contacts, _contacts_sig_pairs\n",
    "        ) = get_contacts(mat_all, paired_bin_tables, resolution, distance_idx)\n",
    "\n",
    "        # distance_idx starts from 1, not 0\n",
    "        for i, (dist_idx, corr_bin_bck, corr_bin) in enumerate(zip(distance_idx, _contacts, _contacts_sig_pairs['linked_both'])):\n",
    "\n",
    "            if len(corr_bin) > 0:\n",
    "                contacts_p95 = np.nanpercentile(corr_bin_bck, 95)\n",
    "                pairs = paired_bin_tables['linked_both'].loc[dist_idx].copy().reset_index() #[cond] \n",
    "                fc = corr_bin/contacts_p95\n",
    "                pairs['fc'] = fc\n",
    "\n",
    "                # contact frequency greater than 95 percentile in that distance bin\n",
    "                candidates_pair = pairs[pairs['fc']>1].copy()\n",
    "                candidates_pair['celltype'] = celltype\n",
    "                candidates_pair_all.append(candidates_pair)\n",
    "            \n",
    "candidates_pair_all = pd.concat(candidates_pair_all, ignore_index=True)\n",
    "print(candidates_pair_all.shape)"
   ]
  },
  {
   "cell_type": "markdown",
   "metadata": {},
   "source": [
    "# Plot some examples"
   ]
  },
  {
   "cell_type": "code",
   "execution_count": 13,
   "metadata": {},
   "outputs": [],
   "source": [
    "from matplotlib.patches import Rectangle\n",
    "def plot_mat(mat_all, enh_bin, gene_bin, enh_name, gene_name):\n",
    "    \"\"\"\n",
    "    \"\"\"\n",
    "    min_bin = min(enh_bin, gene_bin)\n",
    "    max_bin = max(enh_bin, gene_bin)\n",
    "    window = max_bin - min_bin\n",
    "    pad = max(3, int(0.2*window))\n",
    "    min_bin = min_bin - pad\n",
    "    max_bin = max_bin + pad \n",
    "\n",
    "    title = \"{} {} (bin size={:,})\".format(celltype, chromosome, resolution)\n",
    "\n",
    "    mat = mat_all[min_bin:max_bin, min_bin:max_bin] \n",
    "    max_diag = np.max(np.diag(mat))\n",
    "    max_offdiag = np.max(np.triu(mat, k=1)) \n",
    "\n",
    "    # plot \n",
    "    fig, ax = plt.subplots(figsize=(10,10))\n",
    "    sns.heatmap(\n",
    "                mat,\n",
    "                cmap='rocket_r',\n",
    "                cbar_kws={'fraction': 0.05, 'shrink': 0.4, 'aspect': 5, \n",
    "                          'pad': 0.2,\n",
    "                          'label': \"Contact frequency\",\n",
    "                          'ticks': np.arange(0, max_offdiag, 0.05),\n",
    "                         },\n",
    "                vmax=max_offdiag,\n",
    "                rasterized=True,\n",
    "                ax=ax,\n",
    "               )\n",
    "    ax.set_xlim([0, len(mat)])\n",
    "    ax.set_ylim([len(mat), 0])\n",
    "    ax.set_aspect('equal')\n",
    "    ax.set_title(title)\n",
    "    \n",
    "    # ticks\n",
    "    ticks_simple = np.array([0, max_bin-min_bin])\n",
    "    ticks = np.arange(0, max_bin-min_bin, 10)\n",
    "    if max_bin-min_bin not in ticks:\n",
    "        ticks = np.hstack([ticks, [max_bin-min_bin]])\n",
    "    ax.set_xticks(ticks_simple)\n",
    "    ax.set_xticklabels([\"{:,}\".format((min_bin+x)*resolution) for x in ticks_simple],\n",
    "                       rotation=0,\n",
    "                      )\n",
    "    ax.set_yticks(ticks)\n",
    "    ax.set_yticklabels([\"{:,}\".format((min_bin+x)*resolution) for x in ticks], \n",
    "                       rotation=0,\n",
    "                      )\n",
    "    ax.yaxis.tick_right()\n",
    "    \n",
    "    # box, lines, text\n",
    "    if enh_bin < gene_bin:\n",
    "        idx_pos = (enh_bin - min_bin) # x enh\n",
    "        idy_pos = (gene_bin - min_bin) # y gene\n",
    "        # texts by the lines\n",
    "        ax.text(idx_pos, max_bin-min_bin+0.1, enh_name, va='top', fontsize=8)\n",
    "        ax.text(0, idy_pos, gene_name, ha='right', va='center', fontsize=15)\n",
    "    else:\n",
    "        idx_pos = (gene_bin - min_bin) # x gene \n",
    "        idy_pos = (enh_bin - min_bin) # y enh\n",
    "        # texts by the lines\n",
    "        ax.text(idx_pos, max_bin-min_bin+0.1, gene_name, va='top', fontsize=15)\n",
    "        ax.text(0, idy_pos, enh_name, ha='right', va='center', fontsize=8)\n",
    "        \n",
    "    # rectangle\n",
    "    rec = Rectangle((idx_pos, idy_pos), 1, 1, fill=False, edgecolor='black')\n",
    "    ax.add_patch(rec)\n",
    "    \n",
    "    # asterisk\n",
    "    ax.text(idy_pos+0.5, idx_pos+0.5, '*', ha='center',va='center', fontsize=15, color='white')\n",
    "    \n",
    "    # lines\n",
    "    ax.vlines(idx_pos, ymin=idx_pos+1, ymax=max_bin-min_bin, color='gray', linestyle='--', zorder=1)\n",
    "    ax.vlines(idx_pos+1, ymin=idx_pos+1, ymax=max_bin-min_bin, color='gray', linestyle='--', zorder=1)\n",
    "    \n",
    "    ax.hlines(idy_pos, xmin=0, xmax=idy_pos, color='gray', linestyle='--', zorder=1)\n",
    "    ax.hlines(idy_pos+1, xmin=0, xmax=idy_pos, color='gray', linestyle='--', zorder=1)\n",
    "    \n",
    "    plt.show()"
   ]
  },
  {
   "cell_type": "code",
   "execution_count": 14,
   "metadata": {},
   "outputs": [],
   "source": [
    "def plot_mat_multi_enh(mat_all, enh_bins, gene_bin, enh_names, gene_name):\n",
    "    \"\"\"\n",
    "    \"\"\"\n",
    "    enh_bins_min = np.min(enh_bins)\n",
    "    \n",
    "    min_bin = min(enh_bins_min, gene_bin)\n",
    "    max_bin = max(enh_bins_min, gene_bin)\n",
    "    pad = max(3, int(0.2*(max_bin - min_bin)))\n",
    "    min_bin = min_bin - pad\n",
    "    max_bin = max_bin + pad \n",
    "\n",
    "    title = \"{} {} (bin size={:,})\".format(celltype, chromosome, resolution)\n",
    "\n",
    "    mat = mat_all[min_bin:max_bin, min_bin:max_bin] \n",
    "    max_diag = np.max(np.diag(mat))\n",
    "    max_offdiag = np.max(np.triu(mat, k=1)) \n",
    "\n",
    "    # plot \n",
    "    fig, ax = plt.subplots(figsize=(10,10))\n",
    "    sns.heatmap(\n",
    "                mat,\n",
    "                cmap='rocket_r',\n",
    "                cbar_kws={'fraction': 0.05, 'shrink': 0.4, 'aspect': 5, \n",
    "                          'pad': 0.2,\n",
    "                          'label': \"Contact frequency\",\n",
    "                          'ticks': np.arange(0, max_offdiag, 0.05),\n",
    "                         },\n",
    "                vmax=max_offdiag,\n",
    "                rasterized=True,\n",
    "                ax=ax,\n",
    "               )\n",
    "    ax.set_xlim([0, len(mat)])\n",
    "    ax.set_ylim([len(mat), 0])\n",
    "    ax.set_aspect('equal')\n",
    "    ax.set_title(title)\n",
    "    \n",
    "    # ticks\n",
    "    ticks_simple = np.array([0, max_bin-min_bin])\n",
    "    ticks = np.arange(0, max_bin-min_bin, 10)\n",
    "    if max_bin-min_bin not in ticks:\n",
    "        ticks = np.hstack([ticks, [max_bin-min_bin]])\n",
    "    ax.set_xticks(ticks_simple)\n",
    "    ax.set_xticklabels([\"{:,}\".format((min_bin+x)*resolution) for x in ticks_simple],\n",
    "                       rotation=0,\n",
    "                      )\n",
    "    ax.set_yticks(ticks)\n",
    "    ax.set_yticklabels([\"{:,}\".format((min_bin+x)*resolution) for x in ticks], \n",
    "                       rotation=0,\n",
    "                      )\n",
    "    ax.yaxis.tick_right()\n",
    "    \n",
    "    # box, lines, text\n",
    "    flag_genex = flag_geney = False\n",
    "    for j, (enh_bin, enh_name) in enumerate(zip(enh_bins, enh_names)):\n",
    "        # box, lines, text\n",
    "        if enh_bin < gene_bin:\n",
    "            idx_pos = (enh_bin - min_bin) # x enh\n",
    "            idy_pos = (gene_bin - min_bin) # y gene\n",
    "            \n",
    "            # texts by the lines\n",
    "            ax.text(idx_pos, max_bin-min_bin+0.1, enh_name, va='top', fontsize=8)\n",
    "            if not flag_geney:\n",
    "                ax.text(0, idy_pos, gene_name, ha='right', va='center', fontsize=15)\n",
    "                \n",
    "            flag_geney = True\n",
    "        else:\n",
    "            idx_pos = (gene_bin - min_bin) # x gene \n",
    "            idy_pos = (enh_bin - min_bin) # y enh\n",
    "            \n",
    "            # texts by the lines\n",
    "            if not flag_genex:\n",
    "                ax.text(idx_pos, max_bin-min_bin+0.1, gene_name, va='top', fontsize=15)\n",
    "            ax.text(0, idy_pos, enh_name, ha='right', va='center', fontsize=8)\n",
    "            \n",
    "            flag_genex = True\n",
    "\n",
    "        # rectangle\n",
    "        rec = Rectangle((idx_pos, idy_pos), 1, 1, fill=False, edgecolor='black')\n",
    "        ax.add_patch(rec)\n",
    "\n",
    "        # asterisk\n",
    "        ax.text(idy_pos+0.5, idx_pos+0.5, '*', ha='center',va='center', fontsize=15, color='white')\n",
    "\n",
    "        # lines\n",
    "        ax.vlines(idx_pos, ymin=idx_pos+1, ymax=max_bin-min_bin, color='gray', linestyle='--', zorder=1)\n",
    "        ax.vlines(idx_pos+1, ymin=idx_pos+1, ymax=max_bin-min_bin, color='gray', linestyle='--', zorder=1)\n",
    "\n",
    "        ax.hlines(idy_pos, xmin=0, xmax=idy_pos, color='gray', linestyle='--', zorder=1)\n",
    "        ax.hlines(idy_pos+1, xmin=0, xmax=idy_pos, color='gray', linestyle='--', zorder=1)\n",
    "    plt.show()"
   ]
  },
  {
   "cell_type": "code",
   "execution_count": 15,
   "metadata": {},
   "outputs": [],
   "source": [
    "def plot_mat_multi_enh_ax(fig, ax, mat_all, enh_bins, gene_bin, enh_names, gene_name, \n",
    "                          celltype,\n",
    "                          pad_ratio=0.2, plot_ticks=True, **kw_cbars):\n",
    "    \"\"\"\n",
    "    \"\"\"\n",
    "    enh_bins_min = np.min(enh_bins)\n",
    "    \n",
    "    min_bin = min(enh_bins_min, gene_bin)\n",
    "    max_bin = max(enh_bins_min, gene_bin)\n",
    "    pad = max(3, int(pad_ratio*(max_bin - min_bin)))\n",
    "    min_bin = min_bin - pad\n",
    "    max_bin = max_bin + pad \n",
    "\n",
    "    title = \"{}\".format(celltype)\n",
    "\n",
    "    mat = mat_all[min_bin:max_bin, min_bin:max_bin] \n",
    "    max_diag = np.max(np.diag(mat))\n",
    "    max_offdiag = np.max(np.triu(mat, k=1)) \n",
    "\n",
    "    # plot \n",
    "    g = sns.heatmap(\n",
    "                    mat/max_offdiag,\n",
    "                    cmap='rocket_r',\n",
    "                    vmax=1,\n",
    "                    vmin=0,\n",
    "                    # vmax=max_offdiag,\n",
    "                    ax=ax,\n",
    "                    rasterized=True,\n",
    "                    **kw_cbars,\n",
    "                    )\n",
    "    ax.set_xlim([0, len(mat)])\n",
    "    ax.set_ylim([len(mat), 0])\n",
    "    ax.set_aspect('equal')\n",
    "    ax.set_title(title)\n",
    "    \n",
    "    # ticks\n",
    "    if plot_ticks:\n",
    "        ticks_simple = np.array([0, max_bin-min_bin])\n",
    "        ticks = np.arange(0, max_bin-min_bin, 10)\n",
    "        if max_bin-min_bin not in ticks:\n",
    "            ticks = np.hstack([ticks, [max_bin-min_bin]])\n",
    "        ax.set_xticks(ticks_simple)\n",
    "        ax.set_xticklabels([\"{:,}\".format((min_bin+x)*resolution) for x in ticks_simple],\n",
    "                           rotation=0,\n",
    "                          )\n",
    "        ax.set_yticks([])\n",
    "    else:\n",
    "        ax.set_xticks([])\n",
    "        ax.set_yticks([])\n",
    "    \n",
    "    # box, lines, text\n",
    "    flag_genex = flag_geney = False\n",
    "    for j, (enh_bin, enh_name) in enumerate(zip(enh_bins, enh_names)):\n",
    "        # box, lines, text\n",
    "        if enh_bin < gene_bin:\n",
    "            idx_pos = (enh_bin - min_bin) # x enh\n",
    "            idy_pos = (gene_bin - min_bin) # y gene\n",
    "            \n",
    "            if plot_ticks:\n",
    "                # texts by the lines\n",
    "                ax.text(idx_pos, max_bin-min_bin+0.1, enh_name, va='top', fontsize=8, rotation=90)\n",
    "                if not flag_geney:\n",
    "                    ax.text(0, idy_pos, gene_name, ha='right', va='center', fontsize=15)\n",
    "\n",
    "                flag_geney = True\n",
    "        else:\n",
    "            idx_pos = (gene_bin - min_bin) # x gene \n",
    "            idy_pos = (enh_bin - min_bin) # y enh\n",
    "            \n",
    "            if plot_ticks:\n",
    "                # texts by the lines\n",
    "                if not flag_genex:\n",
    "                    ax.text(idx_pos, max_bin-min_bin+0.1, gene_name, va='top', fontsize=15)\n",
    "                ax.text(0, idy_pos, enh_name, ha='right', va='center', fontsize=8)\n",
    "\n",
    "                flag_genex = True\n",
    "\n",
    "        # rectangle\n",
    "        rec = Rectangle((idx_pos, idy_pos), 1, 1, fill=False, edgecolor='black')\n",
    "        ax.add_patch(rec)\n",
    "\n",
    "#         # asterisk\n",
    "#         ax.text(idy_pos+0.5, idx_pos+0.5, '*', ha='center',va='center', fontsize=15, color='white')\n",
    "\n",
    "        # lines\n",
    "        ax.vlines(idx_pos, ymin=idx_pos+1, ymax=max_bin-min_bin, color='gray', linestyle='--', zorder=1)\n",
    "        ax.vlines(idx_pos+1, ymin=idx_pos+1, ymax=max_bin-min_bin, color='gray', linestyle='--', zorder=1)\n",
    "\n",
    "        ax.hlines(idy_pos, xmin=0, xmax=idy_pos, color='gray', linestyle='--', zorder=1)\n",
    "        ax.hlines(idy_pos+1, xmin=0, xmax=idy_pos, color='gray', linestyle='--', zorder=1)\n",
    "    return ax, g"
   ]
  },
  {
   "cell_type": "code",
   "execution_count": 16,
   "metadata": {
    "scrolled": true
   },
   "outputs": [
    {
     "name": "stdout",
     "output_type": "stream",
     "text": [
      "(168, 15)\n"
     ]
    },
    {
     "data": {
      "text/html": [
       "<div>\n",
       "<style scoped>\n",
       "    .dataframe tbody tr th:only-of-type {\n",
       "        vertical-align: middle;\n",
       "    }\n",
       "\n",
       "    .dataframe tbody tr th {\n",
       "        vertical-align: top;\n",
       "    }\n",
       "\n",
       "    .dataframe thead th {\n",
       "        text-align: right;\n",
       "    }\n",
       "</style>\n",
       "<table border=\"1\" class=\"dataframe\">\n",
       "  <thead>\n",
       "    <tr style=\"text-align: right;\">\n",
       "      <th></th>\n",
       "      <th>dist_bin</th>\n",
       "      <th>gene</th>\n",
       "      <th>enh</th>\n",
       "      <th>dist</th>\n",
       "      <th>gene_chr</th>\n",
       "      <th>gene_start</th>\n",
       "      <th>gene_end</th>\n",
       "      <th>enh_chr</th>\n",
       "      <th>enh_start</th>\n",
       "      <th>enh_end</th>\n",
       "      <th>enh_center</th>\n",
       "      <th>enh_bin</th>\n",
       "      <th>gene_bin</th>\n",
       "      <th>fc</th>\n",
       "      <th>celltype</th>\n",
       "    </tr>\n",
       "  </thead>\n",
       "  <tbody>\n",
       "    <tr>\n",
       "      <th>139</th>\n",
       "      <td>8</td>\n",
       "      <td>ENSMUSG00000029094</td>\n",
       "      <td>169789</td>\n",
       "      <td>50545</td>\n",
       "      <td>chr4</td>\n",
       "      <td>7939923</td>\n",
       "      <td>7939924</td>\n",
       "      <td>chr4</td>\n",
       "      <td>7857022</td>\n",
       "      <td>7857276</td>\n",
       "      <td>7857149.0</td>\n",
       "      <td>785</td>\n",
       "      <td>793</td>\n",
       "      <td>2.653373</td>\n",
       "      <td>Vip</td>\n",
       "    </tr>\n",
       "    <tr>\n",
       "      <th>140</th>\n",
       "      <td>8</td>\n",
       "      <td>ENSMUSG00000029094</td>\n",
       "      <td>169790</td>\n",
       "      <td>50778</td>\n",
       "      <td>chr4</td>\n",
       "      <td>7939923</td>\n",
       "      <td>7939924</td>\n",
       "      <td>chr4</td>\n",
       "      <td>7856759</td>\n",
       "      <td>7856970</td>\n",
       "      <td>7856864.5</td>\n",
       "      <td>785</td>\n",
       "      <td>793</td>\n",
       "      <td>2.653373</td>\n",
       "      <td>Vip</td>\n",
       "    </tr>\n",
       "    <tr>\n",
       "      <th>138</th>\n",
       "      <td>5</td>\n",
       "      <td>ENSMUSG00000029094</td>\n",
       "      <td>169781</td>\n",
       "      <td>38149</td>\n",
       "      <td>chr4</td>\n",
       "      <td>7939923</td>\n",
       "      <td>7939924</td>\n",
       "      <td>chr4</td>\n",
       "      <td>7885567</td>\n",
       "      <td>7886432</td>\n",
       "      <td>7885999.5</td>\n",
       "      <td>788</td>\n",
       "      <td>793</td>\n",
       "      <td>2.354086</td>\n",
       "      <td>Vip</td>\n",
       "    </tr>\n",
       "    <tr>\n",
       "      <th>108</th>\n",
       "      <td>3</td>\n",
       "      <td>ENSMUSG00000023927</td>\n",
       "      <td>100766</td>\n",
       "      <td>27398</td>\n",
       "      <td>chr3</td>\n",
       "      <td>18445658</td>\n",
       "      <td>18445659</td>\n",
       "      <td>chr3</td>\n",
       "      <td>18417354</td>\n",
       "      <td>18417872</td>\n",
       "      <td>18417613.0</td>\n",
       "      <td>1841</td>\n",
       "      <td>1844</td>\n",
       "      <td>2.274242</td>\n",
       "      <td>Sst</td>\n",
       "    </tr>\n",
       "    <tr>\n",
       "      <th>109</th>\n",
       "      <td>3</td>\n",
       "      <td>ENSMUSG00000023927</td>\n",
       "      <td>100767</td>\n",
       "      <td>26774</td>\n",
       "      <td>chr3</td>\n",
       "      <td>18445658</td>\n",
       "      <td>18445659</td>\n",
       "      <td>chr3</td>\n",
       "      <td>18417987</td>\n",
       "      <td>18418565</td>\n",
       "      <td>18418276.0</td>\n",
       "      <td>1841</td>\n",
       "      <td>1844</td>\n",
       "      <td>2.274242</td>\n",
       "      <td>Sst</td>\n",
       "    </tr>\n",
       "  </tbody>\n",
       "</table>\n",
       "</div>"
      ],
      "text/plain": [
       "     dist_bin                gene     enh   dist gene_chr  gene_start  \\\n",
       "139         8  ENSMUSG00000029094  169789  50545     chr4     7939923   \n",
       "140         8  ENSMUSG00000029094  169790  50778     chr4     7939923   \n",
       "138         5  ENSMUSG00000029094  169781  38149     chr4     7939923   \n",
       "108         3  ENSMUSG00000023927  100766  27398     chr3    18445658   \n",
       "109         3  ENSMUSG00000023927  100767  26774     chr3    18445658   \n",
       "\n",
       "     gene_end enh_chr  enh_start   enh_end  enh_center  enh_bin  gene_bin  \\\n",
       "139   7939924    chr4    7857022   7857276   7857149.0      785       793   \n",
       "140   7939924    chr4    7856759   7856970   7856864.5      785       793   \n",
       "138   7939924    chr4    7885567   7886432   7885999.5      788       793   \n",
       "108  18445659    chr3   18417354  18417872  18417613.0     1841      1844   \n",
       "109  18445659    chr3   18417987  18418565  18418276.0     1841      1844   \n",
       "\n",
       "           fc celltype  \n",
       "139  2.653373      Vip  \n",
       "140  2.653373      Vip  \n",
       "138  2.354086      Vip  \n",
       "108  2.274242      Sst  \n",
       "109  2.274242      Sst  "
      ]
     },
     "execution_count": 16,
     "metadata": {},
     "output_type": "execute_result"
    }
   ],
   "source": [
    "print(candidates_pair_all.shape)\n",
    "candidates_pair_all.sort_values('fc', ascending=False).head()"
   ]
  },
  {
   "cell_type": "code",
   "execution_count": 17,
   "metadata": {
    "scrolled": false
   },
   "outputs": [],
   "source": [
    "# for i, (idx, row) in enumerate(candidates_pair_all\n",
    "#                                .sort_values('fc', ascending=False)\n",
    "#                                .iterrows()):\n",
    "#     if i < 10:\n",
    "#         enh_bin = row['enh_bin']\n",
    "#         gene_bin = row['gene_bin']\n",
    "#         gene_name = df_genes.loc[row['gene'], 'gene_name']\n",
    "#         enh_name = \"{}:{:,},{:,}\".format(row['enh_chr'], row['enh_start'], row['enh_end'])\n",
    "#         celltype = row['celltype']\n",
    "#         chromosome = row['gene_chr']\n",
    "#         resolution = 10000\n",
    "        \n",
    "#         resource_string = (\n",
    "#              '/sphere/fangming/enhancers/data_m3c/{}_all_brain.txt_1kb_contacts.mcool'\n",
    "#              '::/resolutions/{}'.format(celltype, resolution)\n",
    "#              )\n",
    "#         c = cooler.Cooler(resource_string)\n",
    "#         mat_all = c.matrix(balance=True).fetch(chromosome)\n",
    "        \n",
    "#         plot_mat(mat_all, enh_bin, gene_bin, enh_name, gene_name)\n",
    "    "
   ]
  },
  {
   "cell_type": "markdown",
   "metadata": {},
   "source": [
    "# some stats - which gene links the most ..."
   ]
  },
  {
   "cell_type": "code",
   "execution_count": 18,
   "metadata": {},
   "outputs": [
    {
     "name": "stdout",
     "output_type": "stream",
     "text": [
      "(168, 15)\n"
     ]
    },
    {
     "data": {
      "text/html": [
       "<div>\n",
       "<style scoped>\n",
       "    .dataframe tbody tr th:only-of-type {\n",
       "        vertical-align: middle;\n",
       "    }\n",
       "\n",
       "    .dataframe tbody tr th {\n",
       "        vertical-align: top;\n",
       "    }\n",
       "\n",
       "    .dataframe thead th {\n",
       "        text-align: right;\n",
       "    }\n",
       "</style>\n",
       "<table border=\"1\" class=\"dataframe\">\n",
       "  <thead>\n",
       "    <tr style=\"text-align: right;\">\n",
       "      <th></th>\n",
       "      <th>dist_bin</th>\n",
       "      <th>gene</th>\n",
       "      <th>enh</th>\n",
       "      <th>dist</th>\n",
       "      <th>gene_chr</th>\n",
       "      <th>gene_start</th>\n",
       "      <th>gene_end</th>\n",
       "      <th>enh_chr</th>\n",
       "      <th>enh_start</th>\n",
       "      <th>enh_end</th>\n",
       "      <th>enh_center</th>\n",
       "      <th>enh_bin</th>\n",
       "      <th>gene_bin</th>\n",
       "      <th>fc</th>\n",
       "      <th>celltype</th>\n",
       "    </tr>\n",
       "  </thead>\n",
       "  <tbody>\n",
       "    <tr>\n",
       "      <th>139</th>\n",
       "      <td>8</td>\n",
       "      <td>ENSMUSG00000029094</td>\n",
       "      <td>169789</td>\n",
       "      <td>50545</td>\n",
       "      <td>chr4</td>\n",
       "      <td>7939923</td>\n",
       "      <td>7939924</td>\n",
       "      <td>chr4</td>\n",
       "      <td>7857022</td>\n",
       "      <td>7857276</td>\n",
       "      <td>7857149.0</td>\n",
       "      <td>785</td>\n",
       "      <td>793</td>\n",
       "      <td>2.653373</td>\n",
       "      <td>Vip</td>\n",
       "    </tr>\n",
       "    <tr>\n",
       "      <th>140</th>\n",
       "      <td>8</td>\n",
       "      <td>ENSMUSG00000029094</td>\n",
       "      <td>169790</td>\n",
       "      <td>50778</td>\n",
       "      <td>chr4</td>\n",
       "      <td>7939923</td>\n",
       "      <td>7939924</td>\n",
       "      <td>chr4</td>\n",
       "      <td>7856759</td>\n",
       "      <td>7856970</td>\n",
       "      <td>7856864.5</td>\n",
       "      <td>785</td>\n",
       "      <td>793</td>\n",
       "      <td>2.653373</td>\n",
       "      <td>Vip</td>\n",
       "    </tr>\n",
       "    <tr>\n",
       "      <th>138</th>\n",
       "      <td>5</td>\n",
       "      <td>ENSMUSG00000029094</td>\n",
       "      <td>169781</td>\n",
       "      <td>38149</td>\n",
       "      <td>chr4</td>\n",
       "      <td>7939923</td>\n",
       "      <td>7939924</td>\n",
       "      <td>chr4</td>\n",
       "      <td>7885567</td>\n",
       "      <td>7886432</td>\n",
       "      <td>7885999.5</td>\n",
       "      <td>788</td>\n",
       "      <td>793</td>\n",
       "      <td>2.354086</td>\n",
       "      <td>Vip</td>\n",
       "    </tr>\n",
       "    <tr>\n",
       "      <th>108</th>\n",
       "      <td>3</td>\n",
       "      <td>ENSMUSG00000023927</td>\n",
       "      <td>100766</td>\n",
       "      <td>27398</td>\n",
       "      <td>chr3</td>\n",
       "      <td>18445658</td>\n",
       "      <td>18445659</td>\n",
       "      <td>chr3</td>\n",
       "      <td>18417354</td>\n",
       "      <td>18417872</td>\n",
       "      <td>18417613.0</td>\n",
       "      <td>1841</td>\n",
       "      <td>1844</td>\n",
       "      <td>2.274242</td>\n",
       "      <td>Sst</td>\n",
       "    </tr>\n",
       "    <tr>\n",
       "      <th>109</th>\n",
       "      <td>3</td>\n",
       "      <td>ENSMUSG00000023927</td>\n",
       "      <td>100767</td>\n",
       "      <td>26774</td>\n",
       "      <td>chr3</td>\n",
       "      <td>18445658</td>\n",
       "      <td>18445659</td>\n",
       "      <td>chr3</td>\n",
       "      <td>18417987</td>\n",
       "      <td>18418565</td>\n",
       "      <td>18418276.0</td>\n",
       "      <td>1841</td>\n",
       "      <td>1844</td>\n",
       "      <td>2.274242</td>\n",
       "      <td>Sst</td>\n",
       "    </tr>\n",
       "  </tbody>\n",
       "</table>\n",
       "</div>"
      ],
      "text/plain": [
       "     dist_bin                gene     enh   dist gene_chr  gene_start  \\\n",
       "139         8  ENSMUSG00000029094  169789  50545     chr4     7939923   \n",
       "140         8  ENSMUSG00000029094  169790  50778     chr4     7939923   \n",
       "138         5  ENSMUSG00000029094  169781  38149     chr4     7939923   \n",
       "108         3  ENSMUSG00000023927  100766  27398     chr3    18445658   \n",
       "109         3  ENSMUSG00000023927  100767  26774     chr3    18445658   \n",
       "\n",
       "     gene_end enh_chr  enh_start   enh_end  enh_center  enh_bin  gene_bin  \\\n",
       "139   7939924    chr4    7857022   7857276   7857149.0      785       793   \n",
       "140   7939924    chr4    7856759   7856970   7856864.5      785       793   \n",
       "138   7939924    chr4    7885567   7886432   7885999.5      788       793   \n",
       "108  18445659    chr3   18417354  18417872  18417613.0     1841      1844   \n",
       "109  18445659    chr3   18417987  18418565  18418276.0     1841      1844   \n",
       "\n",
       "           fc celltype  \n",
       "139  2.653373      Vip  \n",
       "140  2.653373      Vip  \n",
       "138  2.354086      Vip  \n",
       "108  2.274242      Sst  \n",
       "109  2.274242      Sst  "
      ]
     },
     "execution_count": 18,
     "metadata": {},
     "output_type": "execute_result"
    }
   ],
   "source": [
    "print(candidates_pair_all.shape)\n",
    "candidates_pair_all.sort_values('fc', ascending=False).head()"
   ]
  },
  {
   "cell_type": "code",
   "execution_count": 19,
   "metadata": {},
   "outputs": [
    {
     "data": {
      "text/plain": [
       "celltype\n",
       "Sst      28\n",
       "L5       26\n",
       "L4       24\n",
       "Pvalb    22\n",
       "L2_3     22\n",
       "Vip      21\n",
       "Ndnf     19\n",
       "L6        6\n",
       "dtype: int64"
      ]
     },
     "execution_count": 19,
     "metadata": {},
     "output_type": "execute_result"
    }
   ],
   "source": [
    "candidates_pair_all.groupby('celltype').size().sort_values(ascending=False)"
   ]
  },
  {
   "cell_type": "code",
   "execution_count": 20,
   "metadata": {},
   "outputs": [
    {
     "data": {
      "text/plain": [
       "gene_chr\n",
       "chr3     24\n",
       "chr2     22\n",
       "chr4     21\n",
       "chr7     16\n",
       "chr5     16\n",
       "chr11    14\n",
       "chr1     14\n",
       "chr8     11\n",
       "chr20     5\n",
       "chr6      5\n",
       "dtype: int64"
      ]
     },
     "execution_count": 20,
     "metadata": {},
     "output_type": "execute_result"
    }
   ],
   "source": [
    "candidates_pair_all.groupby('gene_chr').size().sort_values(ascending=False).head(10)"
   ]
  },
  {
   "cell_type": "code",
   "execution_count": 21,
   "metadata": {},
   "outputs": [
    {
     "data": {
      "text/html": [
       "<div>\n",
       "<style scoped>\n",
       "    .dataframe tbody tr th:only-of-type {\n",
       "        vertical-align: middle;\n",
       "    }\n",
       "\n",
       "    .dataframe tbody tr th {\n",
       "        vertical-align: top;\n",
       "    }\n",
       "\n",
       "    .dataframe thead th {\n",
       "        text-align: right;\n",
       "    }\n",
       "</style>\n",
       "<table border=\"1\" class=\"dataframe\">\n",
       "  <thead>\n",
       "    <tr style=\"text-align: right;\">\n",
       "      <th></th>\n",
       "      <th>gene</th>\n",
       "      <th>0</th>\n",
       "      <th>gene_name</th>\n",
       "    </tr>\n",
       "  </thead>\n",
       "  <tbody>\n",
       "    <tr>\n",
       "      <th>0</th>\n",
       "      <td>ENSMUSG00000023927</td>\n",
       "      <td>18</td>\n",
       "      <td>Satb1</td>\n",
       "    </tr>\n",
       "    <tr>\n",
       "      <th>1</th>\n",
       "      <td>ENSMUSG00000029094</td>\n",
       "      <td>9</td>\n",
       "      <td>Afap1</td>\n",
       "    </tr>\n",
       "    <tr>\n",
       "      <th>2</th>\n",
       "      <td>ENSMUSG00000033730</td>\n",
       "      <td>8</td>\n",
       "      <td>Egr3</td>\n",
       "    </tr>\n",
       "    <tr>\n",
       "      <th>3</th>\n",
       "      <td>ENSMUSG00000029168</td>\n",
       "      <td>7</td>\n",
       "      <td>Dpysl5</td>\n",
       "    </tr>\n",
       "    <tr>\n",
       "      <th>4</th>\n",
       "      <td>ENSMUSG00000037736</td>\n",
       "      <td>6</td>\n",
       "      <td>Limch1</td>\n",
       "    </tr>\n",
       "    <tr>\n",
       "      <th>5</th>\n",
       "      <td>ENSMUSG00000042429</td>\n",
       "      <td>6</td>\n",
       "      <td>Adora1</td>\n",
       "    </tr>\n",
       "    <tr>\n",
       "      <th>6</th>\n",
       "      <td>ENSMUSG00000034751</td>\n",
       "      <td>6</td>\n",
       "      <td>Mast4</td>\n",
       "    </tr>\n",
       "    <tr>\n",
       "      <th>7</th>\n",
       "      <td>ENSMUSG00000004151</td>\n",
       "      <td>6</td>\n",
       "      <td>Etv1</td>\n",
       "    </tr>\n",
       "    <tr>\n",
       "      <th>8</th>\n",
       "      <td>ENSMUSG00000022237</td>\n",
       "      <td>5</td>\n",
       "      <td>Ankrd33b</td>\n",
       "    </tr>\n",
       "    <tr>\n",
       "      <th>9</th>\n",
       "      <td>ENSMUSG00000032020</td>\n",
       "      <td>4</td>\n",
       "      <td>Ubash3b</td>\n",
       "    </tr>\n",
       "    <tr>\n",
       "      <th>10</th>\n",
       "      <td>ENSMUSG00000027273</td>\n",
       "      <td>4</td>\n",
       "      <td>Snap25</td>\n",
       "    </tr>\n",
       "    <tr>\n",
       "      <th>11</th>\n",
       "      <td>ENSMUSG00000085516</td>\n",
       "      <td>4</td>\n",
       "      <td>4930538E20Rik</td>\n",
       "    </tr>\n",
       "    <tr>\n",
       "      <th>12</th>\n",
       "      <td>ENSMUSG00000029778</td>\n",
       "      <td>4</td>\n",
       "      <td>Adcyap1r1</td>\n",
       "    </tr>\n",
       "    <tr>\n",
       "      <th>13</th>\n",
       "      <td>ENSMUSG00000030310</td>\n",
       "      <td>4</td>\n",
       "      <td>Slc6a1</td>\n",
       "    </tr>\n",
       "    <tr>\n",
       "      <th>14</th>\n",
       "      <td>ENSMUSG00000037984</td>\n",
       "      <td>4</td>\n",
       "      <td>Neurod6</td>\n",
       "    </tr>\n",
       "    <tr>\n",
       "      <th>15</th>\n",
       "      <td>ENSMUSG00000027347</td>\n",
       "      <td>3</td>\n",
       "      <td>Rasgrp1</td>\n",
       "    </tr>\n",
       "    <tr>\n",
       "      <th>16</th>\n",
       "      <td>ENSMUSG00000010936</td>\n",
       "      <td>3</td>\n",
       "      <td>Vac14</td>\n",
       "    </tr>\n",
       "    <tr>\n",
       "      <th>17</th>\n",
       "      <td>ENSMUSG00000020458</td>\n",
       "      <td>2</td>\n",
       "      <td>Rtn4</td>\n",
       "    </tr>\n",
       "    <tr>\n",
       "      <th>18</th>\n",
       "      <td>ENSMUSG00000030898</td>\n",
       "      <td>2</td>\n",
       "      <td>Cckbr</td>\n",
       "    </tr>\n",
       "    <tr>\n",
       "      <th>19</th>\n",
       "      <td>ENSMUSG00000033955</td>\n",
       "      <td>2</td>\n",
       "      <td>Tnks1bp1</td>\n",
       "    </tr>\n",
       "    <tr>\n",
       "      <th>20</th>\n",
       "      <td>ENSMUSG00000087177</td>\n",
       "      <td>2</td>\n",
       "      <td>E130307A14Rik</td>\n",
       "    </tr>\n",
       "    <tr>\n",
       "      <th>21</th>\n",
       "      <td>ENSMUSG00000001985</td>\n",
       "      <td>2</td>\n",
       "      <td>Grik3</td>\n",
       "    </tr>\n",
       "    <tr>\n",
       "      <th>22</th>\n",
       "      <td>ENSMUSG00000030613</td>\n",
       "      <td>2</td>\n",
       "      <td>Ccdc90b</td>\n",
       "    </tr>\n",
       "    <tr>\n",
       "      <th>23</th>\n",
       "      <td>ENSMUSG00000036062</td>\n",
       "      <td>2</td>\n",
       "      <td>Phf24</td>\n",
       "    </tr>\n",
       "    <tr>\n",
       "      <th>24</th>\n",
       "      <td>ENSMUSG00000026587</td>\n",
       "      <td>2</td>\n",
       "      <td>Astn1</td>\n",
       "    </tr>\n",
       "    <tr>\n",
       "      <th>25</th>\n",
       "      <td>ENSMUSG00000025006</td>\n",
       "      <td>2</td>\n",
       "      <td>Sorbs1</td>\n",
       "    </tr>\n",
       "    <tr>\n",
       "      <th>26</th>\n",
       "      <td>ENSMUSG00000019841</td>\n",
       "      <td>2</td>\n",
       "      <td>Rev3l</td>\n",
       "    </tr>\n",
       "    <tr>\n",
       "      <th>27</th>\n",
       "      <td>ENSMUSG00000029055</td>\n",
       "      <td>2</td>\n",
       "      <td>Plch2</td>\n",
       "    </tr>\n",
       "    <tr>\n",
       "      <th>28</th>\n",
       "      <td>ENSMUSG00000096948</td>\n",
       "      <td>2</td>\n",
       "      <td>Gm4221</td>\n",
       "    </tr>\n",
       "    <tr>\n",
       "      <th>29</th>\n",
       "      <td>ENSMUSG00000037679</td>\n",
       "      <td>2</td>\n",
       "      <td>Inf2</td>\n",
       "    </tr>\n",
       "  </tbody>\n",
       "</table>\n",
       "</div>"
      ],
      "text/plain": [
       "                  gene   0      gene_name\n",
       "0   ENSMUSG00000023927  18          Satb1\n",
       "1   ENSMUSG00000029094   9          Afap1\n",
       "2   ENSMUSG00000033730   8           Egr3\n",
       "3   ENSMUSG00000029168   7         Dpysl5\n",
       "4   ENSMUSG00000037736   6         Limch1\n",
       "5   ENSMUSG00000042429   6         Adora1\n",
       "6   ENSMUSG00000034751   6          Mast4\n",
       "7   ENSMUSG00000004151   6           Etv1\n",
       "8   ENSMUSG00000022237   5       Ankrd33b\n",
       "9   ENSMUSG00000032020   4        Ubash3b\n",
       "10  ENSMUSG00000027273   4         Snap25\n",
       "11  ENSMUSG00000085516   4  4930538E20Rik\n",
       "12  ENSMUSG00000029778   4      Adcyap1r1\n",
       "13  ENSMUSG00000030310   4         Slc6a1\n",
       "14  ENSMUSG00000037984   4        Neurod6\n",
       "15  ENSMUSG00000027347   3        Rasgrp1\n",
       "16  ENSMUSG00000010936   3          Vac14\n",
       "17  ENSMUSG00000020458   2           Rtn4\n",
       "18  ENSMUSG00000030898   2          Cckbr\n",
       "19  ENSMUSG00000033955   2       Tnks1bp1\n",
       "20  ENSMUSG00000087177   2  E130307A14Rik\n",
       "21  ENSMUSG00000001985   2          Grik3\n",
       "22  ENSMUSG00000030613   2        Ccdc90b\n",
       "23  ENSMUSG00000036062   2          Phf24\n",
       "24  ENSMUSG00000026587   2          Astn1\n",
       "25  ENSMUSG00000025006   2         Sorbs1\n",
       "26  ENSMUSG00000019841   2          Rev3l\n",
       "27  ENSMUSG00000029055   2          Plch2\n",
       "28  ENSMUSG00000096948   2         Gm4221\n",
       "29  ENSMUSG00000037679   2           Inf2"
      ]
     },
     "execution_count": 21,
     "metadata": {},
     "output_type": "execute_result"
    }
   ],
   "source": [
    "_tmp = candidates_pair_all.groupby('gene').size().sort_values(ascending=False).reset_index() #.head(10)\n",
    "_tmp['gene_name'] = df_genes.reindex(_tmp['gene'])['gene_name'].values\n",
    "_tmp.head(30)"
   ]
  },
  {
   "cell_type": "markdown",
   "metadata": {},
   "source": [
    "# check specfic pairs "
   ]
  },
  {
   "cell_type": "markdown",
   "metadata": {},
   "source": [
    "### A specific gene -- Stim2 promising!"
   ]
  },
  {
   "cell_type": "code",
   "execution_count": 24,
   "metadata": {
    "scrolled": false
   },
   "outputs": [
    {
     "name": "stderr",
     "output_type": "stream",
     "text": [
      "\r",
      "  0%|          | 0/8 [00:00<?, ?it/s]"
     ]
    },
    {
     "name": "stdout",
     "output_type": "stream",
     "text": [
      "(5, 3)\n",
      "chr4\n"
     ]
    },
    {
     "name": "stderr",
     "output_type": "stream",
     "text": [
      "100%|██████████| 8/8 [00:22<00:00,  2.83s/it]\n"
     ]
    }
   ],
   "source": [
    "gene_name = 'Stim2'\n",
    "\n",
    "try:\n",
    "    gene_id = df_genes.reset_index().set_index('gene_name').loc[gene_name, 'gid']\n",
    "\n",
    "    linked_pairs_todo = linked_pairs_both[linked_pairs_both['gene']==gene_id]\n",
    "    chromosome_spec = tss_list.set_index('gid').loc[gene_id, 'chr']\n",
    "\n",
    "    print(linked_pairs_todo.shape)\n",
    "    print(chromosome_spec)\n",
    "except:\n",
    "    print(\"{} skipped\".format(gene_name))\n",
    "#         continue\n",
    "\n",
    "# get a list of candidate pairs\n",
    "chromosome = chromosome_spec\n",
    "# all enhancers and tss on that chromosomes\n",
    "enhs = enh_list[enh_list['chr']==chromosome]\n",
    "tsss = tss_list[tss_list['chr']==chromosome]\n",
    "# get paired bins\n",
    "paired_bin_table = enh_gene_id_to_binidx(linked_pairs_todo, tsss, enhs, resolution)\n",
    "\n",
    "# try it all a gene list\n",
    "# plot all 8 cell types?\n",
    "gene_bin = paired_bin_table['gene_bin'].iloc[0]\n",
    "chromosome = chromosome_spec\n",
    "enh_bins = np.sort(paired_bin_table['enh_bin'].values)\n",
    "enh_names = [\"{}:{:,},{:,}\".format(_chr, _start, _end)\n",
    "             for (_chr, _start, _end) in zip(paired_bin_table['enh_chr'], \n",
    "                                             paired_bin_table['enh_start'], \n",
    "                                             paired_bin_table['enh_end'])\n",
    "            ]\n",
    "resolution = 10000\n",
    "\n",
    "mats_all = {}\n",
    "for celltype in tqdm.tqdm(celltypes):\n",
    "    resource_string = (\n",
    "         '/sphere/fangming/enhancers/data_m3c/{}_all_brain.txt_1kb_contacts.mcool'\n",
    "         '::/resolutions/{}'.format(celltype, resolution)\n",
    "         )\n",
    "    c = cooler.Cooler(resource_string)\n",
    "    mat_all = c.matrix(balance=True).fetch(chromosome)\n",
    "    \n",
    "    name = \"{} {}\".format(celltype, chromosome)\n",
    "    \n",
    "    if name not in mats_all.keys(): \n",
    "        mats_all[\"{} {}\".format(celltype, chromosome)] = mat_all"
   ]
  },
  {
   "cell_type": "code",
   "execution_count": 25,
   "metadata": {},
   "outputs": [
    {
     "name": "stderr",
     "output_type": "stream",
     "text": [
      "8it [00:00,  8.47it/s]\n"
     ]
    },
    {
     "data": {
      "image/png": "[encoded data removed]",
      "text/plain": [
       "<Figure size 1440x720 with 9 Axes>"
      ]
     },
     "metadata": {
      "needs_background": "light"
     },
     "output_type": "display_data"
    }
   ],
   "source": [
    "cbar_kws = {'fraction': 0.05, 'shrink': 0.4, 'aspect': 5, # 'pad': 0.2,\n",
    "              'label': \"Contact frequency\\n(Norm. by the max offdiag of each mat)\",\n",
    "              'ticks': [0, 0.5, 1],\n",
    "           }\n",
    "\n",
    "pad_ratio = 0.5\n",
    "\n",
    "fig, axs = plt.subplots(2, 4, figsize=(5*4, 5*2))\n",
    "cbar_ax = fig.add_axes([0.95, 0.4, 0.02, 0.2])\n",
    "for i, (celltype) in tqdm.tqdm(enumerate(celltypes)):\n",
    "    ax = axs.flat[i]\n",
    "    if i == 0:\n",
    "        plot_ticks = True\n",
    "        cbar = True \n",
    "        cbar_ax = cbar_ax\n",
    "    else:\n",
    "        plot_ticks = False\n",
    "        cbar = False\n",
    "        cbar_ax = cbar_ax\n",
    "        \n",
    "    mat_all = mats_all[\"{} {}\".format(celltype, chromosome)]\n",
    "    ax, g = plot_mat_multi_enh_ax(fig, ax, mat_all, enh_bins, gene_bin, enh_names, gene_name, \n",
    "                                  celltype,\n",
    "                                  pad_ratio=pad_ratio,\n",
    "                                  plot_ticks=plot_ticks, cbar=cbar, cbar_ax=cbar_ax, cbar_kws=cbar_kws)\n",
    "    \n",
    "suptitle = \"{} {} (bin size={:,})\".format(gene_name, chromosome, resolution)\n",
    "fig.suptitle(suptitle, y=0.98, fontsize=15)\n",
    "plt.show()"
   ]
  },
  {
   "cell_type": "markdown",
   "metadata": {},
   "source": [
    "### Contacts of the most linked genes and the most contacted genes"
   ]
  },
  {
   "cell_type": "code",
   "execution_count": 26,
   "metadata": {},
   "outputs": [],
   "source": [
    "def routine_specific_genes(gene_name_list, output_tag):\n",
    "    \"\"\"\n",
    "    \"\"\"\n",
    "    resolution = 10000\n",
    "    cbar_kws = {'fraction': 0.05, 'shrink': 0.4, 'aspect': 5, # 'pad': 0.2,\n",
    "                  'label': \"Contact frequency\\n(Norm. by the max offdiag of each mat)\",\n",
    "                  'ticks': [0, 0.5, 1],\n",
    "               }\n",
    "    pad_ratio = 0.5 \n",
    "    \n",
    "    for gene_name in gene_name_list:\n",
    "    #     gene_name = 'Stim2'\n",
    "        try:\n",
    "            gene_id = df_genes.reset_index().set_index('gene_name').loc[gene_name, 'gid']\n",
    "\n",
    "            linked_pairs_todo = linked_pairs_both[linked_pairs_both['gene']==gene_id]\n",
    "            chromosome_spec = tss_list.set_index('gid').loc[gene_id, 'chr']\n",
    "\n",
    "            print(linked_pairs_todo.shape)\n",
    "            print(chromosome_spec)\n",
    "        except:\n",
    "            print(\"{} skipped\".format(gene_name))\n",
    "        #         continue\n",
    "\n",
    "        # get a list of candidate pairs\n",
    "        chromosome = chromosome_spec\n",
    "        # all enhancers and tss on that chromosomes\n",
    "        enhs = enh_list[enh_list['chr']==chromosome]\n",
    "        tsss = tss_list[tss_list['chr']==chromosome]\n",
    "        # get paired bins\n",
    "        paired_bin_table = enh_gene_id_to_binidx(linked_pairs_todo, tsss, enhs, resolution)\n",
    "        paired_bin_table = paired_bin_table[paired_bin_table['enh_bin']!=paired_bin_table['gene_bin']]\n",
    "        if len(paired_bin_table) == 0:\n",
    "            print(\"{} skipped\".format(gene_name))\n",
    "            continue\n",
    "\n",
    "        # try it all a gene list\n",
    "        # plot all 8 cell types?\n",
    "        gene_bin = paired_bin_table['gene_bin'].iloc[0]\n",
    "        chromosome = chromosome_spec\n",
    "        enh_bins = np.sort(paired_bin_table['enh_bin'].values)\n",
    "        enh_names = [\"{}:{:,},{:,}\".format(_chr, _start, _end)\n",
    "                     for (_chr, _start, _end) in zip(paired_bin_table['enh_chr'], \n",
    "                                                     paired_bin_table['enh_start'], \n",
    "                                                     paired_bin_table['enh_end'])\n",
    "                    ]\n",
    "\n",
    "        # get data\n",
    "        mats_all = {}\n",
    "        for celltype in tqdm.tqdm(celltypes):\n",
    "            resource_string = (\n",
    "                 '/sphere/fangming/enhancers/data_m3c/{}_all_brain.txt_1kb_contacts.mcool'\n",
    "                 '::/resolutions/{}'.format(celltype, resolution)\n",
    "                 )\n",
    "            c = cooler.Cooler(resource_string)\n",
    "            mat_all = c.matrix(balance=True).fetch(chromosome)\n",
    "\n",
    "            name = \"{} {}\".format(celltype, chromosome)\n",
    "\n",
    "            if name not in mats_all.keys(): \n",
    "                mats_all[\"{} {}\".format(celltype, chromosome)] = mat_all\n",
    "\n",
    "\n",
    "        # plot\n",
    "\n",
    "        fig, axs = plt.subplots(2, 4, figsize=(5*4, 5*2))\n",
    "        cbar_ax = fig.add_axes([0.95, 0.4, 0.02, 0.2])\n",
    "        for i, (celltype) in tqdm.tqdm(enumerate(celltypes)):\n",
    "            ax = axs.flat[i]\n",
    "            if i == 0:\n",
    "                plot_ticks = True\n",
    "                cbar = True \n",
    "                cbar_ax = cbar_ax\n",
    "            else:\n",
    "                plot_ticks = False\n",
    "                cbar = False\n",
    "                cbar_ax = cbar_ax\n",
    "\n",
    "            mat_all = mats_all[\"{} {}\".format(celltype, chromosome)]\n",
    "            ax, g = plot_mat_multi_enh_ax(fig, ax, mat_all, enh_bins, gene_bin, enh_names, gene_name, \n",
    "                                          celltype,\n",
    "                                          pad_ratio=pad_ratio,\n",
    "                                          plot_ticks=plot_ticks, cbar=cbar, cbar_ax=cbar_ax, cbar_kws=cbar_kws)\n",
    "\n",
    "        suptitle = \"{} (bin size={:,})\".format(chromosome, resolution)\n",
    "        fig.suptitle(suptitle, y=0.98, fontsize=15)\n",
    "\n",
    "        output_fig = ('/cndd2/fangming/projects/scf_enhancers/figures/'\n",
    "                      'hic_map_{}_{}_{}_{}.pdf'.format(output_tag, gene_name, resolution, today)\n",
    "                     )\n",
    "        print(output_fig)\n",
    "        snmcseq_utils.savefig(fig, output_fig)\n",
    "\n",
    "        plt.close()\n",
    "        \n",
    "        del mats_all"
   ]
  },
  {
   "cell_type": "code",
   "execution_count": 27,
   "metadata": {},
   "outputs": [
    {
     "name": "stdout",
     "output_type": "stream",
     "text": [
      "['Rasl11b' 'Ankrd33b' 'Stim2' 'Grip1os2' 'Tatdn1' 'Zdhhc23' 'Camk2a' 'Pdp1'\n",
      " 'Ier5' 'Egr3' 'Ngef' 'Phf24' 'Maf' 'Dusp6' 'Rasgrp1' 'Neurod6' 'Zfp365'\n",
      " 'Sox2' 'Snap25' 'Runx2os1' 'Slc6a1' 'Ift27' 'Ctxn1' 'Lmo4'] ['Satb1' 'Afap1' 'Egr3' 'Dpysl5' 'Limch1' 'Adora1' 'Mast4' 'Etv1'\n",
      " 'Ankrd33b' 'Ubash3b' 'Snap25' '4930538E20Rik' 'Adcyap1r1' 'Slc6a1'\n",
      " 'Neurod6']\n"
     ]
    }
   ],
   "source": [
    "most_correlated_genes = np.array([\n",
    "    'Rasl11b', \n",
    "    'Ankrd33b',\n",
    "    'Stim2',\n",
    "#     'Selenon',\n",
    "    'Grip1os2',\n",
    "    'Tatdn1',\n",
    "    'Zdhhc23',\n",
    "    'Camk2a',\n",
    "    'Pdp1',\n",
    "#     'AC158686.2',\n",
    "    'Ier5',\n",
    "    'Egr3',\n",
    "    'Ngef',\n",
    "    'Phf24',\n",
    "    'Maf',\n",
    "    'Dusp6',\n",
    "    'Rasgrp1',\n",
    "    'Neurod6',\n",
    "    'Zfp365',\n",
    "    'Sox2', \n",
    "    'Snap25',\n",
    "    'Runx2os1',\n",
    "    'Slc6a1',\n",
    "    'Ift27',\n",
    "    'Ctxn1',\n",
    "    'Lmo4',\n",
    "]) # genes linked with most number of enhancers\n",
    "\n",
    "most_contacted_genes = df_genes.reindex(candidates_pair_all.groupby('gene')\n",
    "                                                            .size()\n",
    "                                                            .sort_values(ascending=False)\n",
    "                                                            .head(15).index)['gene_name'].values\n",
    "print(most_correlated_genes, \n",
    "      most_contacted_genes,\n",
    "     )"
   ]
  },
  {
   "cell_type": "code",
   "execution_count": 28,
   "metadata": {
    "scrolled": false
   },
   "outputs": [
    {
     "name": "stderr",
     "output_type": "stream",
     "text": [
      "\r",
      "  0%|          | 0/8 [00:00<?, ?it/s]"
     ]
    },
    {
     "name": "stdout",
     "output_type": "stream",
     "text": [
      "(7, 3)\n",
      "chr4\n"
     ]
    },
    {
     "name": "stderr",
     "output_type": "stream",
     "text": [
      "100%|██████████| 8/8 [00:22<00:00,  2.78s/it]\n",
      "8it [00:00,  8.74it/s]\n"
     ]
    },
    {
     "name": "stdout",
     "output_type": "stream",
     "text": [
      "/cndd2/fangming/projects/scf_enhancers/figureshic_map_correlated_genes_Rasl11b_10000_2020-12-07.pdf\n"
     ]
    },
    {
     "name": "stderr",
     "output_type": "stream",
     "text": [
      "\r",
      "  0%|          | 0/8 [00:00<?, ?it/s]"
     ]
    },
    {
     "name": "stdout",
     "output_type": "stream",
     "text": [
      "(16, 3)\n",
      "chr5\n"
     ]
    },
    {
     "name": "stderr",
     "output_type": "stream",
     "text": [
      "100%|██████████| 8/8 [00:20<00:00,  2.52s/it]\n",
      "8it [00:00,  8.13it/s]\n"
     ]
    },
    {
     "name": "stdout",
     "output_type": "stream",
     "text": [
      "/cndd2/fangming/projects/scf_enhancers/figureshic_map_correlated_genes_Ankrd33b_10000_2020-12-07.pdf\n"
     ]
    },
    {
     "name": "stderr",
     "output_type": "stream",
     "text": [
      "\r",
      "  0%|          | 0/8 [00:00<?, ?it/s]"
     ]
    },
    {
     "name": "stdout",
     "output_type": "stream",
     "text": [
      "(5, 3)\n",
      "chr4\n"
     ]
    },
    {
     "name": "stderr",
     "output_type": "stream",
     "text": [
      "100%|██████████| 8/8 [00:22<00:00,  2.78s/it]\n",
      "8it [00:00,  9.46it/s]\n"
     ]
    },
    {
     "name": "stdout",
     "output_type": "stream",
     "text": [
      "/cndd2/fangming/projects/scf_enhancers/figureshic_map_correlated_genes_Stim2_10000_2020-12-07.pdf\n"
     ]
    },
    {
     "name": "stderr",
     "output_type": "stream",
     "text": [
      "\r",
      "  0%|          | 0/8 [00:00<?, ?it/s]"
     ]
    },
    {
     "name": "stdout",
     "output_type": "stream",
     "text": [
      "(6, 3)\n",
      "chr12\n"
     ]
    },
    {
     "name": "stderr",
     "output_type": "stream",
     "text": [
      "100%|██████████| 8/8 [00:11<00:00,  1.45s/it]\n",
      "8it [00:00,  8.26it/s]\n"
     ]
    },
    {
     "name": "stdout",
     "output_type": "stream",
     "text": [
      "/cndd2/fangming/projects/scf_enhancers/figureshic_map_correlated_genes_Grip1os2_10000_2020-12-07.pdf\n"
     ]
    },
    {
     "name": "stderr",
     "output_type": "stream",
     "text": [
      "\r",
      "  0%|          | 0/8 [00:00<?, ?it/s]"
     ]
    },
    {
     "name": "stdout",
     "output_type": "stream",
     "text": [
      "(5, 3)\n",
      "chr8\n"
     ]
    },
    {
     "name": "stderr",
     "output_type": "stream",
     "text": [
      "100%|██████████| 8/8 [00:13<00:00,  1.75s/it]\n",
      "8it [00:00,  9.18it/s]\n"
     ]
    },
    {
     "name": "stdout",
     "output_type": "stream",
     "text": [
      "/cndd2/fangming/projects/scf_enhancers/figureshic_map_correlated_genes_Tatdn1_10000_2020-12-07.pdf\n"
     ]
    },
    {
     "name": "stderr",
     "output_type": "stream",
     "text": [
      "\r",
      "  0%|          | 0/8 [00:00<?, ?it/s]"
     ]
    },
    {
     "name": "stdout",
     "output_type": "stream",
     "text": [
      "(5, 3)\n",
      "chr3\n"
     ]
    },
    {
     "name": "stderr",
     "output_type": "stream",
     "text": [
      "100%|██████████| 8/8 [00:23<00:00,  2.94s/it]\n",
      "8it [00:00,  9.25it/s]\n"
     ]
    },
    {
     "name": "stdout",
     "output_type": "stream",
     "text": [
      "/cndd2/fangming/projects/scf_enhancers/figureshic_map_correlated_genes_Zdhhc23_10000_2020-12-07.pdf\n"
     ]
    },
    {
     "name": "stderr",
     "output_type": "stream",
     "text": [
      "\r",
      "  0%|          | 0/8 [00:00<?, ?it/s]"
     ]
    },
    {
     "name": "stdout",
     "output_type": "stream",
     "text": [
      "(10, 3)\n",
      "chr5\n"
     ]
    },
    {
     "name": "stderr",
     "output_type": "stream",
     "text": [
      "100%|██████████| 8/8 [00:20<00:00,  2.53s/it]\n",
      "8it [00:00,  8.72it/s]\n"
     ]
    },
    {
     "name": "stdout",
     "output_type": "stream",
     "text": [
      "/cndd2/fangming/projects/scf_enhancers/figureshic_map_correlated_genes_Camk2a_10000_2020-12-07.pdf\n"
     ]
    },
    {
     "name": "stderr",
     "output_type": "stream",
     "text": [
      "\r",
      "  0%|          | 0/8 [00:00<?, ?it/s]"
     ]
    },
    {
     "name": "stdout",
     "output_type": "stream",
     "text": [
      "(4, 3)\n",
      "chr8\n"
     ]
    },
    {
     "name": "stderr",
     "output_type": "stream",
     "text": [
      "100%|██████████| 8/8 [00:13<00:00,  1.70s/it]\n",
      "8it [00:00,  8.24it/s]\n"
     ]
    },
    {
     "name": "stdout",
     "output_type": "stream",
     "text": [
      "/cndd2/fangming/projects/scf_enhancers/figureshic_map_correlated_genes_Pdp1_10000_2020-12-07.pdf\n"
     ]
    },
    {
     "name": "stderr",
     "output_type": "stream",
     "text": [
      "\r",
      "  0%|          | 0/8 [00:00<?, ?it/s]"
     ]
    },
    {
     "name": "stdout",
     "output_type": "stream",
     "text": [
      "(4, 3)\n",
      "chr1\n"
     ]
    },
    {
     "name": "stderr",
     "output_type": "stream",
     "text": [
      "100%|██████████| 8/8 [00:41<00:00,  5.22s/it]\n",
      "8it [00:02,  2.91it/s]\n"
     ]
    },
    {
     "name": "stdout",
     "output_type": "stream",
     "text": [
      "/cndd2/fangming/projects/scf_enhancers/figureshic_map_correlated_genes_Ier5_10000_2020-12-07.pdf\n"
     ]
    },
    {
     "name": "stderr",
     "output_type": "stream",
     "text": [
      "\r",
      "  0%|          | 0/8 [00:00<?, ?it/s]"
     ]
    },
    {
     "name": "stdout",
     "output_type": "stream",
     "text": [
      "(4, 3)\n",
      "chr8\n"
     ]
    },
    {
     "name": "stderr",
     "output_type": "stream",
     "text": [
      "100%|██████████| 8/8 [00:15<00:00,  1.96s/it]\n",
      "8it [00:00,  9.08it/s]\n"
     ]
    },
    {
     "name": "stdout",
     "output_type": "stream",
     "text": [
      "/cndd2/fangming/projects/scf_enhancers/figureshic_map_correlated_genes_Egr3_10000_2020-12-07.pdf\n"
     ]
    },
    {
     "name": "stderr",
     "output_type": "stream",
     "text": [
      "\r",
      "  0%|          | 0/8 [00:00<?, ?it/s]"
     ]
    },
    {
     "name": "stdout",
     "output_type": "stream",
     "text": [
      "(7, 3)\n",
      "chr2\n"
     ]
    },
    {
     "name": "stderr",
     "output_type": "stream",
     "text": [
      "100%|██████████| 8/8 [00:34<00:00,  4.37s/it]\n",
      "8it [00:00,  9.71it/s]\n"
     ]
    },
    {
     "name": "stdout",
     "output_type": "stream",
     "text": [
      "/cndd2/fangming/projects/scf_enhancers/figureshic_map_correlated_genes_Ngef_10000_2020-12-07.pdf\n"
     ]
    },
    {
     "name": "stderr",
     "output_type": "stream",
     "text": [
      "\r",
      "  0%|          | 0/8 [00:00<?, ?it/s]"
     ]
    },
    {
     "name": "stdout",
     "output_type": "stream",
     "text": [
      "(4, 3)\n",
      "chr9\n"
     ]
    },
    {
     "name": "stderr",
     "output_type": "stream",
     "text": [
      "100%|██████████| 8/8 [00:12<00:00,  1.54s/it]\n",
      "8it [00:00,  9.44it/s]\n"
     ]
    },
    {
     "name": "stdout",
     "output_type": "stream",
     "text": [
      "/cndd2/fangming/projects/scf_enhancers/figureshic_map_correlated_genes_Phf24_10000_2020-12-07.pdf\n"
     ]
    },
    {
     "name": "stderr",
     "output_type": "stream",
     "text": [
      "\r",
      "  0%|          | 0/8 [00:00<?, ?it/s]"
     ]
    },
    {
     "name": "stdout",
     "output_type": "stream",
     "text": [
      "(5, 3)\n",
      "chr16\n"
     ]
    },
    {
     "name": "stderr",
     "output_type": "stream",
     "text": [
      "100%|██████████| 8/8 [00:06<00:00,  1.28it/s]\n",
      "8it [00:00,  8.00it/s]\n"
     ]
    },
    {
     "name": "stdout",
     "output_type": "stream",
     "text": [
      "/cndd2/fangming/projects/scf_enhancers/figureshic_map_correlated_genes_Maf_10000_2020-12-07.pdf\n"
     ]
    },
    {
     "name": "stderr",
     "output_type": "stream",
     "text": [
      "\r",
      "  0%|          | 0/8 [00:00<?, ?it/s]"
     ]
    },
    {
     "name": "stdout",
     "output_type": "stream",
     "text": [
      "(4, 3)\n",
      "chr12\n"
     ]
    },
    {
     "name": "stderr",
     "output_type": "stream",
     "text": [
      "100%|██████████| 8/8 [00:11<00:00,  1.43s/it]\n",
      "8it [00:01,  6.37it/s]\n"
     ]
    },
    {
     "name": "stdout",
     "output_type": "stream",
     "text": [
      "/cndd2/fangming/projects/scf_enhancers/figureshic_map_correlated_genes_Dusp6_10000_2020-12-07.pdf\n"
     ]
    },
    {
     "name": "stderr",
     "output_type": "stream",
     "text": [
      "\r",
      "  0%|          | 0/8 [00:00<?, ?it/s]"
     ]
    },
    {
     "name": "stdout",
     "output_type": "stream",
     "text": [
      "(10, 3)\n",
      "chr15\n"
     ]
    },
    {
     "name": "stderr",
     "output_type": "stream",
     "text": [
      "100%|██████████| 8/8 [00:07<00:00,  1.10it/s]\n",
      "8it [00:00,  8.24it/s]\n"
     ]
    },
    {
     "name": "stdout",
     "output_type": "stream",
     "text": [
      "/cndd2/fangming/projects/scf_enhancers/figureshic_map_correlated_genes_Rasgrp1_10000_2020-12-07.pdf\n"
     ]
    },
    {
     "name": "stderr",
     "output_type": "stream",
     "text": [
      "\r",
      "  0%|          | 0/8 [00:00<?, ?it/s]"
     ]
    },
    {
     "name": "stdout",
     "output_type": "stream",
     "text": [
      "(3, 3)\n",
      "chr7\n"
     ]
    },
    {
     "name": "stderr",
     "output_type": "stream",
     "text": [
      "100%|██████████| 8/8 [00:15<00:00,  1.99s/it]\n",
      "8it [00:00,  9.62it/s]\n"
     ]
    },
    {
     "name": "stdout",
     "output_type": "stream",
     "text": [
      "/cndd2/fangming/projects/scf_enhancers/figureshic_map_correlated_genes_Neurod6_10000_2020-12-07.pdf\n"
     ]
    },
    {
     "name": "stderr",
     "output_type": "stream",
     "text": [
      "\r",
      "  0%|          | 0/8 [00:00<?, ?it/s]"
     ]
    },
    {
     "name": "stdout",
     "output_type": "stream",
     "text": [
      "(3, 3)\n",
      "chr10\n"
     ]
    },
    {
     "name": "stderr",
     "output_type": "stream",
     "text": [
      "100%|██████████| 8/8 [00:11<00:00,  1.47s/it]\n",
      "8it [00:00, 10.68it/s]\n"
     ]
    },
    {
     "name": "stdout",
     "output_type": "stream",
     "text": [
      "/cndd2/fangming/projects/scf_enhancers/figureshic_map_correlated_genes_Zfp365_10000_2020-12-07.pdf\n"
     ]
    },
    {
     "name": "stderr",
     "output_type": "stream",
     "text": [
      "\r",
      "  0%|          | 0/8 [00:00<?, ?it/s]"
     ]
    },
    {
     "name": "stdout",
     "output_type": "stream",
     "text": [
      "(3, 3)\n",
      "chr3\n"
     ]
    },
    {
     "name": "stderr",
     "output_type": "stream",
     "text": [
      "100%|██████████| 8/8 [00:23<00:00,  2.97s/it]\n",
      "8it [00:00, 10.34it/s]\n"
     ]
    },
    {
     "name": "stdout",
     "output_type": "stream",
     "text": [
      "/cndd2/fangming/projects/scf_enhancers/figureshic_map_correlated_genes_Sox2_10000_2020-12-07.pdf\n"
     ]
    },
    {
     "name": "stderr",
     "output_type": "stream",
     "text": [
      "\r",
      "  0%|          | 0/8 [00:00<?, ?it/s]"
     ]
    },
    {
     "name": "stdout",
     "output_type": "stream",
     "text": [
      "(3, 3)\n",
      "chr20\n"
     ]
    },
    {
     "name": "stderr",
     "output_type": "stream",
     "text": [
      "100%|██████████| 8/8 [00:04<00:00,  1.98it/s]\n",
      "8it [00:00,  9.61it/s]\n"
     ]
    },
    {
     "name": "stdout",
     "output_type": "stream",
     "text": [
      "/cndd2/fangming/projects/scf_enhancers/figureshic_map_correlated_genes_Snap25_10000_2020-12-07.pdf\n"
     ]
    },
    {
     "name": "stderr",
     "output_type": "stream",
     "text": [
      "\r",
      "  0%|          | 0/8 [00:00<?, ?it/s]"
     ]
    },
    {
     "name": "stdout",
     "output_type": "stream",
     "text": [
      "(3, 3)\n",
      "chr6\n"
     ]
    },
    {
     "name": "stderr",
     "output_type": "stream",
     "text": [
      "100%|██████████| 8/8 [00:18<00:00,  2.29s/it]\n",
      "8it [00:00,  9.45it/s]\n"
     ]
    },
    {
     "name": "stdout",
     "output_type": "stream",
     "text": [
      "/cndd2/fangming/projects/scf_enhancers/figureshic_map_correlated_genes_Runx2os1_10000_2020-12-07.pdf\n"
     ]
    },
    {
     "name": "stderr",
     "output_type": "stream",
     "text": [
      "\r",
      "  0%|          | 0/8 [00:00<?, ?it/s]"
     ]
    },
    {
     "name": "stdout",
     "output_type": "stream",
     "text": [
      "(8, 3)\n",
      "chr3\n"
     ]
    },
    {
     "name": "stderr",
     "output_type": "stream",
     "text": [
      "100%|██████████| 8/8 [00:23<00:00,  2.96s/it]\n",
      "8it [00:01,  7.67it/s]\n"
     ]
    },
    {
     "name": "stdout",
     "output_type": "stream",
     "text": [
      "/cndd2/fangming/projects/scf_enhancers/figureshic_map_correlated_genes_Slc6a1_10000_2020-12-07.pdf\n"
     ]
    },
    {
     "name": "stderr",
     "output_type": "stream",
     "text": [
      "\r",
      "  0%|          | 0/8 [00:00<?, ?it/s]"
     ]
    },
    {
     "name": "stdout",
     "output_type": "stream",
     "text": [
      "(3, 3)\n",
      "chr22\n"
     ]
    },
    {
     "name": "stderr",
     "output_type": "stream",
     "text": [
      "100%|██████████| 8/8 [00:02<00:00,  3.07it/s]\n",
      "8it [00:00,  9.33it/s]\n"
     ]
    },
    {
     "name": "stdout",
     "output_type": "stream",
     "text": [
      "/cndd2/fangming/projects/scf_enhancers/figureshic_map_correlated_genes_Ift27_10000_2020-12-07.pdf\n"
     ]
    },
    {
     "name": "stderr",
     "output_type": "stream",
     "text": [
      "\r",
      "  0%|          | 0/8 [00:00<?, ?it/s]"
     ]
    },
    {
     "name": "stdout",
     "output_type": "stream",
     "text": [
      "(3, 3)\n",
      "chr19\n",
      "Ctxn1 skipped\n",
      "(4, 3)\n",
      "chr1\n"
     ]
    },
    {
     "name": "stderr",
     "output_type": "stream",
     "text": [
      "100%|██████████| 8/8 [00:36<00:00,  4.62s/it]\n",
      "8it [00:00,  8.97it/s]\n"
     ]
    },
    {
     "name": "stdout",
     "output_type": "stream",
     "text": [
      "/cndd2/fangming/projects/scf_enhancers/figureshic_map_correlated_genes_Lmo4_10000_2020-12-07.pdf\n"
     ]
    }
   ],
   "source": [
    "output_tag = 'correlated_genes'\n",
    "routine_specific_genes(most_correlated_genes, output_tag)"
   ]
  },
  {
   "cell_type": "code",
   "execution_count": 29,
   "metadata": {
    "scrolled": false
   },
   "outputs": [
    {
     "name": "stderr",
     "output_type": "stream",
     "text": [
      "\r",
      "  0%|          | 0/8 [00:00<?, ?it/s]"
     ]
    },
    {
     "name": "stdout",
     "output_type": "stream",
     "text": [
      "(9, 3)\n",
      "chr3\n"
     ]
    },
    {
     "name": "stderr",
     "output_type": "stream",
     "text": [
      "100%|██████████| 8/8 [00:25<00:00,  3.14s/it]\n",
      "8it [00:01,  6.32it/s]\n"
     ]
    },
    {
     "name": "stdout",
     "output_type": "stream",
     "text": [
      "/cndd2/fangming/projects/scf_enhancers/figureshic_map_contacted_genes_Satb1_10000_2020-12-07.pdf\n"
     ]
    },
    {
     "name": "stderr",
     "output_type": "stream",
     "text": [
      "\r",
      "  0%|          | 0/8 [00:00<?, ?it/s]"
     ]
    },
    {
     "name": "stdout",
     "output_type": "stream",
     "text": [
      "(17, 3)\n",
      "chr4\n"
     ]
    },
    {
     "name": "stderr",
     "output_type": "stream",
     "text": [
      "100%|██████████| 8/8 [00:22<00:00,  2.79s/it]\n",
      "8it [00:01,  7.27it/s]\n"
     ]
    },
    {
     "name": "stdout",
     "output_type": "stream",
     "text": [
      "/cndd2/fangming/projects/scf_enhancers/figureshic_map_contacted_genes_Afap1_10000_2020-12-07.pdf\n"
     ]
    },
    {
     "name": "stderr",
     "output_type": "stream",
     "text": [
      "\r",
      "  0%|          | 0/8 [00:00<?, ?it/s]"
     ]
    },
    {
     "name": "stdout",
     "output_type": "stream",
     "text": [
      "(4, 3)\n",
      "chr8\n"
     ]
    },
    {
     "name": "stderr",
     "output_type": "stream",
     "text": [
      "100%|██████████| 8/8 [00:14<00:00,  1.77s/it]\n",
      "8it [00:01,  5.07it/s]\n"
     ]
    },
    {
     "name": "stdout",
     "output_type": "stream",
     "text": [
      "/cndd2/fangming/projects/scf_enhancers/figureshic_map_contacted_genes_Egr3_10000_2020-12-07.pdf\n"
     ]
    },
    {
     "name": "stderr",
     "output_type": "stream",
     "text": [
      "\r",
      "  0%|          | 0/8 [00:00<?, ?it/s]"
     ]
    },
    {
     "name": "stdout",
     "output_type": "stream",
     "text": [
      "(3, 3)\n",
      "chr2\n"
     ]
    },
    {
     "name": "stderr",
     "output_type": "stream",
     "text": [
      "100%|██████████| 8/8 [00:33<00:00,  4.24s/it]\n",
      "8it [00:00,  8.56it/s]\n"
     ]
    },
    {
     "name": "stdout",
     "output_type": "stream",
     "text": [
      "/cndd2/fangming/projects/scf_enhancers/figureshic_map_contacted_genes_Dpysl5_10000_2020-12-07.pdf\n"
     ]
    },
    {
     "name": "stderr",
     "output_type": "stream",
     "text": [
      "\r",
      "  0%|          | 0/8 [00:00<?, ?it/s]"
     ]
    },
    {
     "name": "stdout",
     "output_type": "stream",
     "text": [
      "(13, 3)\n",
      "chr4\n"
     ]
    },
    {
     "name": "stderr",
     "output_type": "stream",
     "text": [
      "100%|██████████| 8/8 [00:22<00:00,  2.76s/it]\n",
      "8it [00:01,  7.83it/s]\n"
     ]
    },
    {
     "name": "stdout",
     "output_type": "stream",
     "text": [
      "/cndd2/fangming/projects/scf_enhancers/figureshic_map_contacted_genes_Limch1_10000_2020-12-07.pdf\n"
     ]
    },
    {
     "name": "stderr",
     "output_type": "stream",
     "text": [
      "\r",
      "  0%|          | 0/8 [00:00<?, ?it/s]"
     ]
    },
    {
     "name": "stdout",
     "output_type": "stream",
     "text": [
      "(6, 3)\n",
      "chr1\n"
     ]
    },
    {
     "name": "stderr",
     "output_type": "stream",
     "text": [
      "100%|██████████| 8/8 [00:35<00:00,  4.41s/it]\n",
      "8it [00:00,  8.92it/s]\n"
     ]
    },
    {
     "name": "stdout",
     "output_type": "stream",
     "text": [
      "/cndd2/fangming/projects/scf_enhancers/figureshic_map_contacted_genes_Adora1_10000_2020-12-07.pdf\n"
     ]
    },
    {
     "name": "stderr",
     "output_type": "stream",
     "text": [
      "\r",
      "  0%|          | 0/8 [00:00<?, ?it/s]"
     ]
    },
    {
     "name": "stdout",
     "output_type": "stream",
     "text": [
      "(4, 3)\n",
      "chr5\n"
     ]
    },
    {
     "name": "stderr",
     "output_type": "stream",
     "text": [
      "100%|██████████| 8/8 [00:20<00:00,  2.54s/it]\n",
      "8it [00:00,  8.65it/s]\n"
     ]
    },
    {
     "name": "stdout",
     "output_type": "stream",
     "text": [
      "/cndd2/fangming/projects/scf_enhancers/figureshic_map_contacted_genes_Mast4_10000_2020-12-07.pdf\n"
     ]
    },
    {
     "name": "stderr",
     "output_type": "stream",
     "text": [
      "\r",
      "  0%|          | 0/8 [00:00<?, ?it/s]"
     ]
    },
    {
     "name": "stdout",
     "output_type": "stream",
     "text": [
      "(3, 3)\n",
      "chr7\n"
     ]
    },
    {
     "name": "stderr",
     "output_type": "stream",
     "text": [
      "100%|██████████| 8/8 [00:16<00:00,  2.02s/it]\n",
      "8it [00:00,  9.98it/s]\n"
     ]
    },
    {
     "name": "stdout",
     "output_type": "stream",
     "text": [
      "/cndd2/fangming/projects/scf_enhancers/figureshic_map_contacted_genes_Etv1_10000_2020-12-07.pdf\n"
     ]
    },
    {
     "name": "stderr",
     "output_type": "stream",
     "text": [
      "\r",
      "  0%|          | 0/8 [00:00<?, ?it/s]"
     ]
    },
    {
     "name": "stdout",
     "output_type": "stream",
     "text": [
      "(16, 3)\n",
      "chr5\n"
     ]
    },
    {
     "name": "stderr",
     "output_type": "stream",
     "text": [
      "100%|██████████| 8/8 [00:20<00:00,  2.53s/it]\n",
      "8it [00:00,  8.44it/s]\n"
     ]
    },
    {
     "name": "stdout",
     "output_type": "stream",
     "text": [
      "/cndd2/fangming/projects/scf_enhancers/figureshic_map_contacted_genes_Ankrd33b_10000_2020-12-07.pdf\n"
     ]
    },
    {
     "name": "stderr",
     "output_type": "stream",
     "text": [
      "\r",
      "  0%|          | 0/8 [00:00<?, ?it/s]"
     ]
    },
    {
     "name": "stdout",
     "output_type": "stream",
     "text": [
      "(6, 3)\n",
      "chr11\n"
     ]
    },
    {
     "name": "stderr",
     "output_type": "stream",
     "text": [
      "100%|██████████| 8/8 [00:11<00:00,  1.50s/it]\n",
      "8it [00:01,  7.38it/s]\n"
     ]
    },
    {
     "name": "stdout",
     "output_type": "stream",
     "text": [
      "/cndd2/fangming/projects/scf_enhancers/figureshic_map_contacted_genes_Ubash3b_10000_2020-12-07.pdf\n"
     ]
    },
    {
     "name": "stderr",
     "output_type": "stream",
     "text": [
      "\r",
      "  0%|          | 0/8 [00:00<?, ?it/s]"
     ]
    },
    {
     "name": "stdout",
     "output_type": "stream",
     "text": [
      "(3, 3)\n",
      "chr20\n"
     ]
    },
    {
     "name": "stderr",
     "output_type": "stream",
     "text": [
      "100%|██████████| 8/8 [00:03<00:00,  2.00it/s]\n",
      "8it [00:00,  9.69it/s]\n"
     ]
    },
    {
     "name": "stdout",
     "output_type": "stream",
     "text": [
      "/cndd2/fangming/projects/scf_enhancers/figureshic_map_contacted_genes_Snap25_10000_2020-12-07.pdf\n"
     ]
    },
    {
     "name": "stderr",
     "output_type": "stream",
     "text": [
      "\r",
      "  0%|          | 0/8 [00:00<?, ?it/s]"
     ]
    },
    {
     "name": "stdout",
     "output_type": "stream",
     "text": [
      "(2, 3)\n",
      "chr2\n"
     ]
    },
    {
     "name": "stderr",
     "output_type": "stream",
     "text": [
      "100%|██████████| 8/8 [00:33<00:00,  4.24s/it]\n",
      "8it [00:00,  9.29it/s]\n"
     ]
    },
    {
     "name": "stdout",
     "output_type": "stream",
     "text": [
      "/cndd2/fangming/projects/scf_enhancers/figureshic_map_contacted_genes_4930538E20Rik_10000_2020-12-07.pdf\n"
     ]
    },
    {
     "name": "stderr",
     "output_type": "stream",
     "text": [
      "\r",
      "  0%|          | 0/8 [00:00<?, ?it/s]"
     ]
    },
    {
     "name": "stdout",
     "output_type": "stream",
     "text": [
      "(7, 3)\n",
      "chr7\n"
     ]
    },
    {
     "name": "stderr",
     "output_type": "stream",
     "text": [
      "100%|██████████| 8/8 [00:15<00:00,  1.97s/it]\n",
      "8it [00:00,  8.64it/s]\n"
     ]
    },
    {
     "name": "stdout",
     "output_type": "stream",
     "text": [
      "/cndd2/fangming/projects/scf_enhancers/figureshic_map_contacted_genes_Adcyap1r1_10000_2020-12-07.pdf\n"
     ]
    },
    {
     "name": "stderr",
     "output_type": "stream",
     "text": [
      "\r",
      "  0%|          | 0/8 [00:00<?, ?it/s]"
     ]
    },
    {
     "name": "stdout",
     "output_type": "stream",
     "text": [
      "(8, 3)\n",
      "chr3\n"
     ]
    },
    {
     "name": "stderr",
     "output_type": "stream",
     "text": [
      "100%|██████████| 8/8 [00:23<00:00,  2.93s/it]\n",
      "8it [00:00, 10.24it/s]\n"
     ]
    },
    {
     "name": "stdout",
     "output_type": "stream",
     "text": [
      "/cndd2/fangming/projects/scf_enhancers/figureshic_map_contacted_genes_Slc6a1_10000_2020-12-07.pdf\n"
     ]
    },
    {
     "name": "stderr",
     "output_type": "stream",
     "text": [
      "\r",
      "  0%|          | 0/8 [00:00<?, ?it/s]"
     ]
    },
    {
     "name": "stdout",
     "output_type": "stream",
     "text": [
      "(3, 3)\n",
      "chr7\n"
     ]
    },
    {
     "name": "stderr",
     "output_type": "stream",
     "text": [
      "100%|██████████| 8/8 [00:15<00:00,  2.00s/it]\n",
      "8it [00:00,  9.40it/s]\n"
     ]
    },
    {
     "name": "stdout",
     "output_type": "stream",
     "text": [
      "/cndd2/fangming/projects/scf_enhancers/figureshic_map_contacted_genes_Neurod6_10000_2020-12-07.pdf\n"
     ]
    }
   ],
   "source": [
    "output_tag = 'contacted_genes'\n",
    "routine_specific_genes(most_contacted_genes, output_tag)"
   ]
  },
  {
   "cell_type": "code",
   "execution_count": null,
   "metadata": {},
   "outputs": [],
   "source": []
  }
 ],
 "metadata": {
  "kernelspec": {
   "display_name": "Python 3",
   "language": "python",
   "name": "python3"
  },
  "language_info": {
   "codemirror_mode": {
    "name": "ipython",
    "version": 3
   },
   "file_extension": ".py",
   "mimetype": "text/x-python",
   "name": "python",
   "nbconvert_exporter": "python",
   "pygments_lexer": "ipython3",
   "version": "3.6.12"
  }
 },
 "nbformat": 4,
 "nbformat_minor": 2
}
